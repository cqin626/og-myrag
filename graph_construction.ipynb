{
 "cells": [
  {
   "cell_type": "markdown",
   "id": "27f0a0f4",
   "metadata": {},
   "source": [
    "# Pipeline of Graph Construction"
   ]
  },
  {
   "cell_type": "markdown",
   "id": "d10ac028",
   "metadata": {},
   "source": [
    "## Initialization"
   ]
  },
  {
   "cell_type": "code",
   "execution_count": 1,
   "id": "840b23ca",
   "metadata": {},
   "outputs": [],
   "source": [
    "import logging\n",
    "import os\n",
    "import nest_asyncio\n",
    "from dotenv import load_dotenv"
   ]
  },
  {
   "cell_type": "code",
   "execution_count": 2,
   "id": "cd84c02a",
   "metadata": {},
   "outputs": [],
   "source": [
    "from ogmyrag.my_logging import configure_logger\n",
    "from ogmyrag.base import MongoStorageConfig\n",
    "from ogmyrag.graph_construction import GraphConstructionSystem"
   ]
  },
  {
   "cell_type": "code",
   "execution_count": 3,
   "id": "d6867951",
   "metadata": {},
   "outputs": [],
   "source": [
    "# Patch event loop to support re-entry in Jupyter\n",
    "\n",
    "nest_asyncio.apply()"
   ]
  },
  {
   "cell_type": "code",
   "execution_count": 4,
   "id": "3fdf83d1",
   "metadata": {},
   "outputs": [],
   "source": [
    "# Setup logging\n",
    "graph_construction_logger = configure_logger(name='graph_construction',log_level=logging.DEBUG, log_file='logs/graph_construction.log')\n",
    "\n",
    "openai_logger = configure_logger(name='openai',log_level=logging.DEBUG, log_file='logs/openai.log', to_console=False)\n",
    "mongo_logger = configure_logger(name='mongodb',log_level=logging.DEBUG, log_file='logs/mongodb.log', to_console=False)\n",
    "pinecone_logger = configure_logger(name='pinecone',log_level=logging.DEBUG, log_file='logs/pinecone.log', to_console=False)\n",
    "neo4j_logger = configure_logger(name='neo4j',log_level=logging.DEBUG, log_file='logs/neo4j.log', to_console=False)"
   ]
  },
  {
   "cell_type": "code",
   "execution_count": 5,
   "id": "347c73e8",
   "metadata": {},
   "outputs": [],
   "source": [
    "# Load environment variables\n",
    "\n",
    "load_dotenv(override=True)\n",
    "\n",
    "mongo_db_uri = os.getenv(\"MONGO_DB_URI\",\"\")\n",
    "\n",
    "openai_api_key = os.getenv(\"OPENAI_API_KEY\",\"\")\n",
    "\n",
    "pinecone_api_key = os.getenv(\"PINECONE_API_KEY\",\"\")\n",
    "pinecone_environment = os.getenv(\"PINECONE_ENVIRONMENT\",\"\")\n",
    "pinecone_cloud = os.getenv(\"PINECONE_CLOUD\",\"\")\n",
    "pinecone_metric = os.getenv(\"PINECONE_METRIC\", \"\")\n",
    "pinecone_dimensions = os.getenv(\"PINECONE_DIMENSIONS\")\n",
    "\n",
    "neo4j_uri = os.getenv(\"NEO4J_URI\",\"\")\n",
    "neo4j_username = os.getenv(\"NEO4J_USERNAME\",\"\")\n",
    "neo4j_password = os.getenv(\"NEO4J_PASSWORD\",\"\")\n",
    "\n",
    "if not mongo_db_uri:\n",
    "    graph_construction_logger.error(\"Please set the MONGO_DB_URI environment variable.\")\n",
    "\n",
    "if not openai_api_key:\n",
    "    graph_construction_logger.error(\"Please set the OPENAI_API_KEY environment variable.\")\n",
    "\n",
    "if not pinecone_api_key or not pinecone_environment or not pinecone_cloud or not pinecone_metric or not pinecone_dimensions:\n",
    "    graph_construction_logger.error(\"Please set the PINECONE_API_KEY, PINECONE_ENVIRONMENT, PINECONE_CLOUD, PINECONE_METRIC, and PINECONE_DIMENSIONS environment variables.\")\n",
    "\n",
    "if not neo4j_uri or not neo4j_username or not neo4j_password:\n",
    "    graph_construction_logger.error(\"Please set the NE04J_URI, NE04J_USERNAME, and NE04J_PASSWORD environment variables.\")"
   ]
  },
  {
   "cell_type": "markdown",
   "id": "a20d6cf7",
   "metadata": {},
   "source": [
    "## Construction Pipeline"
   ]
  },
  {
   "cell_type": "markdown",
   "id": "7d7048a7",
   "metadata": {},
   "source": [
    "### Initialize Graph Construction System"
   ]
  },
  {
   "cell_type": "code",
   "execution_count": 6,
   "id": "995e6ab2",
   "metadata": {},
   "outputs": [],
   "source": [
    "ontology_config: MongoStorageConfig = {\n",
    "    'connection_uri': mongo_db_uri,\n",
    "    'database_name': 'ogmyrag',\n",
    "    'collection_name': 'ontology'\n",
    "}\n",
    "\n",
    "disclosure_config: MongoStorageConfig = {\n",
    "    'connection_uri': mongo_db_uri,\n",
    "    'database_name': 'ogmyrag',\n",
    "    'collection_name': 'company_disclosures'\n",
    "}\n",
    "\n",
    "entity_config: MongoStorageConfig = {\n",
    "    'connection_uri': mongo_db_uri,\n",
    "    'database_name': 'ogmyrag',\n",
    "    'collection_name': 'entities'\n",
    "}\n",
    "\n",
    "relationship_config: MongoStorageConfig = {\n",
    "    'connection_uri': mongo_db_uri,\n",
    "    'database_name': 'ogmyrag',\n",
    "    'collection_name': 'relationships'\n",
    "}"
   ]
  },
  {
   "cell_type": "code",
   "execution_count": 7,
   "id": "5b3c1057",
   "metadata": {},
   "outputs": [],
   "source": [
    "try:\n",
    "   graph_system = GraphConstructionSystem(\n",
    "      ontology_config=ontology_config,\n",
    "      disclosure_config=disclosure_config,\n",
    "      entity_config=entity_config,\n",
    "      relationship_config=relationship_config,\n",
    "   )\n",
    "except Exception as e:\n",
    "  graph_construction_logger.error(f\"GraphConstructionSystem\\nError while creating graph construction system: {e}\")"
   ]
  },
  {
   "cell_type": "markdown",
   "id": "b9527680",
   "metadata": {},
   "source": [
    "### Process unparsed documents"
   ]
  },
  {
   "cell_type": "code",
   "execution_count": null,
   "id": "b730e31a",
   "metadata": {},
   "outputs": [],
   "source": [
    "try:\n",
    "   await graph_system.insert_entities_relationships_from_unparsed_documents_into_mongodb(\n",
    "   from_company=\"Autocount Dotcom Berhad\",\n",
    "   type=\"PROSPECTUS\",\n",
    "   published_at=\"14-April-2023\",\n",
    "   exclude_documents= [\n",
    "      \"ADB_PROSPECTUS_SECTION_2\",\n",
    "      \"ADB_PROSPECTUS_SECTION_3\",\n",
    "      \"ADB_PROSPECTUS_SECTION_4\",\n",
    "      \"ADB_PROSPECTUS_SECTION_5\",\n",
    "      \"ADB_PROSPECTUS_SECTION_6\",\n",
    "      \"ADB_PROSPECTUS_SECTION_7A\",\n",
    "      \"ADB_PROSPECTUS_SECTION_7B\",\n",
    "      \"ADB_PROSPECTUS_SECTION_7C\",\n",
    "      \"ADB_PROSPECTUS_SECTION_8\",\n",
    "      \"ADB_PROSPECTUS_SECTION_9A\",\n",
    "      \"ADB_PROSPECTUS_SECTION_9B\",\n",
    "      \"ADB_PROSPECTUS_SECTION_10\"\n",
    "   ]\n",
    ")\n",
    "except Exception as e:\n",
    "   graph_construction_logger.error(f\"GraphConstructionSystem\\nError while inserting entities and relationships into MongoDB: {e}\")"
   ]
  },
  {
   "cell_type": "code",
   "execution_count": null,
   "id": "4bba8427",
   "metadata": {},
   "outputs": [],
   "source": []
  },
  {
   "cell_type": "code",
   "execution_count": null,
   "id": "852a8132",
   "metadata": {},
   "outputs": [],
   "source": []
  },
  {
   "cell_type": "code",
   "execution_count": null,
   "id": "23d66d48",
   "metadata": {},
   "outputs": [],
   "source": []
  }
 ],
 "metadata": {
  "kernelspec": {
   "display_name": "ogmyrag",
   "language": "python",
   "name": "python3"
  },
  "language_info": {
   "codemirror_mode": {
    "name": "ipython",
    "version": 3
   },
   "file_extension": ".py",
   "mimetype": "text/x-python",
   "name": "python",
   "nbconvert_exporter": "python",
   "pygments_lexer": "ipython3",
   "version": "3.10.16"
  }
 },
 "nbformat": 4,
 "nbformat_minor": 5
}

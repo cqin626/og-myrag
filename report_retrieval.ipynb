{
 "cells": [
  {
   "cell_type": "code",
   "execution_count": 1,
   "id": "db495be8",
   "metadata": {},
   "outputs": [
    {
     "name": "stderr",
     "output_type": "stream",
     "text": [
      "2025-08-03 11:35:55,109 - retrieval - INFO - \n",
      "================================================================================\n"
     ]
    }
   ],
   "source": [
    "import logging\n",
    "import os\n",
    "import asyncio\n",
    "\n",
    "from ogmyrag.report_retrieval.report_retrieval import ReportRetrievalManager\n",
    "from ogmyrag.report_retrieval.retrieval_embedder import RetrievalEmbedder\n",
    "from ogmyrag.report_retrieval.retrieval_extractor import RetrievalExtractor\n",
    "from ogmyrag.report_retrieval.retrieval_storage import RetrievalAsyncStorageManager\n",
    "from ogmyrag.report_scraper.models import ReportType\n",
    "from ogmyrag.my_logging import configure_logger\n",
    "\n",
    "from dotenv import load_dotenv\n",
    "\n",
    "retrieval_logger = configure_logger(name='retrieval',log_level=logging.INFO, log_file='logs/retrieval.log')\n",
    "retrieval_logger.info(\"\\n\" + \"=\" * 80)\n",
    "\n",
    "load_dotenv(override=True)\n",
    "\n",
    "mongo_db_uri = os.getenv(\"MONGO_DB_URI_JJ\",\"\")\n",
    "pinecone_api_key = os.getenv(\"PINECONE_API_KEY_JJ\",\"\")\n",
    "genai_api_key = os.getenv(\"GENAI_API_KEY_JJ\",\"\")\n",
    "openai_api_key = os.getenv(\"OPENAI_API_KEY\", \"\")\n",
    "\n",
    "INDEX_NAME = \"markdown-summary-index\"\n",
    "EMBED_MODEL = \"text-embedding-3-small\"\n",
    "DIMENSION = 1536\n",
    "GENAI_MODEL = \"gemini-2.5-pro\"\n",
    "OPENAI_MODEL = \"gpt-4.1-nano-2025-04-14\"\n",
    "\n"
   ]
  },
  {
   "cell_type": "code",
   "execution_count": 2,
   "id": "bbcc5cef",
   "metadata": {},
   "outputs": [
    {
     "name": "stderr",
     "output_type": "stream",
     "text": [
      "2025-08-03 11:35:56,726 - retrieval - INFO - Connected to MongoDB database: FYP\n"
     ]
    }
   ],
   "source": [
    "db_name = \"FYP\"\n",
    "storage = RetrievalAsyncStorageManager(mongo_uri=mongo_db_uri, db_name=db_name)\n",
    "\n",
    "embedder = RetrievalEmbedder(\n",
    "    openai_api_key = openai_api_key,\n",
    "    pinecone_api_key = pinecone_api_key,\n",
    "    embed_model = EMBED_MODEL,\n",
    "    index_name = INDEX_NAME,\n",
    "    dimension = DIMENSION\n",
    ")\n",
    "\n",
    "extractor = RetrievalExtractor(\n",
    "    openai_api_key = openai_api_key,\n",
    "    pinecone_api_key = pinecone_api_key,\n",
    "    embed_model = EMBED_MODEL,\n",
    "    index_name = INDEX_NAME\n",
    ")\n",
    "\n",
    "manager = ReportRetrievalManager(\n",
    "    storage = storage,\n",
    "    embedder = embedder,\n",
    "    extractor = extractor,\n",
    "    genai_model = GENAI_MODEL,\n",
    "    genai_api_key = genai_api_key,\n",
    "    openai_api_key = openai_api_key,\n",
    "    dry_run = False\n",
    ")"
   ]
  },
  {
   "cell_type": "markdown",
   "id": "ad800a0c",
   "metadata": {},
   "source": [
    "## Process Financial Reports (PDF)"
   ]
  },
  {
   "cell_type": "code",
   "execution_count": 3,
   "id": "9470e200",
   "metadata": {},
   "outputs": [
    {
     "name": "stderr",
     "output_type": "stream",
     "text": [
      "2025-08-03 11:36:04,976 - retrieval - WARNING - No summary metadata for FARM_FRESH_BERHAD_ANNUAL_2024_summary.md\n",
      "2025-08-03 11:36:04,996 - retrieval - INFO -      Uploading Farm_Fresh_Berhad_-_Integrated_Annual_Report_2024_(Part_1).pdf ...\n",
      "2025-08-03 11:36:10,030 - retrieval - INFO -      Uploading Farm_Fresh_Berhad_-_Integrated_Annual_Report_2024_(Part_2).pdf ...\n",
      "2025-08-03 11:36:14,246 - retrieval - INFO -      Uploading Farm_Fresh_Berhad_-_Integrated_Annual_Report_2024_(Part_3).pdf ...\n",
      "2025-08-03 11:36:18,339 - retrieval - INFO -      Uploading Farm_Fresh_Berhad_-_Integrated_Annual_Report_2024_(Part_4).pdf ...\n",
      "2025-08-03 11:36:21,483 - retrieval - INFO -      Uploading Farm_Fresh_Berhad_-_CG_Report_2024.pdf ...\n",
      "2025-08-03 11:36:25,153 - retrieval - INFO - Uploaded 5 PDFs\n",
      "2025-08-03 11:36:25,154 - retrieval - INFO - Generating...\n",
      "2025-08-03 11:38:35,913 - retrieval - INFO - Finished processing.\n",
      "2025-08-03 11:38:35,917 - retrieval - INFO -      Prompt Tokens: 90485\n",
      "2025-08-03 11:38:35,918 - retrieval - INFO -      Output Tokens: 7257\n",
      "2025-08-03 11:38:35,919 - retrieval - INFO -      Total Tokens: 100822\n",
      "2025-08-03 11:38:36,224 - retrieval - INFO - Saved processed report for Annual Report & CG Report FARM_FRESH_BERHAD (year: 2024) → FARM_FRESH_BERHAD_ANNUAL_2024_summary.md\n",
      "2025-08-03 11:39:58,231 - retrieval - INFO - Upserted 136 chunks for FARM_FRESH_BERHAD (6798 tokens total)\n",
      "2025-08-03 11:39:58,236 - retrieval - INFO - Saved processed report to ././processed_report/FARM_FRESH_BERHAD/FARM_FRESH_BERHAD_ANNUAL_2024_summary.md\n"
     ]
    }
   ],
   "source": [
    "manager.parse_store(\n",
    "    company = \"FARM_FRESH_BERHAD\",\n",
    "    report_type = ReportType.ANNUAL,\n",
    "    year = 2024\n",
    ")"
   ]
  },
  {
   "cell_type": "markdown",
   "id": "be9ccdb1",
   "metadata": {},
   "source": [
    "## Simple User Query"
   ]
  },
  {
   "cell_type": "code",
   "execution_count": 4,
   "id": "74cb53bf",
   "metadata": {},
   "outputs": [
    {
     "name": "stderr",
     "output_type": "stream",
     "text": [
      "2025-08-03 11:40:56,916 - retrieval - INFO - Embedding query: 'What is the mission and vision?'\n",
      "2025-08-03 11:40:58,284 - retrieval - INFO - Retrieved chunks: ['**Vision & mission statement:**', '*   **Our Promise (Vision):** \"TO BE A SUSTAINABLE AND HONEST FOOD COMPANY THAT HAS AN INGRAINED CULTURE OF PLACING THE WELL-BEING OF CONSUMERS FIRST, CULMINATING IN STRONG BRAND LOVE.\" (pg 12)', '*   **Our Action Plan (Mission):** Farm Fresh achieves its brand promise by:', \"**Business strategy and outlook:** The Group's strategy is centered on three core pillars: Expansion, Innovation, and Reputation. (pg 62-63)\", '## Leadership & Governance']\n",
      "2025-08-03 11:40:59,134 - retrieval - INFO - Response generated: The vision of the company is to be a sustainable and honest food company that has an ingrained culture of placing the well-being of consumers first, culminating in strong brand love.\n",
      "\n",
      "The mission focuses on achieving this promise by implementing specific actions, although the detailed action plan is outlined in the company's strategy document. (TOKEN: 206)\n"
     ]
    },
    {
     "data": {
      "text/plain": [
       "\"The vision of the company is to be a sustainable and honest food company that has an ingrained culture of placing the well-being of consumers first, culminating in strong brand love.\\n\\nThe mission focuses on achieving this promise by implementing specific actions, although the detailed action plan is outlined in the company's strategy document.\""
      ]
     },
     "execution_count": 4,
     "metadata": {},
     "output_type": "execute_result"
    }
   ],
   "source": [
    "manager.answer_query(\n",
    "    company = \"FARM_FRESH_BERHAD\",\n",
    "    query = \"What is the mission and vision?\",\n",
    "    top_k = 5,\n",
    "    chat_model = OPENAI_MODEL\n",
    ")"
   ]
  }
 ],
 "metadata": {
  "kernelspec": {
   "display_name": "myenv",
   "language": "python",
   "name": "python3"
  },
  "language_info": {
   "codemirror_mode": {
    "name": "ipython",
    "version": 3
   },
   "file_extension": ".py",
   "mimetype": "text/x-python",
   "name": "python",
   "nbconvert_exporter": "python",
   "pygments_lexer": "ipython3",
   "version": "3.10.18"
  }
 },
 "nbformat": 4,
 "nbformat_minor": 5
}

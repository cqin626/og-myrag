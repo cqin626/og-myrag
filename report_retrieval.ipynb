{
 "cells": [
  {
   "cell_type": "code",
   "execution_count": 1,
   "id": "db495be8",
   "metadata": {},
   "outputs": [
    {
     "name": "stderr",
     "output_type": "stream",
     "text": [
      "2025-08-26 11:35:56,677 - retrieval - INFO - \n",
      "================================================================================\n",
      "2025-08-26 11:35:56,686 - retrieval - INFO - Connected to MongoDB database: FYP\n"
     ]
    }
   ],
   "source": [
    "import logging\n",
    "import os\n",
    "import asyncio\n",
    "\n",
    "from ogmyrag.report_retrieval.report_retrieval import ReportRetrievalManager\n",
    "from ogmyrag.report_retrieval.retrieval_embedder import RetrievalEmbedder\n",
    "from ogmyrag.report_retrieval.retrieval_extractor import RetrievalExtractor\n",
    "from ogmyrag.report_retrieval.retrieval_storage import RetrievalAsyncStorageManager\n",
    "from ogmyrag.report_scraper.models import ReportType\n",
    "from ogmyrag.my_logging import configure_logger\n",
    "from ogmyrag.storage import PineconeStorage\n",
    "from ogmyrag.report_retrieval.report_chunker import rag_answer_with_company_detection\n",
    "\n",
    "from dotenv import load_dotenv\n",
    "\n",
    "retrieval_logger = configure_logger(name='retrieval',log_level=logging.INFO, log_file='logs/retrieval.log')\n",
    "retrieval_logger.info(\"\\n\" + \"=\" * 80)\n",
    "\n",
    "load_dotenv(override=True)\n",
    "\n",
    "mongo_db_uri = os.getenv(\"MONGO_DB_URI_JJ\",\"\")\n",
    "pinecone_api_key = os.getenv(\"PINECONE_API_KEY_JJ\",\"\")\n",
    "genai_api_key = os.getenv(\"GENAI_API_KEY_JJ\",\"\")\n",
    "openai_api_key = os.getenv(\"OPENAI_API_KEY\", \"\")\n",
    "\n",
    "INDEX_NAME = \"company-disclosures-index\"\n",
    "EMBED_MODEL = \"text-embedding-3-small\"\n",
    "DIMENSION = 1536\n",
    "GENAI_MODEL = \"gemini-2.5-pro\"\n",
    "#GENAI_MODEL = \"gemini-2.5-flash\"\n",
    "OPENAI_MODEL = \"gpt-5-nano\"\n",
    "\n",
    "db_name = \"FYP\"\n",
    "storage = RetrievalAsyncStorageManager(mongo_uri=mongo_db_uri, db_name=db_name)\n",
    "\n",
    "embedder = RetrievalEmbedder(\n",
    "    openai_api_key = openai_api_key,\n",
    "    pinecone_api_key = pinecone_api_key,\n",
    "    embed_model = EMBED_MODEL,\n",
    "    index_name = INDEX_NAME,\n",
    "    dimension = DIMENSION\n",
    ")\n",
    "\n",
    "extractor = RetrievalExtractor(\n",
    "    openai_api_key = openai_api_key,\n",
    "    pinecone_api_key = pinecone_api_key,\n",
    "    embed_model = EMBED_MODEL,\n",
    "    index_name = INDEX_NAME\n",
    ")\n",
    "\n",
    "pine = PineconeStorage(\n",
    "    index_name = INDEX_NAME,\n",
    "    pinecone_api_key = pinecone_api_key,\n",
    "    pinecone_environment = \"us-east-1\",\n",
    "    pinecone_cloud = \"aws\",\n",
    "    pinecone_metric = \"cosine\",\n",
    "    pinecone_dimensions = DIMENSION,\n",
    "    openai_api_key = openai_api_key\n",
    ")\n",
    "\n",
    "manager = ReportRetrievalManager(\n",
    "    storage = storage,\n",
    "    embedder = embedder,\n",
    "    extractor = extractor,\n",
    "    pine = pine,\n",
    "    genai_model = GENAI_MODEL,\n",
    "    genai_api_key = genai_api_key,\n",
    "    openai_api_key = openai_api_key,\n",
    "    #dry_run = False\n",
    ")"
   ]
  },
  {
   "cell_type": "markdown",
   "id": "ad800a0c",
   "metadata": {},
   "source": [
    "## Process Financial Reports (PDF)"
   ]
  },
  {
   "cell_type": "code",
   "execution_count": 2,
   "id": "b62a4f89",
   "metadata": {},
   "outputs": [
    {
     "name": "stderr",
     "output_type": "stream",
     "text": [
      "2025-08-26 10:17:08,733 - retrieval - INFO - Already processed and up to date.\n",
      "2025-08-26 10:17:08,734 - retrieval - INFO - Skipping processing, using existing content.\n",
      "2025-08-26 10:17:08,735 - retrieval - INFO - Extracting all the processed content.\n",
      "2025-08-26 10:17:08,884 - retrieval - INFO - Combining all the processed content.\n",
      "2025-08-26 10:17:08,885 - retrieval - INFO - Processed content ready.\n",
      "2025-08-26 10:17:08,889 - retrieval - INFO - Saved processed report to ./processed_report/FARM_FRESH_BERHAD/FARM_FRESH_BERHAD_ANNUAL_2024.md\n"
     ]
    }
   ],
   "source": [
    "await manager.parse_report(\n",
    "    company = \"FARM_FRESH_BERHAD\",\n",
    "    report_type = ReportType.ANNUAL,\n",
    "    year = 2024,\n",
    "    #forced_process = True\n",
    ")"
   ]
  },
  {
   "cell_type": "code",
   "execution_count": 6,
   "id": "073006ac",
   "metadata": {},
   "outputs": [
    {
     "name": "stderr",
     "output_type": "stream",
     "text": [
      "2025-08-26 10:21:32,314 - retrieval - INFO - Already processed and up to date.\n",
      "2025-08-26 10:21:32,316 - retrieval - INFO - Skipping processing, using existing content.\n",
      "2025-08-26 10:21:32,317 - retrieval - INFO - Extracting all the processed content.\n",
      "2025-08-26 10:21:32,470 - retrieval - INFO - Combining all the processed content.\n",
      "2025-08-26 10:21:32,471 - retrieval - INFO - Processed content ready.\n",
      "2025-08-26 10:21:32,473 - retrieval - INFO - Saved processed report to ./processed_report/EDELTEQ_HOLDINGS_BERHAD/EDELTEQ_HOLDINGS_BERHAD_IPO.md\n"
     ]
    }
   ],
   "source": [
    "await manager.parse_report(\n",
    "    company = \"EDELTEQ HOLDINGS BERHAD\",\n",
    "    report_type = ReportType.IPO,\n",
    "    #forced_process = True\n",
    ")"
   ]
  },
  {
   "cell_type": "code",
   "execution_count": 3,
   "id": "9470e200",
   "metadata": {},
   "outputs": [
    {
     "name": "stderr",
     "output_type": "stream",
     "text": [
      "2025-08-26 09:35:51,387 - retrieval - INFO - Already processed and up to date.\n",
      "2025-08-26 09:35:51,388 - retrieval - INFO - Skipping processing, using existing content.\n",
      "2025-08-26 09:35:51,388 - retrieval - INFO - Extracting all the processed content.\n",
      "2025-08-26 09:35:51,533 - retrieval - INFO - Combining all the processed content.\n",
      "2025-08-26 09:35:51,534 - retrieval - INFO - Processed content ready.\n",
      "2025-08-26 09:35:51,538 - retrieval - INFO - Saved processed report to ./processed_report/VETECE_HOLDINGS_BERHAD/VETECE_HOLDINGS_BERHAD_IPO.md\n"
     ]
    }
   ],
   "source": [
    "await manager.parse_report(\n",
    "    company = \"VETECE_HOLDINGS_BERHAD\",\n",
    "    report_type = ReportType.IPO,\n",
    "    #forced_process = True\n",
    ")"
   ]
  },
  {
   "cell_type": "code",
   "execution_count": 4,
   "id": "7a6edeb0",
   "metadata": {},
   "outputs": [
    {
     "name": "stderr",
     "output_type": "stream",
     "text": [
      "2025-08-26 09:35:58,782 - retrieval - INFO - Already processed and up to date.\n",
      "2025-08-26 09:35:58,783 - retrieval - INFO - Skipping processing, using existing content.\n",
      "2025-08-26 09:35:58,784 - retrieval - INFO - Extracting all the processed content.\n",
      "2025-08-26 09:35:58,951 - retrieval - INFO - Combining all the processed content.\n",
      "2025-08-26 09:35:58,951 - retrieval - INFO - Processed content ready.\n",
      "2025-08-26 09:35:58,955 - retrieval - INFO - Saved processed report to ./processed_report/CABNET_HOLDINGS_BERHAD/CABNET_HOLDINGS_BERHAD_IPO.md\n"
     ]
    }
   ],
   "source": [
    "await manager.parse_report(\n",
    "    company = \"CABNET_HOLDINGS_BERHAD\",\n",
    "    report_type = ReportType.IPO,\n",
    "    #forced_process = True\n",
    ")"
   ]
  },
  {
   "cell_type": "code",
   "execution_count": 7,
   "id": "0a2ad320",
   "metadata": {},
   "outputs": [
    {
     "name": "stderr",
     "output_type": "stream",
     "text": [
      "2025-08-26 10:21:36,639 - retrieval - INFO - Already processed and up to date.\n",
      "2025-08-26 10:21:36,640 - retrieval - INFO - Skipping processing, using existing content.\n",
      "2025-08-26 10:21:36,641 - retrieval - INFO - Extracting all the processed content.\n",
      "2025-08-26 10:21:36,791 - retrieval - INFO - Combining all the processed content.\n",
      "2025-08-26 10:21:36,792 - retrieval - INFO - Processed content ready.\n",
      "2025-08-26 10:21:36,794 - retrieval - INFO - Saved processed report to ./processed_report/AUTOCOUNT_DOTCOM_BERHAD/AUTOCOUNT_DOTCOM_BERHAD_IPO.md\n"
     ]
    }
   ],
   "source": [
    "await manager.parse_report(\n",
    "    company = \"AUTOCOUNT_DOTCOM_BERHAD\",\n",
    "    report_type = ReportType.IPO,\n",
    "    #forced_process = True\n",
    ")"
   ]
  },
  {
   "cell_type": "code",
   "execution_count": 8,
   "id": "d40b1d43",
   "metadata": {},
   "outputs": [
    {
     "name": "stderr",
     "output_type": "stream",
     "text": [
      "2025-08-26 10:21:37,748 - retrieval - INFO - Already processed and up to date.\n",
      "2025-08-26 10:21:37,748 - retrieval - INFO - Skipping processing, using existing content.\n",
      "2025-08-26 10:21:37,749 - retrieval - INFO - Extracting all the processed content.\n",
      "2025-08-26 10:21:37,854 - retrieval - INFO - Combining all the processed content.\n",
      "2025-08-26 10:21:37,855 - retrieval - INFO - Processed content ready.\n",
      "2025-08-26 10:21:37,858 - retrieval - INFO - Saved processed report to ./processed_report/ICT_ZONE_ASIA_BERHAD/ICT_ZONE_ASIA_BERHAD_IPO.md\n"
     ]
    }
   ],
   "source": [
    "await manager.parse_report(\n",
    "    company = \"ICT ZONE ASIA BERHAD\",\n",
    "    report_type = ReportType.IPO,\n",
    "    #forced_process = True\n",
    ")"
   ]
  },
  {
   "cell_type": "markdown",
   "id": "be9ccdb1",
   "metadata": {},
   "source": [
    "## Simple User Query"
   ]
  },
  {
   "cell_type": "code",
   "execution_count": 2,
   "id": "b23d7176",
   "metadata": {},
   "outputs": [
    {
     "name": "stderr",
     "output_type": "stream",
     "text": [
      "2025-08-26 11:36:01,495 - retrieval - INFO - RAG start | query='Who is Joyce Wong Ai May? What is his/her position?' | top_k=5\n",
      "2025-08-26 11:36:03,777 - retrieval - INFO - Catalog companies (6): ['AUTOCOUNT_DOTCOM_BERHAD', 'CABNET_HOLDINGS_BERHAD', 'EDELTEQ_HOLDINGS_BERHAD', 'FARM_FRESH_BERHAD', 'ICT_ZONE_ASIA_BERHAD', 'VETECE_HOLDINGS_BERHAD']\n",
      "2025-08-26 11:36:10,143 - retrieval - INFO - Detected company: None\n",
      "2025-08-26 11:36:10,144 - retrieval - INFO - Search query unchanged.\n",
      "2025-08-26 11:36:10,145 - retrieval - INFO - Query filter: {}\n",
      "2025-08-26 11:36:11,313 - retrieval - INFO - Top-5 chunks retrieved: 5\n",
      "2025-08-26 11:36:11,314 - retrieval - INFO - Hit #1 | id=EDELTEQ_HOLDINGS_BERHAD_IPO_SECTION_5_CHUNK_115 | score=0.628 | company=EDELTEQ_HOLDINGS_BERHAD | section=5. INFORMATION ON PROMOTERS, SUBSTANTIAL SHAREHOLDERS, DIRECTORS AND KEY SENIOR MANAGEMENT | text=Subsequently, she co-founded Desa Janajaya Sdn Bhd, a company which is principally involved in agrotechnology solutions, in August 2016 to venture into sustainable agrotechnology solutions. As at the LPD, she is the Director of Desa Janajaya Sdn Bhd. Please refer to Section 5.2.4(v) of this Prospect…\n",
      "2025-08-26 11:36:11,315 - retrieval - INFO - Hit #2 | id=EDELTEQ_HOLDINGS_BERHAD_IPO_SECTION_5_CHUNK_143 | score=0.628 | company=EDELTEQ_HOLDINGS_BERHAD | section=5. INFORMATION ON PROMOTERS, SUBSTANTIAL SHAREHOLDERS, DIRECTORS AND KEY SENIOR MANAGEMENT | text=Subsequently, she co-founded Desa Janajaya Sdn Bhd, a company which is principally involved in agrotechnology solutions, in August 2016 to venture into sustainable agrotechnology solutions. As at the LPD, she is the Director of Desa Janajaya Sdn Bhd. Please refer to Section 5.2.4(v) of this Prospect…\n",
      "2025-08-26 11:36:11,316 - retrieval - INFO - Hit #3 | id=EDELTEQ_HOLDINGS_BERHAD_IPO_SECTION_5_CHUNK_26 | score=0.628 | company=EDELTEQ_HOLDINGS_BERHAD | section=5. INFORMATION ON PROMOTERS, SUBSTANTIAL SHAREHOLDERS, DIRECTORS AND KEY SENIOR MANAGEMENT | text=Subsequently, she co-founded Desa Janajaya Sdn Bhd, a company which is principally involved in agrotechnology solutions, in August 2016 to venture into sustainable agrotechnology solutions. As at the LPD, she is the Director of Desa Janajaya Sdn Bhd. Please refer to Section 5.2.4(v) of this Prospect…\n",
      "2025-08-26 11:36:11,316 - retrieval - INFO - Hit #4 | id=EDELTEQ_HOLDINGS_BERHAD_IPO_SECTION_1_CHUNK_6 | score=0.562 | company=EDELTEQ_HOLDINGS_BERHAD | section=1. CORPORATE DIRECTORY | text=Table: [no title] (p. 21) - Name : Joyce Wong Ai May; Designation : Chairman; Directorship : Independent Non-Executive Director - Name : Kamaruddin Bin Kassim; Designation : Member; Directorship : Independent Non-Executive Director - Name : Datin Soheir Binti Mohammad Khatib; Designation : Member; D…\n",
      "2025-08-26 11:36:11,317 - retrieval - INFO - Hit #5 | id=EDELTEQ_HOLDINGS_BERHAD_IPO_SECTION_5_CHUNK_38 | score=0.509 | company=EDELTEQ_HOLDINGS_BERHAD | section=5. INFORMATION ON PROMOTERS, SUBSTANTIAL SHAREHOLDERS, DIRECTORS AND KEY SENIOR MANAGEMENT | text=Table: [no title] (p. 78) - Present involvement :   - Company : Desa Janajaya Sdn Bhd; Position held : Director and shareholder; Date appointed as Director : 8 September 2016; Date resigned as Director : -; Equity interest as at the LPD (%) - Direct : 33.33; Equity interest as at the LPD (%) - Indir…\n",
      "2025-08-26 11:36:16,854 - retrieval - INFO - Final answer: Joyce Wong Ai May is an Independent Non-Executive Director on Edelteq Holdings Berhad's board (appointed 1 August 2022).\n",
      "2025-08-26 11:36:16,856 - retrieval - INFO - Token usage | detect={'prompt_tokens': 358, 'completion_tokens': 864, 'total_tokens': 1222} | answer={'prompt_tokens': 1430, 'completion_tokens': 871, 'total_tokens': 2301} | total=3523\n"
     ]
    }
   ],
   "source": [
    "out = await rag_answer_with_company_detection(\n",
    "    pine,\n",
    "    query = \"Who is Joyce Wong Ai May? What is his/her position?\",\n",
    "    top_k = 5\n",
    ")"
   ]
  },
  {
   "cell_type": "code",
   "execution_count": 3,
   "id": "f6312601",
   "metadata": {},
   "outputs": [
    {
     "name": "stderr",
     "output_type": "stream",
     "text": [
      "2025-08-26 11:36:23,114 - retrieval - INFO - RAG start | query='Who is Liew Soung Yue?' | top_k=5\n",
      "2025-08-26 11:36:23,808 - retrieval - INFO - Catalog companies (6): ['AUTOCOUNT_DOTCOM_BERHAD', 'CABNET_HOLDINGS_BERHAD', 'EDELTEQ_HOLDINGS_BERHAD', 'FARM_FRESH_BERHAD', 'ICT_ZONE_ASIA_BERHAD', 'VETECE_HOLDINGS_BERHAD']\n",
      "2025-08-26 11:36:28,266 - retrieval - INFO - Detected company: None\n",
      "2025-08-26 11:36:28,267 - retrieval - INFO - Search query unchanged.\n",
      "2025-08-26 11:36:28,268 - retrieval - INFO - Query filter: {}\n",
      "2025-08-26 11:36:30,624 - retrieval - INFO - Top-5 chunks retrieved: 5\n",
      "2025-08-26 11:36:30,625 - retrieval - INFO - Hit #1 | id=AUTOCOUNT_DOTCOM_BERHAD_IPO_SECTION_9_CHUNK_111 | score=0.602 | company=AUTOCOUNT_DOTCOM_BERHAD | section=9. INFORMATION ON PROMOTERS, SUBSTANTIAL SHAREHOLDERS, DIRECTORS AND KEY SENIOR MANAGEMENT | text=and Chief Operating Officer where she led and drove the successful implementation of the company’s vision and strategy and provided oversight and guidance to all business units to ensure all initiatives/programmes planned and executed are aligned to the company’s strategy goals. In addition, she als…\n",
      "2025-08-26 11:36:30,625 - retrieval - INFO - Hit #2 | id=AUTOCOUNT_DOTCOM_BERHAD_IPO_SECTION_9_CHUNK_85 | score=0.602 | company=AUTOCOUNT_DOTCOM_BERHAD | section=9. INFORMATION ON PROMOTERS, SUBSTANTIAL SHAREHOLDERS, DIRECTORS AND KEY SENIOR MANAGEMENT | text=and Chief Operating Officer where she led and drove the successful implementation of the company’s vision and strategy and provided oversight and guidance to all business units to ensure all initiatives/programmes planned and executed are aligned to the company’s strategy goals. In addition, she als…\n",
      "2025-08-26 11:36:30,626 - retrieval - INFO - Hit #3 | id=AUTOCOUNT_DOTCOM_BERHAD_IPO_SECTION_9_CHUNK_12 | score=0.602 | company=AUTOCOUNT_DOTCOM_BERHAD | section=9. INFORMATION ON PROMOTERS, SUBSTANTIAL SHAREHOLDERS, DIRECTORS AND KEY SENIOR MANAGEMENT | text=and Chief Operating Officer where she led and drove the successful implementation of the company’s vision and strategy and provided oversight and guidance to all business units to ensure all initiatives/programmes planned and executed are aligned to the company’s strategy goals. In addition, she als…\n",
      "2025-08-26 11:36:30,627 - retrieval - INFO - Hit #4 | id=AUTOCOUNT_DOTCOM_BERHAD_IPO_SECTION_1_CHUNK_8 | score=0.496 | company=AUTOCOUNT_DOTCOM_BERHAD | section=1. CORPORATE DIRECTORY | text=Table: NOMINATION COMMITTEE (p. 19) - Name: Dr. Liew Soung Yue; Designation: Chairperson; Directorship: Independent Non-Executive Director - Name: Dato’ Ng Wan Peng; Designation: Member; Directorship: Independent Non-Executive Director - Name: Chin Chee Seng; Designation: Member; Directorship: Indep…\n",
      "2025-08-26 11:36:30,627 - retrieval - INFO - Hit #5 | id=AUTOCOUNT_DOTCOM_BERHAD_IPO_SECTION_1_CHUNK_6 | score=0.438 | company=AUTOCOUNT_DOTCOM_BERHAD | section=1. CORPORATE DIRECTORY | text=Table: AUDIT AND RISK MANAGEMENT COMMITTEE (p. 19) - Name: Chin Chee Seng; Designation: Chairperson; Directorship: Independent Non-Executive Director - Name: Dato’ Ng Wan Peng; Designation: Member; Directorship: Independent Non-Executive Director - Name: Dr. Liew Soung Yue; Designation: Member; Dire…\n",
      "2025-08-26 11:36:34,735 - retrieval - INFO - Final answer: Liew Soung Yue is an Independent Non-Executive Director of AutoCount DotCom Berhad. He is Malaysian, aged 53, appointed to the Board on 6 April 2022, and serves as the Chairman of the Nomination Committee and as a member of the Audit & Risk Management Committee and the Remuneration Committee. He holds a PhD in Information Engineering from The Chinese University of Hong Kong (1999).\n",
      "2025-08-26 11:36:34,737 - retrieval - INFO - Token usage | detect={'prompt_tokens': 353, 'completion_tokens': 603, 'total_tokens': 956} | answer={'prompt_tokens': 1470, 'completion_tokens': 672, 'total_tokens': 2142} | total=3098\n"
     ]
    }
   ],
   "source": [
    "out = await rag_answer_with_company_detection(\n",
    "    pine,\n",
    "    query = \"Who is Liew Soung Yue?\",\n",
    "    top_k = 5\n",
    ")"
   ]
  },
  {
   "cell_type": "code",
   "execution_count": 11,
   "id": "329f3a06",
   "metadata": {},
   "outputs": [
    {
     "name": "stderr",
     "output_type": "stream",
     "text": [
      "2025-08-26 11:42:59,475 - retrieval - INFO - RAG start | query='Who are the Board of Directors of AutoCount' | top_k=5\n",
      "2025-08-26 11:43:01,507 - retrieval - INFO - Catalog companies (6): ['AUTOCOUNT_DOTCOM_BERHAD', 'CABNET_HOLDINGS_BERHAD', 'EDELTEQ_HOLDINGS_BERHAD', 'FARM_FRESH_BERHAD', 'ICT_ZONE_ASIA_BERHAD', 'VETECE_HOLDINGS_BERHAD']\n",
      "2025-08-26 11:43:18,719 - retrieval - INFO - Detected company: 'AUTOCOUNT_DOTCOM_BERHAD'\n",
      "2025-08-26 11:43:18,720 - retrieval - INFO - Search query normalized: 'Who are the Board of Directors of AutoCount' → 'Who are the Board of Directors'\n",
      "2025-08-26 11:43:18,721 - retrieval - INFO - Query filter: {'from_company': 'AUTOCOUNT_DOTCOM_BERHAD'}\n",
      "2025-08-26 11:43:19,670 - retrieval - INFO - Top-5 chunks retrieved: 5\n",
      "2025-08-26 11:43:19,671 - retrieval - INFO - Hit #1 | id=AUTOCOUNT_DOTCOM_BERHAD_IPO_SECTION_3_CHUNK_47 | score=0.577 | company=AUTOCOUNT_DOTCOM_BERHAD | section=3. PROSPECTUS SUMMARY | text=Our Directors and Key Senior Management are as follows:  (i) Directors  Table: [Directors] (p. 14) - Name: CCP; Designation: Executive Director / Chairman - Name: CYT; Designation: Executive Director / Managing Director - Name: Dato’ Ng Wan Peng; Designation: Independent Non-Executive Director - Nam…\n",
      "2025-08-26 11:43:19,672 - retrieval - INFO - Hit #2 | id=AUTOCOUNT_DOTCOM_BERHAD_IPO_SECTION_1_CHUNK_5 | score=0.541 | company=AUTOCOUNT_DOTCOM_BERHAD | section=1. CORPORATE DIRECTORY | text=Table: BOARD OF DIRECTORS (p. 19) - Name: Choo Chin Peng; Designation: Executive Director / Chairman; Gender: Male; Nationality: Malaysian; Address: 23, Jalan Bayu Laut 8, D’Laman Greenville, 41200 Klang, Selangor - Name: Choo Yan Tiee; Designation: Executive Director / Managing Director; Gender: Ma…\n",
      "2025-08-26 11:43:19,672 - retrieval - INFO - Hit #3 | id=AUTOCOUNT_DOTCOM_BERHAD_IPO_SECTION_9_CHUNK_52 | score=0.535 | company=AUTOCOUNT_DOTCOM_BERHAD | section=9. INFORMATION ON PROMOTERS, SUBSTANTIAL SHAREHOLDERS, DIRECTORS AND KEY SENIOR MANAGEMENT | text=Figure: [Management Reporting Structure] (p. 188) The organizational chart shows the Board of Directors at the top level. Reporting to the board are Choo Chin Peng (Executive Director/Chairman) and Choo Yan Tiee (Executive Director/Managing Director). Below them is the Key Senior Management. Reporti…\n",
      "2025-08-26 11:43:19,673 - retrieval - INFO - Hit #4 | id=AUTOCOUNT_DOTCOM_BERHAD_IPO_SECTION_9_CHUNK_175 | score=0.529 | company=AUTOCOUNT_DOTCOM_BERHAD | section=9. INFORMATION ON PROMOTERS, SUBSTANTIAL SHAREHOLDERS, DIRECTORS AND KEY SENIOR MANAGEMENT | text=In accordance with our Company’s Constitution, an election of Directors shall take place each year at the annual general meeting of our Company where 1/3 of the Directors for the time being, or, if their number is not 3 or a multiple of 3, then the number nearest to 1/3 shall retire from office and …\n",
      "2025-08-26 11:43:19,673 - retrieval - INFO - Hit #5 | id=AUTOCOUNT_DOTCOM_BERHAD_IPO_SECTION_9_CHUNK_54 | score=0.529 | company=AUTOCOUNT_DOTCOM_BERHAD | section=9. INFORMATION ON PROMOTERS, SUBSTANTIAL SHAREHOLDERS, DIRECTORS AND KEY SENIOR MANAGEMENT | text=In accordance with our Company’s Constitution, an election of Directors shall take place each year at the annual general meeting of our Company where 1/3 of the Directors for the time being, or, if their number is not 3 or a multiple of 3, then the number nearest to 1/3 shall retire from office and …\n",
      "2025-08-26 11:43:25,450 - retrieval - INFO - Final answer: - Choo Chin Peng — Executive Director / Chairman\n",
      "- Choo Yan Tiee — Executive Director / Managing Director\n",
      "- Dato’ Ng Wan Peng — Independent Non-Executive Director\n",
      "- Dr. Liew Soung Yue — Independent Non-Executive Director\n",
      "- Chin Chee Seng — Independent Non-Executive Director\n",
      "2025-08-26 11:43:25,451 - retrieval - INFO - Token usage | detect={'prompt_tokens': 354, 'completion_tokens': 3689, 'total_tokens': 4043} | answer={'prompt_tokens': 1824, 'completion_tokens': 905, 'total_tokens': 2729} | total=6772\n"
     ]
    }
   ],
   "source": [
    "out = await rag_answer_with_company_detection(\n",
    "    pine,\n",
    "    query = \"Who are the Board of Directors of AutoCount\",\n",
    "    top_k = 5\n",
    ")"
   ]
  },
  {
   "cell_type": "code",
   "execution_count": 5,
   "id": "706a6011",
   "metadata": {},
   "outputs": [
    {
     "name": "stderr",
     "output_type": "stream",
     "text": [
      "2025-08-26 11:37:12,686 - retrieval - INFO - RAG start | query='What are the mission and vision of autocount dotcom berhad?' | top_k=5\n",
      "2025-08-26 11:37:13,241 - retrieval - INFO - Catalog companies (6): ['AUTOCOUNT_DOTCOM_BERHAD', 'CABNET_HOLDINGS_BERHAD', 'EDELTEQ_HOLDINGS_BERHAD', 'FARM_FRESH_BERHAD', 'ICT_ZONE_ASIA_BERHAD', 'VETECE_HOLDINGS_BERHAD']\n",
      "2025-08-26 11:37:21,210 - retrieval - INFO - Detected company: 'AUTOCOUNT_DOTCOM_BERHAD'\n",
      "2025-08-26 11:37:21,212 - retrieval - INFO - Search query normalized: 'What are the mission and vision of autocount dotcom berhad?' → 'What are the mission and vision?'\n",
      "2025-08-26 11:37:21,212 - retrieval - INFO - Query filter: {'from_company': 'AUTOCOUNT_DOTCOM_BERHAD'}\n",
      "2025-08-26 11:37:22,145 - retrieval - INFO - Top-5 chunks retrieved: 5\n",
      "2025-08-26 11:37:22,146 - retrieval - INFO - Hit #1 | id=AUTOCOUNT_DOTCOM_BERHAD_IPO_SECTION_3_CHUNK_10 | score=0.339 | company=AUTOCOUNT_DOTCOM_BERHAD | section=3. PROSPECTUS SUMMARY | text=As we emphasise on providing our users a friendly user experience, the learning materials provided will grant them quick and easy access to learn and pick up our software and speed up the adoption and usage of our software at their workplace, which aim to encourage continuous usage of our software. …\n",
      "2025-08-26 11:37:22,147 - retrieval - INFO - Hit #2 | id=AUTOCOUNT_DOTCOM_BERHAD_IPO_SECTION_3_CHUNK_40 | score=0.322 | company=AUTOCOUNT_DOTCOM_BERHAD | section=3. PROSPECTUS SUMMARY | text=As such, as part of our continuous effort in improving our range of software offerings, we intend to intensify and strengthen our R&D efforts by focusing on the following areas: (a) Enhancement of existing software; and (b) Development of new software. (p.  12)  Further details on our business strat…\n",
      "2025-08-26 11:37:22,148 - retrieval - INFO - Hit #3 | id=AUTOCOUNT_DOTCOM_BERHAD_IPO_SECTION_7_CHUNK_396 | score=0.311 | company=AUTOCOUNT_DOTCOM_BERHAD | section=7. BUSINESS OVERVIEW | text=Over the years, we have demonstrated our ability and resilience to develop new, and upgrade our existing financial management software, along the changing market requirements and trends. It is also our Group’s core values and beliefs to continuously endeavour for improvement, and as such we strive t…\n",
      "2025-08-26 11:37:22,152 - retrieval - INFO - Hit #4 | id=AUTOCOUNT_DOTCOM_BERHAD_IPO_SECTION_3_CHUNK_39 | score=0.305 | company=AUTOCOUNT_DOTCOM_BERHAD | section=3. PROSPECTUS SUMMARY | text=Our future plans and strategies are as follows:  (i) We intend to expand our business presence to Thailand, Indonesia, Vietnam and Philippines; as well as continue to expand our business in Singapore As at LPD, our Group operates from our offices in Malaysia and Singapore, which are the main countri…\n",
      "2025-08-26 11:37:22,152 - retrieval - INFO - Hit #5 | id=AUTOCOUNT_DOTCOM_BERHAD_IPO_SECTION_5_CHUNK_38 | score=0.304 | company=AUTOCOUNT_DOTCOM_BERHAD | section=5. RISK FACTORS | text=(i) We are dependent on our Executive Directors and Key Senior Management team for continued success and growth of our business  Since inception, the success of our Group has been attributed to the experience, industry knowledge and network, and skills of our Executive Directors and Key Senior Manag…\n",
      "2025-08-26 11:37:24,471 - retrieval - INFO - Final answer: Not found in provided documents.\n",
      "2025-08-26 11:37:24,473 - retrieval - INFO - Token usage | detect={'prompt_tokens': 359, 'completion_tokens': 1636, 'total_tokens': 1995} | answer={'prompt_tokens': 1383, 'completion_tokens': 335, 'total_tokens': 1718} | total=3713\n"
     ]
    }
   ],
   "source": [
    "out = await rag_answer_with_company_detection(\n",
    "    pine,\n",
    "    query = \"What are the mission and vision of autocount dotcom berhad?\",\n",
    "    top_k = 5\n",
    ")"
   ]
  },
  {
   "cell_type": "code",
   "execution_count": 6,
   "id": "7be76225",
   "metadata": {},
   "outputs": [
    {
     "name": "stderr",
     "output_type": "stream",
     "text": [
      "2025-08-26 11:37:30,489 - retrieval - INFO - RAG start | query='What the company CABNET do?' | top_k=5\n",
      "2025-08-26 11:37:31,046 - retrieval - INFO - Catalog companies (6): ['AUTOCOUNT_DOTCOM_BERHAD', 'CABNET_HOLDINGS_BERHAD', 'EDELTEQ_HOLDINGS_BERHAD', 'FARM_FRESH_BERHAD', 'ICT_ZONE_ASIA_BERHAD', 'VETECE_HOLDINGS_BERHAD']\n",
      "2025-08-26 11:37:38,631 - retrieval - INFO - Detected company: 'CABNET_HOLDINGS_BERHAD'\n",
      "2025-08-26 11:37:38,633 - retrieval - INFO - Search query normalized: 'What the company CABNET do?' → 'What the company do?'\n",
      "2025-08-26 11:37:38,634 - retrieval - INFO - Query filter: {'from_company': 'CABNET_HOLDINGS_BERHAD'}\n",
      "2025-08-26 11:37:44,161 - retrieval - INFO - Top-5 chunks retrieved: 5\n",
      "2025-08-26 11:37:44,163 - retrieval - INFO - Hit #1 | id=CABNET_HOLDINGS_BERHAD_IPO_SECTION_2_CHUNK_23 | score=0.428 | company=CABNET_HOLDINGS_BERHAD | section=2. INFORMATION SUMMARY | text=Table: [Our subsidiary companies and their principal activities] (p. 4) - Subsidiary companies: Cabnet Systems; Date / country of incorporation: 12 August 1995 / Malaysia; Date of commencement of business: 12 August 1995; Issued share capital (RM): 1,000,000; Effective equity interest (%): 100.0; Pr…\n",
      "2025-08-26 11:37:44,163 - retrieval - INFO - Hit #2 | id=CABNET_HOLDINGS_BERHAD_IPO_SECTION_2_CHUNK_2 | score=0.428 | company=CABNET_HOLDINGS_BERHAD | section=2. INFORMATION SUMMARY | text=Table: [Our subsidiary companies and their principal activities] (p. 4) - Subsidiary companies: Cabnet Systems; Date / country of incorporation: 12 August 1995 / Malaysia; Date of commencement of business: 12 August 1995; Issued share capital (RM): 1,000,000; Effective equity interest (%): 100.0; Pr…\n",
      "2025-08-26 11:37:44,164 - retrieval - INFO - Hit #3 | id=CABNET_HOLDINGS_BERHAD_IPO_SECTION_2_CHUNK_1 | score=0.405 | company=CABNET_HOLDINGS_BERHAD | section=2. INFORMATION SUMMARY | text=THIS SECTION IS ONLY A SUMMARY OF THE SALIENT INFORMATION ABOUT US AND OUR IPO. THIS IS EXTRACTED FROM THE FULL TEXT OF THIS PROSPECTUS. YOU SHOULD CAREFULLY READ AND UNDERSTAND THIS SECTION TOGETHER WITH THE ENTIRE PROSPECTUS BEFORE YOU DECIDE WHETHER TO INVEST IN US. (p. 4)  2.1 Overview (p. 4)  O…\n",
      "2025-08-26 11:37:44,165 - retrieval - INFO - Hit #4 | id=CABNET_HOLDINGS_BERHAD_IPO_SECTION_6_CHUNK_26 | score=0.402 | company=CABNET_HOLDINGS_BERHAD | section=6. BUSINESS OVERVIEW | text=Notes:- * The consolidation adjustment represents the elimination of inter-company transactions within our Group. ^ This is in reference to the projects with Apro Technology Pte Ltd, a Singapore-based company, for work done in Malaysia as disclosed under Section 5.1 of the Prospectus. The billing fo…\n",
      "2025-08-26 11:37:44,166 - retrieval - INFO - Hit #5 | id=CABNET_HOLDINGS_BERHAD_IPO_SECTION_2_CHUNK_3 | score=0.396 | company=CABNET_HOLDINGS_BERHAD | section=2. INFORMATION SUMMARY | text=An application for the striking off of Cabnet Technology has been submitted to the CCM by the Company on 1 February 2016, as it had remained dormant since 2004, and is currently pending the decision from CCM. CCM had issued second notice under Section 308 of the Companies Act, 1965 on 7 October 2016…\n",
      "2025-08-26 11:37:46,960 - retrieval - INFO - Final answer: They provide building management solutions, including structured cabling works and ELV systems for buildings and other facilities, and they also offer IT services.\n",
      "2025-08-26 11:37:46,961 - retrieval - INFO - Token usage | detect={'prompt_tokens': 352, 'completion_tokens': 1377, 'total_tokens': 1729} | answer={'prompt_tokens': 1877, 'completion_tokens': 357, 'total_tokens': 2234} | total=3963\n"
     ]
    }
   ],
   "source": [
    "out = await rag_answer_with_company_detection(\n",
    "    pine,\n",
    "    query = \"What the company CABNET do?\",\n",
    "    top_k = 5\n",
    ")"
   ]
  },
  {
   "cell_type": "code",
   "execution_count": 9,
   "id": "45aa7015",
   "metadata": {},
   "outputs": [
    {
     "name": "stderr",
     "output_type": "stream",
     "text": [
      "2025-08-26 11:40:23,743 - retrieval - INFO - RAG start | query='What is the vision and mission of farm fresh?' | top_k=8\n",
      "2025-08-26 11:40:25,972 - retrieval - INFO - Catalog companies (6): ['AUTOCOUNT_DOTCOM_BERHAD', 'CABNET_HOLDINGS_BERHAD', 'EDELTEQ_HOLDINGS_BERHAD', 'FARM_FRESH_BERHAD', 'ICT_ZONE_ASIA_BERHAD', 'VETECE_HOLDINGS_BERHAD']\n",
      "2025-08-26 11:40:32,200 - retrieval - INFO - Detected company: 'FARM_FRESH_BERHAD'\n",
      "2025-08-26 11:40:32,201 - retrieval - INFO - Search query normalized: 'What is the vision and mission of farm fresh?' → 'What is the vision and mission?'\n",
      "2025-08-26 11:40:32,202 - retrieval - INFO - Query filter: {'from_company': 'FARM_FRESH_BERHAD'}\n",
      "2025-08-26 11:40:33,635 - retrieval - INFO - Top-8 chunks retrieved: 8\n",
      "2025-08-26 11:40:33,637 - retrieval - INFO - Hit #1 | id=FARM_FRESH_BERHAD_ANNUAL_2024_SECTION_1_CHUNK_34 | score=0.431 | company=FARM_FRESH_BERHAD | section=1. Overview of Farm Fresh Berhad | text=We have established and adhere to the following shared values, which are in line with our vision and mission: (p. 13)  I.S.A.A.C. – Integrity, Stewardship, Accountability, Agility and Collaboration. (p. 13)\n",
      "2025-08-26 11:40:33,638 - retrieval - INFO - Hit #2 | id=FARM_FRESH_BERHAD_ANNUAL_2024_SECTION_1_CHUNK_31 | score=0.407 | company=FARM_FRESH_BERHAD | section=1. Overview of Farm Fresh Berhad | text=TO BE A SUSTAINABLE AND HONEST FOOD COMPANY THAT HAS AN INGRAINED CULTURE OF PLACING THE WELL-BEING OF CONSUMERS FIRST, CULMINATING IN STRONG BRAND LOVE. (p. 12)  OUR PROMISE (VISION)  We achieve our brand promise of delivering nutritious dairy and plant-based products by: (p. 12)  Diversifying our …\n",
      "2025-08-26 11:40:33,639 - retrieval - INFO - Hit #3 | id=FARM_FRESH_BERHAD_ANNUAL_2024_SECTION_1_CHUNK_4 | score=0.387 | company=FARM_FRESH_BERHAD | section=1. Overview of Farm Fresh Berhad | text=Diversifying our product portfolio to capture a wide, addressable market with different functional and nutritional needs, supported by a culture of innovation whilst being honest and meticulous with our ingredients based on the functional and nutritional needs of customers. Being ethical and truthfu…\n",
      "2025-08-26 11:40:33,640 - retrieval - INFO - Hit #4 | id=FARM_FRESH_BERHAD_ANNUAL_2024_SECTION_7_CHUNK_99 | score=0.382 | company=FARM_FRESH_BERHAD | section=7. Our Sustainability Journey | text=GUIDED BY OUR VISION TO BE A SUSTAINABLE, HONEST AND CONSUMER-CENTRIC FOOD COMPANY, WE HAVE DEEPLY INGRAINED ENVIRONMENTAL, SOCIAL AND GOVERNANCE (ESG) PRINCIPLES INTO OUR BUSINESS STRATEGY. OUR HOLISTIC APPROACH AIMS TO ENSURE LASTING BENEFITS FOR OUR LOCAL COMMUNITIES, STAKEHOLDERS AND PLANET, WHI…\n",
      "2025-08-26 11:40:33,640 - retrieval - INFO - Hit #5 | id=FARM_FRESH_BERHAD_ANNUAL_2024_SECTION_7_CHUNK_1 | score=0.371 | company=FARM_FRESH_BERHAD | section=7. Our Sustainability Journey | text=SUSTAINABILITY STATEMENT (p. 122)  GUIDED BY OUR VISION TO BE A SUSTAINABLE, HONEST AND CONSUMER-CENTRIC FOOD COMPANY, WE HAVE DEEPLY INGRAINED ENVIRONMENTAL, SOCIAL AND GOVERNANCE (ESG) PRINCIPLES INTO OUR BUSINESS STRATEGY. OUR HOLISTIC APPROACH AIMS TO ENSURE LASTING BENEFITS FOR OUR LOCAL COMMUN…\n",
      "2025-08-26 11:40:33,640 - retrieval - INFO - Hit #6 | id=FARM_FRESH_BERHAD_ANNUAL_2024_SECTION_3_CHUNK_112 | score=0.341 | company=FARM_FRESH_BERHAD | section=Value Creation at Farm Fresh | text=How we ensure a safe and respectful working environment and culture. How we uphold rigorous standards for anti-bribery and anti-corruption. How we provide fair opportunities for career advancement and growth. How we promote clarity and inclusion on company initiatives and growth plans.\n",
      "2025-08-26 11:40:33,641 - retrieval - INFO - Hit #7 | id=FARM_FRESH_BERHAD_ANNUAL_2024_SECTION_4_CHUNK_23 | score=0.341 | company=FARM_FRESH_BERHAD | section=4. Management Discussion and Analysis | text=REPUTATION (p. 63)  Elevating our standing as a manufacturer of premium-quality products and as a conscientious corporation that proactively contributes to fostering a positive societal and environmental footprint.  KEY PRIORITIES:  Enhance performance within our Better Dairy, Stronger Communities a…\n",
      "2025-08-26 11:40:33,641 - retrieval - INFO - Hit #8 | id=FARM_FRESH_BERHAD_ANNUAL_2024_SECTION_4_CHUNK_78 | score=0.340 | company=FARM_FRESH_BERHAD | section=4. Management Discussion and Analysis | text=REPUTATION (p. 63)  Elevating our standing as a manufacturer of premium-quality products and as a conscientious corporation that proactively contributes to fostering a positive societal and environmental footprint.  KEY PRIORITIES:  Enhance performance within our Better Dairy, Stronger Communities a…\n",
      "2025-08-26 11:40:43,181 - retrieval - INFO - Final answer: - Vision: TO BE A SUSTAINABLE AND HONEST FOOD COMPANY THAT HAS AN INGRAINED CULTURE OF PLACING THE WELL-BEING OF CONSUMERS FIRST, CULMINATING IN STRONG BRAND LOVE.\n",
      "\n",
      "- Mission: I.S.A.A.C. – Integrity, Stewardship, Accountability, Agility and Collaboration.\n",
      "2025-08-26 11:40:43,182 - retrieval - INFO - Token usage | detect={'prompt_tokens': 355, 'completion_tokens': 1313, 'total_tokens': 1668} | answer={'prompt_tokens': 2203, 'completion_tokens': 1422, 'total_tokens': 3625} | total=5293\n"
     ]
    }
   ],
   "source": [
    "out = await rag_answer_with_company_detection(\n",
    "    pine,\n",
    "    query = \"What is the vision and mission of farm fresh?\",\n",
    "    top_k = 8\n",
    ")"
   ]
  },
  {
   "cell_type": "code",
   "execution_count": 4,
   "id": "74cb53bf",
   "metadata": {},
   "outputs": [
    {
     "name": "stderr",
     "output_type": "stream",
     "text": [
      "2025-08-03 11:40:56,916 - retrieval - INFO - Embedding query: 'What is the mission and vision?'\n",
      "2025-08-03 11:40:58,284 - retrieval - INFO - Retrieved chunks: ['**Vision & mission statement:**', '*   **Our Promise (Vision):** \"TO BE A SUSTAINABLE AND HONEST FOOD COMPANY THAT HAS AN INGRAINED CULTURE OF PLACING THE WELL-BEING OF CONSUMERS FIRST, CULMINATING IN STRONG BRAND LOVE.\" (pg 12)', '*   **Our Action Plan (Mission):** Farm Fresh achieves its brand promise by:', \"**Business strategy and outlook:** The Group's strategy is centered on three core pillars: Expansion, Innovation, and Reputation. (pg 62-63)\", '## Leadership & Governance']\n",
      "2025-08-03 11:40:59,134 - retrieval - INFO - Response generated: The vision of the company is to be a sustainable and honest food company that has an ingrained culture of placing the well-being of consumers first, culminating in strong brand love.\n",
      "\n",
      "The mission focuses on achieving this promise by implementing specific actions, although the detailed action plan is outlined in the company's strategy document. (TOKEN: 206)\n"
     ]
    },
    {
     "data": {
      "text/plain": [
       "\"The vision of the company is to be a sustainable and honest food company that has an ingrained culture of placing the well-being of consumers first, culminating in strong brand love.\\n\\nThe mission focuses on achieving this promise by implementing specific actions, although the detailed action plan is outlined in the company's strategy document.\""
      ]
     },
     "execution_count": 4,
     "metadata": {},
     "output_type": "execute_result"
    }
   ],
   "source": [
    "manager.answer_query(\n",
    "    company = \"FARM_FRESH_BERHAD\",\n",
    "    query = \"What is the mission and vision?\",\n",
    "    top_k = 5,\n",
    "    chat_model = OPENAI_MODEL\n",
    ")"
   ]
  }
 ],
 "metadata": {
  "kernelspec": {
   "display_name": "myenv",
   "language": "python",
   "name": "python3"
  },
  "language_info": {
   "codemirror_mode": {
    "name": "ipython",
    "version": 3
   },
   "file_extension": ".py",
   "mimetype": "text/x-python",
   "name": "python",
   "nbconvert_exporter": "python",
   "pygments_lexer": "ipython3",
   "version": "3.10.18"
  }
 },
 "nbformat": 4,
 "nbformat_minor": 5
}

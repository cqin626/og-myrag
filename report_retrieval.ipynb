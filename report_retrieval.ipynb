{
 "cells": [
  {
   "cell_type": "code",
   "execution_count": 1,
   "id": "db495be8",
   "metadata": {},
   "outputs": [
    {
     "name": "stderr",
     "output_type": "stream",
     "text": [
      "2025-08-26 12:01:44,935 - retrieval - INFO - \n",
      "================================================================================\n",
      "2025-08-26 12:01:44,945 - retrieval - INFO - Connected to MongoDB database: FYP\n"
     ]
    }
   ],
   "source": [
    "import logging\n",
    "import os\n",
    "import asyncio\n",
    "\n",
    "from ogmyrag.report_retrieval.report_retrieval import ReportRetrievalManager\n",
    "from ogmyrag.report_retrieval.retrieval_storage import RetrievalAsyncStorageManager\n",
    "from ogmyrag.report_scraper.models import ReportType\n",
    "from ogmyrag.my_logging import configure_logger\n",
    "from ogmyrag.storage import PineconeStorage\n",
    "from ogmyrag.report_retrieval.report_chunker import rag_answer_with_company_detection\n",
    "\n",
    "from dotenv import load_dotenv\n",
    "\n",
    "retrieval_logger = configure_logger(name='retrieval',log_level=logging.INFO, log_file='logs/retrieval.log')\n",
    "retrieval_logger.info(\"\\n\" + \"=\" * 80)\n",
    "\n",
    "load_dotenv(override=True)\n",
    "\n",
    "mongo_db_uri = os.getenv(\"MONGO_DB_URI_JJ\",\"\")\n",
    "pinecone_api_key = os.getenv(\"PINECONE_API_KEY_JJ\",\"\")\n",
    "genai_api_key = os.getenv(\"GENAI_API_KEY_JJ\",\"\")\n",
    "openai_api_key = os.getenv(\"OPENAI_API_KEY\", \"\")\n",
    "\n",
    "INDEX_NAME = \"company-disclosures-index\"\n",
    "EMBED_MODEL = \"text-embedding-3-small\"\n",
    "DIMENSION = 1536\n",
    "GENAI_MODEL = \"gemini-2.5-pro\"\n",
    "#GENAI_MODEL = \"gemini-2.5-flash\"\n",
    "OPENAI_MODEL = \"gpt-5-nano\"\n",
    "\n",
    "db_name = \"FYP\"\n",
    "storage = RetrievalAsyncStorageManager(mongo_uri=mongo_db_uri, db_name=db_name)\n",
    "\n",
    "\n",
    "pine = PineconeStorage(\n",
    "    index_name = INDEX_NAME,\n",
    "    pinecone_api_key = pinecone_api_key,\n",
    "    pinecone_environment = \"us-east-1\",\n",
    "    pinecone_cloud = \"aws\",\n",
    "    pinecone_metric = \"cosine\",\n",
    "    pinecone_dimensions = DIMENSION,\n",
    "    openai_api_key = openai_api_key\n",
    ")\n",
    "\n",
    "manager = ReportRetrievalManager(\n",
    "    storage = storage,\n",
    "    pine = pine,\n",
    "    genai_model = GENAI_MODEL,\n",
    "    genai_api_key = genai_api_key,\n",
    "    openai_api_key = openai_api_key,\n",
    "    #dry_run = False\n",
    ")"
   ]
  },
  {
   "cell_type": "markdown",
   "id": "ad800a0c",
   "metadata": {},
   "source": [
    "## Process Financial Reports (PDF)"
   ]
  },
  {
   "cell_type": "code",
   "execution_count": 2,
   "id": "b62a4f89",
   "metadata": {},
   "outputs": [
    {
     "name": "stderr",
     "output_type": "stream",
     "text": [
      "2025-08-26 10:17:08,733 - retrieval - INFO - Already processed and up to date.\n",
      "2025-08-26 10:17:08,734 - retrieval - INFO - Skipping processing, using existing content.\n",
      "2025-08-26 10:17:08,735 - retrieval - INFO - Extracting all the processed content.\n",
      "2025-08-26 10:17:08,884 - retrieval - INFO - Combining all the processed content.\n",
      "2025-08-26 10:17:08,885 - retrieval - INFO - Processed content ready.\n",
      "2025-08-26 10:17:08,889 - retrieval - INFO - Saved processed report to ./processed_report/FARM_FRESH_BERHAD/FARM_FRESH_BERHAD_ANNUAL_2024.md\n"
     ]
    }
   ],
   "source": [
    "await manager.parse_report(\n",
    "    company = \"FARM_FRESH_BERHAD\",\n",
    "    report_type = ReportType.ANNUAL,\n",
    "    year = 2024,\n",
    "    #forced_process = True\n",
    ")"
   ]
  },
  {
   "cell_type": "code",
   "execution_count": 6,
   "id": "073006ac",
   "metadata": {},
   "outputs": [
    {
     "name": "stderr",
     "output_type": "stream",
     "text": [
      "2025-08-26 10:21:32,314 - retrieval - INFO - Already processed and up to date.\n",
      "2025-08-26 10:21:32,316 - retrieval - INFO - Skipping processing, using existing content.\n",
      "2025-08-26 10:21:32,317 - retrieval - INFO - Extracting all the processed content.\n",
      "2025-08-26 10:21:32,470 - retrieval - INFO - Combining all the processed content.\n",
      "2025-08-26 10:21:32,471 - retrieval - INFO - Processed content ready.\n",
      "2025-08-26 10:21:32,473 - retrieval - INFO - Saved processed report to ./processed_report/EDELTEQ_HOLDINGS_BERHAD/EDELTEQ_HOLDINGS_BERHAD_IPO.md\n"
     ]
    }
   ],
   "source": [
    "await manager.parse_report(\n",
    "    company = \"EDELTEQ HOLDINGS BERHAD\",\n",
    "    report_type = ReportType.IPO,\n",
    "    #forced_process = True\n",
    ")"
   ]
  },
  {
   "cell_type": "code",
   "execution_count": 3,
   "id": "9470e200",
   "metadata": {},
   "outputs": [
    {
     "name": "stderr",
     "output_type": "stream",
     "text": [
      "2025-08-26 09:35:51,387 - retrieval - INFO - Already processed and up to date.\n",
      "2025-08-26 09:35:51,388 - retrieval - INFO - Skipping processing, using existing content.\n",
      "2025-08-26 09:35:51,388 - retrieval - INFO - Extracting all the processed content.\n",
      "2025-08-26 09:35:51,533 - retrieval - INFO - Combining all the processed content.\n",
      "2025-08-26 09:35:51,534 - retrieval - INFO - Processed content ready.\n",
      "2025-08-26 09:35:51,538 - retrieval - INFO - Saved processed report to ./processed_report/VETECE_HOLDINGS_BERHAD/VETECE_HOLDINGS_BERHAD_IPO.md\n"
     ]
    }
   ],
   "source": [
    "await manager.parse_report(\n",
    "    company = \"VETECE_HOLDINGS_BERHAD\",\n",
    "    report_type = ReportType.IPO,\n",
    "    #forced_process = True\n",
    ")"
   ]
  },
  {
   "cell_type": "code",
   "execution_count": 4,
   "id": "7a6edeb0",
   "metadata": {},
   "outputs": [
    {
     "name": "stderr",
     "output_type": "stream",
     "text": [
      "2025-08-26 09:35:58,782 - retrieval - INFO - Already processed and up to date.\n",
      "2025-08-26 09:35:58,783 - retrieval - INFO - Skipping processing, using existing content.\n",
      "2025-08-26 09:35:58,784 - retrieval - INFO - Extracting all the processed content.\n",
      "2025-08-26 09:35:58,951 - retrieval - INFO - Combining all the processed content.\n",
      "2025-08-26 09:35:58,951 - retrieval - INFO - Processed content ready.\n",
      "2025-08-26 09:35:58,955 - retrieval - INFO - Saved processed report to ./processed_report/CABNET_HOLDINGS_BERHAD/CABNET_HOLDINGS_BERHAD_IPO.md\n"
     ]
    }
   ],
   "source": [
    "await manager.parse_report(\n",
    "    company = \"CABNET_HOLDINGS_BERHAD\",\n",
    "    report_type = ReportType.IPO,\n",
    "    #forced_process = True\n",
    ")"
   ]
  },
  {
   "cell_type": "code",
   "execution_count": 7,
   "id": "0a2ad320",
   "metadata": {},
   "outputs": [
    {
     "name": "stderr",
     "output_type": "stream",
     "text": [
      "2025-08-26 10:21:36,639 - retrieval - INFO - Already processed and up to date.\n",
      "2025-08-26 10:21:36,640 - retrieval - INFO - Skipping processing, using existing content.\n",
      "2025-08-26 10:21:36,641 - retrieval - INFO - Extracting all the processed content.\n",
      "2025-08-26 10:21:36,791 - retrieval - INFO - Combining all the processed content.\n",
      "2025-08-26 10:21:36,792 - retrieval - INFO - Processed content ready.\n",
      "2025-08-26 10:21:36,794 - retrieval - INFO - Saved processed report to ./processed_report/AUTOCOUNT_DOTCOM_BERHAD/AUTOCOUNT_DOTCOM_BERHAD_IPO.md\n"
     ]
    }
   ],
   "source": [
    "await manager.parse_report(\n",
    "    company = \"AUTOCOUNT_DOTCOM_BERHAD\",\n",
    "    report_type = ReportType.IPO,\n",
    "    #forced_process = True\n",
    ")"
   ]
  },
  {
   "cell_type": "code",
   "execution_count": 8,
   "id": "d40b1d43",
   "metadata": {},
   "outputs": [
    {
     "name": "stderr",
     "output_type": "stream",
     "text": [
      "2025-08-26 10:21:37,748 - retrieval - INFO - Already processed and up to date.\n",
      "2025-08-26 10:21:37,748 - retrieval - INFO - Skipping processing, using existing content.\n",
      "2025-08-26 10:21:37,749 - retrieval - INFO - Extracting all the processed content.\n",
      "2025-08-26 10:21:37,854 - retrieval - INFO - Combining all the processed content.\n",
      "2025-08-26 10:21:37,855 - retrieval - INFO - Processed content ready.\n",
      "2025-08-26 10:21:37,858 - retrieval - INFO - Saved processed report to ./processed_report/ICT_ZONE_ASIA_BERHAD/ICT_ZONE_ASIA_BERHAD_IPO.md\n"
     ]
    }
   ],
   "source": [
    "await manager.parse_report(\n",
    "    company = \"ICT ZONE ASIA BERHAD\",\n",
    "    report_type = ReportType.IPO,\n",
    "    #forced_process = True\n",
    ")"
   ]
  },
  {
   "cell_type": "markdown",
   "id": "be9ccdb1",
   "metadata": {},
   "source": [
    "## Simple User Query"
   ]
  },
  {
   "cell_type": "code",
   "execution_count": 13,
   "id": "b23d7176",
   "metadata": {},
   "outputs": [
    {
     "name": "stderr",
     "output_type": "stream",
     "text": [
      "2025-08-26 12:06:16,903 - retrieval - INFO - RAG start | query='Who is Joyce Wong Ai May? What is his/her position?' | top_k=5\n",
      "2025-08-26 12:06:17,518 - retrieval - INFO - Catalog companies (6): ['AUTOCOUNT_DOTCOM_BERHAD', 'CABNET_HOLDINGS_BERHAD', 'EDELTEQ_HOLDINGS_BERHAD', 'FARM_FRESH_BERHAD', 'ICT_ZONE_ASIA_BERHAD', 'VETECE_HOLDINGS_BERHAD']\n",
      "2025-08-26 12:06:21,739 - retrieval - INFO - Detected company: None\n",
      "2025-08-26 12:06:21,741 - retrieval - INFO - Search query unchanged.\n",
      "2025-08-26 12:06:21,741 - retrieval - INFO - Query filter: {}\n",
      "2025-08-26 12:06:27,529 - retrieval - INFO - Final answer: \n",
      "\n",
      "Joyce Wong Ai May is the Independent Non-Executive Director of Edelteq Holdings Berhad, appointed to the Board on 1 August 2022.\n",
      "\n",
      "\n",
      "2025-08-26 12:06:27,531 - retrieval - INFO - Token usage | detect={'prompt_tokens': 358, 'completion_tokens': 544, 'total_tokens': 902} | answer={'prompt_tokens': 1430, 'completion_tokens': 809, 'total_tokens': 2239} | total=3141\n"
     ]
    }
   ],
   "source": [
    "out = await rag_answer_with_company_detection(\n",
    "    pine,\n",
    "    query = \"Who is Joyce Wong Ai May? What is his/her position?\",\n",
    "    top_k = 5\n",
    ")"
   ]
  },
  {
   "cell_type": "code",
   "execution_count": 12,
   "id": "f6312601",
   "metadata": {},
   "outputs": [
    {
     "name": "stderr",
     "output_type": "stream",
     "text": [
      "2025-08-26 12:06:05,144 - retrieval - INFO - RAG start | query='Who is Liew Soung Yue?' | top_k=5\n",
      "2025-08-26 12:06:05,721 - retrieval - INFO - Catalog companies (6): ['AUTOCOUNT_DOTCOM_BERHAD', 'CABNET_HOLDINGS_BERHAD', 'EDELTEQ_HOLDINGS_BERHAD', 'FARM_FRESH_BERHAD', 'ICT_ZONE_ASIA_BERHAD', 'VETECE_HOLDINGS_BERHAD']\n",
      "2025-08-26 12:06:11,125 - retrieval - INFO - Detected company: None\n",
      "2025-08-26 12:06:11,126 - retrieval - INFO - Search query unchanged.\n",
      "2025-08-26 12:06:11,127 - retrieval - INFO - Query filter: {}\n",
      "2025-08-26 12:06:16,889 - retrieval - INFO - Final answer: \n",
      "\n",
      "Dr. Liew Soung Yue is an Independent Non-Executive Director of AutoCount Dotcom Berhad. He was appointed to the Board on 6 April 2022, serves as Chairman of the Nomination Committee, and is a member of the Audit and Risk Management Committee and Remuneration Committee. He holds a PhD in Information Engineering from The Chinese University of Hong Kong (1999).\n",
      "\n",
      "\n",
      "2025-08-26 12:06:16,890 - retrieval - INFO - Token usage | detect={'prompt_tokens': 353, 'completion_tokens': 795, 'total_tokens': 1148} | answer={'prompt_tokens': 1470, 'completion_tokens': 730, 'total_tokens': 2200} | total=3348\n"
     ]
    }
   ],
   "source": [
    "out = await rag_answer_with_company_detection(\n",
    "    pine,\n",
    "    query = \"Who is Liew Soung Yue?\",\n",
    "    top_k = 5\n",
    ")"
   ]
  },
  {
   "cell_type": "code",
   "execution_count": 9,
   "id": "329f3a06",
   "metadata": {},
   "outputs": [
    {
     "name": "stderr",
     "output_type": "stream",
     "text": [
      "2025-08-26 12:05:12,416 - retrieval - INFO - RAG start | query='Who are the board of directors of AutoCount? Tell more story or background about each of them.' | top_k=5\n",
      "2025-08-26 12:05:12,986 - retrieval - INFO - Catalog companies (6): ['AUTOCOUNT_DOTCOM_BERHAD', 'CABNET_HOLDINGS_BERHAD', 'EDELTEQ_HOLDINGS_BERHAD', 'FARM_FRESH_BERHAD', 'ICT_ZONE_ASIA_BERHAD', 'VETECE_HOLDINGS_BERHAD']\n",
      "2025-08-26 12:05:24,694 - retrieval - INFO - Detected company: 'AUTOCOUNT_DOTCOM_BERHAD'\n",
      "2025-08-26 12:05:24,696 - retrieval - INFO - Search query normalized: 'Who are the board of directors of AutoCount? Tell more story or background about each of them.' → 'Who are the board of directors? Tell more story or background about each of them.'\n",
      "2025-08-26 12:05:24,696 - retrieval - INFO - Query filter: {'from_company': 'AUTOCOUNT_DOTCOM_BERHAD'}\n",
      "2025-08-26 12:05:37,620 - retrieval - INFO - Final answer: \n",
      "\n",
      "Board of Directors (names and roles per the documents)\n",
      "\n",
      "- Choo Chin Peng (CCP) — Executive Director / Chairman; male; address listed. Background: part of the executive duo with CYT and, together with CYT, has about 27 years of experience in the finance management software industry; contributed to the Group’s historical expansion. They jointly make decisions and report to the board; neither reports to the other.\n",
      "\n",
      "- Choo Yan Tiee (CYT) — Executive Director / Managing Director; male; address listed. Background: same 27-year industry experience as CCP; key driver of growth; jointly makes decisions with CCP and reports to the board.\n",
      "\n",
      "- Dato’ Ng Wan Peng — Independent Non-Executive Director; female; address listed. Background: independent non-executive director (no further background details provided in the documents).\n",
      "\n",
      "- Dr. Liew Soung Yue — Independent Non-Executive Director; male; address listed. Background: independent non-executive director (no further background details provided in the documents).\n",
      "\n",
      "- Chin Chee Seng — Independent Non-Executive Director; male; address listed. Background: independent non-executive director (no further background details provided in the documents).\n",
      "\n",
      "\n",
      "2025-08-26 12:05:37,623 - retrieval - INFO - Token usage | detect={'prompt_tokens': 365, 'completion_tokens': 2285, 'total_tokens': 2650} | answer={'prompt_tokens': 1787, 'completion_tokens': 2175, 'total_tokens': 3962} | total=6612\n"
     ]
    }
   ],
   "source": [
    "out = await rag_answer_with_company_detection(\n",
    "    pine,\n",
    "    query = \"Who are the board of directors of AutoCount? Tell more story or background about each of them.\",\n",
    "    top_k = 5\n",
    ")"
   ]
  },
  {
   "cell_type": "code",
   "execution_count": 10,
   "id": "706a6011",
   "metadata": {},
   "outputs": [
    {
     "name": "stderr",
     "output_type": "stream",
     "text": [
      "2025-08-26 12:05:37,638 - retrieval - INFO - RAG start | query='What are the mission and vision of autocount dotcom berhad?' | top_k=5\n",
      "2025-08-26 12:05:38,214 - retrieval - INFO - Catalog companies (6): ['AUTOCOUNT_DOTCOM_BERHAD', 'CABNET_HOLDINGS_BERHAD', 'EDELTEQ_HOLDINGS_BERHAD', 'FARM_FRESH_BERHAD', 'ICT_ZONE_ASIA_BERHAD', 'VETECE_HOLDINGS_BERHAD']\n",
      "2025-08-26 12:05:44,491 - retrieval - INFO - Detected company: 'AUTOCOUNT_DOTCOM_BERHAD'\n",
      "2025-08-26 12:05:44,491 - retrieval - INFO - Search query normalized: 'What are the mission and vision of autocount dotcom berhad?' → 'What are the mission and vision?'\n",
      "2025-08-26 12:05:44,492 - retrieval - INFO - Query filter: {'from_company': 'AUTOCOUNT_DOTCOM_BERHAD'}\n",
      "2025-08-26 12:05:49,079 - retrieval - INFO - Final answer: \n",
      "\n",
      "Not found in provided documents.\n",
      "\n",
      "\n",
      "2025-08-26 12:05:49,080 - retrieval - INFO - Token usage | detect={'prompt_tokens': 359, 'completion_tokens': 1186, 'total_tokens': 1545} | answer={'prompt_tokens': 1383, 'completion_tokens': 463, 'total_tokens': 1846} | total=3391\n"
     ]
    }
   ],
   "source": [
    "out = await rag_answer_with_company_detection(\n",
    "    pine,\n",
    "    query = \"What are the mission and vision of autocount dotcom berhad?\",\n",
    "    top_k = 5\n",
    ")"
   ]
  },
  {
   "cell_type": "code",
   "execution_count": 11,
   "id": "7be76225",
   "metadata": {},
   "outputs": [
    {
     "name": "stderr",
     "output_type": "stream",
     "text": [
      "2025-08-26 12:05:49,090 - retrieval - INFO - RAG start | query='What the company CABNET do?' | top_k=5\n",
      "2025-08-26 12:05:49,670 - retrieval - INFO - Catalog companies (6): ['AUTOCOUNT_DOTCOM_BERHAD', 'CABNET_HOLDINGS_BERHAD', 'EDELTEQ_HOLDINGS_BERHAD', 'FARM_FRESH_BERHAD', 'ICT_ZONE_ASIA_BERHAD', 'VETECE_HOLDINGS_BERHAD']\n",
      "2025-08-26 12:06:00,430 - retrieval - INFO - Detected company: 'CABNET_HOLDINGS_BERHAD'\n",
      "2025-08-26 12:06:00,431 - retrieval - INFO - Search query normalized: 'What the company CABNET do?' → 'What the company do?'\n",
      "2025-08-26 12:06:00,432 - retrieval - INFO - Query filter: {'from_company': 'CABNET_HOLDINGS_BERHAD'}\n",
      "2025-08-26 12:06:05,128 - retrieval - INFO - Final answer: \n",
      "\n",
      "Cabnet Holdings Berhad provides building management solutions, including structured cabling works and ELV systems for buildings and facilities, and IT services. Their activities cover design, supply, build, testing and commissioning, plus project management, training, maintenance and aftersales services.\n",
      "\n",
      "\n",
      "2025-08-26 12:06:05,130 - retrieval - INFO - Token usage | detect={'prompt_tokens': 352, 'completion_tokens': 1634, 'total_tokens': 1986} | answer={'prompt_tokens': 1877, 'completion_tokens': 574, 'total_tokens': 2451} | total=4437\n"
     ]
    }
   ],
   "source": [
    "out = await rag_answer_with_company_detection(\n",
    "    pine,\n",
    "    query = \"What the company CABNET do?\",\n",
    "    top_k = 5\n",
    ")"
   ]
  },
  {
   "cell_type": "code",
   "execution_count": 8,
   "id": "45aa7015",
   "metadata": {},
   "outputs": [
    {
     "name": "stderr",
     "output_type": "stream",
     "text": [
      "2025-08-26 12:04:26,908 - retrieval - INFO - RAG start | query='What is the vision and mission of farm fresh? Elaborate more.' | top_k=8\n",
      "2025-08-26 12:04:27,469 - retrieval - INFO - Catalog companies (6): ['AUTOCOUNT_DOTCOM_BERHAD', 'CABNET_HOLDINGS_BERHAD', 'EDELTEQ_HOLDINGS_BERHAD', 'FARM_FRESH_BERHAD', 'ICT_ZONE_ASIA_BERHAD', 'VETECE_HOLDINGS_BERHAD']\n",
      "2025-08-26 12:04:39,390 - retrieval - INFO - Detected company: 'FARM_FRESH_BERHAD'\n",
      "2025-08-26 12:04:39,392 - retrieval - INFO - Search query normalized: 'What is the vision and mission of farm fresh? Elaborate more.' → 'What is the vision and mission? Elaborate more.'\n",
      "2025-08-26 12:04:39,394 - retrieval - INFO - Query filter: {'from_company': 'FARM_FRESH_BERHAD'}\n",
      "2025-08-26 12:04:53,710 - retrieval - INFO - Final answer: \n",
      "\n",
      "Vision:\n",
      "- To be a sustainable and honest food company that places the wellbeing of consumers first, culminating in strong brand love. The company also articulates this as a vision of being sustainable, honest, and consumer-centric.\n",
      "\n",
      "Mission (as described in the action plan and sustainability sections):\n",
      "- Deliver nutritious dairy and plant-based products while embedding ESG into strategy.\n",
      "- Diversify product portfolio to address broad needs, backed by innovation, and ensure honesty and meticulousness in ingredients and labeling.\n",
      "- Practice certified-humane farming and work toward high-yield tropical dairy farming with the Australian Friesian Sahiwal breed (AFS), including IVF for breed improvement.\n",
      "- Enhance environmental stewardship through regenerative agriculture, recycling dairy manure, and monitoring the carbon footprint; expand eco-friendly farming methods and responsible processing.\n",
      "- Promote social inclusion by strengthening the home dealer network, creating rural employment, empowering local farmers, and supporting micro-entrepreneurs.\n",
      "- Drive positive social impact through training, education, youth outreach, CSR programs, scholarships, and community development initiatives.\n",
      "- Integrate integrity, stewardship, accountability, agility, and collaboration (I.S.A.A.C.) as core shared values guiding daily actions.\n",
      "\n",
      "\n",
      "2025-08-26 12:04:53,712 - retrieval - INFO - Token usage | detect={'prompt_tokens': 359, 'completion_tokens': 1893, 'total_tokens': 2252} | answer={'prompt_tokens': 2348, 'completion_tokens': 1651, 'total_tokens': 3999} | total=6251\n"
     ]
    }
   ],
   "source": [
    "out = await rag_answer_with_company_detection(\n",
    "    pine,\n",
    "    query = \"What is the vision and mission of farm fresh? Elaborate more.\",\n",
    "    top_k = 8\n",
    ")"
   ]
  }
 ],
 "metadata": {
  "kernelspec": {
   "display_name": "myenv",
   "language": "python",
   "name": "python3"
  },
  "language_info": {
   "codemirror_mode": {
    "name": "ipython",
    "version": 3
   },
   "file_extension": ".py",
   "mimetype": "text/x-python",
   "name": "python",
   "nbconvert_exporter": "python",
   "pygments_lexer": "ipython3",
   "version": "3.10.18"
  }
 },
 "nbformat": 4,
 "nbformat_minor": 5
}

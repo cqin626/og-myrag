{
 "cells": [
  {
   "cell_type": "code",
   "execution_count": 1,
   "id": "aa9e781c",
   "metadata": {},
   "outputs": [
    {
     "name": "stderr",
     "output_type": "stream",
     "text": [
      "2025-08-27 11:33:06,142 - retrieval - INFO - \n",
      "================================================================================\n",
      "2025-08-27 11:33:06,152 - retrieval - INFO - Connected to MongoDB database: FYP\n"
     ]
    }
   ],
   "source": [
    "import logging\n",
    "import os\n",
    "import asyncio\n",
    "\n",
    "from ogmyrag.report_retrieval.report_retrieval import ReportRetrievalManager\n",
    "from ogmyrag.report_retrieval.retrieval_storage import RetrievalAsyncStorageManager\n",
    "from ogmyrag.report_scraper.models import ReportType\n",
    "from ogmyrag.my_logging import configure_logger\n",
    "from ogmyrag.storage import PineconeStorage\n",
    "from ogmyrag.report_retrieval.report_chunker import rag_answer_with_company_detection\n",
    "\n",
    "from dotenv import load_dotenv\n",
    "\n",
    "retrieval_logger = configure_logger(name='retrieval',log_level=logging.INFO, log_file='logs/retrieval.log')\n",
    "retrieval_logger.info(\"\\n\" + \"=\" * 80)\n",
    "\n",
    "load_dotenv(override=True)\n",
    "\n",
    "mongo_db_uri = os.getenv(\"MONGO_DB_URI_JJ\",\"\")\n",
    "pinecone_api_key = os.getenv(\"PINECONE_API_KEY_JJ\",\"\")\n",
    "genai_api_key = os.getenv(\"GENAI_API_KEY_JJ\",\"\")\n",
    "openai_api_key = os.getenv(\"OPENAI_API_KEY\", \"\")\n",
    "\n",
    "INDEX_NAME = \"company-disclosures-index\"\n",
    "EMBED_MODEL = \"text-embedding-3-small\"\n",
    "DIMENSION = 1536\n",
    "GENAI_MODEL = \"gemini-2.5-pro\"\n",
    "#GENAI_MODEL = \"gemini-2.5-flash\"\n",
    "OPENAI_MODEL = \"gpt-5-nano\"\n",
    "\n",
    "db_name = \"FYP\"\n",
    "storage = RetrievalAsyncStorageManager(mongo_uri=mongo_db_uri, db_name=db_name)\n",
    "\n",
    "\n",
    "pine = PineconeStorage(\n",
    "    index_name = INDEX_NAME,\n",
    "    pinecone_api_key = pinecone_api_key,\n",
    "    pinecone_environment = \"us-east-1\",\n",
    "    pinecone_cloud = \"aws\",\n",
    "    pinecone_metric = \"cosine\",\n",
    "    pinecone_dimensions = DIMENSION,\n",
    "    openai_api_key = openai_api_key\n",
    ")\n",
    "\n",
    "manager = ReportRetrievalManager(\n",
    "    storage = storage,\n",
    "    pine = pine,\n",
    "    genai_model = GENAI_MODEL,\n",
    "    genai_api_key = genai_api_key,\n",
    "    openai_api_key = openai_api_key,\n",
    "    #dry_run = False\n",
    ")"
   ]
  },
  {
   "cell_type": "markdown",
   "id": "ad800a0c",
   "metadata": {},
   "source": [
    "## Process Financial Reports (PDF)"
   ]
  },
  {
   "cell_type": "code",
   "execution_count": 2,
   "id": "b62a4f89",
   "metadata": {},
   "outputs": [
    {
     "name": "stderr",
     "output_type": "stream",
     "text": [
      "2025-08-27 11:33:13,582 - retrieval - INFO - Already processed and up to date.\n",
      "2025-08-27 11:33:13,583 - retrieval - INFO - Skipping processing, using existing content.\n",
      "2025-08-27 11:33:13,583 - retrieval - INFO - Extracting all the processed content.\n",
      "2025-08-27 11:33:13,749 - retrieval - INFO - Combining all the processed content.\n",
      "2025-08-27 11:33:13,750 - retrieval - INFO - Processed content ready.\n",
      "2025-08-27 11:33:13,755 - retrieval - INFO - Saved processed report to ./processed_report/FARM_FRESH_BERHAD/FARM_FRESH_BERHAD_ANNUAL_2024.md\n"
     ]
    }
   ],
   "source": [
    "await manager.parse_report(\n",
    "    company = \"FARM_FRESH_BERHAD\",\n",
    "    report_type = ReportType.ANNUAL,\n",
    "    year = 2024,\n",
    "    #forced_process = True\n",
    ")"
   ]
  },
  {
   "cell_type": "code",
   "execution_count": 6,
   "id": "073006ac",
   "metadata": {},
   "outputs": [
    {
     "name": "stderr",
     "output_type": "stream",
     "text": [
      "2025-08-26 10:21:32,314 - retrieval - INFO - Already processed and up to date.\n",
      "2025-08-26 10:21:32,316 - retrieval - INFO - Skipping processing, using existing content.\n",
      "2025-08-26 10:21:32,317 - retrieval - INFO - Extracting all the processed content.\n",
      "2025-08-26 10:21:32,470 - retrieval - INFO - Combining all the processed content.\n",
      "2025-08-26 10:21:32,471 - retrieval - INFO - Processed content ready.\n",
      "2025-08-26 10:21:32,473 - retrieval - INFO - Saved processed report to ./processed_report/EDELTEQ_HOLDINGS_BERHAD/EDELTEQ_HOLDINGS_BERHAD_IPO.md\n"
     ]
    }
   ],
   "source": [
    "await manager.parse_report(\n",
    "    company = \"EDELTEQ HOLDINGS BERHAD\",\n",
    "    report_type = ReportType.IPO,\n",
    "    #forced_process = True\n",
    ")"
   ]
  },
  {
   "cell_type": "code",
   "execution_count": 3,
   "id": "9470e200",
   "metadata": {},
   "outputs": [
    {
     "name": "stderr",
     "output_type": "stream",
     "text": [
      "2025-08-26 09:35:51,387 - retrieval - INFO - Already processed and up to date.\n",
      "2025-08-26 09:35:51,388 - retrieval - INFO - Skipping processing, using existing content.\n",
      "2025-08-26 09:35:51,388 - retrieval - INFO - Extracting all the processed content.\n",
      "2025-08-26 09:35:51,533 - retrieval - INFO - Combining all the processed content.\n",
      "2025-08-26 09:35:51,534 - retrieval - INFO - Processed content ready.\n",
      "2025-08-26 09:35:51,538 - retrieval - INFO - Saved processed report to ./processed_report/VETECE_HOLDINGS_BERHAD/VETECE_HOLDINGS_BERHAD_IPO.md\n"
     ]
    }
   ],
   "source": [
    "await manager.parse_report(\n",
    "    company = \"VETECE_HOLDINGS_BERHAD\",\n",
    "    report_type = ReportType.IPO,\n",
    "    #forced_process = True\n",
    ")"
   ]
  },
  {
   "cell_type": "code",
   "execution_count": 4,
   "id": "7a6edeb0",
   "metadata": {},
   "outputs": [
    {
     "name": "stderr",
     "output_type": "stream",
     "text": [
      "2025-08-26 09:35:58,782 - retrieval - INFO - Already processed and up to date.\n",
      "2025-08-26 09:35:58,783 - retrieval - INFO - Skipping processing, using existing content.\n",
      "2025-08-26 09:35:58,784 - retrieval - INFO - Extracting all the processed content.\n",
      "2025-08-26 09:35:58,951 - retrieval - INFO - Combining all the processed content.\n",
      "2025-08-26 09:35:58,951 - retrieval - INFO - Processed content ready.\n",
      "2025-08-26 09:35:58,955 - retrieval - INFO - Saved processed report to ./processed_report/CABNET_HOLDINGS_BERHAD/CABNET_HOLDINGS_BERHAD_IPO.md\n"
     ]
    }
   ],
   "source": [
    "await manager.parse_report(\n",
    "    company = \"CABNET_HOLDINGS_BERHAD\",\n",
    "    report_type = ReportType.IPO,\n",
    "    #forced_process = True\n",
    ")"
   ]
  },
  {
   "cell_type": "code",
   "execution_count": 7,
   "id": "0a2ad320",
   "metadata": {},
   "outputs": [
    {
     "name": "stderr",
     "output_type": "stream",
     "text": [
      "2025-08-26 10:21:36,639 - retrieval - INFO - Already processed and up to date.\n",
      "2025-08-26 10:21:36,640 - retrieval - INFO - Skipping processing, using existing content.\n",
      "2025-08-26 10:21:36,641 - retrieval - INFO - Extracting all the processed content.\n",
      "2025-08-26 10:21:36,791 - retrieval - INFO - Combining all the processed content.\n",
      "2025-08-26 10:21:36,792 - retrieval - INFO - Processed content ready.\n",
      "2025-08-26 10:21:36,794 - retrieval - INFO - Saved processed report to ./processed_report/AUTOCOUNT_DOTCOM_BERHAD/AUTOCOUNT_DOTCOM_BERHAD_IPO.md\n"
     ]
    }
   ],
   "source": [
    "await manager.parse_report(\n",
    "    company = \"AUTOCOUNT_DOTCOM_BERHAD\",\n",
    "    report_type = ReportType.IPO,\n",
    "    #forced_process = True\n",
    ")"
   ]
  },
  {
   "cell_type": "code",
   "execution_count": 8,
   "id": "d40b1d43",
   "metadata": {},
   "outputs": [
    {
     "name": "stderr",
     "output_type": "stream",
     "text": [
      "2025-08-26 10:21:37,748 - retrieval - INFO - Already processed and up to date.\n",
      "2025-08-26 10:21:37,748 - retrieval - INFO - Skipping processing, using existing content.\n",
      "2025-08-26 10:21:37,749 - retrieval - INFO - Extracting all the processed content.\n",
      "2025-08-26 10:21:37,854 - retrieval - INFO - Combining all the processed content.\n",
      "2025-08-26 10:21:37,855 - retrieval - INFO - Processed content ready.\n",
      "2025-08-26 10:21:37,858 - retrieval - INFO - Saved processed report to ./processed_report/ICT_ZONE_ASIA_BERHAD/ICT_ZONE_ASIA_BERHAD_IPO.md\n"
     ]
    }
   ],
   "source": [
    "await manager.parse_report(\n",
    "    company = \"ICT ZONE ASIA BERHAD\",\n",
    "    report_type = ReportType.IPO,\n",
    "    #forced_process = True\n",
    ")"
   ]
  }
 ],
 "metadata": {
  "kernelspec": {
   "display_name": "myenv",
   "language": "python",
   "name": "python3"
  },
  "language_info": {
   "codemirror_mode": {
    "name": "ipython",
    "version": 3
   },
   "file_extension": ".py",
   "mimetype": "text/x-python",
   "name": "python",
   "nbconvert_exporter": "python",
   "pygments_lexer": "ipython3",
   "version": "3.10.18"
  }
 },
 "nbformat": 4,
 "nbformat_minor": 5
}

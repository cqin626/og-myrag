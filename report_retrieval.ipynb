{
 "cells": [
  {
   "cell_type": "code",
   "execution_count": 1,
   "id": "aa9e781c",
   "metadata": {},
   "outputs": [
    {
     "name": "stderr",
     "output_type": "stream",
     "text": [
      "2025-09-10 17:29:07,807 - retrieval - INFO - \n",
      "================================================================================\n",
      "2025-09-10 17:29:07,821 - retrieval - INFO - Connected to MongoDB database: FYP\n"
     ]
    }
   ],
   "source": [
    "import logging\n",
    "import os\n",
    "import asyncio\n",
    "\n",
    "from ogmyrag.report_retrieval.report_retrieval import ReportRetrievalManager\n",
    "from ogmyrag.report_retrieval.retrieval_storage import RetrievalAsyncStorageManager\n",
    "from motor.motor_asyncio import AsyncIOMotorClient\n",
    "from ogmyrag.base import MongoStorageConfig, PineconeStorageConfig\n",
    "from ogmyrag.report_scraper.models import ReportType\n",
    "from ogmyrag.my_logging import configure_logger\n",
    "from ogmyrag.storage import PineconeStorage\n",
    "from ogmyrag.report_retrieval.report_chunker import rag_answer_with_company_detection\n",
    "\n",
    "from dotenv import load_dotenv\n",
    "\n",
    "retrieval_logger = configure_logger(name='retrieval',log_level=logging.INFO, log_file='logs/retrieval.log')\n",
    "retrieval_logger.info(\"\\n\" + \"=\" * 80)\n",
    "\n",
    "load_dotenv(override=True)\n",
    "\n",
    "mongo_db_uri = os.getenv(\"MONGO_DB_URI_JJ\",\"\")\n",
    "pinecone_api_key = os.getenv(\"PINECONE_API_KEY_JJ\",\"\")\n",
    "genai_api_key = os.getenv(\"GENAI_API_KEY_JJ\",\"\")\n",
    "openai_api_key = os.getenv(\"OPENAI_API_KEY\", \"\")\n",
    "\n",
    "INDEX_NAME = \"company-disclosures-index\"\n",
    "EMBED_MODEL = \"text-embedding-3-small\"\n",
    "DIMENSION = 1536\n",
    "GENAI_MODEL = \"gemini-2.5-pro\"\n",
    "#GENAI_MODEL = \"gemini-2.5-flash\"\n",
    "#GENAI_MODEL = \"gemini-2.5-pro-preview-06-05\"\n",
    "OPENAI_MODEL = \"gpt-5-nano\"\n",
    "\n",
    "db_name = \"FYP\"\n",
    "\n",
    "mongo_storage_config: MongoStorageConfig = {\n",
    "    \"database_name\": db_name\n",
    "}\n",
    "\n",
    "mongo_client = AsyncIOMotorClient(\n",
    "    mongo_db_uri,\n",
    "    serverSelectionTimeoutMS=5000\n",
    ")\n",
    "\n",
    "storage = RetrievalAsyncStorageManager(mongo_client, mongo_storage_config)\n",
    "\n",
    "\n",
    "pinecone_config: PineconeStorageConfig = {\n",
    "    \"index_name\": INDEX_NAME,\n",
    "    \"pinecone_api_key\": pinecone_api_key,\n",
    "    \"pinecone_environment\": \"us-east-1\",\n",
    "    \"pinecone_cloud\": \"aws\",\n",
    "    \"pinecone_metric\": \"cosine\",\n",
    "    \"pinecone_dimensions\": DIMENSION,\n",
    "    \"openai_api_key\": openai_api_key,\n",
    "}\n",
    "\n",
    "pine = PineconeStorage(\n",
    "    pinecone_api_key = pinecone_api_key,\n",
    "    openai_api_key = openai_api_key\n",
    ")\n",
    "\n",
    "pine.create_index_if_not_exists(\n",
    "    index_name = pinecone_config[\"index_name\"],\n",
    "    dimension = pinecone_config[\"pinecone_dimensions\"],\n",
    "    metric = pinecone_config[\"pinecone_metric\"],\n",
    "    cloud = pinecone_config[\"pinecone_cloud\"],\n",
    "    region = pinecone_config[\"pinecone_environment\"],\n",
    ")\n",
    "\n",
    "manager = ReportRetrievalManager(\n",
    "    storage = storage,\n",
    "    pine = pine,\n",
    "    pinecone_config = pinecone_config,\n",
    "    genai_model = GENAI_MODEL,\n",
    "    genai_api_key = genai_api_key,\n",
    "    openai_api_key = openai_api_key,\n",
    "    #dry_run = False\n",
    ")"
   ]
  },
  {
   "cell_type": "markdown",
   "id": "ad800a0c",
   "metadata": {},
   "source": [
    "# Process Financial Reports (PDF)"
   ]
  },
  {
   "cell_type": "code",
   "execution_count": null,
   "id": "8a7d78ee",
   "metadata": {},
   "outputs": [],
   "source": [
    "companies = [\n",
    "    \"EDELTEQ_HOLDINGS_BERHAD\",\n",
    "    \"AUTOCOUNT_DOTCOM_BERHAD\",\n",
    "    \"ICT_ZONE_ASIA_BERHAD\",\n",
    "    \"CABNET_HOLDINGS_BERHAD\",\n",
    "    \"VETECE_HOLDINGS_BERHAD\",\n",
    "\n",
    "    \"SFP_TECH_HOLDINGS_BERHAD\",\n",
    "    \"TT_VISION_HOLDINGS_BERHAD\",\n",
    "    \"RAMSSOL_GROUP_BERHAD\",\n",
    "    \"I-STONE_GROUP_BERHAD\", # same as AIMFLEX BERHAD\n",
    "    \"ECA_INTEGRATED_SOLUTION_BERHAD\"\n",
    "]"
   ]
  },
  {
   "cell_type": "markdown",
   "id": "d6217646",
   "metadata": {},
   "source": [
    "# SFP TECH HOLDINGS BERHAD\n",
    "- IPO\n",
    "- ANNUAL 2024\n",
    "- ANNUAL 2023\n",
    "- ANNUAL 2022"
   ]
  },
  {
   "cell_type": "code",
   "execution_count": 9,
   "id": "51ab511b",
   "metadata": {},
   "outputs": [
    {
     "name": "stderr",
     "output_type": "stream",
     "text": [
      "2025-09-08 22:48:14,335 - retrieval - INFO - Already processed and up to date.\n",
      "2025-09-08 22:48:14,336 - retrieval - INFO - Skipping processing, using existing content.\n",
      "2025-09-08 22:48:14,336 - retrieval - INFO - Extracting all the processed content.\n",
      "2025-09-08 22:48:14,465 - retrieval - INFO - Combining all the processed content.\n",
      "2025-09-08 22:48:14,466 - retrieval - INFO - Processed content ready.\n",
      "2025-09-08 22:48:14,499 - retrieval - INFO - Saved processed report to ./processed_report/SFP_TECH_HOLDINGS_BERHAD/SFP_TECH_HOLDINGS_BERHAD_IPO.md\n"
     ]
    }
   ],
   "source": [
    "await manager.parse_report(\n",
    "    company = \"SFP_TECH_HOLDINGS_BERHAD\",\n",
    "    report_type = ReportType.IPO,\n",
    "    #forced_process = True\n",
    ")"
   ]
  },
  {
   "cell_type": "code",
   "execution_count": 27,
   "id": "a4cd18ad",
   "metadata": {},
   "outputs": [
    {
     "name": "stderr",
     "output_type": "stream",
     "text": [
      "2025-09-09 07:34:58,398 - retrieval - INFO - Already processed and up to date.\n",
      "2025-09-09 07:34:58,398 - retrieval - INFO - Skipping processing, using existing content.\n",
      "2025-09-09 07:34:58,398 - retrieval - INFO - Extracting all the processed content.\n",
      "2025-09-09 07:34:58,509 - retrieval - INFO - Combining all the processed content.\n",
      "2025-09-09 07:34:58,510 - retrieval - INFO - Processed content ready.\n",
      "2025-09-09 07:34:58,533 - retrieval - INFO - Saved processed report to ./processed_report/SFP_TECH_HOLDINGS_BERHAD/SFP_TECH_HOLDINGS_BERHAD_ANNUAL_2024.md\n"
     ]
    }
   ],
   "source": [
    "await manager.parse_report(\n",
    "    company = \"SFP_TECH_HOLDINGS_BERHAD\",\n",
    "    report_type = ReportType.ANNUAL,\n",
    "    year = 2024,\n",
    "    #forced_process = True\n",
    ")"
   ]
  },
  {
   "cell_type": "code",
   "execution_count": 26,
   "id": "100c3d62",
   "metadata": {},
   "outputs": [
    {
     "name": "stderr",
     "output_type": "stream",
     "text": [
      "2025-09-09 07:34:56,330 - retrieval - INFO - Already processed and up to date.\n",
      "2025-09-09 07:34:56,331 - retrieval - INFO - Skipping processing, using existing content.\n",
      "2025-09-09 07:34:56,331 - retrieval - INFO - Extracting all the processed content.\n",
      "2025-09-09 07:34:56,444 - retrieval - INFO - Combining all the processed content.\n",
      "2025-09-09 07:34:56,444 - retrieval - INFO - Processed content ready.\n",
      "2025-09-09 07:34:56,469 - retrieval - INFO - Saved processed report to ./processed_report/SFP_TECH_HOLDINGS_BERHAD/SFP_TECH_HOLDINGS_BERHAD_ANNUAL_2023.md\n"
     ]
    }
   ],
   "source": [
    "await manager.parse_report(\n",
    "    company = \"SFP_TECH_HOLDINGS_BERHAD\",\n",
    "    report_type = ReportType.ANNUAL,\n",
    "    year = 2023,\n",
    "    #forced_process = True\n",
    ")"
   ]
  },
  {
   "cell_type": "code",
   "execution_count": 25,
   "id": "d905f5f5",
   "metadata": {},
   "outputs": [
    {
     "name": "stderr",
     "output_type": "stream",
     "text": [
      "2025-09-09 07:34:54,686 - retrieval - INFO - Already processed and up to date.\n",
      "2025-09-09 07:34:54,686 - retrieval - INFO - Skipping processing, using existing content.\n",
      "2025-09-09 07:34:54,687 - retrieval - INFO - Extracting all the processed content.\n",
      "2025-09-09 07:34:54,801 - retrieval - INFO - Combining all the processed content.\n",
      "2025-09-09 07:34:54,801 - retrieval - INFO - Processed content ready.\n",
      "2025-09-09 07:34:54,827 - retrieval - INFO - Saved processed report to ./processed_report/SFP_TECH_HOLDINGS_BERHAD/SFP_TECH_HOLDINGS_BERHAD_ANNUAL_2022.md\n"
     ]
    }
   ],
   "source": [
    "await manager.parse_report(\n",
    "    company = \"SFP_TECH_HOLDINGS_BERHAD\",\n",
    "    report_type = ReportType.ANNUAL,\n",
    "    year = 2022,\n",
    "    #forced_process = True\n",
    ")"
   ]
  },
  {
   "cell_type": "markdown",
   "id": "dd7e5cc7",
   "metadata": {},
   "source": [
    "# TT VISION HOLDINGS BERHAD\n",
    "- IPO\n",
    "- ANNUAL 2024\n",
    "- ANNUAL 2023\n",
    "- ANNUAL 2022"
   ]
  },
  {
   "cell_type": "code",
   "execution_count": null,
   "id": "62094c4e",
   "metadata": {},
   "outputs": [
    {
     "name": "stderr",
     "output_type": "stream",
     "text": [
      "2025-09-08 22:48:12,462 - retrieval - INFO - Already processed and up to date.\n",
      "2025-09-08 22:48:12,463 - retrieval - INFO - Skipping processing, using existing content.\n",
      "2025-09-08 22:48:12,463 - retrieval - INFO - Extracting all the processed content.\n",
      "2025-09-08 22:48:12,584 - retrieval - INFO - Combining all the processed content.\n",
      "2025-09-08 22:48:12,584 - retrieval - INFO - Processed content ready.\n",
      "2025-09-08 22:48:12,607 - retrieval - INFO - Saved processed report to ./processed_report/TT_VISION_HOLDINGS_BERHAD/TT_VISION_HOLDINGS_BERHAD_IPO.md\n"
     ]
    }
   ],
   "source": [
    "await manager.parse_report(\n",
    "    company = \"TT_VISION_HOLDINGS_BERHAD\",\n",
    "    report_type = ReportType.IPO,\n",
    "    #forced_process = True\n",
    ")"
   ]
  },
  {
   "cell_type": "code",
   "execution_count": 24,
   "id": "14b4ecc7",
   "metadata": {},
   "outputs": [
    {
     "name": "stderr",
     "output_type": "stream",
     "text": [
      "2025-09-09 07:34:51,918 - retrieval - INFO - Already processed and up to date.\n",
      "2025-09-09 07:34:51,918 - retrieval - INFO - Skipping processing, using existing content.\n",
      "2025-09-09 07:34:51,919 - retrieval - INFO - Extracting all the processed content.\n",
      "2025-09-09 07:34:52,033 - retrieval - INFO - Combining all the processed content.\n",
      "2025-09-09 07:34:52,034 - retrieval - INFO - Processed content ready.\n",
      "2025-09-09 07:34:52,058 - retrieval - INFO - Saved processed report to ./processed_report/TT_VISION_HOLDINGS_BERHAD/TT_VISION_HOLDINGS_BERHAD_ANNUAL_2024.md\n"
     ]
    }
   ],
   "source": [
    "await manager.parse_report(\n",
    "    company = \"TT_VISION_HOLDINGS_BERHAD\",\n",
    "    report_type = ReportType.ANNUAL,\n",
    "    year = 2024,\n",
    "    #forced_process = True\n",
    ")"
   ]
  },
  {
   "cell_type": "code",
   "execution_count": 23,
   "id": "827e56a8",
   "metadata": {},
   "outputs": [
    {
     "name": "stderr",
     "output_type": "stream",
     "text": [
      "2025-09-09 07:34:49,195 - retrieval - INFO - Already processed and up to date.\n",
      "2025-09-09 07:34:49,196 - retrieval - INFO - Skipping processing, using existing content.\n",
      "2025-09-09 07:34:49,196 - retrieval - INFO - Extracting all the processed content.\n",
      "2025-09-09 07:34:49,314 - retrieval - INFO - Combining all the processed content.\n",
      "2025-09-09 07:34:49,314 - retrieval - INFO - Processed content ready.\n",
      "2025-09-09 07:34:49,342 - retrieval - INFO - Saved processed report to ./processed_report/TT_VISION_HOLDINGS_BERHAD/TT_VISION_HOLDINGS_BERHAD_ANNUAL_2023.md\n"
     ]
    }
   ],
   "source": [
    "await manager.parse_report(\n",
    "    company = \"TT_VISION_HOLDINGS_BERHAD\",\n",
    "    report_type = ReportType.ANNUAL,\n",
    "    year = 2023,\n",
    "    #forced_process = True\n",
    ")"
   ]
  },
  {
   "cell_type": "code",
   "execution_count": 22,
   "id": "4cdde768",
   "metadata": {},
   "outputs": [
    {
     "name": "stderr",
     "output_type": "stream",
     "text": [
      "2025-09-09 07:34:46,286 - retrieval - INFO - Already processed and up to date.\n",
      "2025-09-09 07:34:46,287 - retrieval - INFO - Skipping processing, using existing content.\n",
      "2025-09-09 07:34:46,287 - retrieval - INFO - Extracting all the processed content.\n",
      "2025-09-09 07:34:46,400 - retrieval - INFO - Combining all the processed content.\n",
      "2025-09-09 07:34:46,400 - retrieval - INFO - Processed content ready.\n",
      "2025-09-09 07:34:46,424 - retrieval - INFO - Saved processed report to ./processed_report/TT_VISION_HOLDINGS_BERHAD/TT_VISION_HOLDINGS_BERHAD_ANNUAL_2022.md\n"
     ]
    }
   ],
   "source": [
    "await manager.parse_report(\n",
    "    company = \"TT_VISION_HOLDINGS_BERHAD\",\n",
    "    report_type = ReportType.ANNUAL,\n",
    "    year = 2022,\n",
    "    #forced_process = True\n",
    ")"
   ]
  },
  {
   "cell_type": "markdown",
   "id": "a8c0ace9",
   "metadata": {},
   "source": [
    "# RAMSSOL GROUP BERHAD\n",
    "- IPO\n",
    "- ANNUAL 2024\n",
    "- ANNUAL 2023\n",
    "- ANNUAL 2022\n",
    "- ANNUAL 2021"
   ]
  },
  {
   "cell_type": "code",
   "execution_count": 7,
   "id": "be742510",
   "metadata": {},
   "outputs": [
    {
     "name": "stderr",
     "output_type": "stream",
     "text": [
      "2025-09-08 22:48:10,277 - retrieval - INFO - Already processed and up to date.\n",
      "2025-09-08 22:48:10,277 - retrieval - INFO - Skipping processing, using existing content.\n",
      "2025-09-08 22:48:10,278 - retrieval - INFO - Extracting all the processed content.\n",
      "2025-09-08 22:48:10,407 - retrieval - INFO - Combining all the processed content.\n",
      "2025-09-08 22:48:10,408 - retrieval - INFO - Processed content ready.\n",
      "2025-09-08 22:48:10,429 - retrieval - INFO - Saved processed report to ./processed_report/RAMSSOL_GROUP_BERHAD/RAMSSOL_GROUP_BERHAD_IPO.md\n"
     ]
    }
   ],
   "source": [
    "await manager.parse_report(\n",
    "    company = \"RAMSSOL_GROUP_BERHAD\",\n",
    "    report_type = ReportType.IPO,\n",
    "    #forced_process = True\n",
    ")"
   ]
  },
  {
   "cell_type": "code",
   "execution_count": 21,
   "id": "efd5e4f7",
   "metadata": {},
   "outputs": [
    {
     "name": "stderr",
     "output_type": "stream",
     "text": [
      "2025-09-09 07:34:43,462 - retrieval - INFO - Already processed and up to date.\n",
      "2025-09-09 07:34:43,462 - retrieval - INFO - Skipping processing, using existing content.\n",
      "2025-09-09 07:34:43,463 - retrieval - INFO - Extracting all the processed content.\n",
      "2025-09-09 07:34:43,587 - retrieval - INFO - Combining all the processed content.\n",
      "2025-09-09 07:34:43,588 - retrieval - INFO - Processed content ready.\n",
      "2025-09-09 07:34:43,612 - retrieval - INFO - Saved processed report to ./processed_report/RAMSSOL_GROUP_BERHAD/RAMSSOL_GROUP_BERHAD_ANNUAL_2024.md\n"
     ]
    }
   ],
   "source": [
    "await manager.parse_report(\n",
    "    company = \"RAMSSOL_GROUP_BERHAD\",\n",
    "    report_type = ReportType.ANNUAL,\n",
    "    year = 2024,\n",
    "    #forced_process = True\n",
    ")"
   ]
  },
  {
   "cell_type": "code",
   "execution_count": 20,
   "id": "b43f405a",
   "metadata": {},
   "outputs": [
    {
     "name": "stderr",
     "output_type": "stream",
     "text": [
      "2025-09-09 07:34:41,618 - retrieval - INFO - Already processed and up to date.\n",
      "2025-09-09 07:34:41,619 - retrieval - INFO - Skipping processing, using existing content.\n",
      "2025-09-09 07:34:41,619 - retrieval - INFO - Extracting all the processed content.\n",
      "2025-09-09 07:34:41,757 - retrieval - INFO - Combining all the processed content.\n",
      "2025-09-09 07:34:41,757 - retrieval - INFO - Processed content ready.\n",
      "2025-09-09 07:34:41,784 - retrieval - INFO - Saved processed report to ./processed_report/RAMSSOL_GROUP_BERHAD/RAMSSOL_GROUP_BERHAD_ANNUAL_2023.md\n"
     ]
    }
   ],
   "source": [
    "await manager.parse_report(\n",
    "    company = \"RAMSSOL_GROUP_BERHAD\",\n",
    "    report_type = ReportType.ANNUAL,\n",
    "    year = 2023,\n",
    "    #forced_process = True\n",
    ")"
   ]
  },
  {
   "cell_type": "code",
   "execution_count": 19,
   "id": "f54c97d8",
   "metadata": {},
   "outputs": [
    {
     "name": "stderr",
     "output_type": "stream",
     "text": [
      "2025-09-09 07:34:38,546 - retrieval - INFO - Already processed and up to date.\n",
      "2025-09-09 07:34:38,547 - retrieval - INFO - Skipping processing, using existing content.\n",
      "2025-09-09 07:34:38,547 - retrieval - INFO - Extracting all the processed content.\n",
      "2025-09-09 07:34:38,665 - retrieval - INFO - Combining all the processed content.\n",
      "2025-09-09 07:34:38,665 - retrieval - INFO - Processed content ready.\n",
      "2025-09-09 07:34:38,689 - retrieval - INFO - Saved processed report to ./processed_report/RAMSSOL_GROUP_BERHAD/RAMSSOL_GROUP_BERHAD_ANNUAL_2022.md\n"
     ]
    }
   ],
   "source": [
    "await manager.parse_report(\n",
    "    company = \"RAMSSOL_GROUP_BERHAD\",\n",
    "    report_type = ReportType.ANNUAL,\n",
    "    year = 2022,\n",
    "    #forced_process = True\n",
    ")"
   ]
  },
  {
   "cell_type": "code",
   "execution_count": 18,
   "id": "1a61f4b4",
   "metadata": {},
   "outputs": [
    {
     "name": "stderr",
     "output_type": "stream",
     "text": [
      "2025-09-09 07:34:31,675 - retrieval - INFO - Already processed and up to date.\n",
      "2025-09-09 07:34:31,676 - retrieval - INFO - Skipping processing, using existing content.\n",
      "2025-09-09 07:34:31,677 - retrieval - INFO - Extracting all the processed content.\n",
      "2025-09-09 07:34:31,787 - retrieval - INFO - Combining all the processed content.\n",
      "2025-09-09 07:34:31,788 - retrieval - INFO - Processed content ready.\n",
      "2025-09-09 07:34:31,812 - retrieval - INFO - Saved processed report to ./processed_report/RAMSSOL_GROUP_BERHAD/RAMSSOL_GROUP_BERHAD_ANNUAL_2021.md\n"
     ]
    }
   ],
   "source": [
    "await manager.parse_report(\n",
    "    company = \"RAMSSOL_GROUP_BERHAD\",\n",
    "    report_type = ReportType.ANNUAL,\n",
    "    year = 2021,\n",
    "    #forced_process = True\n",
    ")"
   ]
  },
  {
   "cell_type": "markdown",
   "id": "a27fe2ff",
   "metadata": {},
   "source": [
    "# ECA INTEGRATED SOLUTION BERHAD\n",
    "- IPO\n",
    "- ANNUAL 2024\n",
    "- ANNUAL 2023\n",
    "- ANNUAL 2022"
   ]
  },
  {
   "cell_type": "code",
   "execution_count": 6,
   "id": "d27a0000",
   "metadata": {},
   "outputs": [
    {
     "name": "stderr",
     "output_type": "stream",
     "text": [
      "2025-09-08 22:48:07,281 - retrieval - INFO - Already processed and up to date.\n",
      "2025-09-08 22:48:07,282 - retrieval - INFO - Skipping processing, using existing content.\n",
      "2025-09-08 22:48:07,284 - retrieval - INFO - Extracting all the processed content.\n",
      "2025-09-08 22:48:07,411 - retrieval - INFO - Combining all the processed content.\n",
      "2025-09-08 22:48:07,411 - retrieval - INFO - Processed content ready.\n",
      "2025-09-08 22:48:07,433 - retrieval - INFO - Saved processed report to ./processed_report/ECA_INTEGRATED_SOLUTION_BERHAD/ECA_INTEGRATED_SOLUTION_BERHAD_IPO.md\n"
     ]
    }
   ],
   "source": [
    "await manager.parse_report(\n",
    "    company = \"ECA_INTEGRATED_SOLUTION_BERHAD\",\n",
    "    report_type = ReportType.IPO,\n",
    "    #forced_process = True\n",
    ")"
   ]
  },
  {
   "cell_type": "code",
   "execution_count": 17,
   "id": "98f96cc3",
   "metadata": {},
   "outputs": [
    {
     "name": "stderr",
     "output_type": "stream",
     "text": [
      "2025-09-09 07:34:21,868 - retrieval - INFO - Already processed and up to date.\n",
      "2025-09-09 07:34:21,869 - retrieval - INFO - Skipping processing, using existing content.\n",
      "2025-09-09 07:34:21,869 - retrieval - INFO - Extracting all the processed content.\n",
      "2025-09-09 07:34:21,985 - retrieval - INFO - Combining all the processed content.\n",
      "2025-09-09 07:34:21,985 - retrieval - INFO - Processed content ready.\n",
      "2025-09-09 07:34:22,010 - retrieval - INFO - Saved processed report to ./processed_report/ECA_INTEGRATED_SOLUTION_BERHAD/ECA_INTEGRATED_SOLUTION_BERHAD_ANNUAL_2024.md\n"
     ]
    }
   ],
   "source": [
    "await manager.parse_report(\n",
    "    company = \"ECA_INTEGRATED_SOLUTION_BERHAD\",\n",
    "    report_type = ReportType.ANNUAL,\n",
    "    year = 2024,\n",
    "    #forced_process = True\n",
    ")"
   ]
  },
  {
   "cell_type": "code",
   "execution_count": 16,
   "id": "24ddbfcc",
   "metadata": {},
   "outputs": [
    {
     "name": "stderr",
     "output_type": "stream",
     "text": [
      "2025-09-09 07:34:10,055 - retrieval - INFO - Already processed and up to date.\n",
      "2025-09-09 07:34:10,056 - retrieval - INFO - Skipping processing, using existing content.\n",
      "2025-09-09 07:34:10,057 - retrieval - INFO - Extracting all the processed content.\n",
      "2025-09-09 07:34:10,171 - retrieval - INFO - Combining all the processed content.\n",
      "2025-09-09 07:34:10,172 - retrieval - INFO - Processed content ready.\n",
      "2025-09-09 07:34:10,197 - retrieval - INFO - Saved processed report to ./processed_report/ECA_INTEGRATED_SOLUTION_BERHAD/ECA_INTEGRATED_SOLUTION_BERHAD_ANNUAL_2023.md\n"
     ]
    }
   ],
   "source": [
    "await manager.parse_report(\n",
    "    company = \"ECA_INTEGRATED_SOLUTION_BERHAD\",\n",
    "    report_type = ReportType.ANNUAL,\n",
    "    year = 2023,\n",
    "    #forced_process = True\n",
    ")"
   ]
  },
  {
   "cell_type": "code",
   "execution_count": 15,
   "id": "8314dd95",
   "metadata": {},
   "outputs": [
    {
     "name": "stderr",
     "output_type": "stream",
     "text": [
      "2025-09-09 07:33:55,045 - retrieval - INFO - Already processed and up to date.\n",
      "2025-09-09 07:33:55,047 - retrieval - INFO - Skipping processing, using existing content.\n",
      "2025-09-09 07:33:55,047 - retrieval - INFO - Extracting all the processed content.\n",
      "2025-09-09 07:33:55,183 - retrieval - INFO - Combining all the processed content.\n",
      "2025-09-09 07:33:55,183 - retrieval - INFO - Processed content ready.\n",
      "2025-09-09 07:33:55,220 - retrieval - INFO - Saved processed report to ./processed_report/ECA_INTEGRATED_SOLUTION_BERHAD/ECA_INTEGRATED_SOLUTION_BERHAD_ANNUAL_2022.md\n"
     ]
    }
   ],
   "source": [
    "await manager.parse_report(\n",
    "    company = \"ECA_INTEGRATED_SOLUTION_BERHAD\",\n",
    "    report_type = ReportType.ANNUAL,\n",
    "    year = 2022,\n",
    "    #forced_process = True\n",
    ")"
   ]
  },
  {
   "cell_type": "markdown",
   "id": "d4d0649f",
   "metadata": {},
   "source": [
    "# AUTOCOUNT DOTCOM BERHAD\n",
    "- IPO\n",
    "- ANNUAL 2024\n",
    "- ANNUAL 2023"
   ]
  },
  {
   "cell_type": "code",
   "execution_count": 2,
   "id": "0a2ad320",
   "metadata": {},
   "outputs": [
    {
     "name": "stderr",
     "output_type": "stream",
     "text": [
      "2025-09-10 17:29:24,537 - retrieval - INFO - Already processed and up to date.\n",
      "2025-09-10 17:29:24,539 - retrieval - INFO - Skipping processing, using existing content.\n",
      "2025-09-10 17:29:24,540 - retrieval - INFO - Extracting all the processed content.\n",
      "2025-09-10 17:29:25,279 - retrieval - INFO - Combining all the processed content.\n",
      "2025-09-10 17:29:25,280 - retrieval - INFO - Processed content ready.\n",
      "2025-09-10 17:29:25,350 - retrieval - INFO - Saved processed report to ./processed_report/AUTOCOUNT_DOTCOM_BERHAD/AUTOCOUNT_DOTCOM_BERHAD_IPO.md\n"
     ]
    }
   ],
   "source": [
    "await manager.parse_report(\n",
    "    company = \"AUTOCOUNT_DOTCOM_BERHAD\",\n",
    "    report_type = ReportType.IPO,\n",
    "    #forced_process = True\n",
    ")"
   ]
  },
  {
   "cell_type": "code",
   "execution_count": 3,
   "id": "e9208fd9",
   "metadata": {},
   "outputs": [
    {
     "name": "stderr",
     "output_type": "stream",
     "text": [
      "2025-09-10 17:29:27,532 - retrieval - INFO - Already processed and up to date.\n",
      "2025-09-10 17:29:27,534 - retrieval - INFO - Skipping processing, using existing content.\n",
      "2025-09-10 17:29:27,536 - retrieval - INFO - Extracting all the processed content.\n",
      "2025-09-10 17:29:27,854 - retrieval - INFO - Combining all the processed content.\n",
      "2025-09-10 17:29:27,855 - retrieval - INFO - Processed content ready.\n",
      "2025-09-10 17:29:27,921 - retrieval - INFO - Saved processed report to ./processed_report/AUTOCOUNT_DOTCOM_BERHAD/AUTOCOUNT_DOTCOM_BERHAD_ANNUAL_2024.md\n"
     ]
    }
   ],
   "source": [
    "await manager.parse_report(\n",
    "    company = \"AUTOCOUNT_DOTCOM_BERHAD\",\n",
    "    report_type = ReportType.ANNUAL,\n",
    "    year = 2024,\n",
    "    #forced_process = True\n",
    ")"
   ]
  },
  {
   "cell_type": "code",
   "execution_count": 4,
   "id": "b353a29c",
   "metadata": {},
   "outputs": [
    {
     "name": "stderr",
     "output_type": "stream",
     "text": [
      "2025-09-10 17:29:29,407 - retrieval - INFO - Already processed and up to date.\n",
      "2025-09-10 17:29:29,407 - retrieval - INFO - Skipping processing, using existing content.\n",
      "2025-09-10 17:29:29,408 - retrieval - INFO - Extracting all the processed content.\n",
      "2025-09-10 17:29:29,748 - retrieval - INFO - Combining all the processed content.\n",
      "2025-09-10 17:29:29,748 - retrieval - INFO - Processed content ready.\n",
      "2025-09-10 17:29:29,803 - retrieval - INFO - Saved processed report to ./processed_report/AUTOCOUNT_DOTCOM_BERHAD/AUTOCOUNT_DOTCOM_BERHAD_ANNUAL_2023.md\n"
     ]
    }
   ],
   "source": [
    "await manager.parse_report(\n",
    "    company = \"AUTOCOUNT_DOTCOM_BERHAD\",\n",
    "    report_type = ReportType.ANNUAL,\n",
    "    year = 2023,\n",
    "    #forced_process = True\n",
    ")"
   ]
  },
  {
   "cell_type": "markdown",
   "id": "da8eb355",
   "metadata": {},
   "source": [
    "# EDELTEQ HOLDINGS BERHAD\n",
    "- IPO\n",
    "- ANNUAL 2024\n",
    "- ANNUAL 2023"
   ]
  },
  {
   "cell_type": "code",
   "execution_count": 5,
   "id": "073006ac",
   "metadata": {},
   "outputs": [
    {
     "name": "stderr",
     "output_type": "stream",
     "text": [
      "2025-09-07 22:12:09,117 - retrieval - INFO - Already processed and up to date.\n",
      "2025-09-07 22:12:09,117 - retrieval - INFO - Skipping processing, using existing content.\n",
      "2025-09-07 22:12:09,118 - retrieval - INFO - Extracting all the processed content.\n",
      "2025-09-07 22:12:09,259 - retrieval - INFO - Combining all the processed content.\n",
      "2025-09-07 22:12:09,259 - retrieval - INFO - Processed content ready.\n",
      "2025-09-07 22:12:09,282 - retrieval - INFO - Saved processed report to ./processed_report/EDELTEQ_HOLDINGS_BERHAD/EDELTEQ_HOLDINGS_BERHAD_IPO.md\n"
     ]
    }
   ],
   "source": [
    "await manager.parse_report(\n",
    "    company = \"EDELTEQ HOLDINGS BERHAD\",\n",
    "    report_type = ReportType.IPO,\n",
    "    #forced_process = True\n",
    ")"
   ]
  },
  {
   "cell_type": "code",
   "execution_count": 6,
   "id": "2f4bd85a",
   "metadata": {},
   "outputs": [
    {
     "name": "stderr",
     "output_type": "stream",
     "text": [
      "2025-09-07 22:12:11,139 - retrieval - INFO - Already processed and up to date.\n",
      "2025-09-07 22:12:11,139 - retrieval - INFO - Skipping processing, using existing content.\n",
      "2025-09-07 22:12:11,140 - retrieval - INFO - Extracting all the processed content.\n",
      "2025-09-07 22:12:11,257 - retrieval - INFO - Combining all the processed content.\n",
      "2025-09-07 22:12:11,257 - retrieval - INFO - Processed content ready.\n",
      "2025-09-07 22:12:11,282 - retrieval - INFO - Saved processed report to ./processed_report/EDELTEQ_HOLDINGS_BERHAD/EDELTEQ_HOLDINGS_BERHAD_ANNUAL_2024.md\n"
     ]
    }
   ],
   "source": [
    "await manager.parse_report(\n",
    "    company = \"EDELTEQ HOLDINGS BERHAD\",\n",
    "    report_type = ReportType.ANNUAL,\n",
    "    year = 2024,\n",
    "    #forced_process = True\n",
    ")"
   ]
  },
  {
   "cell_type": "code",
   "execution_count": 20,
   "id": "ce7b8554",
   "metadata": {},
   "outputs": [
    {
     "name": "stderr",
     "output_type": "stream",
     "text": [
      "2025-09-08 03:51:03,349 - retrieval - INFO - Already processed and up to date.\n",
      "2025-09-08 03:51:03,350 - retrieval - INFO - Skipping processing, using existing content.\n",
      "2025-09-08 03:51:03,350 - retrieval - INFO - Extracting all the processed content.\n",
      "2025-09-08 03:51:03,529 - retrieval - INFO - Combining all the processed content.\n",
      "2025-09-08 03:51:03,529 - retrieval - INFO - Processed content ready.\n",
      "2025-09-08 03:51:03,553 - retrieval - INFO - Saved processed report to ./processed_report/EDELTEQ_HOLDINGS_BERHAD/EDELTEQ_HOLDINGS_BERHAD_ANNUAL_2023.md\n"
     ]
    }
   ],
   "source": [
    "await manager.parse_report(\n",
    "    company = \"EDELTEQ HOLDINGS BERHAD\",\n",
    "    report_type = ReportType.ANNUAL,\n",
    "    year = 2023,\n",
    "    #forced_process = True\n",
    ")"
   ]
  },
  {
   "cell_type": "markdown",
   "id": "e3fcc25c",
   "metadata": {},
   "source": [
    "# VETECE HOLDINGS BERHAD\n",
    "- IPO\n",
    "- ANNUAL 2024"
   ]
  },
  {
   "cell_type": "code",
   "execution_count": 19,
   "id": "9470e200",
   "metadata": {},
   "outputs": [
    {
     "name": "stderr",
     "output_type": "stream",
     "text": [
      "2025-09-08 03:50:23,624 - retrieval - INFO - Already processed and up to date.\n",
      "2025-09-08 03:50:23,625 - retrieval - INFO - Skipping processing, using existing content.\n",
      "2025-09-08 03:50:23,625 - retrieval - INFO - Extracting all the processed content.\n",
      "2025-09-08 03:50:23,734 - retrieval - INFO - Combining all the processed content.\n",
      "2025-09-08 03:50:23,734 - retrieval - INFO - Processed content ready.\n",
      "2025-09-08 03:50:23,756 - retrieval - INFO - Saved processed report to ./processed_report/VETECE_HOLDINGS_BERHAD/VETECE_HOLDINGS_BERHAD_IPO.md\n"
     ]
    }
   ],
   "source": [
    "await manager.parse_report(\n",
    "    company = \"VETECE_HOLDINGS_BERHAD\",\n",
    "    report_type = ReportType.IPO,\n",
    "    #forced_process = True\n",
    ")"
   ]
  },
  {
   "cell_type": "code",
   "execution_count": 3,
   "id": "8da5552e",
   "metadata": {},
   "outputs": [
    {
     "name": "stderr",
     "output_type": "stream",
     "text": [
      "2025-09-08 04:11:51,671 - retrieval - INFO - Already processed and up to date.\n",
      "2025-09-08 04:11:51,674 - retrieval - INFO - Skipping processing, using existing content.\n",
      "2025-09-08 04:11:51,674 - retrieval - INFO - Extracting all the processed content.\n",
      "2025-09-08 04:11:52,217 - retrieval - INFO - Combining all the processed content.\n",
      "2025-09-08 04:11:52,218 - retrieval - INFO - Processed content ready.\n",
      "2025-09-08 04:11:52,295 - retrieval - INFO - Saved processed report to ./processed_report/VETECE_HOLDINGS_BERHAD/VETECE_HOLDINGS_BERHAD_ANNUAL_2024.md\n"
     ]
    }
   ],
   "source": [
    "await manager.parse_report(\n",
    "    company = \"VETECE_HOLDINGS_BERHAD\",\n",
    "    report_type = ReportType.ANNUAL,\n",
    "    year = 2024,\n",
    "    #forced_process = True\n",
    ")"
   ]
  },
  {
   "cell_type": "markdown",
   "id": "198e263e",
   "metadata": {},
   "source": [
    "# CABNET HOLDINGS BERHAD\n",
    "- IPO\n",
    "- ANNUAL 2025\n",
    "- ANNUAL 2024\n",
    "- ANNUAL 2023\n",
    "- ANNUAL 2021\n",
    "- ANNUAL 2020\n",
    "- ANNUAL 2019\n",
    "- ANNUAL 2018\n",
    "- ANNUAL 2017\n"
   ]
  },
  {
   "cell_type": "code",
   "execution_count": 10,
   "id": "7a6edeb0",
   "metadata": {},
   "outputs": [
    {
     "name": "stderr",
     "output_type": "stream",
     "text": [
      "2025-09-07 22:17:56,691 - retrieval - INFO - Already processed and up to date.\n",
      "2025-09-07 22:17:56,691 - retrieval - INFO - Skipping processing, using existing content.\n",
      "2025-09-07 22:17:56,692 - retrieval - INFO - Extracting all the processed content.\n",
      "2025-09-07 22:17:56,738 - retrieval - INFO - Combining all the processed content.\n",
      "2025-09-07 22:17:56,739 - retrieval - INFO - Processed content ready.\n",
      "2025-09-07 22:17:56,761 - retrieval - INFO - Saved processed report to ./processed_report/CABNET_HOLDINGS_BERHAD/CABNET_HOLDINGS_BERHAD_IPO.md\n"
     ]
    }
   ],
   "source": [
    "await manager.parse_report(\n",
    "    company = \"CABNET_HOLDINGS_BERHAD\",\n",
    "    report_type = ReportType.IPO,\n",
    "    #forced_process = True\n",
    ")"
   ]
  },
  {
   "cell_type": "code",
   "execution_count": 17,
   "id": "af6d069a",
   "metadata": {},
   "outputs": [
    {
     "name": "stderr",
     "output_type": "stream",
     "text": [
      "2025-09-08 03:49:54,795 - retrieval - INFO - Already processed and up to date.\n",
      "2025-09-08 03:49:54,796 - retrieval - INFO - Skipping processing, using existing content.\n",
      "2025-09-08 03:49:54,796 - retrieval - INFO - Extracting all the processed content.\n",
      "2025-09-08 03:49:54,900 - retrieval - INFO - Combining all the processed content.\n",
      "2025-09-08 03:49:54,900 - retrieval - INFO - Processed content ready.\n",
      "2025-09-08 03:49:54,923 - retrieval - INFO - Saved processed report to ./processed_report/CABNET_HOLDINGS_BERHAD/CABNET_HOLDINGS_BERHAD_ANNUAL_2024.md\n"
     ]
    }
   ],
   "source": [
    "await manager.parse_report(\n",
    "    company = \"CABNET_HOLDINGS_BERHAD\",\n",
    "    report_type = ReportType.ANNUAL,\n",
    "    year = 2024,\n",
    "    #forced_process = True\n",
    ")"
   ]
  },
  {
   "cell_type": "code",
   "execution_count": 5,
   "id": "0767c779",
   "metadata": {},
   "outputs": [
    {
     "name": "stderr",
     "output_type": "stream",
     "text": [
      "2025-09-08 04:19:42,425 - retrieval - INFO - Already processed and up to date.\n",
      "2025-09-08 04:19:42,426 - retrieval - INFO - Skipping processing, using existing content.\n",
      "2025-09-08 04:19:42,426 - retrieval - INFO - Extracting all the processed content.\n",
      "2025-09-08 04:19:42,755 - retrieval - INFO - Combining all the processed content.\n",
      "2025-09-08 04:19:42,756 - retrieval - INFO - Processed content ready.\n",
      "2025-09-08 04:19:42,882 - retrieval - INFO - Saved processed report to ./processed_report/CABNET_HOLDINGS_BERHAD/CABNET_HOLDINGS_BERHAD_ANNUAL_2023.md\n"
     ]
    }
   ],
   "source": [
    "await manager.parse_report(\n",
    "    company = \"CABNET_HOLDINGS_BERHAD\",\n",
    "    report_type = ReportType.ANNUAL,\n",
    "    year = 2023,\n",
    "    #forced_process = True\n",
    ")"
   ]
  },
  {
   "cell_type": "code",
   "execution_count": 15,
   "id": "c9077fae",
   "metadata": {},
   "outputs": [
    {
     "name": "stderr",
     "output_type": "stream",
     "text": [
      "2025-09-08 03:49:25,791 - retrieval - INFO - Already processed and up to date.\n",
      "2025-09-08 03:49:25,793 - retrieval - INFO - Skipping processing, using existing content.\n",
      "2025-09-08 03:49:25,793 - retrieval - INFO - Extracting all the processed content.\n",
      "2025-09-08 03:49:25,916 - retrieval - INFO - Combining all the processed content.\n",
      "2025-09-08 03:49:25,917 - retrieval - INFO - Processed content ready.\n",
      "2025-09-08 03:49:25,951 - retrieval - INFO - Saved processed report to ./processed_report/CABNET_HOLDINGS_BERHAD/CABNET_HOLDINGS_BERHAD_ANNUAL_2025.md\n"
     ]
    }
   ],
   "source": [
    "await manager.parse_report(\n",
    "    company = \"CABNET_HOLDINGS_BERHAD\",\n",
    "    report_type = ReportType.ANNUAL,\n",
    "    year = 2025,\n",
    "    #forced_process = True\n",
    ")"
   ]
  },
  {
   "cell_type": "code",
   "execution_count": 4,
   "id": "e808da8f",
   "metadata": {},
   "outputs": [
    {
     "name": "stderr",
     "output_type": "stream",
     "text": [
      "2025-09-08 16:40:25,303 - retrieval - INFO - Already processed and up to date.\n",
      "2025-09-08 16:40:25,304 - retrieval - INFO - Skipping processing, using existing content.\n",
      "2025-09-08 16:40:25,304 - retrieval - INFO - Extracting all the processed content.\n",
      "2025-09-08 16:40:25,401 - retrieval - INFO - Combining all the processed content.\n",
      "2025-09-08 16:40:25,402 - retrieval - INFO - Processed content ready.\n",
      "2025-09-08 16:40:25,425 - retrieval - INFO - Saved processed report to ./processed_report/CABNET_HOLDINGS_BERHAD/CABNET_HOLDINGS_BERHAD_ANNUAL_2021.md\n"
     ]
    }
   ],
   "source": [
    "await manager.parse_report(\n",
    "    company = \"CABNET_HOLDINGS_BERHAD\",\n",
    "    report_type = ReportType.ANNUAL,\n",
    "    year = 2021,\n",
    "    #forced_process = True\n",
    ")"
   ]
  },
  {
   "cell_type": "code",
   "execution_count": 13,
   "id": "8e5bee83",
   "metadata": {},
   "outputs": [
    {
     "name": "stderr",
     "output_type": "stream",
     "text": [
      "2025-09-08 17:07:54,792 - retrieval - INFO - Already processed and up to date.\n",
      "2025-09-08 17:07:54,793 - retrieval - INFO - Skipping processing, using existing content.\n",
      "2025-09-08 17:07:54,793 - retrieval - INFO - Extracting all the processed content.\n",
      "2025-09-08 17:07:54,886 - retrieval - INFO - Combining all the processed content.\n",
      "2025-09-08 17:07:54,886 - retrieval - INFO - Processed content ready.\n",
      "2025-09-08 17:07:54,910 - retrieval - INFO - Saved processed report to ./processed_report/CABNET_HOLDINGS_BERHAD/CABNET_HOLDINGS_BERHAD_ANNUAL_2020.md\n"
     ]
    }
   ],
   "source": [
    "await manager.parse_report(\n",
    "    company = \"CABNET_HOLDINGS_BERHAD\",\n",
    "    report_type = ReportType.ANNUAL,\n",
    "    year = 2020,\n",
    "    #forced_process = True\n",
    ")"
   ]
  },
  {
   "cell_type": "code",
   "execution_count": 12,
   "id": "49e155bc",
   "metadata": {},
   "outputs": [
    {
     "name": "stderr",
     "output_type": "stream",
     "text": [
      "2025-09-08 17:07:53,224 - retrieval - INFO - Already processed and up to date.\n",
      "2025-09-08 17:07:53,225 - retrieval - INFO - Skipping processing, using existing content.\n",
      "2025-09-08 17:07:53,225 - retrieval - INFO - Extracting all the processed content.\n",
      "2025-09-08 17:07:53,339 - retrieval - INFO - Combining all the processed content.\n",
      "2025-09-08 17:07:53,340 - retrieval - INFO - Processed content ready.\n",
      "2025-09-08 17:07:53,373 - retrieval - INFO - Saved processed report to ./processed_report/CABNET_HOLDINGS_BERHAD/CABNET_HOLDINGS_BERHAD_ANNUAL_2019.md\n"
     ]
    }
   ],
   "source": [
    "await manager.parse_report(\n",
    "    company = \"CABNET_HOLDINGS_BERHAD\",\n",
    "    report_type = ReportType.ANNUAL,\n",
    "    year = 2019,\n",
    "    #forced_process = True\n",
    ")"
   ]
  },
  {
   "cell_type": "code",
   "execution_count": 11,
   "id": "eaaf9d05",
   "metadata": {},
   "outputs": [
    {
     "name": "stderr",
     "output_type": "stream",
     "text": [
      "2025-09-08 17:07:50,751 - retrieval - INFO - Already processed and up to date.\n",
      "2025-09-08 17:07:50,752 - retrieval - INFO - Skipping processing, using existing content.\n",
      "2025-09-08 17:07:50,753 - retrieval - INFO - Extracting all the processed content.\n",
      "2025-09-08 17:07:50,867 - retrieval - INFO - Combining all the processed content.\n",
      "2025-09-08 17:07:50,867 - retrieval - INFO - Processed content ready.\n",
      "2025-09-08 17:07:50,890 - retrieval - INFO - Saved processed report to ./processed_report/CABNET_HOLDINGS_BERHAD/CABNET_HOLDINGS_BERHAD_ANNUAL_2018.md\n"
     ]
    }
   ],
   "source": [
    "await manager.parse_report(\n",
    "    company = \"CABNET_HOLDINGS_BERHAD\",\n",
    "    report_type = ReportType.ANNUAL,\n",
    "    year = 2018,\n",
    "    #forced_process = True\n",
    ")"
   ]
  },
  {
   "cell_type": "code",
   "execution_count": 10,
   "id": "76a4f314",
   "metadata": {},
   "outputs": [
    {
     "name": "stderr",
     "output_type": "stream",
     "text": [
      "2025-09-08 17:07:48,602 - retrieval - INFO - Already processed and up to date.\n",
      "2025-09-08 17:07:48,603 - retrieval - INFO - Skipping processing, using existing content.\n",
      "2025-09-08 17:07:48,604 - retrieval - INFO - Extracting all the processed content.\n",
      "2025-09-08 17:07:48,711 - retrieval - INFO - Combining all the processed content.\n",
      "2025-09-08 17:07:48,712 - retrieval - INFO - Processed content ready.\n",
      "2025-09-08 17:07:48,735 - retrieval - INFO - Saved processed report to ./processed_report/CABNET_HOLDINGS_BERHAD/CABNET_HOLDINGS_BERHAD_ANNUAL_2017.md\n"
     ]
    }
   ],
   "source": [
    "await manager.parse_report(\n",
    "    company = \"CABNET_HOLDINGS_BERHAD\",\n",
    "    report_type = ReportType.ANNUAL,\n",
    "    year = 2017,\n",
    "    #forced_process = True\n",
    ")"
   ]
  },
  {
   "cell_type": "markdown",
   "id": "2accb8bb",
   "metadata": {},
   "source": [
    "# ICT ZONE ASIA BERHAD\n",
    "- IPO"
   ]
  },
  {
   "cell_type": "code",
   "execution_count": 14,
   "id": "d40b1d43",
   "metadata": {},
   "outputs": [
    {
     "name": "stderr",
     "output_type": "stream",
     "text": [
      "2025-09-07 22:38:10,203 - retrieval - INFO - Already processed and up to date.\n",
      "2025-09-07 22:38:10,203 - retrieval - INFO - Skipping processing, using existing content.\n",
      "2025-09-07 22:38:10,204 - retrieval - INFO - Extracting all the processed content.\n",
      "2025-09-07 22:38:10,342 - retrieval - INFO - Combining all the processed content.\n",
      "2025-09-07 22:38:10,343 - retrieval - INFO - Processed content ready.\n",
      "2025-09-07 22:38:10,366 - retrieval - INFO - Saved processed report to ./processed_report/ICT_ZONE_ASIA_BERHAD/ICT_ZONE_ASIA_BERHAD_IPO.md\n"
     ]
    }
   ],
   "source": [
    "await manager.parse_report(\n",
    "    company = \"ICT ZONE ASIA BERHAD\",\n",
    "    report_type = ReportType.IPO,\n",
    "    #forced_process = True\n",
    ")"
   ]
  },
  {
   "cell_type": "markdown",
   "id": "64c14973",
   "metadata": {},
   "source": [
    "---\n",
    "\n",
    "### TESTING"
   ]
  },
  {
   "cell_type": "code",
   "execution_count": null,
   "id": "8e29ca48",
   "metadata": {},
   "outputs": [
    {
     "name": "stdout",
     "output_type": "stream",
     "text": [
      "▶️  [CABNET_HOLDINGS_BERHAD] start (attempt 1)\n"
     ]
    },
    {
     "name": "stderr",
     "output_type": "stream",
     "text": [
      "2025-09-08 16:32:21,825 - retrieval - INFO - Already processed and up to date.\n",
      "2025-09-08 16:32:21,826 - retrieval - INFO - Skipping processing, using existing content.\n",
      "2025-09-08 16:32:21,827 - retrieval - INFO - Extracting all the processed content.\n",
      "2025-09-08 16:32:21,926 - retrieval - INFO - Combining all the processed content.\n",
      "2025-09-08 16:32:21,927 - retrieval - INFO - Processed content ready.\n",
      "2025-09-08 16:32:21,960 - retrieval - INFO - Saved processed report to ./processed_report/CABNET_HOLDINGS_BERHAD/CABNET_HOLDINGS_BERHAD_ANNUAL_2025.md\n",
      "2025-09-08 16:32:21,978 - retrieval - INFO - Already processed and up to date.\n",
      "2025-09-08 16:32:21,979 - retrieval - INFO - Skipping processing, using existing content.\n",
      "2025-09-08 16:32:21,979 - retrieval - INFO - Extracting all the processed content.\n",
      "2025-09-08 16:32:22,005 - retrieval - INFO - Combining all the processed content.\n",
      "2025-09-08 16:32:22,005 - retrieval - INFO - Processed content ready.\n",
      "2025-09-08 16:32:22,025 - retrieval - INFO - Saved processed report to ./processed_report/CABNET_HOLDINGS_BERHAD/CABNET_HOLDINGS_BERHAD_ANNUAL_2024.md\n",
      "2025-09-08 16:32:22,043 - retrieval - INFO - Already processed and up to date.\n",
      "2025-09-08 16:32:22,043 - retrieval - INFO - Skipping processing, using existing content.\n",
      "2025-09-08 16:32:22,043 - retrieval - INFO - Extracting all the processed content.\n",
      "2025-09-08 16:32:22,069 - retrieval - INFO - Combining all the processed content.\n",
      "2025-09-08 16:32:22,070 - retrieval - INFO - Processed content ready.\n",
      "2025-09-08 16:32:22,092 - retrieval - INFO - Saved processed report to ./processed_report/CABNET_HOLDINGS_BERHAD/CABNET_HOLDINGS_BERHAD_ANNUAL_2023.md\n",
      "2025-09-08 16:32:22,113 - retrieval - INFO - No raw reports found for CABNET_HOLDINGS_BERHAD Annual Report & CG Report 2022\n",
      "2025-09-08 16:32:22,136 - retrieval - INFO - No raw reports found for CABNET_HOLDINGS_BERHAD Annual Report & CG Report 2022\n",
      "2025-09-08 16:32:22,155 - retrieval - INFO - Fresh processing of all docs.\n",
      "2025-09-08 16:32:22,156 - retrieval - INFO -      Uploading CabNet_2021_-_Bursa.pdf ...\n"
     ]
    },
    {
     "name": "stdout",
     "output_type": "stream",
     "text": [
      "✅  [CABNET_HOLDINGS_BERHAD] done\n",
      "▶️  [CABNET_HOLDINGS_BERHAD] start (attempt 1)\n",
      "✅  [CABNET_HOLDINGS_BERHAD] done\n",
      "▶️  [CABNET_HOLDINGS_BERHAD] start (attempt 1)\n",
      "✅  [CABNET_HOLDINGS_BERHAD] done\n",
      "▶️  [CABNET_HOLDINGS_BERHAD] start (attempt 1)\n",
      "⚠️  [CABNET_HOLDINGS_BERHAD] attempt 1 failed: No raw reports found for CABNET_HOLDINGS_BERHAD Annual Report & CG Report 2022\n",
      "▶️  [CABNET_HOLDINGS_BERHAD] start (attempt 2)\n",
      "⚠️  [CABNET_HOLDINGS_BERHAD] attempt 2 failed: No raw reports found for CABNET_HOLDINGS_BERHAD Annual Report & CG Report 2022\n",
      "▶️  [CABNET_HOLDINGS_BERHAD] start (attempt 1)\n"
     ]
    },
    {
     "name": "stderr",
     "output_type": "stream",
     "text": [
      "2025-09-08 16:32:22,267 - retrieval - INFO -      Uploading CG_Report_Template_2021.pdf ...\n",
      "2025-09-08 16:32:22,324 - retrieval - INFO -      Uploading AGM_Admin_Guide_FINAL.pdf ...\n",
      "2025-09-08 16:32:29,143 - retrieval - INFO - Uploaded 3 PDFs\n",
      "2025-09-08 16:32:29,145 - retrieval - INFO - Fresh processing mode, extracting TOC.\n",
      "2025-09-08 16:33:04,985 - retrieval - INFO - Definition tokens: prompt = 55191, output = 222, total = 56415\n",
      "2025-09-08 16:33:04,986 - retrieval - INFO - Table of Contents extracted\n",
      "2025-09-08 16:33:05,011 - retrieval - INFO - Saved Table of Contents for CABNET_HOLDINGS_BERHAD\n",
      "2025-09-08 16:33:05,032 - retrieval - INFO - Extracting section: 1. CORPORATE INFORMATION\n",
      "2025-09-08 16:33:05,052 - retrieval - INFO - Extracting section: 4. PROFILE OF DIRECTORS\n",
      "2025-09-08 16:33:05,071 - retrieval - INFO - Extracting section: 5. PROFILE OF KEY SENIOR MANAGEMENT\n",
      "2025-09-08 16:33:05,091 - retrieval - INFO - Extracting section: 6. MANAGEMENT DISCUSSION AND ANALYSIS\n",
      "2025-09-08 16:33:05,111 - retrieval - INFO - Extracting section: 7. CORPORATE GOVERNANCE OVERVIEW STATEMENT\n",
      "2025-09-08 16:33:05,132 - retrieval - INFO - Extracting section: 8. ADDITIONAL COMPLIANCE INFORMATION\n",
      "2025-09-08 16:33:05,150 - retrieval - INFO - Extracting section: 9. AUDIT AND RISK MANAGEMENT COMMITTEE REPORT\n",
      "2025-09-08 16:33:05,156 - retrieval - INFO - Extracting section: 3. CORPORATE STRUCTURE\n",
      "2025-09-08 16:33:05,158 - retrieval - INFO - Extracting section: 2. GROUP FINANCIAL HIGHLIGHTS\n",
      "2025-09-08 16:33:16,044 - retrieval - WARNING - Section '6. MANAGEMENT DISCUSSION AND ANALYSIS' attempt 1 failed: 503 UNAVAILABLE. {'error': {'code': 503, 'message': 'The model is overloaded. Please try again later.', 'status': 'UNAVAILABLE'}}; sleeping 1.0s\n",
      "2025-09-08 16:33:19,782 - retrieval - INFO - Extracting section: 12. STATEMENT OF DIRECTORS’ RESPONSIBILITY IN RELATION TO THE FINANCIAL STATEMENTS\n",
      "2025-09-08 16:33:19,784 - retrieval - INFO - Extracting section: 6. MANAGEMENT DISCUSSION AND ANALYSIS\n",
      "2025-09-08 16:33:25,979 - retrieval - INFO - Definition tokens: prompt = 55914, output = 227, total = 56777\n",
      "2025-09-08 16:33:26,004 - retrieval - INFO - Section: 3. CORPORATE STRUCTURE saved in DB\n",
      "2025-09-08 16:33:26,005 - retrieval - INFO - Chunking, Embedding, Upserting: 3. CORPORATE STRUCTURE\n",
      "2025-09-08 16:33:27,311 - retrieval - INFO - Extracting section: 13. FINANCIAL STATEMENTS\n",
      "2025-09-08 16:33:29,409 - retrieval - INFO - Definition tokens: prompt = 55920, output = 477, total = 57429\n",
      "2025-09-08 16:33:29,436 - retrieval - INFO - Section: 8. ADDITIONAL COMPLIANCE INFORMATION saved in DB\n",
      "2025-09-08 16:33:29,437 - retrieval - INFO - Chunking, Embedding, Upserting: 8. ADDITIONAL COMPLIANCE INFORMATION\n",
      "2025-09-08 16:33:29,439 - retrieval - INFO - Extracting section: 14. LIST OF PROPERTIES\n",
      "2025-09-08 16:33:33,373 - retrieval - INFO - Embedded & upserted 1 chunks for section: 3. CORPORATE STRUCTURE\n",
      "2025-09-08 16:33:34,996 - retrieval - INFO - Embedded & upserted 8 chunks for section: 8. ADDITIONAL COMPLIANCE INFORMATION\n",
      "2025-09-08 16:33:35,642 - retrieval - INFO - Definition tokens: prompt = 55914, output = 1040, total = 57476\n",
      "2025-09-08 16:33:35,699 - retrieval - INFO - Section: 1. CORPORATE INFORMATION saved in DB\n",
      "2025-09-08 16:33:35,699 - retrieval - INFO - Chunking, Embedding, Upserting: 1. CORPORATE INFORMATION\n",
      "2025-09-08 16:33:35,701 - retrieval - INFO - Extracting section: 15. ANALYSIS OF SHAREHOLDINGS\n",
      "2025-09-08 16:33:38,307 - retrieval - INFO - Definition tokens: prompt = 55923, output = 1423, total = 58150\n",
      "2025-09-08 16:33:38,330 - retrieval - INFO - Section: 5. PROFILE OF KEY SENIOR MANAGEMENT saved in DB\n",
      "2025-09-08 16:33:38,331 - retrieval - INFO - Chunking, Embedding, Upserting: 5. PROFILE OF KEY SENIOR MANAGEMENT\n",
      "2025-09-08 16:33:38,332 - retrieval - INFO - Extracting section: 18. PROXY FORM\n",
      "2025-09-08 16:33:39,131 - retrieval - INFO - Definition tokens: prompt = 55950, output = 358, total = 56951\n",
      "2025-09-08 16:33:39,155 - retrieval - INFO - Section: 12. STATEMENT OF DIRECTORS’ RESPONSIBILITY IN RELATION TO THE FINANCIAL STATEMENTS saved in DB\n",
      "2025-09-08 16:33:39,155 - retrieval - INFO - Chunking, Embedding, Upserting: 12. STATEMENT OF DIRECTORS’ RESPONSIBILITY IN RELATION TO THE FINANCIAL STATEMENTS\n",
      "2025-09-08 16:33:39,157 - retrieval - INFO - Extracting section: 16. NOTICE OF 7TH ANNUAL GENERAL MEETING\n",
      "2025-09-08 16:33:40,184 - retrieval - INFO - Embedded & upserted 14 chunks for section: 1. CORPORATE INFORMATION\n",
      "2025-09-08 16:33:42,322 - retrieval - INFO - Embedded & upserted 10 chunks for section: 5. PROFILE OF KEY SENIOR MANAGEMENT\n",
      "2025-09-08 16:33:43,782 - retrieval - INFO - Embedded & upserted 2 chunks for section: 12. STATEMENT OF DIRECTORS’ RESPONSIBILITY IN RELATION TO THE FINANCIAL STATEMENTS\n",
      "2025-09-08 16:33:57,814 - retrieval - INFO - Definition tokens: prompt = 55917, output = 3062, total = 59412\n",
      "2025-09-08 16:33:57,843 - retrieval - INFO - Section: 4. PROFILE OF DIRECTORS saved in DB\n",
      "2025-09-08 16:33:57,844 - retrieval - INFO - Chunking, Embedding, Upserting: 4. PROFILE OF DIRECTORS\n",
      "2025-09-08 16:33:57,847 - retrieval - INFO - Extracting section: 17. STATEMENT ACCOMPANYING NOTICE\n",
      "2025-09-08 16:34:00,776 - retrieval - INFO - Definition tokens: prompt = 55920, output = 2282, total = 60816\n",
      "2025-09-08 16:34:00,803 - retrieval - INFO - Section: 2. GROUP FINANCIAL HIGHLIGHTS saved in DB\n",
      "2025-09-08 16:34:00,804 - retrieval - INFO - Chunking, Embedding, Upserting: 2. GROUP FINANCIAL HIGHLIGHTS\n",
      "2025-09-08 16:34:00,807 - retrieval - INFO - Extracting section: 11. SUSTAINABILITY STATEMENT\n",
      "2025-09-08 16:34:04,198 - retrieval - INFO - Embedded & upserted 24 chunks for section: 4. PROFILE OF DIRECTORS\n",
      "2025-09-08 16:34:04,979 - retrieval - INFO - Embedded & upserted 4 chunks for section: 2. GROUP FINANCIAL HIGHLIGHTS\n",
      "2025-09-08 16:34:05,868 - retrieval - INFO - Definition tokens: prompt = 55917, output = 1312, total = 57672\n",
      "2025-09-08 16:34:05,891 - retrieval - INFO - Section: 18. PROXY FORM saved in DB\n",
      "2025-09-08 16:34:05,891 - retrieval - INFO - Chunking, Embedding, Upserting: 18. PROXY FORM\n",
      "2025-09-08 16:34:05,893 - retrieval - INFO - Extracting section: 10. STATEMENT ON RISK MANAGEMENT AND INTERNAL CONTROL\n",
      "2025-09-08 16:34:09,675 - retrieval - INFO - Embedded & upserted 4 chunks for section: 18. PROXY FORM\n",
      "2025-09-08 16:34:14,134 - retrieval - INFO - Definition tokens: prompt = 55926, output = 3921, total = 61317\n",
      "2025-09-08 16:34:14,164 - retrieval - INFO - Section: 9. AUDIT AND RISK MANAGEMENT COMMITTEE REPORT saved in DB\n",
      "2025-09-08 16:34:14,165 - retrieval - INFO - Chunking, Embedding, Upserting: 9. AUDIT AND RISK MANAGEMENT COMMITTEE REPORT\n",
      "2025-09-08 16:34:20,535 - retrieval - INFO - Definition tokens: prompt = 55917, output = 3359, total = 60357\n",
      "2025-09-08 16:34:20,564 - retrieval - INFO - Section: 6. MANAGEMENT DISCUSSION AND ANALYSIS saved in DB\n",
      "2025-09-08 16:34:20,565 - retrieval - INFO - Chunking, Embedding, Upserting: 6. MANAGEMENT DISCUSSION AND ANALYSIS\n",
      "2025-09-08 16:34:23,977 - retrieval - INFO - Definition tokens: prompt = 55917, output = 2372, total = 61013\n",
      "2025-09-08 16:34:24,015 - retrieval - INFO - Section: 14. LIST OF PROPERTIES saved in DB\n",
      "2025-09-08 16:34:24,017 - retrieval - INFO - Chunking, Embedding, Upserting: 14. LIST OF PROPERTIES\n",
      "2025-09-08 16:34:24,321 - retrieval - INFO - Embedded & upserted 45 chunks for section: 9. AUDIT AND RISK MANAGEMENT COMMITTEE REPORT\n",
      "2025-09-08 16:34:26,540 - retrieval - INFO - Definition tokens: prompt = 55923, output = 3506, total = 60139\n",
      "2025-09-08 16:34:26,585 - retrieval - INFO - Section: 15. ANALYSIS OF SHAREHOLDINGS saved in DB\n",
      "2025-09-08 16:34:26,586 - retrieval - INFO - Chunking, Embedding, Upserting: 15. ANALYSIS OF SHAREHOLDINGS\n",
      "2025-09-08 16:34:27,918 - retrieval - INFO - Embedded & upserted 5 chunks for section: 14. LIST OF PROPERTIES\n",
      "2025-09-08 16:34:29,167 - retrieval - INFO - Definition tokens: prompt = 55932, output = 2964, total = 59521\n",
      "2025-09-08 16:34:29,219 - retrieval - INFO - Section: 16. NOTICE OF 7TH ANNUAL GENERAL MEETING saved in DB\n",
      "2025-09-08 16:34:29,221 - retrieval - INFO - Chunking, Embedding, Upserting: 16. NOTICE OF 7TH ANNUAL GENERAL MEETING\n",
      "2025-09-08 16:34:29,999 - retrieval - INFO - Embedded & upserted 27 chunks for section: 6. MANAGEMENT DISCUSSION AND ANALYSIS\n",
      "2025-09-08 16:34:31,567 - retrieval - INFO - Embedded & upserted 15 chunks for section: 15. ANALYSIS OF SHAREHOLDINGS\n",
      "2025-09-08 16:34:34,737 - retrieval - INFO - Embedded & upserted 16 chunks for section: 16. NOTICE OF 7TH ANNUAL GENERAL MEETING\n",
      "2025-09-08 16:34:38,510 - retrieval - INFO - Definition tokens: prompt = 55923, output = 1548, total = 59083\n",
      "2025-09-08 16:34:38,622 - retrieval - INFO - Section: 17. STATEMENT ACCOMPANYING NOTICE saved in DB\n",
      "2025-09-08 16:34:38,624 - retrieval - INFO - Chunking, Embedding, Upserting: 17. STATEMENT ACCOMPANYING NOTICE\n",
      "2025-09-08 16:34:42,801 - retrieval - INFO - Definition tokens: prompt = 55920, output = 2267, total = 58935\n",
      "2025-09-08 16:34:42,829 - retrieval - INFO - Section: 11. SUSTAINABILITY STATEMENT saved in DB\n",
      "2025-09-08 16:34:42,831 - retrieval - INFO - Chunking, Embedding, Upserting: 11. SUSTAINABILITY STATEMENT\n",
      "2025-09-08 16:34:43,126 - retrieval - INFO - Embedded & upserted 13 chunks for section: 17. STATEMENT ACCOMPANYING NOTICE\n",
      "2025-09-08 16:34:49,336 - retrieval - INFO - Embedded & upserted 31 chunks for section: 11. SUSTAINABILITY STATEMENT\n",
      "2025-09-08 16:34:49,767 - retrieval - INFO - Definition tokens: prompt = 55929, output = 6430, total = 63453\n",
      "2025-09-08 16:34:49,796 - retrieval - INFO - Section: 7. CORPORATE GOVERNANCE OVERVIEW STATEMENT saved in DB\n",
      "2025-09-08 16:34:49,798 - retrieval - INFO - Chunking, Embedding, Upserting: 7. CORPORATE GOVERNANCE OVERVIEW STATEMENT\n",
      "2025-09-08 16:35:04,644 - retrieval - INFO - Embedded & upserted 71 chunks for section: 7. CORPORATE GOVERNANCE OVERVIEW STATEMENT\n",
      "2025-09-08 16:35:26,855 - retrieval - INFO - Definition tokens: prompt = 55929, output = 4632, total = 61489\n",
      "2025-09-08 16:35:26,893 - retrieval - INFO - Section: 10. STATEMENT ON RISK MANAGEMENT AND INTERNAL CONTROL saved in DB\n",
      "2025-09-08 16:35:26,897 - retrieval - INFO - Chunking, Embedding, Upserting: 10. STATEMENT ON RISK MANAGEMENT AND INTERNAL CONTROL\n",
      "2025-09-08 16:35:37,159 - retrieval - INFO - Embedded & upserted 49 chunks for section: 10. STATEMENT ON RISK MANAGEMENT AND INTERNAL CONTROL\n",
      "2025-09-08 16:38:26,786 - retrieval - INFO - Definition tokens: prompt = 55917, output = 23423, total = 81808\n",
      "2025-09-08 16:38:26,852 - retrieval - INFO - Section: 13. FINANCIAL STATEMENTS saved in DB\n",
      "2025-09-08 16:38:26,853 - retrieval - INFO - Chunking, Embedding, Upserting: 13. FINANCIAL STATEMENTS\n",
      "2025-09-08 16:39:23,757 - retrieval - INFO - Embedded & upserted 345 chunks for section: 13. FINANCIAL STATEMENTS\n",
      "2025-09-08 16:39:23,760 - retrieval - INFO - Extraction summary: 18/18 sections succeeded, 0 failed.\n",
      "2025-09-08 16:39:23,761 - retrieval - INFO - All sections extracted.\n",
      "2025-09-08 16:39:23,786 - retrieval - INFO - Saved processed report to ./processed_report/CABNET_HOLDINGS_BERHAD/CABNET_HOLDINGS_BERHAD_ANNUAL_2021.md\n",
      "2025-09-08 16:39:23,805 - retrieval - INFO - Fresh processing of all docs.\n",
      "2025-09-08 16:39:23,806 - retrieval - INFO -      Uploading CabNet_AR_2020_-_Final.pdf ...\n"
     ]
    },
    {
     "name": "stdout",
     "output_type": "stream",
     "text": [
      "✅  [CABNET_HOLDINGS_BERHAD] done\n",
      "▶️  [CABNET_HOLDINGS_BERHAD] start (attempt 1)\n"
     ]
    },
    {
     "name": "stderr",
     "output_type": "stream",
     "text": [
      "2025-09-08 16:39:24,000 - retrieval - INFO -      Uploading CabNet_CG_Report_2020_-_Final.pdf ...\n",
      "2025-09-08 16:39:24,056 - retrieval - INFO -      Uploading Administrative_guide.pdf ...\n"
     ]
    }
   ],
   "source": [
    "companies_1 = [\n",
    "    \"EDELTEQ_HOLDINGS_BERHAD\",\n",
    "    \"AUTOCOUNT_DOTCOM_BERHAD\",\n",
    "    \"ICT_ZONE_ASIA_BERHAD\",\n",
    "    \"AEMULUS_HOLDINGS_BERHAD\",\n",
    "    \"CABNET_HOLDINGS_BERHAD\",\n",
    "    \"VETECE_HOLDINGS_BERHAD\",\n",
    "    \"I-STONE_GROUP_BERHAD\",\n",
    "    \"CENTURY_SOFTWARE_HOLDINGS_BERHAD\",\n",
    "    \"EDARAN_DIGITAL_SYSTEMS_BERHAD\",\n",
    "    \"ViTrox Corporation Berhad\"\n",
    "]\n",
    "company_name = \"CABNET_HOLDINGS_BERHAD\"\n",
    "years = [2025, 2024, 2023, 2022, 2021, 2020, 2019, 2018, 2017]\n",
    "\n",
    "success = []\n",
    "failed  = []\n",
    "\n",
    "async def run_all():\n",
    "    for year in years:\n",
    "        for attempt in (1, 2):  # tiny retry (2 attempts total)\n",
    "            try:\n",
    "                print(f\"▶️  [{company_name}] start (attempt {attempt})\")\n",
    "                await manager.parse_report(\n",
    "                    company = company_name,\n",
    "                    report_type = ReportType.ANNUAL,\n",
    "                    year=year,\n",
    "                    #forced_process=True,\n",
    "                )\n",
    "                print(f\"✅  [{company_name}] done\")\n",
    "                success.append(company_name)\n",
    "                break\n",
    "            except Exception as e:\n",
    "                print(f\"⚠️  [{company_name}] attempt {attempt} failed: {e}\")\n",
    "                if attempt == 2:\n",
    "                    failed.append((company_name, str(e)))\n",
    "\n",
    "    print(\"\\n===== SUMMARY =====\")\n",
    "    print(f\"✔️  Success: {len(success)} -> {success}\")\n",
    "    print(f\"❌ Failed : {len(failed)}\")\n",
    "    for name, err in failed:\n",
    "        print(f\"   - {name}: {err}\")\n",
    "\n",
    "await run_all()"
   ]
  },
  {
   "cell_type": "code",
   "execution_count": null,
   "id": "7fd429c4",
   "metadata": {},
   "outputs": [],
   "source": [
    "await manager.parse_report(\n",
    "    company = \"AEMULUS_HOLDINGS_BERHAD\",\n",
    "    report_type = ReportType.IPO,\n",
    "    forced_process = True\n",
    ")\n",
    "\n",
    "#tasks = [asyncio.create_task(process_one(i+1, sections[i])) for i in [2, 7, 12, 15]] if sections else []"
   ]
  },
  {
   "cell_type": "code",
   "execution_count": null,
   "id": "ccf921bb",
   "metadata": {},
   "outputs": [
    {
     "name": "stderr",
     "output_type": "stream",
     "text": [
      "2025-09-08 15:36:14,540 - retrieval - INFO - Fresh processing of all docs.\n",
      "2025-09-08 15:36:14,540 - retrieval - INFO -      Uploading i-Stone_-_Prospectus_210619_(Part_1).pdf ...\n",
      "2025-09-08 15:36:14,829 - retrieval - INFO -      Uploading i-Stone_-_Prospectus_210619_(Part_2).pdf ...\n",
      "2025-09-08 15:36:14,936 - retrieval - INFO -      Uploading i-Stone_-_Detailed_Procedures_for_E-IPO_Share_Application_and_Acceptance.pdf ...\n",
      "2025-09-08 15:36:21,599 - retrieval - INFO - Uploaded 3 PDFs\n",
      "2025-09-08 15:36:21,602 - retrieval - INFO - Fresh processing mode, extracting definitions and TOC.\n",
      "2025-09-08 15:36:21,623 - retrieval - INFO - Definitions already exist, skipping extraction.\n",
      "2025-09-08 15:36:21,644 - retrieval - INFO - Table of Contents already exists, skipping extraction.\n",
      "2025-09-08 15:36:21,663 - retrieval - INFO - Sections to extract: ['1. CORPORATE DIRECTORY', '2. PROSPECTUS SUMMARY', '3. APPROVALS AND CONDITIONS', '4. PARTICULARS OF OUR IPO', '5. INFORMATION ON PROMOTERS, SUBSTANTIAL SHAREHOLDERS, DIRECTORS AND KEY MANAGEMENT PERSONNEL', '6. INFORMATION ON OUR GROUP', '7. BUSINESS OVERVIEW', '8. INDUSTRY OVERVIEW', '9. RISK FACTORS', '10. RELATED PARTY TRANSACTIONS/CONFLICT OF INTERESTS', '11. FINANCIAL INFORMATION', '12. ACCOUNTANTS’ REPORT', '13. REPORTING ACCOUNTANTS’ LETTER ON THE PRO FORMA CONSOLIDATED FINANCIAL INFORMATION', '14. STATUTORY AND OTHER INFORMATION', '15. SUMMARISED PROCEDURES FOR APPLICATION AND ACCEPTANCE', '16. APPENDIX I MAJOR APPROVALS, LICENSES AND PERMITS']\n",
      "2025-09-08 15:36:21,685 - retrieval - INFO - Extracting section: 5. INFORMATION ON PROMOTERS, SUBSTANTIAL SHAREHOLDERS, DIRECTORS AND KEY MANAGEMENT PERSONNEL\n",
      "2025-09-08 15:36:21,812 - retrieval - INFO - Extracting section: 9. RISK FACTORS\n",
      "2025-09-08 15:36:21,838 - retrieval - INFO - Extracting section: 11. FINANCIAL INFORMATION\n",
      "2025-09-08 15:43:16,172 - retrieval - WARNING - RECITATION block for section '9. RISK FACTORS' (attempt 1/3). finish_reason=[<FinishReason.RECITATION: 'RECITATION'>], feedback=None\n",
      "2025-09-08 15:43:17,678 - retrieval - INFO - Extracting section: 9. RISK FACTORS\n",
      "2025-09-08 15:49:46,216 - retrieval - WARNING - RECITATION block for section '9. RISK FACTORS' (attempt 2/3). finish_reason=[<FinishReason.RECITATION: 'RECITATION'>], feedback=None\n",
      "2025-09-08 15:49:49,222 - retrieval - INFO - Extracting section: 9. RISK FACTORS\n",
      "2025-09-08 15:49:57,475 - retrieval - WARNING - RECITATION block for section '5. INFORMATION ON PROMOTERS, SUBSTANTIAL SHAREHOLDERS, DIRECTORS AND KEY MANAGEMENT PERSONNEL' (attempt 1/3). finish_reason=[<FinishReason.RECITATION: 'RECITATION'>], feedback=None\n",
      "2025-09-08 15:49:58,977 - retrieval - INFO - Extracting section: 5. INFORMATION ON PROMOTERS, SUBSTANTIAL SHAREHOLDERS, DIRECTORS AND KEY MANAGEMENT PERSONNEL\n",
      "2025-09-08 15:52:26,264 - retrieval - WARNING - RECITATION block for section '11. FINANCIAL INFORMATION' (attempt 1/3). finish_reason=[<FinishReason.RECITATION: 'RECITATION'>], feedback=None\n",
      "2025-09-08 15:52:27,767 - retrieval - INFO - Extracting section: 11. FINANCIAL INFORMATION\n",
      "2025-09-08 15:56:04,167 - retrieval - WARNING - RECITATION block for section '9. RISK FACTORS' (attempt 3/3). finish_reason=[<FinishReason.RECITATION: 'RECITATION'>], feedback=None\n",
      "2025-09-08 15:56:04,170 - retrieval - ERROR - Section '9. RISK FACTORS' recitation-blocked after 3 attempts; saving sentinel.\n",
      "2025-09-08 15:56:04,212 - retrieval - INFO - Skip embed for section '9. RISK FACTORS' due to extraction failure/recitation.\n",
      "2025-09-08 16:03:58,660 - retrieval - WARNING - RECITATION block for section '5. INFORMATION ON PROMOTERS, SUBSTANTIAL SHAREHOLDERS, DIRECTORS AND KEY MANAGEMENT PERSONNEL' (attempt 2/3). finish_reason=[<FinishReason.RECITATION: 'RECITATION'>], feedback=None\n",
      "2025-09-08 16:04:01,664 - retrieval - INFO - Extracting section: 5. INFORMATION ON PROMOTERS, SUBSTANTIAL SHAREHOLDERS, DIRECTORS AND KEY MANAGEMENT PERSONNEL\n",
      "2025-09-08 16:09:23,108 - retrieval - WARNING - RECITATION block for section '11. FINANCIAL INFORMATION' (attempt 2/3). finish_reason=[<FinishReason.RECITATION: 'RECITATION'>], feedback=None\n",
      "2025-09-08 16:09:26,113 - retrieval - INFO - Extracting section: 11. FINANCIAL INFORMATION\n",
      "2025-09-08 16:18:47,085 - retrieval - WARNING - RECITATION block for section '5. INFORMATION ON PROMOTERS, SUBSTANTIAL SHAREHOLDERS, DIRECTORS AND KEY MANAGEMENT PERSONNEL' (attempt 3/3). finish_reason=[<FinishReason.RECITATION: 'RECITATION'>], feedback=None\n",
      "2025-09-08 16:18:47,088 - retrieval - ERROR - Section '5. INFORMATION ON PROMOTERS, SUBSTANTIAL SHAREHOLDERS, DIRECTORS AND KEY MANAGEMENT PERSONNEL' recitation-blocked after 3 attempts; saving sentinel.\n",
      "2025-09-08 16:18:47,151 - retrieval - INFO - Skip embed for section '5. INFORMATION ON PROMOTERS, SUBSTANTIAL SHAREHOLDERS, DIRECTORS AND KEY MANAGEMENT PERSONNEL' due to extraction failure/recitation.\n",
      "2025-09-08 16:24:46,509 - retrieval - WARNING - RECITATION block for section '11. FINANCIAL INFORMATION' (attempt 3/3). finish_reason=[<FinishReason.RECITATION: 'RECITATION'>], feedback=None\n",
      "2025-09-08 16:24:46,513 - retrieval - ERROR - Section '11. FINANCIAL INFORMATION' recitation-blocked after 3 attempts; saving sentinel.\n",
      "2025-09-08 16:24:46,550 - retrieval - INFO - Skip embed for section '11. FINANCIAL INFORMATION' due to extraction failure/recitation.\n",
      "2025-09-08 16:24:46,551 - retrieval - INFO - Extraction summary: 0/16 sections succeeded, 3 failed.\n",
      "2025-09-08 16:24:46,552 - retrieval - INFO - FAILED section: 9. RISK FACTORS | reason: recitation after 3 attempts\n",
      "2025-09-08 16:24:46,552 - retrieval - INFO - FAILED section: 5. INFORMATION ON PROMOTERS, SUBSTANTIAL SHAREHOLDERS, DIRECTORS AND KEY MANAGEMENT PERSONNEL | reason: recitation after 3 attempts\n",
      "2025-09-08 16:24:46,553 - retrieval - INFO - FAILED section: 11. FINANCIAL INFORMATION | reason: recitation after 3 attempts\n",
      "2025-09-08 16:24:46,553 - retrieval - INFO - All sections extracted.\n",
      "2025-09-08 16:24:46,580 - retrieval - INFO - Saved processed report to ./processed_report/I-STONE_GROUP_BERHAD/I-STONE_GROUP_BERHAD_IPO.md\n"
     ]
    }
   ],
   "source": [
    "await manager.parse_report(\n",
    "    company = \"I-STONE_GROUP_BERHAD\",\n",
    "    report_type = ReportType.IPO,\n",
    "    forced_process = True\n",
    ")\n",
    "\n",
    "#tasks = [asyncio.create_task(process_one(i+1, sections[i])) for i in [4, 8, 10]] if sections else []"
   ]
  },
  {
   "cell_type": "code",
   "execution_count": null,
   "id": "4ed83885",
   "metadata": {},
   "outputs": [
    {
     "name": "stderr",
     "output_type": "stream",
     "text": [
      "2025-09-08 10:39:11,345 - retrieval - INFO - Fresh processing of all docs.\n",
      "2025-09-08 10:39:11,346 - retrieval - INFO -      Uploading CENSOF-NoticeOfProspectus_(11KB).pdf ...\n",
      "2025-09-08 10:39:11,396 - retrieval - INFO -      Uploading CENSOF-Cover_to_Page_200_(2.7MB).pdf ...\n",
      "2025-09-08 10:39:11,621 - retrieval - INFO -      Uploading CENSOF-Page_201_to_Page_416_(2.2MB).pdf ...\n",
      "2025-09-08 10:39:18,811 - retrieval - INFO - Uploaded 3 PDFs\n",
      "2025-09-08 10:39:18,813 - retrieval - INFO - Fresh processing mode, extracting definitions and TOC.\n",
      "2025-09-08 10:39:18,839 - retrieval - INFO - Definitions already exist, skipping extraction.\n",
      "2025-09-08 10:39:18,865 - retrieval - INFO - Table of Contents already exists, skipping extraction.\n",
      "2025-09-08 10:39:18,893 - retrieval - INFO - Sections to extract: ['1. CORPORATE DIRECTORY', '2. SUMMARY INFORMATION', '3. PARTICULARS OF THE IPO', '4. RISK FACTORS', '5. INFORMATION ON OUR GROUP', '6. INDUSTRY OVERVIEW', '7. HISTORICAL PROFORMA FINANCIAL INFORMATION AND OTHER INFORMATION', \"8. MANAGEMENT'S DISCUSSION AND ANALYSIS OF FINANCIAL CONDITION, RESULTS OF OPERATIONS AND PROSPECTS\", '9. PROMOTERS, SUBSTANTIAL SHAREHOLDERS, DIRECTORS AND KEY MANAGEMENT', '10. APPROVALS AND CONDITIONS', '11. RELATED PARTY TRANSACTIONS AND CONFLICT OF INTERESTS', \"12. DIRECTORS' REPORT\", \"13. ACCOUNTANTS' REPORT\", '14. OTHER GENERAL INFORMATION', '15. PROCEDURE FOR APPLICATION AND ACCEPTANCE']\n",
      "2025-09-08 10:39:18,916 - retrieval - INFO - Extracting section: 15. PROCEDURE FOR APPLICATION AND ACCEPTANCE\n",
      "2025-09-08 10:52:00,034 - retrieval - WARNING - RECITATION block for section '15. PROCEDURE FOR APPLICATION AND ACCEPTANCE' (attempt 1/3). finish_reason=[<FinishReason.RECITATION: 'RECITATION'>], feedback=None\n",
      "2025-09-08 10:52:01,539 - retrieval - INFO - Extracting section: 15. PROCEDURE FOR APPLICATION AND ACCEPTANCE\n",
      "2025-09-08 11:04:44,822 - retrieval - WARNING - RECITATION block for section '15. PROCEDURE FOR APPLICATION AND ACCEPTANCE' (attempt 2/3). finish_reason=[<FinishReason.RECITATION: 'RECITATION'>], feedback=None\n",
      "2025-09-08 11:04:47,828 - retrieval - INFO - Extracting section: 15. PROCEDURE FOR APPLICATION AND ACCEPTANCE\n",
      "2025-09-08 11:17:48,814 - retrieval - WARNING - RECITATION block for section '15. PROCEDURE FOR APPLICATION AND ACCEPTANCE' (attempt 3/3). finish_reason=[<FinishReason.RECITATION: 'RECITATION'>], feedback=None\n",
      "2025-09-08 11:17:48,818 - retrieval - ERROR - Section '15. PROCEDURE FOR APPLICATION AND ACCEPTANCE' recitation-blocked after 3 attempts; saving sentinel.\n",
      "2025-09-08 11:17:48,887 - retrieval - INFO - Skip embed for section '15. PROCEDURE FOR APPLICATION AND ACCEPTANCE' due to extraction failure/recitation.\n",
      "2025-09-08 11:17:48,888 - retrieval - INFO - Extraction summary: 0/15 sections succeeded, 1 failed.\n",
      "2025-09-08 11:17:48,889 - retrieval - INFO - FAILED section: 15. PROCEDURE FOR APPLICATION AND ACCEPTANCE | reason: recitation after 3 attempts\n",
      "2025-09-08 11:17:48,889 - retrieval - INFO - All sections extracted.\n",
      "2025-09-08 11:17:48,917 - retrieval - INFO - Saved processed report to ./processed_report/CENTURY_SOFTWARE_HOLDINGS_BERHAD/CENTURY_SOFTWARE_HOLDINGS_BERHAD_IPO.md\n"
     ]
    }
   ],
   "source": [
    "await manager.parse_report(\n",
    "    company = \"CENTURY_SOFTWARE_HOLDINGS_BERHAD\",\n",
    "    report_type = ReportType.IPO,\n",
    "    forced_process = True\n",
    ")\n",
    "#tasks = [asyncio.create_task(process_one(15, sections[14]))] if sections else []"
   ]
  },
  {
   "cell_type": "code",
   "execution_count": null,
   "id": "a18ad833",
   "metadata": {},
   "outputs": [
    {
     "name": "stderr",
     "output_type": "stream",
     "text": [
      "2025-09-04 12:52:10,644 - retrieval - INFO - No raw reports found for AEMULUS_HOLDINGS_BERHAD Annual Report & CG Report 2024\n"
     ]
    },
    {
     "ename": "ValueError",
     "evalue": "No raw reports found for AEMULUS_HOLDINGS_BERHAD Annual Report & CG Report 2024",
     "output_type": "error",
     "traceback": [
      "\u001b[0;31m---------------------------------------------------------------------------\u001b[0m\n",
      "\u001b[0;31mValueError\u001b[0m                                Traceback (most recent call last)\n",
      "Cell \u001b[0;32mIn[2], line 1\u001b[0m\n",
      "\u001b[0;32m----> 1\u001b[0m \u001b[38;5;28;01mawait\u001b[39;00m manager\u001b[38;5;241m.\u001b[39mparse_report(\n",
      "\u001b[1;32m      2\u001b[0m     company \u001b[38;5;241m=\u001b[39m \u001b[38;5;124m\"\u001b[39m\u001b[38;5;124mAEMULUS_HOLDINGS_BERHAD\u001b[39m\u001b[38;5;124m\"\u001b[39m,\n",
      "\u001b[1;32m      3\u001b[0m     report_type \u001b[38;5;241m=\u001b[39m ReportType\u001b[38;5;241m.\u001b[39mANNUAL,\n",
      "\u001b[1;32m      4\u001b[0m     year \u001b[38;5;241m=\u001b[39m \u001b[38;5;241m2024\u001b[39m,\n",
      "\u001b[1;32m      5\u001b[0m     \u001b[38;5;66;03m#forced_process = True\u001b[39;00m\n",
      "\u001b[1;32m      6\u001b[0m )\n",
      "\n",
      "File \u001b[0;32m~/Documents/UTAR/FYP/og-myrag/ogmyrag/report_retrieval/report_retrieval.py:89\u001b[0m, in \u001b[0;36mReportRetrievalManager.parse_report\u001b[0;34m(self, company, report_type, year, prompt, download_local, forced_process)\u001b[0m\n",
      "\u001b[1;32m     87\u001b[0m \u001b[38;5;28;01mif\u001b[39;00m \u001b[38;5;129;01mnot\u001b[39;00m raw_docs:\n",
      "\u001b[1;32m     88\u001b[0m     retrieval_logger\u001b[38;5;241m.\u001b[39minfo(\u001b[38;5;124mf\u001b[39m\u001b[38;5;124m\"\u001b[39m\u001b[38;5;124mNo raw reports found for \u001b[39m\u001b[38;5;132;01m{\u001b[39;00mcompany\u001b[38;5;132;01m}\u001b[39;00m\u001b[38;5;124m \u001b[39m\u001b[38;5;132;01m{\u001b[39;00mreport_type\u001b[38;5;241m.\u001b[39mkeyword\u001b[38;5;132;01m}\u001b[39;00m\u001b[38;5;124m \u001b[39m\u001b[38;5;132;01m{\u001b[39;00myear\u001b[38;5;132;01m}\u001b[39;00m\u001b[38;5;124m\"\u001b[39m)\n",
      "\u001b[0;32m---> 89\u001b[0m     \u001b[38;5;28;01mraise\u001b[39;00m \u001b[38;5;167;01mValueError\u001b[39;00m(\u001b[38;5;124mf\u001b[39m\u001b[38;5;124m\"\u001b[39m\u001b[38;5;124mNo raw reports found for \u001b[39m\u001b[38;5;132;01m{\u001b[39;00mcompany\u001b[38;5;132;01m}\u001b[39;00m\u001b[38;5;124m \u001b[39m\u001b[38;5;132;01m{\u001b[39;00mreport_type\u001b[38;5;241m.\u001b[39mkeyword\u001b[38;5;132;01m}\u001b[39;00m\u001b[38;5;124m \u001b[39m\u001b[38;5;132;01m{\u001b[39;00myear\u001b[38;5;132;01m}\u001b[39;00m\u001b[38;5;124m\"\u001b[39m)\n",
      "\u001b[1;32m     91\u001b[0m mode, docs_to_process \u001b[38;5;241m=\u001b[39m \u001b[38;5;28mself\u001b[39m\u001b[38;5;241m.\u001b[39mdetermine_mode(raw_docs, company, report_type, year, forced_process)\n",
      "\u001b[1;32m     93\u001b[0m \u001b[38;5;28;01mif\u001b[39;00m report_type\u001b[38;5;241m.\u001b[39mcollection \u001b[38;5;241m==\u001b[39m \u001b[38;5;124m\"\u001b[39m\u001b[38;5;124mipo_reports\u001b[39m\u001b[38;5;124m\"\u001b[39m:\n",
      "\n",
      "\u001b[0;31mValueError\u001b[0m: No raw reports found for AEMULUS_HOLDINGS_BERHAD Annual Report & CG Report 2024"
     ]
    }
   ],
   "source": [
    "await manager.parse_report(\n",
    "    company = \"AEMULUS_HOLDINGS_BERHAD\",\n",
    "    report_type = ReportType.ANNUAL,\n",
    "    year = 2024,\n",
    "    #forced_process = True\n",
    ")"
   ]
  },
  {
   "cell_type": "code",
   "execution_count": null,
   "id": "b5e2e95b",
   "metadata": {},
   "outputs": [
    {
     "name": "stderr",
     "output_type": "stream",
     "text": [
      "2025-08-30 00:02:53,692 - retrieval - INFO - Already processed and up to date.\n",
      "2025-08-30 00:02:53,693 - retrieval - INFO - Skipping processing, using existing content.\n",
      "2025-08-30 00:02:53,697 - retrieval - INFO - Extracting all the processed content.\n",
      "2025-08-30 00:02:53,841 - retrieval - INFO - Combining all the processed content.\n",
      "2025-08-30 00:02:53,841 - retrieval - INFO - Processed content ready.\n",
      "2025-08-30 00:02:53,874 - retrieval - INFO - Saved processed report to ./processed_report/VITROX_CORPORATION_BERHAD/VITROX_CORPORATION_BERHAD_ANNUAL_2024.md\n"
     ]
    }
   ],
   "source": [
    "await manager.parse_report(\n",
    "    company = \"VITROX_CORPORATION_BERHAD\",\n",
    "    report_type = ReportType.ANNUAL,\n",
    "    year = 2024,\n",
    "    #forced_process = True\n",
    ")"
   ]
  },
  {
   "cell_type": "code",
   "execution_count": null,
   "id": "3279d7b9",
   "metadata": {},
   "outputs": [
    {
     "name": "stderr",
     "output_type": "stream",
     "text": [
      "2025-08-29 23:17:01,701 - retrieval - INFO - Fresh processing of all docs.\n",
      "2025-08-29 23:17:01,702 - retrieval - INFO -      Uploading Farm_Fresh_Berhad_-_Integrated_Annual_Report_2024_(Part_1).pdf ...\n",
      "2025-08-29 23:17:01,919 - retrieval - INFO -      Uploading Farm_Fresh_Berhad_-_Integrated_Annual_Report_2024_(Part_2).pdf ...\n",
      "2025-08-29 23:17:02,046 - retrieval - INFO -      Uploading Farm_Fresh_Berhad_-_Integrated_Annual_Report_2024_(Part_3).pdf ...\n",
      "2025-08-29 23:17:02,193 - retrieval - INFO -      Uploading Farm_Fresh_Berhad_-_Integrated_Annual_Report_2024_(Part_4).pdf ...\n",
      "2025-08-29 23:17:02,314 - retrieval - INFO -      Uploading Farm_Fresh_Berhad_-_CG_Report_2024.pdf ...\n",
      "2025-08-29 23:17:13,266 - retrieval - INFO - Uploaded 5 PDFs\n",
      "2025-08-29 23:17:13,268 - retrieval - INFO - Fresh processing mode, extracting TOC.\n",
      "2025-08-29 23:17:13,298 - retrieval - INFO - Table of Contents already exists, skipping extraction.\n",
      "2025-08-29 23:17:13,319 - retrieval - INFO - Sections to extract: ['1. Overview of Farm Fresh Berhad', '2. Key Messages', '3. Value Creation at Farm Fresh', '4. Management Discussion and Analysis', '5. Leadership', '6. Our Governance', '7. Our Sustainability Journey', '8. Financial Statements', '9. Shareholders’ Information']\n",
      "2025-08-29 23:17:13,340 - retrieval - ERROR - Section '3. Value Creation at Farm Fresh' failed after retries.\n",
      "2025-08-29 23:17:13,342 - retrieval - ERROR - Section '5. Leadership' failed after retries.\n",
      "2025-08-29 23:17:13,343 - retrieval - ERROR - Section '2. Key Messages' failed after retries.\n",
      "2025-08-29 23:17:13,344 - retrieval - ERROR - Section '1. Overview of Farm Fresh Berhad' failed after retries.\n",
      "2025-08-29 23:17:13,345 - retrieval - ERROR - Section '4. Management Discussion and Analysis' failed after retries.\n",
      "2025-08-29 23:17:13,379 - retrieval - INFO - Chunking, Embedding, Upserting: 2. Key Messages\n",
      "2025-08-29 23:17:13,380 - retrieval - ERROR - Section '8. Financial Statements' failed after retries.\n",
      "2025-08-29 23:17:13,383 - retrieval - INFO - Chunking, Embedding, Upserting: 5. Leadership\n",
      "2025-08-29 23:17:13,384 - retrieval - ERROR - Section '9. Shareholders’ Information' failed after retries.\n",
      "2025-08-29 23:17:13,386 - retrieval - INFO - Chunking, Embedding, Upserting: 3. Value Creation at Farm Fresh\n",
      "2025-08-29 23:17:13,397 - retrieval - INFO - Chunking, Embedding, Upserting: 1. Overview of Farm Fresh Berhad\n",
      "2025-08-29 23:17:13,407 - retrieval - INFO - Chunking, Embedding, Upserting: 9. Shareholders’ Information\n",
      "2025-08-29 23:17:13,496 - retrieval - ERROR - Section '6. Our Governance' failed after retries.\n",
      "2025-08-29 23:17:13,506 - retrieval - ERROR - Section '7. Our Sustainability Journey' failed after retries.\n",
      "2025-08-29 23:17:31,090 - retrieval - INFO - Embedded & upserted 64 chunks for section: 3. Value Creation at Farm Fresh\n",
      "2025-08-29 23:17:31,091 - retrieval - INFO - Chunking, Embedding, Upserting: 8. Financial Statements\n",
      "2025-08-29 23:17:31,284 - retrieval - INFO - Embedded & upserted 84 chunks for section: 9. Shareholders’ Information\n",
      "2025-08-29 23:17:31,285 - retrieval - INFO - Chunking, Embedding, Upserting: 4. Management Discussion and Analysis\n",
      "2025-08-29 23:17:33,904 - retrieval - INFO - Embedded & upserted 79 chunks for section: 1. Overview of Farm Fresh Berhad\n",
      "2025-08-29 23:17:33,907 - retrieval - INFO - Chunking, Embedding, Upserting: 6. Our Governance\n",
      "2025-08-29 23:17:34,899 - retrieval - INFO - Embedded & upserted 93 chunks for section: 5. Leadership\n",
      "2025-08-29 23:17:34,899 - retrieval - INFO - Chunking, Embedding, Upserting: 7. Our Sustainability Journey\n",
      "2025-08-29 23:17:37,594 - retrieval - INFO - Embedded & upserted 71 chunks for section: 2. Key Messages\n",
      "2025-08-29 23:17:49,730 - retrieval - INFO - Embedded & upserted 111 chunks for section: 8. Financial Statements\n",
      "2025-08-29 23:18:05,862 - retrieval - INFO - Embedded & upserted 233 chunks for section: 4. Management Discussion and Analysis\n",
      "2025-08-29 23:18:12,763 - retrieval - INFO - Embedded & upserted 177 chunks for section: 6. Our Governance\n",
      "2025-08-29 23:18:44,407 - retrieval - INFO - Embedded & upserted 428 chunks for section: 7. Our Sustainability Journey\n",
      "2025-08-29 23:18:44,408 - retrieval - INFO - Extraction summary: 9/9 sections succeeded, 0 failed.\n",
      "2025-08-29 23:18:44,408 - retrieval - INFO - All sections extracted.\n",
      "2025-08-29 23:18:44,445 - retrieval - INFO - Saved processed report to ./processed_report/FARM_FRESH_BERHAD/FARM_FRESH_BERHAD_ANNUAL_2024.md\n"
     ]
    }
   ],
   "source": [
    "await manager.parse_report(\n",
    "    company = \"FARM_FRESH_BERHAD\",\n",
    "    report_type = ReportType.ANNUAL,\n",
    "    year = 2024,\n",
    "    #forced_process = True\n",
    ")"
   ]
  }
 ],
 "metadata": {
  "kernelspec": {
   "display_name": "myenv",
   "language": "python",
   "name": "python3"
  },
  "language_info": {
   "codemirror_mode": {
    "name": "ipython",
    "version": 3
   },
   "file_extension": ".py",
   "mimetype": "text/x-python",
   "name": "python",
   "nbconvert_exporter": "python",
   "pygments_lexer": "ipython3",
   "version": "3.10.18"
  }
 },
 "nbformat": 4,
 "nbformat_minor": 5
}

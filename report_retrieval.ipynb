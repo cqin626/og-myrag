{
 "cells": [
  {
   "cell_type": "code",
   "execution_count": 1,
   "id": "db495be8",
   "metadata": {},
   "outputs": [
    {
     "name": "stderr",
     "output_type": "stream",
     "text": [
      "2025-08-07 09:40:19,514 - retrieval - INFO - \n",
      "================================================================================\n",
      "2025-08-07 09:40:19,533 - retrieval - INFO - Connected to MongoDB database: FYP\n"
     ]
    }
   ],
   "source": [
    "import logging\n",
    "import os\n",
    "import asyncio\n",
    "\n",
    "from ogmyrag.report_retrieval.report_retrieval import ReportRetrievalManager\n",
    "from ogmyrag.report_retrieval.retrieval_embedder import RetrievalEmbedder\n",
    "from ogmyrag.report_retrieval.retrieval_extractor import RetrievalExtractor\n",
    "from ogmyrag.report_retrieval.retrieval_storage import RetrievalAsyncStorageManager\n",
    "from ogmyrag.report_scraper.models import ReportType\n",
    "from ogmyrag.my_logging import configure_logger\n",
    "\n",
    "from dotenv import load_dotenv\n",
    "\n",
    "retrieval_logger = configure_logger(name='retrieval',log_level=logging.INFO, log_file='logs/retrieval.log')\n",
    "retrieval_logger.info(\"\\n\" + \"=\" * 80)\n",
    "\n",
    "load_dotenv(override=True)\n",
    "\n",
    "mongo_db_uri = os.getenv(\"MONGO_DB_URI_JJ\",\"\")\n",
    "pinecone_api_key = os.getenv(\"PINECONE_API_KEY_JJ\",\"\")\n",
    "genai_api_key = os.getenv(\"GENAI_API_KEY_JJ\",\"\")\n",
    "openai_api_key = os.getenv(\"OPENAI_API_KEY\", \"\")\n",
    "\n",
    "INDEX_NAME = \"markdown-summary-index\"\n",
    "EMBED_MODEL = \"text-embedding-3-small\"\n",
    "DIMENSION = 1536\n",
    "#GENAI_MODEL = \"gemini-2.5-pro\"\n",
    "GENAI_MODEL = \"gemini-2.5-flash\"\n",
    "OPENAI_MODEL = \"gpt-4.1-nano-2025-04-14\"\n",
    "\n",
    "db_name = \"FYP\"\n",
    "storage = RetrievalAsyncStorageManager(mongo_uri=mongo_db_uri, db_name=db_name)\n",
    "\n",
    "embedder = RetrievalEmbedder(\n",
    "    openai_api_key = openai_api_key,\n",
    "    pinecone_api_key = pinecone_api_key,\n",
    "    embed_model = EMBED_MODEL,\n",
    "    index_name = INDEX_NAME,\n",
    "    dimension = DIMENSION\n",
    ")\n",
    "\n",
    "extractor = RetrievalExtractor(\n",
    "    openai_api_key = openai_api_key,\n",
    "    pinecone_api_key = pinecone_api_key,\n",
    "    embed_model = EMBED_MODEL,\n",
    "    index_name = INDEX_NAME\n",
    ")\n",
    "\n",
    "manager = ReportRetrievalManager(\n",
    "    storage = storage,\n",
    "    embedder = embedder,\n",
    "    extractor = extractor,\n",
    "    genai_model = GENAI_MODEL,\n",
    "    genai_api_key = genai_api_key,\n",
    "    openai_api_key = openai_api_key,\n",
    "    #dry_run = False\n",
    ")"
   ]
  },
  {
   "cell_type": "markdown",
   "id": "ad800a0c",
   "metadata": {},
   "source": [
    "## Process Financial Reports (PDF)"
   ]
  },
  {
   "cell_type": "code",
   "execution_count": 6,
   "id": "9470e200",
   "metadata": {},
   "outputs": [
    {
     "name": "stderr",
     "output_type": "stream",
     "text": [
      "2025-08-07 10:13:28,154 - retrieval - INFO - Processed report found.\n",
      "2025-08-07 10:13:28,310 - retrieval - INFO - Saved processed report to ./processed_report/VETECE_HOLDINGS_BERHAD/VETECE_HOLDINGS_BERHAD_IPO.md\n"
     ]
    }
   ],
   "source": [
    "await manager.parse_report(\n",
    "    company = \"VETECE_HOLDINGS_BERHAD\",\n",
    "    report_type = ReportType.IPO\n",
    ")"
   ]
  },
  {
   "cell_type": "code",
   "execution_count": 4,
   "id": "7a6edeb0",
   "metadata": {},
   "outputs": [
    {
     "name": "stderr",
     "output_type": "stream",
     "text": [
      "2025-08-07 09:42:37,949 - retrieval - INFO - Processed report found.\n",
      "2025-08-07 09:42:38,121 - retrieval - INFO - Saved processed report to ./processed_report/CABNET_HOLDINGS_BERHAD/CABNET_HOLDINGS_BERHAD_IPO.md\n"
     ]
    }
   ],
   "source": [
    "await manager.parse_report(\n",
    "    company = \"CABNET_HOLDINGS_BERHAD\",\n",
    "    report_type = ReportType.IPO\n",
    ")"
   ]
  },
  {
   "cell_type": "code",
   "execution_count": 5,
   "id": "0a2ad320",
   "metadata": {},
   "outputs": [
    {
     "name": "stderr",
     "output_type": "stream",
     "text": [
      "2025-08-07 09:43:02,166 - retrieval - INFO - Processed report found.\n",
      "2025-08-07 09:43:02,296 - retrieval - INFO - Saved processed report to ./processed_report/AUTOCOUNT_DOTCOM_BERHAD/AUTOCOUNT_DOTCOM_BERHAD_IPO.md\n"
     ]
    }
   ],
   "source": [
    "await manager.parse_report(\n",
    "    company = \"AUTOCOUNT_DOTCOM_BERHAD\",\n",
    "    report_type = ReportType.IPO\n",
    ")"
   ]
  },
  {
   "cell_type": "markdown",
   "id": "be9ccdb1",
   "metadata": {},
   "source": [
    "## Simple User Query"
   ]
  },
  {
   "cell_type": "code",
   "execution_count": 4,
   "id": "74cb53bf",
   "metadata": {},
   "outputs": [
    {
     "name": "stderr",
     "output_type": "stream",
     "text": [
      "2025-08-03 11:40:56,916 - retrieval - INFO - Embedding query: 'What is the mission and vision?'\n",
      "2025-08-03 11:40:58,284 - retrieval - INFO - Retrieved chunks: ['**Vision & mission statement:**', '*   **Our Promise (Vision):** \"TO BE A SUSTAINABLE AND HONEST FOOD COMPANY THAT HAS AN INGRAINED CULTURE OF PLACING THE WELL-BEING OF CONSUMERS FIRST, CULMINATING IN STRONG BRAND LOVE.\" (pg 12)', '*   **Our Action Plan (Mission):** Farm Fresh achieves its brand promise by:', \"**Business strategy and outlook:** The Group's strategy is centered on three core pillars: Expansion, Innovation, and Reputation. (pg 62-63)\", '## Leadership & Governance']\n",
      "2025-08-03 11:40:59,134 - retrieval - INFO - Response generated: The vision of the company is to be a sustainable and honest food company that has an ingrained culture of placing the well-being of consumers first, culminating in strong brand love.\n",
      "\n",
      "The mission focuses on achieving this promise by implementing specific actions, although the detailed action plan is outlined in the company's strategy document. (TOKEN: 206)\n"
     ]
    },
    {
     "data": {
      "text/plain": [
       "\"The vision of the company is to be a sustainable and honest food company that has an ingrained culture of placing the well-being of consumers first, culminating in strong brand love.\\n\\nThe mission focuses on achieving this promise by implementing specific actions, although the detailed action plan is outlined in the company's strategy document.\""
      ]
     },
     "execution_count": 4,
     "metadata": {},
     "output_type": "execute_result"
    }
   ],
   "source": [
    "manager.answer_query(\n",
    "    company = \"FARM_FRESH_BERHAD\",\n",
    "    query = \"What is the mission and vision?\",\n",
    "    top_k = 5,\n",
    "    chat_model = OPENAI_MODEL\n",
    ")"
   ]
  }
 ],
 "metadata": {
  "kernelspec": {
   "display_name": "myenv",
   "language": "python",
   "name": "python3"
  },
  "language_info": {
   "codemirror_mode": {
    "name": "ipython",
    "version": 3
   },
   "file_extension": ".py",
   "mimetype": "text/x-python",
   "name": "python",
   "nbconvert_exporter": "python",
   "pygments_lexer": "ipython3",
   "version": "3.10.18"
  }
 },
 "nbformat": 4,
 "nbformat_minor": 5
}

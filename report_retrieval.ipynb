{
 "cells": [
  {
   "cell_type": "code",
   "execution_count": 1,
   "id": "db495be8",
   "metadata": {},
   "outputs": [
    {
     "name": "stderr",
     "output_type": "stream",
     "text": [
      "2025-08-21 13:35:37,517 - retrieval - INFO - \n",
      "================================================================================\n",
      "2025-08-21 13:35:37,526 - retrieval - INFO - Connected to MongoDB database: FYP\n"
     ]
    }
   ],
   "source": [
    "import logging\n",
    "import os\n",
    "import asyncio\n",
    "\n",
    "from ogmyrag.report_retrieval.report_retrieval import ReportRetrievalManager\n",
    "from ogmyrag.report_retrieval.retrieval_embedder import RetrievalEmbedder\n",
    "from ogmyrag.report_retrieval.retrieval_extractor import RetrievalExtractor\n",
    "from ogmyrag.report_retrieval.retrieval_storage import RetrievalAsyncStorageManager\n",
    "from ogmyrag.report_scraper.models import ReportType\n",
    "from ogmyrag.my_logging import configure_logger\n",
    "\n",
    "from dotenv import load_dotenv\n",
    "\n",
    "retrieval_logger = configure_logger(name='retrieval',log_level=logging.INFO, log_file='logs/retrieval.log')\n",
    "retrieval_logger.info(\"\\n\" + \"=\" * 80)\n",
    "\n",
    "load_dotenv(override=True)\n",
    "\n",
    "mongo_db_uri = os.getenv(\"MONGO_DB_URI_JJ\",\"\")\n",
    "pinecone_api_key = os.getenv(\"PINECONE_API_KEY_JJ\",\"\")\n",
    "genai_api_key = os.getenv(\"GENAI_API_KEY_JJ\",\"\")\n",
    "openai_api_key = os.getenv(\"OPENAI_API_KEY\", \"\")\n",
    "\n",
    "INDEX_NAME = \"markdown-summary-index\"\n",
    "EMBED_MODEL = \"text-embedding-3-small\"\n",
    "DIMENSION = 1536\n",
    "GENAI_MODEL = \"gemini-2.5-pro\"\n",
    "#GENAI_MODEL = \"gemini-2.5-flash\"\n",
    "OPENAI_MODEL = \"gpt-4.1-nano-2025-04-14\"\n",
    "\n",
    "db_name = \"FYP\"\n",
    "storage = RetrievalAsyncStorageManager(mongo_uri=mongo_db_uri, db_name=db_name)\n",
    "\n",
    "embedder = RetrievalEmbedder(\n",
    "    openai_api_key = openai_api_key,\n",
    "    pinecone_api_key = pinecone_api_key,\n",
    "    embed_model = EMBED_MODEL,\n",
    "    index_name = INDEX_NAME,\n",
    "    dimension = DIMENSION\n",
    ")\n",
    "\n",
    "extractor = RetrievalExtractor(\n",
    "    openai_api_key = openai_api_key,\n",
    "    pinecone_api_key = pinecone_api_key,\n",
    "    embed_model = EMBED_MODEL,\n",
    "    index_name = INDEX_NAME\n",
    ")\n",
    "\n",
    "manager = ReportRetrievalManager(\n",
    "    storage = storage,\n",
    "    embedder = embedder,\n",
    "    extractor = extractor,\n",
    "    genai_model = GENAI_MODEL,\n",
    "    genai_api_key = genai_api_key,\n",
    "    openai_api_key = openai_api_key,\n",
    "    #dry_run = False\n",
    ")"
   ]
  },
  {
   "cell_type": "markdown",
   "id": "ad800a0c",
   "metadata": {},
   "source": [
    "## Process Financial Reports (PDF)"
   ]
  },
  {
   "cell_type": "code",
   "execution_count": 2,
   "id": "073006ac",
   "metadata": {},
   "outputs": [
    {
     "name": "stderr",
     "output_type": "stream",
     "text": [
      "2025-08-21 13:35:40,058 - retrieval - INFO - Already processed and up to date.\n",
      "2025-08-21 13:35:40,059 - retrieval - INFO - Skipping processing, using existing content.\n",
      "2025-08-21 13:35:40,060 - retrieval - INFO - Extracting all the processed content.\n",
      "2025-08-21 13:35:40,192 - retrieval - INFO - Combining all the processed content.\n",
      "2025-08-21 13:35:40,194 - retrieval - INFO - Processed content ready.\n"
     ]
    },
    {
     "ename": "ValueError",
     "evalue": "too many values to unpack (expected 2)",
     "output_type": "error",
     "traceback": [
      "\u001b[0;31m---------------------------------------------------------------------------\u001b[0m",
      "\u001b[0;31mValueError\u001b[0m                                Traceback (most recent call last)",
      "Cell \u001b[0;32mIn[2], line 1\u001b[0m\n\u001b[0;32m----> 1\u001b[0m \u001b[38;5;28;01mawait\u001b[39;00m manager\u001b[38;5;241m.\u001b[39mparse_report(\n\u001b[1;32m      2\u001b[0m     company \u001b[38;5;241m=\u001b[39m \u001b[38;5;124m\"\u001b[39m\u001b[38;5;124mEDELTEQ HOLDINGS BERHAD\u001b[39m\u001b[38;5;124m\"\u001b[39m,\n\u001b[1;32m      3\u001b[0m     report_type \u001b[38;5;241m=\u001b[39m ReportType\u001b[38;5;241m.\u001b[39mIPO,\n\u001b[1;32m      4\u001b[0m     \u001b[38;5;66;03m#forced_process = True\u001b[39;00m\n\u001b[1;32m      5\u001b[0m )\n",
      "File \u001b[0;32m~/Documents/UTAR/FYP/og-myrag/ogmyrag/report_retrieval/report_retrieval.py:93\u001b[0m, in \u001b[0;36mReportRetrievalManager.parse_report\u001b[0;34m(self, company, report_type, year, prompt, download_local, forced_process)\u001b[0m\n\u001b[1;32m     90\u001b[0m mode, docs_to_process \u001b[38;5;241m=\u001b[39m \u001b[38;5;28mself\u001b[39m\u001b[38;5;241m.\u001b[39mdetermine_mode(raw_docs, company, report_type, year, forced_process)\n\u001b[1;32m     92\u001b[0m \u001b[38;5;28;01mif\u001b[39;00m report_type\u001b[38;5;241m.\u001b[39mcollection \u001b[38;5;241m==\u001b[39m \u001b[38;5;124m\"\u001b[39m\u001b[38;5;124mipo_reports\u001b[39m\u001b[38;5;124m\"\u001b[39m:\n\u001b[0;32m---> 93\u001b[0m     final_md, contents_dict \u001b[38;5;241m=\u001b[39m \u001b[38;5;28;01mawait\u001b[39;00m \u001b[38;5;28mself\u001b[39m\u001b[38;5;241m.\u001b[39mparse_ipo(company, year, report_type, docs_to_process, mode)\n\u001b[1;32m     94\u001b[0m \u001b[38;5;28;01melif\u001b[39;00m report_type\u001b[38;5;241m.\u001b[39mcollection \u001b[38;5;241m==\u001b[39m \u001b[38;5;124m\"\u001b[39m\u001b[38;5;124mannual_reports\u001b[39m\u001b[38;5;124m\"\u001b[39m:\n\u001b[1;32m     95\u001b[0m     final_md, contents_dict \u001b[38;5;241m=\u001b[39m \u001b[38;5;28;01mawait\u001b[39;00m \u001b[38;5;28mself\u001b[39m\u001b[38;5;241m.\u001b[39mparse_annual(company, year, report_type, docs_to_process, mode)\n",
      "\u001b[0;31mValueError\u001b[0m: too many values to unpack (expected 2)"
     ]
    }
   ],
   "source": [
    "await manager.parse_report(\n",
    "    company = \"EDELTEQ HOLDINGS BERHAD\",\n",
    "    report_type = ReportType.IPO,\n",
    "    #forced_process = True\n",
    ")"
   ]
  },
  {
   "cell_type": "code",
   "execution_count": 2,
   "id": "9470e200",
   "metadata": {},
   "outputs": [
    {
     "name": "stderr",
     "output_type": "stream",
     "text": [
      "2025-08-21 12:09:04,515 - retrieval - INFO - Fresh processing of all docs.\n",
      "2025-08-21 12:09:04,516 - retrieval - INFO -      Uploading 01._VETECE_Holdings_Berhad_-_Prospectus_(Part_1).pdf ...\n",
      "2025-08-21 12:09:04,749 - retrieval - INFO -      Uploading 02._VETECE_Holdings_Berhad_-_Prospectus_(Part_2).pdf ...\n",
      "2025-08-21 12:09:04,892 - retrieval - INFO -      Uploading 03._VETECE_Holdings_Berhad_-_Detailed_Procedures_for_Application.pdf ...\n",
      "2025-08-21 12:09:12,672 - retrieval - INFO - Uploaded 3 PDFs\n",
      "2025-08-21 12:09:12,674 - retrieval - INFO - Fresh processing mode, extracting definitions and TOC.\n",
      "2025-08-21 12:09:12,695 - retrieval - INFO - Definitions already exist, skipping extraction.\n",
      "2025-08-21 12:09:12,716 - retrieval - INFO - Table of Contents already exists, skipping extraction.\n",
      "2025-08-21 12:09:12,740 - retrieval - INFO - Sections to extract: ['1. CORPORATE DIRECTORY', '2. APPROVALS AND CONDITIONS', '3. PROSPECTUS SUMMARY', '4. DETAILS OF OUR IPO', '5. INFORMATION ON OUR PROMOTERS, SUBSTANTIAL SHAREHOLDER, DIRECTORS AND KEY SENIOR MANAGEMENT', '6. INFORMATION ON OUR GROUP', '7. BUSINESS OVERVIEW', '8. INDEPENDENT MARKET RESEARCH REPORT', '9. RISK FACTORS', '10. RELATED PARTY TRANSACTIONS', '11. CONFLICT OF INTEREST', '12. FINANCIAL INFORMATION', '13. REPORTING ACCOUNTANTS’ REPORT ON THE PRO FORMA COMBINED STATEMENTS OF FINANCIAL POSITION', '14. ACCOUNTANTS’ REPORT', '15. ADDITIONAL INFORMATION', '16. SUMMARISED PROCEDURES FOR APPLICATION AND ACCEPTANCE']\n",
      "2025-08-21 12:09:12,762 - retrieval - INFO - Extracting section: 1. CORPORATE DIRECTORY\n",
      "2025-08-21 12:09:12,787 - retrieval - INFO - Extracting section: 4. DETAILS OF OUR IPO\n",
      "2025-08-21 12:09:12,809 - retrieval - INFO - Extracting section: 5. INFORMATION ON OUR PROMOTERS, SUBSTANTIAL SHAREHOLDER, DIRECTORS AND KEY SENIOR MANAGEMENT\n",
      "2025-08-21 12:09:12,830 - retrieval - INFO - Extracting section: 6. INFORMATION ON OUR GROUP\n",
      "2025-08-21 12:09:12,850 - retrieval - INFO - Extracting section: 7. BUSINESS OVERVIEW\n",
      "2025-08-21 12:09:13,151 - retrieval - WARNING - Section '6. INFORMATION ON OUR GROUP' attempt 1 failed: 429 RESOURCE_EXHAUSTED. {'error': {'code': 429, 'message': 'You exceeded your current quota, please check your plan and billing details. For more information on this error, head to: https://ai.google.dev/gemini-api/docs/rate-limits.', 'status': 'RESOURCE_EXHAUSTED', 'details': [{'@type': 'type.googleapis.com/google.rpc.QuotaFailure', 'violations': [{'quotaMetric': 'generativelanguage.googleapis.com/generate_content_free_tier_requests', 'quotaId': 'GenerateRequestsPerMinutePerProjectPerModel-FreeTier', 'quotaDimensions': {'location': 'global', 'model': 'gemini-2.5-pro'}, 'quotaValue': '2'}]}, {'@type': 'type.googleapis.com/google.rpc.Help', 'links': [{'description': 'Learn more about Gemini API quotas', 'url': 'https://ai.google.dev/gemini-api/docs/rate-limits'}]}, {'@type': 'type.googleapis.com/google.rpc.RetryInfo', 'retryDelay': '46s'}]}}; sleeping 48.5s\n",
      "2025-08-21 12:09:13,157 - retrieval - WARNING - Section '7. BUSINESS OVERVIEW' attempt 1 failed: 429 RESOURCE_EXHAUSTED. {'error': {'code': 429, 'message': 'You exceeded your current quota, please check your plan and billing details. For more information on this error, head to: https://ai.google.dev/gemini-api/docs/rate-limits.', 'status': 'RESOURCE_EXHAUSTED', 'details': [{'@type': 'type.googleapis.com/google.rpc.QuotaFailure', 'violations': [{'quotaMetric': 'generativelanguage.googleapis.com/generate_content_free_tier_requests', 'quotaId': 'GenerateRequestsPerMinutePerProjectPerModel-FreeTier', 'quotaDimensions': {'location': 'global', 'model': 'gemini-2.5-pro'}, 'quotaValue': '2'}]}, {'@type': 'type.googleapis.com/google.rpc.Help', 'links': [{'description': 'Learn more about Gemini API quotas', 'url': 'https://ai.google.dev/gemini-api/docs/rate-limits'}]}, {'@type': 'type.googleapis.com/google.rpc.RetryInfo', 'retryDelay': '46s'}]}}; sleeping 48.4s\n",
      "2025-08-21 12:09:48,078 - retrieval - INFO - Definition tokens: prompt = 101542, output = 1854, total = 103616\n",
      "2025-08-21 12:09:48,081 - retrieval - INFO - Section: 1. CORPORATE DIRECTORY saved in DB\n",
      "2025-08-21 12:10:01,604 - retrieval - INFO - Extracting section: 2. APPROVALS AND CONDITIONS\n",
      "2025-08-21 12:10:01,609 - retrieval - INFO - Extracting section: 7. BUSINESS OVERVIEW\n",
      "2025-08-21 12:10:01,620 - retrieval - INFO - Extracting section: 6. INFORMATION ON OUR GROUP\n",
      "2025-08-21 12:10:02,938 - retrieval - WARNING - Section '7. BUSINESS OVERVIEW' attempt 2 failed: 429 RESOURCE_EXHAUSTED. {'error': {'code': 429, 'message': 'You exceeded your current quota, please check your plan and billing details. For more information on this error, head to: https://ai.google.dev/gemini-api/docs/rate-limits.', 'status': 'RESOURCE_EXHAUSTED', 'details': [{'@type': 'type.googleapis.com/google.rpc.QuotaFailure', 'violations': [{'quotaMetric': 'generativelanguage.googleapis.com/generate_content_free_tier_requests', 'quotaId': 'GenerateRequestsPerMinutePerProjectPerModel-FreeTier', 'quotaDimensions': {'model': 'gemini-2.5-pro', 'location': 'global'}, 'quotaValue': '2'}]}, {'@type': 'type.googleapis.com/google.rpc.Help', 'links': [{'description': 'Learn more about Gemini API quotas', 'url': 'https://ai.google.dev/gemini-api/docs/rate-limits'}]}, {'@type': 'type.googleapis.com/google.rpc.RetryInfo', 'retryDelay': '57s'}]}}; sleeping 58.7s\n",
      "2025-08-21 12:10:52,473 - retrieval - INFO - Definition tokens: prompt = 101545, output = 2278, total = 105833\n",
      "2025-08-21 12:10:52,476 - retrieval - INFO - Section: 2. APPROVALS AND CONDITIONS saved in DB\n",
      "2025-08-21 12:10:52,478 - retrieval - INFO - Extracting section: 9. RISK FACTORS\n",
      "2025-08-21 12:11:01,607 - retrieval - INFO - Extracting section: 7. BUSINESS OVERVIEW\n",
      "2025-08-21 12:11:41,121 - retrieval - INFO - Definition tokens: prompt = 101542, output = 8494, total = 110967\n",
      "2025-08-21 12:11:41,124 - retrieval - INFO - Section: 6. INFORMATION ON OUR GROUP saved in DB\n",
      "2025-08-21 12:11:41,126 - retrieval - INFO - Extracting section: 10. RELATED PARTY TRANSACTIONS\n",
      "2025-08-21 12:12:34,237 - retrieval - INFO - Definition tokens: prompt = 101548, output = 4085, total = 106196\n",
      "2025-08-21 12:12:34,238 - retrieval - INFO - Section: 10. RELATED PARTY TRANSACTIONS saved in DB\n",
      "2025-08-21 12:12:34,240 - retrieval - INFO - Extracting section: 3. PROSPECTUS SUMMARY\n",
      "2025-08-21 12:12:44,981 - retrieval - INFO - Definition tokens: prompt = 101542, output = 17771, total = 119952\n",
      "2025-08-21 12:12:44,983 - retrieval - INFO - Section: 4. DETAILS OF OUR IPO saved in DB\n",
      "2025-08-21 12:12:44,984 - retrieval - INFO - Extracting section: 13. REPORTING ACCOUNTANTS’ REPORT ON THE PRO FORMA COMBINED STATEMENTS OF FINANCIAL POSITION\n",
      "2025-08-21 12:12:45,282 - retrieval - WARNING - Section '13. REPORTING ACCOUNTANTS’ REPORT ON THE PRO FORMA COMBINED STATEMENTS OF FINANCIAL POSITION' attempt 1 failed: 429 RESOURCE_EXHAUSTED. {'error': {'code': 429, 'message': 'You exceeded your current quota, please check your plan and billing details. For more information on this error, head to: https://ai.google.dev/gemini-api/docs/rate-limits.', 'status': 'RESOURCE_EXHAUSTED', 'details': [{'@type': 'type.googleapis.com/google.rpc.QuotaFailure', 'violations': [{'quotaMetric': 'generativelanguage.googleapis.com/generate_content_free_tier_input_token_count', 'quotaId': 'GenerateContentInputTokensPerModelPerMinute-FreeTier', 'quotaDimensions': {'location': 'global', 'model': 'gemini-2.5-pro'}, 'quotaValue': '125000'}]}, {'@type': 'type.googleapis.com/google.rpc.Help', 'links': [{'description': 'Learn more about Gemini API quotas', 'url': 'https://ai.google.dev/gemini-api/docs/rate-limits'}]}, {'@type': 'type.googleapis.com/google.rpc.RetryInfo', 'retryDelay': '14s'}]}}; sleeping 49.0s\n",
      "2025-08-21 12:12:50,311 - retrieval - INFO - Definition tokens: prompt = 101536, output = 8132, total = 111554\n",
      "2025-08-21 12:12:50,313 - retrieval - INFO - Section: 9. RISK FACTORS saved in DB\n",
      "2025-08-21 12:12:50,315 - retrieval - INFO - Extracting section: 12. FINANCIAL INFORMATION\n",
      "2025-08-21 12:12:50,639 - retrieval - WARNING - Section '12. FINANCIAL INFORMATION' attempt 1 failed: 429 RESOURCE_EXHAUSTED. {'error': {'code': 429, 'message': 'You exceeded your current quota, please check your plan and billing details. For more information on this error, head to: https://ai.google.dev/gemini-api/docs/rate-limits.', 'status': 'RESOURCE_EXHAUSTED', 'details': [{'@type': 'type.googleapis.com/google.rpc.QuotaFailure', 'violations': [{'quotaMetric': 'generativelanguage.googleapis.com/generate_content_free_tier_input_token_count', 'quotaId': 'GenerateContentInputTokensPerModelPerMinute-FreeTier', 'quotaDimensions': {'location': 'global', 'model': 'gemini-2.5-pro'}, 'quotaValue': '125000'}]}, {'@type': 'type.googleapis.com/google.rpc.Help', 'links': [{'description': 'Learn more about Gemini API quotas', 'url': 'https://ai.google.dev/gemini-api/docs/rate-limits'}]}, {'@type': 'type.googleapis.com/google.rpc.RetryInfo', 'retryDelay': '9s'}]}}; sleeping 43.6s\n",
      "2025-08-21 12:13:34,242 - retrieval - INFO - Extracting section: 12. FINANCIAL INFORMATION\n",
      "2025-08-21 12:13:34,244 - retrieval - INFO - Extracting section: 13. REPORTING ACCOUNTANTS’ REPORT ON THE PRO FORMA COMBINED STATEMENTS OF FINANCIAL POSITION\n",
      "2025-08-21 12:14:16,171 - retrieval - INFO - Definition tokens: prompt = 101542, output = 8130, total = 110758\n",
      "2025-08-21 12:14:16,173 - retrieval - INFO - Section: 3. PROSPECTUS SUMMARY saved in DB\n",
      "2025-08-21 12:14:16,175 - retrieval - INFO - Extracting section: 14. ACCOUNTANTS’ REPORT\n",
      "2025-08-21 12:14:29,876 - retrieval - INFO - Definition tokens: prompt = 101596, output = 25602, total = 131509\n",
      "2025-08-21 12:14:29,878 - retrieval - INFO - Section: 5. INFORMATION ON OUR PROMOTERS, SUBSTANTIAL SHAREHOLDER, DIRECTORS AND KEY SENIOR MANAGEMENT saved in DB\n",
      "2025-08-21 12:14:29,880 - retrieval - INFO - Extracting section: 15. ADDITIONAL INFORMATION\n",
      "2025-08-21 12:14:30,253 - retrieval - WARNING - Section '15. ADDITIONAL INFORMATION' attempt 1 failed: 429 RESOURCE_EXHAUSTED. {'error': {'code': 429, 'message': 'You exceeded your current quota, please check your plan and billing details. For more information on this error, head to: https://ai.google.dev/gemini-api/docs/rate-limits.', 'status': 'RESOURCE_EXHAUSTED', 'details': [{'@type': 'type.googleapis.com/google.rpc.QuotaFailure', 'violations': [{'quotaMetric': 'generativelanguage.googleapis.com/generate_content_free_tier_input_token_count', 'quotaId': 'GenerateContentInputTokensPerModelPerMinute-FreeTier', 'quotaDimensions': {'location': 'global', 'model': 'gemini-2.5-pro'}, 'quotaValue': '125000'}]}, {'@type': 'type.googleapis.com/google.rpc.Help', 'links': [{'description': 'Learn more about Gemini API quotas', 'url': 'https://ai.google.dev/gemini-api/docs/rate-limits'}]}, {'@type': 'type.googleapis.com/google.rpc.RetryInfo', 'retryDelay': '29s'}]}}; sleeping 4.0s\n",
      "2025-08-21 12:14:34,244 - retrieval - INFO - Extracting section: 15. ADDITIONAL INFORMATION\n",
      "2025-08-21 12:14:34,569 - retrieval - WARNING - Section '15. ADDITIONAL INFORMATION' attempt 2 failed: 429 RESOURCE_EXHAUSTED. {'error': {'code': 429, 'message': 'You exceeded your current quota, please check your plan and billing details. For more information on this error, head to: https://ai.google.dev/gemini-api/docs/rate-limits.', 'status': 'RESOURCE_EXHAUSTED', 'details': [{'@type': 'type.googleapis.com/google.rpc.QuotaFailure', 'violations': [{'quotaMetric': 'generativelanguage.googleapis.com/generate_content_free_tier_input_token_count', 'quotaId': 'GenerateContentInputTokensPerModelPerMinute-FreeTier', 'quotaDimensions': {'location': 'global', 'model': 'gemini-2.5-pro'}, 'quotaValue': '125000'}]}, {'@type': 'type.googleapis.com/google.rpc.Help', 'links': [{'description': 'Learn more about Gemini API quotas', 'url': 'https://ai.google.dev/gemini-api/docs/rate-limits'}]}, {'@type': 'type.googleapis.com/google.rpc.RetryInfo', 'retryDelay': '25s'}]}}; sleeping 59.7s\n",
      "2025-08-21 12:15:25,602 - retrieval - INFO - Definition tokens: prompt = 101587, output = 8174, total = 112013\n",
      "2025-08-21 12:15:25,604 - retrieval - INFO - Section: 13. REPORTING ACCOUNTANTS’ REPORT ON THE PRO FORMA COMBINED STATEMENTS OF FINANCIAL POSITION saved in DB\n",
      "2025-08-21 12:15:25,606 - retrieval - INFO - Extracting section: 16. SUMMARISED PROCEDURES FOR APPLICATION AND ACCEPTANCE\n",
      "2025-08-21 12:15:34,247 - retrieval - INFO - Extracting section: 15. ADDITIONAL INFORMATION\n",
      "2025-08-21 12:16:30,108 - retrieval - INFO - Definition tokens: prompt = 101566, output = 4817, total = 106987\n",
      "2025-08-21 12:16:30,109 - retrieval - INFO - Section: 16. SUMMARISED PROCEDURES FOR APPLICATION AND ACCEPTANCE saved in DB\n",
      "2025-08-21 12:16:30,111 - retrieval - INFO - Extracting section: 8. INDEPENDENT MARKET RESEARCH REPORT\n",
      "2025-08-21 12:17:15,738 - retrieval - INFO - Definition tokens: prompt = 101539, output = 7755, total = 110031\n",
      "2025-08-21 12:17:15,739 - retrieval - INFO - Section: 15. ADDITIONAL INFORMATION saved in DB\n",
      "2025-08-21 12:17:15,741 - retrieval - INFO - Extracting section: 11. CONFLICT OF INTEREST\n",
      "2025-08-21 12:17:37,449 - retrieval - INFO - Definition tokens: prompt = 101545, output = 1162, total = 103088\n",
      "2025-08-21 12:17:37,450 - retrieval - INFO - Section: 11. CONFLICT OF INTEREST saved in DB\n",
      "2025-08-21 12:17:43,515 - retrieval - INFO - Definition tokens: prompt = 101539, output = 33514, total = 139318\n",
      "2025-08-21 12:17:43,517 - retrieval - INFO - Section: 7. BUSINESS OVERVIEW saved in DB\n",
      "2025-08-21 12:19:30,836 - retrieval - INFO - Definition tokens: prompt = 101548, output = 13943, total = 117307\n",
      "2025-08-21 12:19:30,837 - retrieval - INFO - Section: 8. INDEPENDENT MARKET RESEARCH REPORT saved in DB\n",
      "2025-08-21 12:20:27,004 - retrieval - INFO - Definition tokens: prompt = 101539, output = 39615, total = 143872\n",
      "2025-08-21 12:20:27,005 - retrieval - INFO - Section: 12. FINANCIAL INFORMATION saved in DB\n",
      "2025-08-21 12:21:42,444 - retrieval - INFO - Definition tokens: prompt = 101545, output = 44538, total = 148513\n",
      "2025-08-21 12:21:42,446 - retrieval - INFO - Section: 14. ACCOUNTANTS’ REPORT saved in DB\n",
      "2025-08-21 12:21:42,448 - retrieval - INFO - All sections extracted.\n",
      "2025-08-21 12:21:42,454 - retrieval - INFO - Saved processed report to ./processed_report/VETECE_HOLDINGS_BERHAD/VETECE_HOLDINGS_BERHAD_IPO.md\n"
     ]
    }
   ],
   "source": [
    "await manager.parse_report(\n",
    "    company = \"VETECE_HOLDINGS_BERHAD\",\n",
    "    report_type = ReportType.IPO,\n",
    "    forced_process = True\n",
    ")"
   ]
  },
  {
   "cell_type": "code",
   "execution_count": null,
   "id": "7a6edeb0",
   "metadata": {},
   "outputs": [],
   "source": [
    "await manager.parse_report(\n",
    "    company = \"CABNET_HOLDINGS_BERHAD\",\n",
    "    report_type = ReportType.IPO,\n",
    "    forced_process = True\n",
    ")"
   ]
  },
  {
   "cell_type": "code",
   "execution_count": 5,
   "id": "0a2ad320",
   "metadata": {},
   "outputs": [
    {
     "name": "stderr",
     "output_type": "stream",
     "text": [
      "2025-08-16 16:29:23,601 - retrieval - INFO - Already processed and up to date.\n",
      "2025-08-16 16:29:23,602 - retrieval - INFO - Skipping processing, using existing content.\n",
      "2025-08-16 16:29:23,719 - retrieval - INFO - Dry run enabled, skipping chunk upsert.\n",
      "2025-08-16 16:29:23,723 - retrieval - INFO - Saved processed report to ./processed_report/AUTOCOUNT_DOTCOM_BERHAD/AUTOCOUNT_DOTCOM_BERHAD_IPO.md\n"
     ]
    }
   ],
   "source": [
    "await manager.parse_report(\n",
    "    company = \"AUTOCOUNT_DOTCOM_BERHAD\",\n",
    "    report_type = ReportType.IPO\n",
    ")"
   ]
  },
  {
   "cell_type": "markdown",
   "id": "be9ccdb1",
   "metadata": {},
   "source": [
    "## Simple User Query"
   ]
  },
  {
   "cell_type": "code",
   "execution_count": 4,
   "id": "74cb53bf",
   "metadata": {},
   "outputs": [
    {
     "name": "stderr",
     "output_type": "stream",
     "text": [
      "2025-08-03 11:40:56,916 - retrieval - INFO - Embedding query: 'What is the mission and vision?'\n",
      "2025-08-03 11:40:58,284 - retrieval - INFO - Retrieved chunks: ['**Vision & mission statement:**', '*   **Our Promise (Vision):** \"TO BE A SUSTAINABLE AND HONEST FOOD COMPANY THAT HAS AN INGRAINED CULTURE OF PLACING THE WELL-BEING OF CONSUMERS FIRST, CULMINATING IN STRONG BRAND LOVE.\" (pg 12)', '*   **Our Action Plan (Mission):** Farm Fresh achieves its brand promise by:', \"**Business strategy and outlook:** The Group's strategy is centered on three core pillars: Expansion, Innovation, and Reputation. (pg 62-63)\", '## Leadership & Governance']\n",
      "2025-08-03 11:40:59,134 - retrieval - INFO - Response generated: The vision of the company is to be a sustainable and honest food company that has an ingrained culture of placing the well-being of consumers first, culminating in strong brand love.\n",
      "\n",
      "The mission focuses on achieving this promise by implementing specific actions, although the detailed action plan is outlined in the company's strategy document. (TOKEN: 206)\n"
     ]
    },
    {
     "data": {
      "text/plain": [
       "\"The vision of the company is to be a sustainable and honest food company that has an ingrained culture of placing the well-being of consumers first, culminating in strong brand love.\\n\\nThe mission focuses on achieving this promise by implementing specific actions, although the detailed action plan is outlined in the company's strategy document.\""
      ]
     },
     "execution_count": 4,
     "metadata": {},
     "output_type": "execute_result"
    }
   ],
   "source": [
    "manager.answer_query(\n",
    "    company = \"FARM_FRESH_BERHAD\",\n",
    "    query = \"What is the mission and vision?\",\n",
    "    top_k = 5,\n",
    "    chat_model = OPENAI_MODEL\n",
    ")"
   ]
  }
 ],
 "metadata": {
  "kernelspec": {
   "display_name": "myenv",
   "language": "python",
   "name": "python3"
  },
  "language_info": {
   "codemirror_mode": {
    "name": "ipython",
    "version": 3
   },
   "file_extension": ".py",
   "mimetype": "text/x-python",
   "name": "python",
   "nbconvert_exporter": "python",
   "pygments_lexer": "ipython3",
   "version": "3.10.18"
  }
 },
 "nbformat": 4,
 "nbformat_minor": 5
}

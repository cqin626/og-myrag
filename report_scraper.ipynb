{
 "cells": [
  {
   "cell_type": "code",
   "execution_count": 1,
   "id": "ef004a6b",
   "metadata": {},
   "outputs": [],
   "source": [
    "import logging\n",
    "import os\n",
    "from ogmyrag.report_scraper.storage import AsyncStorageManager\n",
    "from ogmyrag.report_scraper.manager import ScraperManager\n",
    "from ogmyrag.report_scraper.models  import ReportType\n",
    "from ogmyrag.my_logging import configure_logger\n",
    "from dotenv import load_dotenv"
   ]
  },
  {
   "cell_type": "code",
   "execution_count": 2,
   "id": "d3a8012a",
   "metadata": {},
   "outputs": [
    {
     "name": "stderr",
     "output_type": "stream",
     "text": [
      "2025-07-31 11:47:05,283 - scraper - INFO - \n",
      "================================================================================\n"
     ]
    }
   ],
   "source": [
    "scraper_logger = configure_logger(name='scraper',log_level=logging.INFO, log_file='logs/scraper.log')\n",
    "scraper_logger.info(\"\\n\" + \"=\" * 80)"
   ]
  },
  {
   "cell_type": "code",
   "execution_count": 3,
   "id": "25074aef",
   "metadata": {},
   "outputs": [
    {
     "name": "stderr",
     "output_type": "stream",
     "text": [
      "2025-07-31 11:47:06,592 - scraper - INFO - Connected to MongoDB database: FYP\n"
     ]
    }
   ],
   "source": [
    "load_dotenv(override=True)\n",
    "\n",
    "mongo_db_uri = os.getenv(\"MONGO_DB_URI_JJ\",\"\")\n",
    "\n",
    "db_name = \"FYP\"\n",
    "storage = AsyncStorageManager(mongo_uri=mongo_db_uri, db_name=db_name)"
   ]
  },
  {
   "cell_type": "code",
   "execution_count": 4,
   "id": "20774947",
   "metadata": {},
   "outputs": [],
   "source": [
    "manager = ScraperManager(\n",
    "    storage_manager=storage,\n",
    "    max_workers=5,\n",
    "    #dry_run=False,\n",
    ")"
   ]
  },
  {
   "cell_type": "code",
   "execution_count": 6,
   "id": "3cd7dc74",
   "metadata": {},
   "outputs": [
    {
     "name": "stderr",
     "output_type": "stream",
     "text": [
      "2025-07-31 11:38:07,901 - scraper - INFO - === Annual Report & CG Report ===\n",
      "2025-07-31 11:38:14,107 - scraper - INFO - Using company code: 0276 (Autocount Dotcom Berhad)\n",
      "2025-07-31 11:38:14,108 - scraper - INFO - Fetching Annual Report & CG Report links (Year: 2024, Company: Autocount Dotcom Berhad)...\n",
      "2025-07-31 11:38:22,648 - scraper - INFO - Found 1 announcement links\n",
      "2025-07-31 11:38:22,649 - scraper - INFO - Processing 1 links with 5 workers\n",
      "2025-07-31 11:38:31,414 - scraper - INFO - Original Annual Report & CG Report for AUTOCOUNT_DOTCOM_BERHAD (3 PDFs) is in the database\n"
     ]
    }
   ],
   "source": [
    "manager.run_one(\n",
    "    rtype = ReportType.ANNUAL,\n",
    "    year = 2024,\n",
    "    company_name = \"Autocount Dotcom Berhad\",  # None for all companies\n",
    ")"
   ]
  },
  {
   "cell_type": "code",
   "execution_count": 7,
   "id": "d1fa1a39",
   "metadata": {},
   "outputs": [
    {
     "name": "stderr",
     "output_type": "stream",
     "text": [
      "2025-07-31 11:38:31,420 - scraper - INFO - === Initial Public Offering ===\n",
      "2025-07-31 11:38:35,891 - scraper - INFO - Using company code: 0276 (Autocount Dotcom Berhad)\n",
      "2025-07-31 11:38:35,891 - scraper - INFO - Fetching Initial Public Offering links (Year: N/A, Company: Autocount Dotcom Berhad)...\n",
      "2025-07-31 11:38:44,421 - scraper - INFO - Found 1 announcement links\n",
      "2025-07-31 11:38:44,422 - scraper - INFO - Processing 1 links with 5 workers\n",
      "2025-07-31 11:38:52,809 - scraper - INFO - Original Initial Public Offering for AUTOCOUNT_DOTCOM_BERHAD (3 PDFs) is in the database\n"
     ]
    }
   ],
   "source": [
    "manager.run_one(\n",
    "    rtype = ReportType.IPO,\n",
    "    company_name = \"Autocount Dotcom Berhad\"\n",
    ")"
   ]
  },
  {
   "cell_type": "code",
   "execution_count": 8,
   "id": "036e260f",
   "metadata": {},
   "outputs": [
    {
     "name": "stderr",
     "output_type": "stream",
     "text": [
      "2025-07-31 11:38:52,815 - scraper - INFO - === Annual Report & CG Report ===\n",
      "2025-07-31 11:38:57,576 - scraper - INFO - Using company code: 5306 (FARM FRESH BERHAD)\n",
      "2025-07-31 11:38:57,577 - scraper - INFO - Fetching Annual Report & CG Report links (Year: 2024, Company: FARM FRESH BERHAD)...\n",
      "2025-07-31 11:39:06,141 - scraper - INFO - Found 1 announcement links\n",
      "2025-07-31 11:39:06,142 - scraper - INFO - Processing 1 links with 5 workers\n",
      "2025-07-31 11:39:14,609 - scraper - INFO - Original Annual Report & CG Report for FARM_FRESH_BERHAD (5 PDFs) is in the database\n"
     ]
    }
   ],
   "source": [
    "manager.run_one(\n",
    "    rtype = ReportType.ANNUAL,\n",
    "    year = 2024,\n",
    "    company_name = \"FARM FRESH BERHAD\"\n",
    ")"
   ]
  },
  {
   "cell_type": "code",
   "execution_count": 5,
   "id": "e04e8ad7",
   "metadata": {},
   "outputs": [
    {
     "name": "stderr",
     "output_type": "stream",
     "text": [
      "2025-07-31 11:47:27,059 - scraper - INFO - === Annual Report & CG Report ===\n",
      "2025-07-31 11:47:27,060 - scraper - INFO - Fetching Annual Report & CG Report links (Year: 2024, Company: ALL)...\n",
      "2025-07-31 11:47:31,330 - scraper - INFO - Found 20 announcement links\n",
      "2025-07-31 11:47:31,331 - scraper - INFO - Processing 5 links with 5 workers\n",
      "2025-07-31 11:47:39,639 - scraper - INFO - [DRY RUN] Amended ANNUAL → 3 PDFs for HEITECH_PADU_BERHAD\n",
      "2025-07-31 11:47:39,641 - scraper - INFO -   - Page_4-5_(Amended).pdf\n",
      "2025-07-31 11:47:39,641 - scraper - INFO -   - Page_46-47_(Amended).pdf\n",
      "2025-07-31 11:47:39,642 - scraper - INFO -   - Errata_Annual_Report_(Announcement).pdf\n",
      "2025-07-31 11:47:39,662 - scraper - INFO - [DRY RUN] Amended ANNUAL → 2 PDFs for MALAYSIAN_PACIFIC_INDUSTRIES_BERHAD\n",
      "2025-07-31 11:47:39,663 - scraper - INFO -   - MPI_-_Errata.pdf\n",
      "2025-07-31 11:47:39,663 - scraper - INFO -   - MPI_-_Sustainability_Statement_(Annual_Report_2024).pdf\n",
      "2025-07-31 11:47:39,816 - scraper - INFO - [DRY RUN] Amended ANNUAL → 1 PDFs for ARK_RESOURCES_HOLDINGS_BERHAD\n",
      "2025-07-31 11:47:39,817 - scraper - INFO -   - ARHB_Errata.pdf\n",
      "2025-07-31 11:47:39,867 - scraper - INFO - [DRY RUN] Amended ANNUAL → 1 PDFs for PERTAMA_DIGITAL_BERHAD\n",
      "2025-07-31 11:47:39,868 - scraper - INFO -   - Errata_Annual_Report__-Page_88.pdf\n",
      "2025-07-31 11:47:39,873 - scraper - INFO - [DRY RUN] Amended ANNUAL → 1 PDFs for SEE_HUP_CONSOLIDATED_BERHAD\n",
      "2025-07-31 11:47:39,874 - scraper - INFO -   - SEEH02-Errata.pdf\n"
     ]
    }
   ],
   "source": [
    "manager.run_one(\n",
    "    rtype = ReportType.ANNUAL,\n",
    "    year = 2024,\n",
    ")"
   ]
  }
 ],
 "metadata": {
  "kernelspec": {
   "display_name": "myenv",
   "language": "python",
   "name": "python3"
  },
  "language_info": {
   "codemirror_mode": {
    "name": "ipython",
    "version": 3
   },
   "file_extension": ".py",
   "mimetype": "text/x-python",
   "name": "python",
   "nbconvert_exporter": "python",
   "pygments_lexer": "ipython3",
   "version": "3.10.18"
  }
 },
 "nbformat": 4,
 "nbformat_minor": 5
}

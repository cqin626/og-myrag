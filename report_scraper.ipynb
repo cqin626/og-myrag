{
 "cells": [
  {
   "cell_type": "code",
   "execution_count": 1,
   "id": "ef004a6b",
   "metadata": {},
   "outputs": [
    {
     "name": "stderr",
     "output_type": "stream",
     "text": [
      "2025-08-03 11:33:43,498 - scraper - INFO - \n",
      "================================================================================\n",
      "2025-08-03 11:33:43,509 - scraper - INFO - Connected to MongoDB database: FYP\n"
     ]
    },
    {
     "name": "stderr",
     "output_type": "stream",
     "text": [
      "2025-08-03 11:34:11,552 - scraper - INFO - Downloading Farm_Fresh_Berhad_-_Integrated_Annual_Report_2024_(Part_1).pdf\n",
      "2025-08-03 11:34:16,555 - scraper - INFO - Uploaded PDF bytes for Farm_Fresh_Berhad_-_Integrated_Annual_Report_2024_(Part_1).pdf → GridFS ID 688ed8b7a8704f0db2b14496\n",
      "2025-08-03 11:34:16,589 - scraper - INFO - Inserted metadata for Farm_Fresh_Berhad_-_Integrated_Annual_Report_2024_(Part_1).pdf → 688ed8b8a8704f0db2b1449e\n",
      "2025-08-03 11:34:16,610 - scraper - INFO - Downloading Farm_Fresh_Berhad_-_Integrated_Annual_Report_2024_(Part_2).pdf\n",
      "2025-08-03 11:34:21,995 - scraper - INFO - Uploaded PDF bytes for Farm_Fresh_Berhad_-_Integrated_Annual_Report_2024_(Part_2).pdf → GridFS ID 688ed8bda8704f0db2b1449f\n",
      "2025-08-03 11:34:22,023 - scraper - INFO - Inserted metadata for Farm_Fresh_Berhad_-_Integrated_Annual_Report_2024_(Part_2).pdf → 688ed8bda8704f0db2b144ac\n",
      "2025-08-03 11:34:22,044 - scraper - INFO - Downloading Farm_Fresh_Berhad_-_Integrated_Annual_Report_2024_(Part_3).pdf\n",
      "2025-08-03 11:34:27,034 - scraper - INFO - Uploaded PDF bytes for Farm_Fresh_Berhad_-_Integrated_Annual_Report_2024_(Part_3).pdf → GridFS ID 688ed8c2a8704f0db2b144ad\n",
      "2025-08-03 11:34:27,061 - scraper - INFO - Inserted metadata for Farm_Fresh_Berhad_-_Integrated_Annual_Report_2024_(Part_3).pdf → 688ed8c3a8704f0db2b144ba\n",
      "2025-08-03 11:34:27,118 - scraper - INFO - Downloading Farm_Fresh_Berhad_-_Integrated_Annual_Report_2024_(Part_4).pdf\n",
      "2025-08-03 11:34:32,030 - scraper - INFO - Uploaded PDF bytes for Farm_Fresh_Berhad_-_Integrated_Annual_Report_2024_(Part_4).pdf → GridFS ID 688ed8c7a8704f0db2b144bb\n",
      "2025-08-03 11:34:32,055 - scraper - INFO - Inserted metadata for Farm_Fresh_Berhad_-_Integrated_Annual_Report_2024_(Part_4).pdf → 688ed8c8a8704f0db2b144c7\n",
      "2025-08-03 11:34:32,078 - scraper - INFO - Downloading Farm_Fresh_Berhad_-_CG_Report_2024.pdf\n",
      "2025-08-03 11:34:36,554 - scraper - INFO - Uploaded PDF bytes for Farm_Fresh_Berhad_-_CG_Report_2024.pdf → GridFS ID 688ed8cca8704f0db2b144c8\n",
      "2025-08-03 11:34:36,577 - scraper - INFO - Inserted metadata for Farm_Fresh_Berhad_-_CG_Report_2024.pdf → 688ed8cca8704f0db2b144cc\n"
     ]
    }
   ],
   "source": [
    "import logging\n",
    "import os\n",
    "import asyncio\n",
    "from ogmyrag.report_scraper.storage import AsyncStorageManager\n",
    "from ogmyrag.report_scraper.manager import ScraperManager\n",
    "from ogmyrag.report_scraper.models  import ReportType\n",
    "from ogmyrag.my_logging import configure_logger\n",
    "from dotenv import load_dotenv\n",
    "\n",
    "scraper_logger = configure_logger(name='scraper',log_level=logging.INFO, log_file='logs/scraper.log')\n",
    "scraper_logger.info(\"\\n\" + \"=\" * 80)\n",
    "\n",
    "load_dotenv(override=True)\n",
    "\n",
    "mongo_db_uri = os.getenv(\"MONGO_DB_URI_JJ\",\"\")\n",
    "\n",
    "db_name = \"FYP\"\n",
    "storage = AsyncStorageManager(mongo_uri=mongo_db_uri, db_name=db_name)\n",
    "\n",
    "manager = ScraperManager(\n",
    "    storage_manager=storage,\n",
    "    max_workers=5,\n",
    "    dry_run=False,\n",
    ")"
   ]
  },
  {
   "cell_type": "markdown",
   "id": "88430874",
   "metadata": {},
   "source": [
    "## Scrap Annual Reports by Company Name & Year"
   ]
  },
  {
   "cell_type": "code",
   "execution_count": null,
   "id": "3cd7dc74",
   "metadata": {},
   "outputs": [],
   "source": [
    "manager.run_one(\n",
    "    rtype = ReportType.ANNUAL,\n",
    "    year = 2024,\n",
    "    company_name = \"Autocount Dotcom Berhad\",  # None for all companies\n",
    ")"
   ]
  },
  {
   "cell_type": "code",
   "execution_count": null,
   "id": "d1fa1a39",
   "metadata": {},
   "outputs": [],
   "source": [
    "manager.run_one(\n",
    "    rtype = ReportType.IPO,\n",
    "    company_name = \"Autocount Dotcom Berhad\"\n",
    ")"
   ]
  },
  {
   "cell_type": "code",
   "execution_count": null,
   "id": "fe9e26c2",
   "metadata": {},
   "outputs": [],
   "source": []
  },
  {
   "cell_type": "code",
   "execution_count": 2,
   "id": "036e260f",
   "metadata": {},
   "outputs": [
    {
     "name": "stderr",
     "output_type": "stream",
     "text": [
      "2025-08-03 11:33:48,730 - scraper - INFO - === Annual Report & CG Report ===\n",
      "2025-08-03 11:33:54,265 - scraper - INFO - Using company code: 5306 (FARM FRESH BERHAD)\n",
      "2025-08-03 11:33:54,265 - scraper - INFO - Fetching Annual Report & CG Report links (Year: 2024, Company: FARM FRESH BERHAD)...\n",
      "2025-08-03 11:34:02,842 - scraper - INFO - Found 1 announcement links\n",
      "2025-08-03 11:34:02,844 - scraper - INFO - Processing 1 links with 5 workers\n",
      "2025-08-03 11:34:36,578 - scraper - INFO - Original Annual Report & CG Report for FARM_FRESH_BERHAD (5 PDFs) is in the database\n"
     ]
    }
   ],
   "source": [
    "manager.run_one(\n",
    "    rtype = ReportType.ANNUAL,\n",
    "    year = 2024,\n",
    "    company_name = \"FARM FRESH BERHAD\"\n",
    ")"
   ]
  },
  {
   "cell_type": "code",
   "execution_count": null,
   "id": "ad82f1d0",
   "metadata": {},
   "outputs": [],
   "source": [
    "manager.run_one(\n",
    "    rtype = ReportType.IPO,\n",
    "    company_name = \"FARM FRESH BERHAD\"\n",
    ")"
   ]
  },
  {
   "cell_type": "code",
   "execution_count": null,
   "id": "e04e8ad7",
   "metadata": {},
   "outputs": [],
   "source": [
    "manager.run_one(\n",
    "    rtype = ReportType.ANNUAL,\n",
    "    year = 2024,\n",
    ")"
   ]
  },
  {
   "cell_type": "markdown",
   "id": "20b4e76d",
   "metadata": {},
   "source": [
    "## Delete reports from MongoDB according to Company, Year, ReportType"
   ]
  },
  {
   "cell_type": "code",
   "execution_count": null,
   "id": "1e915bc8",
   "metadata": {},
   "outputs": [],
   "source": [
    "deleted_count = await manager.storage.delete_reports(\n",
    "        company = \"FARM_FRESH_BERHAD\",\n",
    "        report_type = ReportType.ANNUAL,\n",
    "        year = 2024\n",
    ")\n"
   ]
  }
 ],
 "metadata": {
  "kernelspec": {
   "display_name": "myenv",
   "language": "python",
   "name": "python3"
  },
  "language_info": {
   "codemirror_mode": {
    "name": "ipython",
    "version": 3
   },
   "file_extension": ".py",
   "mimetype": "text/x-python",
   "name": "python",
   "nbconvert_exporter": "python",
   "pygments_lexer": "ipython3",
   "version": "3.10.18"
  }
 },
 "nbformat": 4,
 "nbformat_minor": 5
}

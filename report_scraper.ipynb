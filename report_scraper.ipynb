{
 "cells": [
  {
   "cell_type": "code",
   "execution_count": 1,
   "id": "ef004a6b",
   "metadata": {},
   "outputs": [
    {
     "name": "stderr",
     "output_type": "stream",
     "text": [
      "2025-08-24 16:46:50,986 - scraper - INFO - \n",
      "================================================================================\n",
      "2025-08-24 16:46:50,995 - scraper - INFO - Connected to MongoDB database: FYP\n"
     ]
    },
    {
     "name": "stderr",
     "output_type": "stream",
     "text": [
      "2025-08-24 16:47:23,333 - scraper - INFO - Downloading 1._ICT_Zone_Asia_-_Prospectus_(Part_1).pdf\n",
      "2025-08-24 16:47:29,464 - scraper - INFO - Uploaded PDF bytes for 1._ICT_Zone_Asia_-_Prospectus_(Part_1).pdf → GridFS ID 68aad1a0a100cb3b1867d24a\n",
      "2025-08-24 16:47:29,491 - scraper - INFO - Inserted metadata for 1._ICT_Zone_Asia_-_Prospectus_(Part_1).pdf → 68aad1a1a100cb3b1867d256\n",
      "2025-08-24 16:47:29,515 - scraper - INFO - Downloading 2._ICT_Zone_Asia_-_Prospectus_(Part_2).pdf\n",
      "2025-08-24 16:47:35,083 - scraper - INFO - Uploaded PDF bytes for 2._ICT_Zone_Asia_-_Prospectus_(Part_2).pdf → GridFS ID 68aad1a6a100cb3b1867d257\n",
      "2025-08-24 16:47:35,111 - scraper - INFO - Inserted metadata for 2._ICT_Zone_Asia_-_Prospectus_(Part_2).pdf → 68aad1a7a100cb3b1867d262\n",
      "2025-08-24 16:47:35,136 - scraper - INFO - Downloading 3._Detailed_Procedures_for_Application.pdf\n",
      "2025-08-24 16:47:39,673 - scraper - INFO - Uploaded PDF bytes for 3._Detailed_Procedures_for_Application.pdf → GridFS ID 68aad1aba100cb3b1867d263\n",
      "2025-08-24 16:47:39,703 - scraper - INFO - Inserted metadata for 3._Detailed_Procedures_for_Application.pdf → 68aad1aba100cb3b1867d267\n"
     ]
    }
   ],
   "source": [
    "import logging\n",
    "import os\n",
    "import asyncio\n",
    "from ogmyrag.report_scraper.storage import AsyncStorageManager\n",
    "from ogmyrag.report_scraper.manager import ScraperManager\n",
    "from ogmyrag.report_scraper.models  import ReportType\n",
    "from ogmyrag.my_logging import configure_logger\n",
    "from dotenv import load_dotenv\n",
    "\n",
    "scraper_logger = configure_logger(name='scraper',log_level=logging.INFO, log_file='logs/scraper.log')\n",
    "scraper_logger.info(\"\\n\" + \"=\" * 80)\n",
    "\n",
    "load_dotenv(override=True)\n",
    "\n",
    "mongo_db_uri = os.getenv(\"MONGO_DB_URI_JJ\",\"\")\n",
    "\n",
    "db_name = \"FYP\"\n",
    "storage = AsyncStorageManager(mongo_uri=mongo_db_uri, db_name=db_name)\n",
    "\n",
    "manager = ScraperManager(\n",
    "    storage_manager=storage,\n",
    "    max_workers=5,\n",
    "    dry_run=False,\n",
    ")"
   ]
  },
  {
   "cell_type": "markdown",
   "id": "88430874",
   "metadata": {},
   "source": [
    "## Scrap Annual Reports by Company Name & Year"
   ]
  },
  {
   "cell_type": "code",
   "execution_count": null,
   "id": "3cd7dc74",
   "metadata": {},
   "outputs": [],
   "source": [
    "manager.run_one(\n",
    "    rtype = ReportType.ANNUAL,\n",
    "    year = 2024,\n",
    "    company_name = \"Autocount Dotcom Berhad\",  # None for all companies\n",
    ")"
   ]
  },
  {
   "cell_type": "code",
   "execution_count": 2,
   "id": "d1fa1a39",
   "metadata": {},
   "outputs": [
    {
     "name": "stderr",
     "output_type": "stream",
     "text": [
      "2025-08-16 16:29:46,862 - scraper - INFO - === Initial Public Offering ===\n",
      "2025-08-16 16:29:51,675 - scraper - INFO - Using company code: 0276 (Autocount Dotcom Berhad)\n",
      "2025-08-16 16:29:51,676 - scraper - INFO - Fetching Initial Public Offering links (Year: N/A, Company: Autocount Dotcom Berhad)...\n",
      "2025-08-16 16:30:00,272 - scraper - INFO - Found 1 announcement links\n",
      "2025-08-16 16:30:00,274 - scraper - INFO - Processing 1 links with 5 workers\n",
      "2025-08-16 16:30:09,716 - scraper - INFO - Original Initial Public Offering for AUTOCOUNT_DOTCOM_BERHAD (3 PDFs) is in the database\n"
     ]
    }
   ],
   "source": [
    "manager.run_one(\n",
    "    rtype = ReportType.IPO,\n",
    "    company_name = \"Autocount Dotcom Berhad\"\n",
    ")"
   ]
  },
  {
   "cell_type": "code",
   "execution_count": null,
   "id": "a6506b42",
   "metadata": {},
   "outputs": [],
   "source": [
    "manager.run_one(\n",
    "    rtype = ReportType.IPO,\n",
    "    company_name = \"CABNET HOLDINGS BERHAD\"\n",
    ")"
   ]
  },
  {
   "cell_type": "code",
   "execution_count": 2,
   "id": "459bcb53",
   "metadata": {},
   "outputs": [
    {
     "name": "stderr",
     "output_type": "stream",
     "text": [
      "2025-08-07 09:01:25,277 - scraper - INFO - === Initial Public Offering ===\n",
      "2025-08-07 09:01:29,804 - scraper - INFO - Using company code: 0319 (VETECE HOLDINGS BERHAD)\n",
      "2025-08-07 09:01:29,804 - scraper - INFO - Fetching Initial Public Offering links (Year: N/A, Company: VETECE HOLDINGS BERHAD)...\n",
      "2025-08-07 09:01:38,403 - scraper - INFO - Found 1 announcement links\n",
      "2025-08-07 09:01:38,404 - scraper - INFO - Processing 1 links with 5 workers\n",
      "2025-08-07 09:02:01,990 - scraper - INFO - Original Initial Public Offering for VETECE_HOLDINGS_BERHAD (3 PDFs) is in the database\n"
     ]
    }
   ],
   "source": [
    "manager.run_one(\n",
    "    rtype = ReportType.IPO,\n",
    "    company_name = \"VETECE HOLDINGS BERHAD\"\n",
    ")"
   ]
  },
  {
   "cell_type": "code",
   "execution_count": 2,
   "id": "1332a9e1",
   "metadata": {},
   "outputs": [
    {
     "name": "stderr",
     "output_type": "stream",
     "text": [
      "2025-08-09 22:53:48,040 - scraper - INFO - === Initial Public Offering ===\n",
      "2025-08-09 22:53:52,542 - scraper - INFO - Using company code: 0278 (EDELTEQ HOLDINGS BERHAD)\n",
      "2025-08-09 22:53:52,543 - scraper - INFO - Fetching Initial Public Offering links (Year: N/A, Company: EDELTEQ HOLDINGS BERHAD)...\n",
      "2025-08-09 22:54:01,194 - scraper - INFO - Found 1 announcement links\n",
      "2025-08-09 22:54:01,195 - scraper - INFO - Processing 1 links with 5 workers\n",
      "2025-08-09 22:54:26,711 - scraper - INFO - Original Initial Public Offering for EDELTEQ_HOLDINGS_BERHAD (3 PDFs) is in the database\n"
     ]
    }
   ],
   "source": [
    "manager.run_one(\n",
    "    rtype = ReportType.IPO,\n",
    "    company_name = \"EDELTEQ HOLDINGS BERHAD\"\n",
    ")"
   ]
  },
  {
   "cell_type": "code",
   "execution_count": 2,
   "id": "4fa4f4dc",
   "metadata": {},
   "outputs": [
    {
     "name": "stderr",
     "output_type": "stream",
     "text": [
      "2025-08-24 16:47:01,069 - scraper - INFO - === Initial Public Offering ===\n",
      "2025-08-24 16:47:05,672 - scraper - INFO - Using company code: 0358 (ICT ZONE ASIA BERHAD)\n",
      "2025-08-24 16:47:05,673 - scraper - INFO - Fetching Initial Public Offering links (Year: N/A, Company: ICT ZONE ASIA BERHAD)...\n",
      "2025-08-24 16:47:14,383 - scraper - INFO - Found 1 announcement links\n",
      "2025-08-24 16:47:14,384 - scraper - INFO - Processing 1 links with 5 workers\n",
      "2025-08-24 16:47:39,704 - scraper - INFO - Original Initial Public Offering for ICT_ZONE_ASIA_BERHAD (3 PDFs) is in the database\n"
     ]
    }
   ],
   "source": [
    "manager.run_one(\n",
    "    rtype = ReportType.IPO,\n",
    "    company_name = \"ICT ZONE ASIA BERHAD\"\n",
    ")"
   ]
  },
  {
   "cell_type": "code",
   "execution_count": null,
   "id": "036e260f",
   "metadata": {},
   "outputs": [],
   "source": [
    "manager.run_one(\n",
    "    rtype = ReportType.ANNUAL,\n",
    "    year = 2024,\n",
    "    company_name = \"FARM FRESH BERHAD\"\n",
    ")"
   ]
  },
  {
   "cell_type": "code",
   "execution_count": 5,
   "id": "ad82f1d0",
   "metadata": {},
   "outputs": [
    {
     "name": "stderr",
     "output_type": "stream",
     "text": [
      "2025-08-24 16:42:17,351 - scraper - INFO - === Initial Public Offering ===\n",
      "2025-08-24 16:42:21,965 - scraper - INFO - Using company code: 5306 (FARM FRESH BERHAD)\n",
      "2025-08-24 16:42:21,966 - scraper - INFO - Fetching Initial Public Offering links (Year: N/A, Company: FARM FRESH BERHAD)...\n",
      "2025-08-24 16:42:30,656 - scraper - INFO - Found 1 announcement links\n",
      "2025-08-24 16:42:30,657 - scraper - INFO - Processing 1 links with 5 workers\n",
      "2025-08-24 16:42:39,700 - scraper - INFO - Original Initial Public Offering for FARM_FRESH_BERHAD (4 PDFs) is in the database\n"
     ]
    }
   ],
   "source": [
    "manager.run_one(\n",
    "    rtype = ReportType.IPO,\n",
    "    company_name = \"FARM FRESH BERHAD\"\n",
    ")"
   ]
  },
  {
   "cell_type": "code",
   "execution_count": null,
   "id": "b5ffa601",
   "metadata": {},
   "outputs": [],
   "source": [
    "manager.run_one(\n",
    "    rtype = ReportType.IPO,\n",
    "    company_name = \"CABNET HOLDINGS BERHAD\"\n",
    ")"
   ]
  },
  {
   "cell_type": "code",
   "execution_count": null,
   "id": "2411e3f0",
   "metadata": {},
   "outputs": [],
   "source": [
    "manager.run_one(\n",
    "    rtype = ReportType.ANNUAL,\n",
    "    year = 2025,\n",
    "    company_name = \"SKYWORLD DEVELOPMENT BERHAD\",  # None for all companies\n",
    ")"
   ]
  },
  {
   "cell_type": "code",
   "execution_count": null,
   "id": "e04e8ad7",
   "metadata": {},
   "outputs": [],
   "source": [
    "manager.run_one(\n",
    "    rtype = ReportType.ANNUAL,\n",
    "    year = 2024,\n",
    ")"
   ]
  },
  {
   "cell_type": "markdown",
   "id": "20b4e76d",
   "metadata": {},
   "source": [
    "## Delete reports from MongoDB according to Company, Year, ReportType"
   ]
  },
  {
   "cell_type": "code",
   "execution_count": null,
   "id": "1e915bc8",
   "metadata": {},
   "outputs": [],
   "source": [
    "deleted_count = await manager.storage.delete_reports(\n",
    "        company = \"Autocount Dotcom Berhad\",\n",
    "        report_type = ReportType.IPO,\n",
    "        #year = 2024\n",
    ")\n"
   ]
  }
 ],
 "metadata": {
  "kernelspec": {
   "display_name": "myenv",
   "language": "python",
   "name": "python3"
  },
  "language_info": {
   "codemirror_mode": {
    "name": "ipython",
    "version": 3
   },
   "file_extension": ".py",
   "mimetype": "text/x-python",
   "name": "python",
   "nbconvert_exporter": "python",
   "pygments_lexer": "ipython3",
   "version": "3.10.18"
  }
 },
 "nbformat": 4,
 "nbformat_minor": 5
}

{
 "cells": [
  {
   "cell_type": "code",
   "execution_count": 1,
   "id": "ef004a6b",
   "metadata": {},
   "outputs": [
    {
     "name": "stderr",
     "output_type": "stream",
     "text": [
      "2025-08-07 09:01:22,063 - scraper - INFO - \n",
      "================================================================================\n",
      "2025-08-07 09:01:22,072 - scraper - INFO - Connected to MongoDB database: FYP\n"
     ]
    },
    {
     "name": "stderr",
     "output_type": "stream",
     "text": [
      "2025-08-07 09:01:47,320 - scraper - INFO - Downloading 01._VETECE_Holdings_Berhad_-_Prospectus_(Part_1).pdf\n",
      "2025-08-07 09:01:52,407 - scraper - INFO - Uploaded PDF bytes for 01._VETECE_Holdings_Berhad_-_Prospectus_(Part_1).pdf → GridFS ID 6893fb0095dba616e9fcaddb\n",
      "2025-08-07 09:01:52,429 - scraper - INFO - Inserted metadata for 01._VETECE_Holdings_Berhad_-_Prospectus_(Part_1).pdf → 6893fb0095dba616e9fcade5\n",
      "2025-08-07 09:01:52,448 - scraper - INFO - Downloading 02._VETECE_Holdings_Berhad_-_Prospectus_(Part_2).pdf\n",
      "2025-08-07 09:01:57,438 - scraper - INFO - Uploaded PDF bytes for 02._VETECE_Holdings_Berhad_-_Prospectus_(Part_2).pdf → GridFS ID 6893fb0595dba616e9fcade6\n",
      "2025-08-07 09:01:57,472 - scraper - INFO - Inserted metadata for 02._VETECE_Holdings_Berhad_-_Prospectus_(Part_2).pdf → 6893fb0595dba616e9fcadef\n",
      "2025-08-07 09:01:57,498 - scraper - INFO - Downloading 03._VETECE_Holdings_Berhad_-_Detailed_Procedures_for_Application.pdf\n",
      "2025-08-07 09:02:01,966 - scraper - INFO - Uploaded PDF bytes for 03._VETECE_Holdings_Berhad_-_Detailed_Procedures_for_Application.pdf → GridFS ID 6893fb0995dba616e9fcadf0\n",
      "2025-08-07 09:02:01,989 - scraper - INFO - Inserted metadata for 03._VETECE_Holdings_Berhad_-_Detailed_Procedures_for_Application.pdf → 6893fb0995dba616e9fcadf4\n"
     ]
    }
   ],
   "source": [
    "import logging\n",
    "import os\n",
    "import asyncio\n",
    "from ogmyrag.report_scraper.storage import AsyncStorageManager\n",
    "from ogmyrag.report_scraper.manager import ScraperManager\n",
    "from ogmyrag.report_scraper.models  import ReportType\n",
    "from ogmyrag.my_logging import configure_logger\n",
    "from dotenv import load_dotenv\n",
    "\n",
    "scraper_logger = configure_logger(name='scraper',log_level=logging.INFO, log_file='logs/scraper.log')\n",
    "scraper_logger.info(\"\\n\" + \"=\" * 80)\n",
    "\n",
    "load_dotenv(override=True)\n",
    "\n",
    "mongo_db_uri = os.getenv(\"MONGO_DB_URI_JJ\",\"\")\n",
    "\n",
    "db_name = \"FYP\"\n",
    "storage = AsyncStorageManager(mongo_uri=mongo_db_uri, db_name=db_name)\n",
    "\n",
    "manager = ScraperManager(\n",
    "    storage_manager=storage,\n",
    "    max_workers=5,\n",
    "    dry_run=False,\n",
    ")"
   ]
  },
  {
   "cell_type": "markdown",
   "id": "88430874",
   "metadata": {},
   "source": [
    "## Scrap Annual Reports by Company Name & Year"
   ]
  },
  {
   "cell_type": "code",
   "execution_count": null,
   "id": "3cd7dc74",
   "metadata": {},
   "outputs": [],
   "source": [
    "manager.run_one(\n",
    "    rtype = ReportType.ANNUAL,\n",
    "    year = 2024,\n",
    "    company_name = \"Autocount Dotcom Berhad\",  # None for all companies\n",
    ")"
   ]
  },
  {
   "cell_type": "code",
   "execution_count": null,
   "id": "d1fa1a39",
   "metadata": {},
   "outputs": [],
   "source": [
    "manager.run_one(\n",
    "    rtype = ReportType.IPO,\n",
    "    company_name = \"Autocount Dotcom Berhad\"\n",
    ")"
   ]
  },
  {
   "cell_type": "code",
   "execution_count": null,
   "id": "a6506b42",
   "metadata": {},
   "outputs": [],
   "source": [
    "manager.run_one(\n",
    "    rtype = ReportType.IPO,\n",
    "    company_name = \"CABNET HOLDINGS BERHAD\"\n",
    ")"
   ]
  },
  {
   "cell_type": "code",
   "execution_count": 2,
   "id": "459bcb53",
   "metadata": {},
   "outputs": [
    {
     "name": "stderr",
     "output_type": "stream",
     "text": [
      "2025-08-07 09:01:25,277 - scraper - INFO - === Initial Public Offering ===\n",
      "2025-08-07 09:01:29,804 - scraper - INFO - Using company code: 0319 (VETECE HOLDINGS BERHAD)\n",
      "2025-08-07 09:01:29,804 - scraper - INFO - Fetching Initial Public Offering links (Year: N/A, Company: VETECE HOLDINGS BERHAD)...\n",
      "2025-08-07 09:01:38,403 - scraper - INFO - Found 1 announcement links\n",
      "2025-08-07 09:01:38,404 - scraper - INFO - Processing 1 links with 5 workers\n",
      "2025-08-07 09:02:01,990 - scraper - INFO - Original Initial Public Offering for VETECE_HOLDINGS_BERHAD (3 PDFs) is in the database\n"
     ]
    }
   ],
   "source": [
    "manager.run_one(\n",
    "    rtype = ReportType.IPO,\n",
    "    company_name = \"VETECE HOLDINGS BERHAD\"\n",
    ")"
   ]
  },
  {
   "cell_type": "code",
   "execution_count": null,
   "id": "036e260f",
   "metadata": {},
   "outputs": [],
   "source": [
    "manager.run_one(\n",
    "    rtype = ReportType.ANNUAL,\n",
    "    year = 2024,\n",
    "    company_name = \"FARM FRESH BERHAD\"\n",
    ")"
   ]
  },
  {
   "cell_type": "code",
   "execution_count": null,
   "id": "ad82f1d0",
   "metadata": {},
   "outputs": [],
   "source": [
    "manager.run_one(\n",
    "    rtype = ReportType.IPO,\n",
    "    company_name = \"FARM FRESH BERHAD\"\n",
    ")"
   ]
  },
  {
   "cell_type": "code",
   "execution_count": null,
   "id": "b5ffa601",
   "metadata": {},
   "outputs": [],
   "source": [
    "manager.run_one(\n",
    "    rtype = ReportType.IPO,\n",
    "    company_name = \"CABNET HOLDINGS BERHAD\"\n",
    ")"
   ]
  },
  {
   "cell_type": "code",
   "execution_count": null,
   "id": "2411e3f0",
   "metadata": {},
   "outputs": [],
   "source": [
    "manager.run_one(\n",
    "    rtype = ReportType.ANNUAL,\n",
    "    year = 2025,\n",
    "    company_name = \"SKYWORLD DEVELOPMENT BERHAD\",  # None for all companies\n",
    ")"
   ]
  },
  {
   "cell_type": "code",
   "execution_count": null,
   "id": "e04e8ad7",
   "metadata": {},
   "outputs": [],
   "source": [
    "manager.run_one(\n",
    "    rtype = ReportType.ANNUAL,\n",
    "    year = 2024,\n",
    ")"
   ]
  },
  {
   "cell_type": "markdown",
   "id": "20b4e76d",
   "metadata": {},
   "source": [
    "## Delete reports from MongoDB according to Company, Year, ReportType"
   ]
  },
  {
   "cell_type": "code",
   "execution_count": null,
   "id": "1e915bc8",
   "metadata": {},
   "outputs": [],
   "source": [
    "deleted_count = await manager.storage.delete_reports(\n",
    "        company = \"Autocount Dotcom Berhad\",\n",
    "        report_type = ReportType.IPO,\n",
    "        #year = 2024\n",
    ")\n"
   ]
  }
 ],
 "metadata": {
  "kernelspec": {
   "display_name": "myenv",
   "language": "python",
   "name": "python3"
  },
  "language_info": {
   "codemirror_mode": {
    "name": "ipython",
    "version": 3
   },
   "file_extension": ".py",
   "mimetype": "text/x-python",
   "name": "python",
   "nbconvert_exporter": "python",
   "pygments_lexer": "ipython3",
   "version": "3.10.18"
  }
 },
 "nbformat": 4,
 "nbformat_minor": 5
}

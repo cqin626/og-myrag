{
 "cells": [
  {
   "cell_type": "code",
   "execution_count": 1,
   "id": "ef004a6b",
   "metadata": {},
   "outputs": [
    {
     "name": "stderr",
     "output_type": "stream",
     "text": [
      "2025-09-08 16:26:39,896 - scraper - INFO - \n",
      "================================================================================\n",
      "2025-09-08 16:26:39,905 - scraper - INFO - Connected to MongoDB database: FYP\n"
     ]
    },
    {
     "name": "stderr",
     "output_type": "stream",
     "text": [
      "2025-09-08 16:27:49,181 - scraper - INFO - Downloading CabNet_2021_-_Bursa.pdf\n",
      "2025-09-08 16:27:54,331 - scraper - INFO - Uploaded PDF bytes for CabNet_2021_-_Bursa.pdf → GridFS ID 68be9389c0e964daeff850b9\n",
      "2025-09-08 16:27:54,358 - scraper - INFO - Inserted metadata for CabNet_2021_-_Bursa.pdf → 68be938ac0e964daeff850c5\n",
      "2025-09-08 16:27:54,379 - scraper - INFO - Downloading CG_Report_Template_2021.pdf\n",
      "2025-09-08 16:27:58,897 - scraper - INFO - Uploaded PDF bytes for CG_Report_Template_2021.pdf → GridFS ID 68be938ec0e964daeff850c6\n",
      "2025-09-08 16:27:58,921 - scraper - INFO - Inserted metadata for CG_Report_Template_2021.pdf → 68be938ec0e964daeff850cb\n",
      "2025-09-08 16:27:58,942 - scraper - INFO - Downloading AGM_Admin_Guide_FINAL.pdf\n",
      "2025-09-08 16:28:03,292 - scraper - INFO - Uploaded PDF bytes for AGM_Admin_Guide_FINAL.pdf → GridFS ID 68be9393c0e964daeff850cc\n",
      "2025-09-08 16:28:03,319 - scraper - INFO - Inserted metadata for AGM_Admin_Guide_FINAL.pdf → 68be9393c0e964daeff850ce\n",
      "2025-09-08 16:28:21,232 - scraper - INFO - Downloading CabNet_AR_2020_-_Final.pdf\n",
      "2025-09-08 16:28:26,136 - scraper - INFO - Uploaded PDF bytes for CabNet_AR_2020_-_Final.pdf → GridFS ID 68be93a9c0e964daeff850cf\n",
      "2025-09-08 16:28:26,161 - scraper - INFO - Inserted metadata for CabNet_AR_2020_-_Final.pdf → 68be93aac0e964daeff850d7\n",
      "2025-09-08 16:28:26,185 - scraper - INFO - Downloading CabNet_CG_Report_2020_-_Final.pdf\n",
      "2025-09-08 16:28:30,688 - scraper - INFO - Uploaded PDF bytes for CabNet_CG_Report_2020_-_Final.pdf → GridFS ID 68be93aec0e964daeff850d8\n",
      "2025-09-08 16:28:30,713 - scraper - INFO - Inserted metadata for CabNet_CG_Report_2020_-_Final.pdf → 68be93aec0e964daeff850dc\n",
      "2025-09-08 16:28:30,735 - scraper - INFO - Downloading Administrative_guide.pdf\n",
      "2025-09-08 16:28:35,309 - scraper - INFO - Uploaded PDF bytes for Administrative_guide.pdf → GridFS ID 68be93b3c0e964daeff850dd\n",
      "2025-09-08 16:28:35,334 - scraper - INFO - Inserted metadata for Administrative_guide.pdf → 68be93b3c0e964daeff850e1\n",
      "2025-09-08 16:29:10,900 - scraper - INFO - Downloading Cabnet_-_AR_2019_(FINAL).pdf\n",
      "2025-09-08 16:29:15,491 - scraper - INFO - Uploaded PDF bytes for Cabnet_-_AR_2019_(FINAL).pdf → GridFS ID 68be93dbc0e964daeff850e2\n",
      "2025-09-08 16:29:15,517 - scraper - INFO - Inserted metadata for Cabnet_-_AR_2019_(FINAL).pdf → 68be93dbc0e964daeff850e9\n",
      "2025-09-08 16:29:15,538 - scraper - INFO - Downloading Cabnet_-_CG_Report_2019_(FINAL).pdf\n",
      "2025-09-08 16:29:20,196 - scraper - INFO - Uploaded PDF bytes for Cabnet_-_CG_Report_2019_(FINAL).pdf → GridFS ID 68be93e0c0e964daeff850ea\n",
      "2025-09-08 16:29:20,220 - scraper - INFO - Inserted metadata for Cabnet_-_CG_Report_2019_(FINAL).pdf → 68be93e0c0e964daeff850ee\n",
      "2025-09-08 16:29:38,118 - scraper - INFO - Downloading CABNET_Annual_Report_2018.pdf\n",
      "2025-09-08 16:29:42,914 - scraper - INFO - Uploaded PDF bytes for CABNET_Annual_Report_2018.pdf → GridFS ID 68be93f6c0e964daeff850ef\n",
      "2025-09-08 16:29:42,938 - scraper - INFO - Inserted metadata for CABNET_Annual_Report_2018.pdf → 68be93f6c0e964daeff850f8\n",
      "2025-09-08 16:29:42,960 - scraper - INFO - Downloading CABNET_-_CG_Report.pdf\n",
      "2025-09-08 16:29:47,445 - scraper - INFO - Uploaded PDF bytes for CABNET_-_CG_Report.pdf → GridFS ID 68be93fbc0e964daeff850f9\n",
      "2025-09-08 16:29:47,469 - scraper - INFO - Inserted metadata for CABNET_-_CG_Report.pdf → 68be93fbc0e964daeff850fd\n",
      "2025-09-08 16:30:05,442 - scraper - INFO - Downloading Cabnet_AR_2017.pdf\n",
      "2025-09-08 16:30:10,237 - scraper - INFO - Uploaded PDF bytes for Cabnet_AR_2017.pdf → GridFS ID 68be9411c0e964daeff850fe\n",
      "2025-09-08 16:30:10,263 - scraper - INFO - Inserted metadata for Cabnet_AR_2017.pdf → 68be9412c0e964daeff85106\n",
      "2025-09-08 16:30:10,289 - scraper - INFO - Downloading CG-Report_2017.pdf\n",
      "2025-09-08 16:30:14,751 - scraper - INFO - Uploaded PDF bytes for CG-Report_2017.pdf → GridFS ID 68be9416c0e964daeff85107\n",
      "2025-09-08 16:30:14,786 - scraper - INFO - Inserted metadata for CG-Report_2017.pdf → 68be9416c0e964daeff8510b\n"
     ]
    }
   ],
   "source": [
    "import logging\n",
    "import os\n",
    "import asyncio\n",
    "from ogmyrag.report_scraper.storage import AsyncStorageManager\n",
    "from motor.motor_asyncio import AsyncIOMotorClient\n",
    "from ogmyrag.base import MongoStorageConfig\n",
    "from ogmyrag.report_scraper.manager import ScraperManager\n",
    "from ogmyrag.report_scraper.models  import ReportType\n",
    "from ogmyrag.my_logging import configure_logger\n",
    "from dotenv import load_dotenv\n",
    "\n",
    "scraper_logger = configure_logger(name='scraper',log_level=logging.INFO, log_file='logs/scraper.log')\n",
    "scraper_logger.info(\"\\n\" + \"=\" * 80)\n",
    "\n",
    "load_dotenv(override=True)\n",
    "\n",
    "mongo_db_uri = os.getenv(\"MONGO_DB_URI_JJ\",\"\")\n",
    "db_name = \"FYP\"\n",
    "\n",
    "mongo_storage_config: MongoStorageConfig = {\n",
    "    \"database_name\": db_name\n",
    "}\n",
    "\n",
    "mongo_client = AsyncIOMotorClient(\n",
    "    mongo_db_uri,\n",
    "    serverSelectionTimeoutMS=5000\n",
    ")\n",
    "storage = AsyncStorageManager(mongo_client, mongo_storage_config)\n",
    "\n",
    "manager = ScraperManager(\n",
    "    storage_manager=storage,\n",
    "    max_workers=5,\n",
    "    dry_run=False,\n",
    ")\n"
   ]
  },
  {
   "cell_type": "markdown",
   "id": "88430874",
   "metadata": {},
   "source": [
    "## Scrap Annual Reports by Company Name & Year"
   ]
  },
  {
   "cell_type": "code",
   "execution_count": 2,
   "id": "f8233ade",
   "metadata": {},
   "outputs": [
    {
     "name": "stderr",
     "output_type": "stream",
     "text": [
      "2025-08-29 13:36:11,930 - scraper - INFO - === Annual Report & CG Report ===\n",
      "2025-08-29 13:36:11,931 - scraper - INFO - Fetching Annual Report & CG Report links (Year: 2024, Company: ALL)...\n",
      "2025-08-29 13:36:20,506 - scraper - INFO - Found 20 announcement links\n",
      "2025-08-29 13:36:20,508 - scraper - INFO - Processing 5 links with 5 workers\n",
      "2025-08-29 13:36:29,239 - scraper - INFO - Amended Annual Report & CG Report for ARK_RESOURCES_HOLDINGS_BERHAD (1 PDFs) is in the database\n",
      "2025-08-29 13:36:29,310 - scraper - INFO - Amended Annual Report & CG Report for MALAYSIAN_PACIFIC_INDUSTRIES_BERHAD (2 PDFs) is in the database\n",
      "2025-08-29 13:36:29,396 - scraper - INFO - Amended Annual Report & CG Report for KEY_ASIC_BERHAD (2 PDFs) is in the database\n",
      "2025-08-29 13:36:33,669 - scraper - INFO - Amended Annual Report & CG Report for SEE_HUP_CONSOLIDATED_BERHAD (1 PDFs) is in the database\n",
      "2025-08-29 13:36:33,737 - scraper - INFO - Amended Annual Report & CG Report for CTOS_DIGITAL_BERHAD (1 PDFs) is in the database\n"
     ]
    }
   ],
   "source": [
    "manager.run_one(\n",
    "    rtype = ReportType.ANNUAL,\n",
    "    year = 2024,\n",
    "    sector_name = \"TECHNOLOGY\"\n",
    "    #company_name = \"\",  # None for all companies\n",
    ")"
   ]
  },
  {
   "cell_type": "code",
   "execution_count": 2,
   "id": "50c05d8c",
   "metadata": {},
   "outputs": [
    {
     "name": "stderr",
     "output_type": "stream",
     "text": [
      "2025-09-07 21:57:23,913 - scraper - INFO - === Initial Public Offering ===\n",
      "2025-09-07 21:57:23,915 - scraper - INFO - Fetching concurrently for 5 companies (up to 5 links each)...\n",
      "2025-09-07 21:57:28,520 - scraper - INFO - Using company code: 0276 (Autocount Dotcom Berhad)\n",
      "2025-09-07 21:57:28,551 - scraper - INFO - Using company code: 0319 (VETECE HOLDINGS BERHAD)\n",
      "2025-09-07 21:57:28,551 - scraper - INFO - Fetching Initial Public Offering links (Year: N/A, Company: Autocount Dotcom Berhad)...\n",
      "2025-09-07 21:57:28,552 - scraper - INFO - Fetching Initial Public Offering links (Year: N/A, Company: VETECE HOLDINGS BERHAD)...\n",
      "2025-09-07 21:57:28,658 - scraper - INFO - Using company code: 0358 (ICT ZONE ASIA BERHAD)\n",
      "2025-09-07 21:57:28,725 - scraper - INFO - Using company code: 0278 (EDELTEQ HOLDINGS BERHAD)\n",
      "2025-09-07 21:57:28,725 - scraper - INFO - Fetching Initial Public Offering links (Year: N/A, Company: ICT ZONE ASIA BERHAD)...\n",
      "2025-09-07 21:57:28,726 - scraper - INFO - Fetching Initial Public Offering links (Year: N/A, Company: EDELTEQ HOLDINGS BERHAD)...\n",
      "2025-09-07 21:57:28,796 - scraper - INFO - Using company code: 0191 (CABNET HOLDINGS BERHAD)\n",
      "2025-09-07 21:57:28,797 - scraper - INFO - Fetching Initial Public Offering links (Year: N/A, Company: CABNET HOLDINGS BERHAD)...\n",
      "2025-09-07 21:57:32,912 - scraper - INFO - Found 1 announcement links\n",
      "2025-09-07 21:57:32,913 - scraper - INFO - Fetched 1 links for Autocount Dotcom Berhad\n",
      "2025-09-07 21:57:32,959 - scraper - INFO - Found 1 announcement links\n",
      "2025-09-07 21:57:32,960 - scraper - INFO - Fetched 1 links for ICT ZONE ASIA BERHAD\n",
      "2025-09-07 21:57:32,984 - scraper - INFO - Found 1 announcement links\n",
      "2025-09-07 21:57:32,985 - scraper - INFO - Fetched 1 links for EDELTEQ HOLDINGS BERHAD\n",
      "2025-09-07 21:57:33,066 - scraper - INFO - Found 1 announcement links\n",
      "2025-09-07 21:57:33,067 - scraper - INFO - Fetched 1 links for CABNET HOLDINGS BERHAD\n",
      "2025-09-07 21:57:33,360 - scraper - INFO - Found 1 announcement links\n",
      "2025-09-07 21:57:33,361 - scraper - INFO - Fetched 1 links for VETECE HOLDINGS BERHAD\n",
      "2025-09-07 21:57:33,362 - scraper - INFO - Processing 5 links with 5 workers\n",
      "2025-09-07 21:57:42,229 - scraper - INFO - Original Initial Public Offering for VETECE_HOLDINGS_BERHAD (3 PDFs) is in the database\n",
      "2025-09-07 21:57:42,277 - scraper - INFO - Original Initial Public Offering for CABNET_HOLDINGS_BERHAD (4 PDFs) is in the database\n",
      "2025-09-07 21:57:42,340 - scraper - INFO - Original Initial Public Offering for EDELTEQ_HOLDINGS_BERHAD (3 PDFs) is in the database\n",
      "2025-09-07 21:57:42,355 - scraper - INFO - Original Initial Public Offering for AUTOCOUNT_DOTCOM_BERHAD (3 PDFs) is in the database\n",
      "2025-09-07 21:57:42,376 - scraper - INFO - Original Initial Public Offering for ICT_ZONE_ASIA_BERHAD (3 PDFs) is in the database\n"
     ]
    }
   ],
   "source": [
    "manager.run_one(\n",
    "    rtype = ReportType.IPO,\n",
    "    company_name = [\n",
    "        \"VETECE HOLDINGS BERHAD\",\n",
    "        \"EDELTEQ HOLDINGS BERHAD\", \n",
    "        \"CABNET HOLDINGS BERHAD\",\n",
    "        \"Autocount Dotcom Berhad\",\n",
    "        \"ICT ZONE ASIA BERHAD\"\n",
    "    ]\n",
    ")"
   ]
  },
  {
   "cell_type": "code",
   "execution_count": 3,
   "id": "1b36bb03",
   "metadata": {},
   "outputs": [
    {
     "name": "stderr",
     "output_type": "stream",
     "text": [
      "2025-09-07 21:57:45,346 - scraper - INFO - === Annual Report & CG Report ===\n",
      "2025-09-07 21:57:45,347 - scraper - INFO - Fetching concurrently for 5 companies (up to 5 links each)...\n",
      "2025-09-07 21:57:49,864 - scraper - INFO - Using company code: 0319 (VETECE HOLDINGS BERHAD)\n",
      "2025-09-07 21:57:49,865 - scraper - INFO - Fetching Annual Report & CG Report links (Year: 2024, Company: VETECE HOLDINGS BERHAD)...\n",
      "2025-09-07 21:57:50,093 - scraper - INFO - Using company code: 0276 (Autocount Dotcom Berhad)\n",
      "2025-09-07 21:57:50,135 - scraper - INFO - Using company code: 0278 (EDELTEQ HOLDINGS BERHAD)\n",
      "2025-09-07 21:57:50,157 - scraper - INFO - Using company code: 0358 (ICT ZONE ASIA BERHAD)\n",
      "2025-09-07 21:57:50,165 - scraper - INFO - Using company code: 0191 (CABNET HOLDINGS BERHAD)\n",
      "2025-09-07 21:57:50,165 - scraper - INFO - Fetching Annual Report & CG Report links (Year: 2024, Company: Autocount Dotcom Berhad)...\n",
      "2025-09-07 21:57:50,166 - scraper - INFO - Fetching Annual Report & CG Report links (Year: 2024, Company: EDELTEQ HOLDINGS BERHAD)...\n",
      "2025-09-07 21:57:50,166 - scraper - INFO - Fetching Annual Report & CG Report links (Year: 2024, Company: ICT ZONE ASIA BERHAD)...\n",
      "2025-09-07 21:57:50,167 - scraper - INFO - Fetching Annual Report & CG Report links (Year: 2024, Company: CABNET HOLDINGS BERHAD)...\n",
      "2025-09-07 21:57:54,557 - scraper - INFO - Found 1 announcement links\n",
      "2025-09-07 21:57:54,558 - scraper - INFO - Fetched 1 links for VETECE HOLDINGS BERHAD\n",
      "2025-09-07 21:57:55,089 - scraper - INFO - Found 0 announcement links\n",
      "2025-09-07 21:57:55,090 - scraper - INFO - Found 1 announcement links\n",
      "2025-09-07 21:57:55,091 - scraper - INFO - Fetched 0 links for ICT ZONE ASIA BERHAD\n",
      "2025-09-07 21:57:55,092 - scraper - INFO - Fetched 1 links for CABNET HOLDINGS BERHAD\n",
      "2025-09-07 21:57:55,133 - scraper - INFO - Found 1 announcement links\n",
      "2025-09-07 21:57:55,133 - scraper - INFO - Found 1 announcement links\n",
      "2025-09-07 21:57:55,134 - scraper - INFO - Fetched 1 links for Autocount Dotcom Berhad\n",
      "2025-09-07 21:57:55,135 - scraper - INFO - Fetched 1 links for EDELTEQ HOLDINGS BERHAD\n",
      "2025-09-07 21:57:55,137 - scraper - INFO - Processing 4 links with 5 workers\n",
      "2025-09-07 21:58:03,824 - scraper - INFO - Original Annual Report & CG Report for EDELTEQ_HOLDINGS_BERHAD (2 PDFs) is in the database\n",
      "2025-09-07 21:58:03,842 - scraper - INFO - Original Annual Report & CG Report for VETECE_HOLDINGS_BERHAD (2 PDFs) is in the database\n",
      "2025-09-07 21:58:03,875 - scraper - INFO - Original Annual Report & CG Report for AUTOCOUNT_DOTCOM_BERHAD (3 PDFs) is in the database\n",
      "2025-09-07 21:58:03,881 - scraper - INFO - Original Annual Report & CG Report for CABNET_HOLDINGS_BERHAD (2 PDFs) is in the database\n"
     ]
    }
   ],
   "source": [
    "manager.run_one(\n",
    "    rtype = ReportType.ANNUAL,\n",
    "    year = 2024,\n",
    "    company_name = [\n",
    "        \"VETECE HOLDINGS BERHAD\",\n",
    "        \"EDELTEQ HOLDINGS BERHAD\", \n",
    "        \"CABNET HOLDINGS BERHAD\",\n",
    "        \"Autocount Dotcom Berhad\",\n",
    "        \"ICT ZONE ASIA BERHAD\"\n",
    "    ]\n",
    ")"
   ]
  },
  {
   "cell_type": "code",
   "execution_count": 4,
   "id": "c2b95ccb",
   "metadata": {},
   "outputs": [
    {
     "name": "stderr",
     "output_type": "stream",
     "text": [
      "2025-09-07 21:58:30,092 - scraper - INFO - === Annual Report & CG Report ===\n",
      "2025-09-07 21:58:30,094 - scraper - INFO - Fetching concurrently for 5 companies (up to 5 links each)...\n",
      "2025-09-07 21:58:34,722 - scraper - INFO - Using company code: 0358 (ICT ZONE ASIA BERHAD)\n",
      "2025-09-07 21:58:34,722 - scraper - INFO - Fetching Annual Report & CG Report links (Year: 2023, Company: ICT ZONE ASIA BERHAD)...\n",
      "2025-09-07 21:58:34,857 - scraper - INFO - Using company code: 0276 (Autocount Dotcom Berhad)\n",
      "2025-09-07 21:58:34,865 - scraper - INFO - Using company code: 0319 (VETECE HOLDINGS BERHAD)\n",
      "2025-09-07 21:58:34,865 - scraper - INFO - Fetching Annual Report & CG Report links (Year: 2023, Company: Autocount Dotcom Berhad)...\n",
      "2025-09-07 21:58:34,866 - scraper - INFO - Fetching Annual Report & CG Report links (Year: 2023, Company: VETECE HOLDINGS BERHAD)...\n",
      "2025-09-07 21:58:35,040 - scraper - INFO - Using company code: 0191 (CABNET HOLDINGS BERHAD)\n",
      "2025-09-07 21:58:35,040 - scraper - INFO - Fetching Annual Report & CG Report links (Year: 2023, Company: CABNET HOLDINGS BERHAD)...\n",
      "2025-09-07 21:58:35,109 - scraper - INFO - Using company code: 0278 (EDELTEQ HOLDINGS BERHAD)\n",
      "2025-09-07 21:58:35,110 - scraper - INFO - Fetching Annual Report & CG Report links (Year: 2023, Company: EDELTEQ HOLDINGS BERHAD)...\n",
      "2025-09-07 21:58:39,163 - scraper - INFO - Found 1 announcement links\n",
      "2025-09-07 21:58:39,165 - scraper - INFO - Fetched 1 links for Autocount Dotcom Berhad\n",
      "2025-09-07 21:58:39,192 - scraper - INFO - Found 0 announcement links\n",
      "2025-09-07 21:58:39,193 - scraper - INFO - Fetched 0 links for VETECE HOLDINGS BERHAD\n",
      "2025-09-07 21:58:39,356 - scraper - INFO - Found 0 announcement links\n",
      "2025-09-07 21:58:39,357 - scraper - INFO - Fetched 0 links for ICT ZONE ASIA BERHAD\n",
      "2025-09-07 21:58:39,431 - scraper - INFO - Found 1 announcement links\n",
      "2025-09-07 21:58:39,433 - scraper - INFO - Fetched 1 links for CABNET HOLDINGS BERHAD\n",
      "2025-09-07 21:58:39,651 - scraper - INFO - Found 1 announcement links\n",
      "2025-09-07 21:58:39,652 - scraper - INFO - Fetched 1 links for EDELTEQ HOLDINGS BERHAD\n",
      "2025-09-07 21:58:39,653 - scraper - INFO - Processing 3 links with 5 workers\n",
      "2025-09-07 21:58:48,414 - scraper - INFO - Original Annual Report & CG Report for AUTOCOUNT_DOTCOM_BERHAD (4 PDFs) is in the database\n",
      "2025-09-07 21:59:02,652 - scraper - INFO - Original Annual Report & CG Report for CABNET_HOLDINGS_BERHAD (3 PDFs) is in the database\n",
      "2025-09-07 21:59:02,936 - scraper - INFO - Original Annual Report & CG Report for EDELTEQ_HOLDINGS_BERHAD (3 PDFs) is in the database\n"
     ]
    }
   ],
   "source": [
    "manager.run_one(\n",
    "    rtype = ReportType.ANNUAL,\n",
    "    year = 2023,\n",
    "    company_name = [\n",
    "        \"VETECE HOLDINGS BERHAD\",\n",
    "        \"EDELTEQ HOLDINGS BERHAD\", \n",
    "        \"CABNET HOLDINGS BERHAD\",\n",
    "        \"Autocount Dotcom Berhad\",\n",
    "        \"ICT ZONE ASIA BERHAD\"\n",
    "    ]\n",
    ")"
   ]
  },
  {
   "cell_type": "code",
   "execution_count": 6,
   "id": "07e26308",
   "metadata": {},
   "outputs": [
    {
     "name": "stderr",
     "output_type": "stream",
     "text": [
      "2025-09-07 21:59:48,996 - scraper - INFO - === Annual Report & CG Report ===\n",
      "2025-09-07 21:59:48,998 - scraper - INFO - Fetching concurrently for 5 companies (up to 5 links each)...\n",
      "2025-09-07 21:59:53,605 - scraper - INFO - Using company code: 0278 (EDELTEQ HOLDINGS BERHAD)\n",
      "2025-09-07 21:59:53,630 - scraper - INFO - Using company code: 0276 (Autocount Dotcom Berhad)\n",
      "2025-09-07 21:59:53,630 - scraper - INFO - Fetching Annual Report & CG Report links (Year: 2025, Company: EDELTEQ HOLDINGS BERHAD)...\n",
      "2025-09-07 21:59:53,631 - scraper - INFO - Fetching Annual Report & CG Report links (Year: 2025, Company: Autocount Dotcom Berhad)...\n",
      "2025-09-07 21:59:53,818 - scraper - INFO - Using company code: 0358 (ICT ZONE ASIA BERHAD)\n",
      "2025-09-07 21:59:53,880 - scraper - INFO - Using company code: 0319 (VETECE HOLDINGS BERHAD)\n",
      "2025-09-07 21:59:53,881 - scraper - INFO - Using company code: 0191 (CABNET HOLDINGS BERHAD)\n",
      "2025-09-07 21:59:53,881 - scraper - INFO - Fetching Annual Report & CG Report links (Year: 2025, Company: ICT ZONE ASIA BERHAD)...\n",
      "2025-09-07 21:59:53,882 - scraper - INFO - Fetching Annual Report & CG Report links (Year: 2025, Company: VETECE HOLDINGS BERHAD)...\n",
      "2025-09-07 21:59:53,882 - scraper - INFO - Fetching Annual Report & CG Report links (Year: 2025, Company: CABNET HOLDINGS BERHAD)...\n",
      "2025-09-07 21:59:58,052 - scraper - INFO - Found 0 announcement links\n",
      "2025-09-07 21:59:58,054 - scraper - INFO - Fetched 0 links for Autocount Dotcom Berhad\n",
      "2025-09-07 21:59:58,067 - scraper - INFO - Found 0 announcement links\n",
      "2025-09-07 21:59:58,068 - scraper - INFO - Fetched 0 links for EDELTEQ HOLDINGS BERHAD\n",
      "2025-09-07 21:59:58,126 - scraper - INFO - Found 1 announcement links\n",
      "2025-09-07 21:59:58,127 - scraper - INFO - Fetched 1 links for CABNET HOLDINGS BERHAD\n",
      "2025-09-07 21:59:58,146 - scraper - INFO - Found 0 announcement links\n",
      "2025-09-07 21:59:58,146 - scraper - INFO - Fetched 0 links for VETECE HOLDINGS BERHAD\n",
      "2025-09-07 21:59:58,196 - scraper - INFO - Found 0 announcement links\n",
      "2025-09-07 21:59:58,197 - scraper - INFO - Fetched 0 links for ICT ZONE ASIA BERHAD\n",
      "2025-09-07 21:59:58,198 - scraper - INFO - Processing 1 links with 5 workers\n",
      "2025-09-07 22:00:16,143 - scraper - INFO - Original Annual Report & CG Report for CABNET_HOLDINGS_BERHAD (2 PDFs) is in the database\n"
     ]
    }
   ],
   "source": [
    "manager.run_one(\n",
    "    rtype = ReportType.ANNUAL,\n",
    "    year = 2025,\n",
    "    company_name = [\n",
    "        \"VETECE HOLDINGS BERHAD\",\n",
    "        \"EDELTEQ HOLDINGS BERHAD\", \n",
    "        \"CABNET HOLDINGS BERHAD\",\n",
    "        \"Autocount Dotcom Berhad\",\n",
    "        \"ICT ZONE ASIA BERHAD\"\n",
    "    ]\n",
    ")"
   ]
  },
  {
   "cell_type": "code",
   "execution_count": 2,
   "id": "6d14776d",
   "metadata": {},
   "outputs": [
    {
     "name": "stderr",
     "output_type": "stream",
     "text": [
      "2025-09-08 16:26:52,854 - scraper - INFO - === Annual Report & CG Report ===\n",
      "2025-09-08 16:26:52,855 - scraper - INFO - Fetching concurrently for 5 companies (up to 5 links each)...\n",
      "2025-09-08 16:26:57,360 - scraper - INFO - Using company code: 0276 (Autocount Dotcom Berhad)\n",
      "2025-09-08 16:26:57,360 - scraper - INFO - Fetching Annual Report & CG Report links (Year: 2022, Company: Autocount Dotcom Berhad)...\n",
      "2025-09-08 16:26:57,523 - scraper - INFO - Using company code: 0358 (ICT ZONE ASIA BERHAD)\n",
      "2025-09-08 16:26:57,528 - scraper - INFO - Using company code: 0191 (CABNET HOLDINGS BERHAD)\n",
      "2025-09-08 16:26:57,528 - scraper - INFO - Fetching Annual Report & CG Report links (Year: 2022, Company: ICT ZONE ASIA BERHAD)...\n",
      "2025-09-08 16:26:57,529 - scraper - INFO - Fetching Annual Report & CG Report links (Year: 2022, Company: CABNET HOLDINGS BERHAD)...\n",
      "2025-09-08 16:26:57,717 - scraper - INFO - Using company code: 0319 (VETECE HOLDINGS BERHAD)\n",
      "2025-09-08 16:26:57,718 - scraper - INFO - Fetching Annual Report & CG Report links (Year: 2022, Company: VETECE HOLDINGS BERHAD)...\n",
      "2025-09-08 16:26:57,789 - scraper - INFO - Using company code: 0278 (EDELTEQ HOLDINGS BERHAD)\n",
      "2025-09-08 16:26:57,789 - scraper - INFO - Fetching Annual Report & CG Report links (Year: 2022, Company: EDELTEQ HOLDINGS BERHAD)...\n",
      "2025-09-08 16:27:01,715 - scraper - INFO - Found 0 announcement links\n",
      "2025-09-08 16:27:01,716 - scraper - INFO - Fetched 0 links for CABNET HOLDINGS BERHAD\n",
      "2025-09-08 16:27:01,738 - scraper - INFO - Found 0 announcement links\n",
      "2025-09-08 16:27:01,738 - scraper - INFO - Fetched 0 links for Autocount Dotcom Berhad\n",
      "2025-09-08 16:27:01,876 - scraper - INFO - Found 0 announcement links\n",
      "2025-09-08 16:27:01,877 - scraper - INFO - Fetched 0 links for ICT ZONE ASIA BERHAD\n",
      "2025-09-08 16:27:01,907 - scraper - INFO - Found 0 announcement links\n",
      "2025-09-08 16:27:01,907 - scraper - INFO - Fetched 0 links for VETECE HOLDINGS BERHAD\n",
      "2025-09-08 16:27:01,949 - scraper - INFO - Found 0 announcement links\n",
      "2025-09-08 16:27:01,949 - scraper - INFO - Fetched 0 links for EDELTEQ HOLDINGS BERHAD\n",
      "2025-09-08 16:27:01,950 - scraper - INFO - No links for Annual Report & CG Report 2022\n"
     ]
    }
   ],
   "source": [
    "manager.run_one(\n",
    "    rtype = ReportType.ANNUAL,\n",
    "    year = 2022,\n",
    "    company_name = [\n",
    "        \"VETECE HOLDINGS BERHAD\",\n",
    "        \"EDELTEQ HOLDINGS BERHAD\", \n",
    "        \"CABNET HOLDINGS BERHAD\",\n",
    "        \"Autocount Dotcom Berhad\",\n",
    "        \"ICT ZONE ASIA BERHAD\"\n",
    "    ]\n",
    ")"
   ]
  },
  {
   "cell_type": "code",
   "execution_count": 3,
   "id": "e465cabe",
   "metadata": {},
   "outputs": [
    {
     "name": "stderr",
     "output_type": "stream",
     "text": [
      "2025-09-08 16:27:30,683 - scraper - INFO - === Annual Report & CG Report ===\n",
      "2025-09-08 16:27:30,684 - scraper - INFO - Fetching concurrently for 5 companies (up to 5 links each)...\n",
      "2025-09-08 16:27:35,143 - scraper - INFO - Using company code: 0276 (Autocount Dotcom Berhad)\n",
      "2025-09-08 16:27:35,143 - scraper - INFO - Fetching Annual Report & CG Report links (Year: 2021, Company: Autocount Dotcom Berhad)...\n",
      "2025-09-08 16:27:35,364 - scraper - INFO - Using company code: 0278 (EDELTEQ HOLDINGS BERHAD)\n",
      "2025-09-08 16:27:35,365 - scraper - INFO - Using company code: 0358 (ICT ZONE ASIA BERHAD)\n",
      "2025-09-08 16:27:35,426 - scraper - INFO - Using company code: 0319 (VETECE HOLDINGS BERHAD)\n",
      "2025-09-08 16:27:35,426 - scraper - INFO - Fetching Annual Report & CG Report links (Year: 2021, Company: EDELTEQ HOLDINGS BERHAD)...\n",
      "2025-09-08 16:27:35,427 - scraper - INFO - Fetching Annual Report & CG Report links (Year: 2021, Company: ICT ZONE ASIA BERHAD)...\n",
      "2025-09-08 16:27:35,428 - scraper - INFO - Fetching Annual Report & CG Report links (Year: 2021, Company: VETECE HOLDINGS BERHAD)...\n",
      "2025-09-08 16:27:35,501 - scraper - INFO - Using company code: 0191 (CABNET HOLDINGS BERHAD)\n",
      "2025-09-08 16:27:35,501 - scraper - INFO - Fetching Annual Report & CG Report links (Year: 2021, Company: CABNET HOLDINGS BERHAD)...\n",
      "2025-09-08 16:27:39,582 - scraper - INFO - Found 0 announcement links\n",
      "2025-09-08 16:27:39,584 - scraper - INFO - Fetched 0 links for Autocount Dotcom Berhad\n",
      "2025-09-08 16:27:39,619 - scraper - INFO - Found 0 announcement links\n",
      "2025-09-08 16:27:39,620 - scraper - INFO - Fetched 0 links for EDELTEQ HOLDINGS BERHAD\n",
      "2025-09-08 16:27:39,681 - scraper - INFO - Found 0 announcement links\n",
      "2025-09-08 16:27:39,681 - scraper - INFO - Fetched 0 links for VETECE HOLDINGS BERHAD\n",
      "2025-09-08 16:27:39,717 - scraper - INFO - Found 0 announcement links\n",
      "2025-09-08 16:27:39,718 - scraper - INFO - Fetched 0 links for ICT ZONE ASIA BERHAD\n",
      "2025-09-08 16:27:39,896 - scraper - INFO - Found 1 announcement links\n",
      "2025-09-08 16:27:39,897 - scraper - INFO - Fetched 1 links for CABNET HOLDINGS BERHAD\n",
      "2025-09-08 16:27:39,898 - scraper - INFO - Processing 1 links with 5 workers\n",
      "2025-09-08 16:28:03,320 - scraper - INFO - Original Annual Report & CG Report for CABNET_HOLDINGS_BERHAD (3 PDFs) is in the database\n"
     ]
    }
   ],
   "source": [
    "manager.run_one(\n",
    "    rtype = ReportType.ANNUAL,\n",
    "    year = 2021,\n",
    "    company_name = [\n",
    "        \"VETECE HOLDINGS BERHAD\",\n",
    "        \"EDELTEQ HOLDINGS BERHAD\", \n",
    "        \"CABNET HOLDINGS BERHAD\",\n",
    "        \"Autocount Dotcom Berhad\",\n",
    "        \"ICT ZONE ASIA BERHAD\"\n",
    "    ]\n",
    ")"
   ]
  },
  {
   "cell_type": "code",
   "execution_count": 4,
   "id": "cd7b0fcb",
   "metadata": {},
   "outputs": [
    {
     "name": "stderr",
     "output_type": "stream",
     "text": [
      "2025-09-08 16:28:03,331 - scraper - INFO - === Annual Report & CG Report ===\n",
      "2025-09-08 16:28:03,333 - scraper - INFO - Fetching concurrently for 5 companies (up to 5 links each)...\n",
      "2025-09-08 16:28:07,913 - scraper - INFO - Using company code: 0358 (ICT ZONE ASIA BERHAD)\n",
      "2025-09-08 16:28:08,021 - scraper - INFO - Using company code: 0319 (VETECE HOLDINGS BERHAD)\n",
      "2025-09-08 16:28:08,048 - scraper - INFO - Using company code: 0276 (Autocount Dotcom Berhad)\n",
      "2025-09-08 16:28:08,048 - scraper - INFO - Fetching Annual Report & CG Report links (Year: 2020, Company: ICT ZONE ASIA BERHAD)...\n",
      "2025-09-08 16:28:08,049 - scraper - INFO - Fetching Annual Report & CG Report links (Year: 2020, Company: VETECE HOLDINGS BERHAD)...\n",
      "2025-09-08 16:28:08,049 - scraper - INFO - Fetching Annual Report & CG Report links (Year: 2020, Company: Autocount Dotcom Berhad)...\n",
      "2025-09-08 16:28:08,218 - scraper - INFO - Using company code: 0278 (EDELTEQ HOLDINGS BERHAD)\n",
      "2025-09-08 16:28:08,230 - scraper - INFO - Using company code: 0191 (CABNET HOLDINGS BERHAD)\n",
      "2025-09-08 16:28:08,231 - scraper - INFO - Fetching Annual Report & CG Report links (Year: 2020, Company: EDELTEQ HOLDINGS BERHAD)...\n",
      "2025-09-08 16:28:08,231 - scraper - INFO - Fetching Annual Report & CG Report links (Year: 2020, Company: CABNET HOLDINGS BERHAD)...\n",
      "2025-09-08 16:28:12,375 - scraper - INFO - Found 0 announcement links\n",
      "2025-09-08 16:28:12,377 - scraper - INFO - Fetched 0 links for ICT ZONE ASIA BERHAD\n",
      "2025-09-08 16:28:12,416 - scraper - INFO - Found 0 announcement links\n",
      "2025-09-08 16:28:12,417 - scraper - INFO - Fetched 0 links for Autocount Dotcom Berhad\n",
      "2025-09-08 16:28:12,478 - scraper - INFO - Found 0 announcement links\n",
      "2025-09-08 16:28:12,479 - scraper - INFO - Fetched 0 links for VETECE HOLDINGS BERHAD\n",
      "2025-09-08 16:28:12,493 - scraper - INFO - Found 1 announcement links\n",
      "2025-09-08 16:28:12,493 - scraper - INFO - Fetched 1 links for CABNET HOLDINGS BERHAD\n",
      "2025-09-08 16:28:12,516 - scraper - INFO - Found 0 announcement links\n",
      "2025-09-08 16:28:12,517 - scraper - INFO - Fetched 0 links for EDELTEQ HOLDINGS BERHAD\n",
      "2025-09-08 16:28:12,518 - scraper - INFO - Processing 1 links with 5 workers\n",
      "2025-09-08 16:28:35,335 - scraper - INFO - Original Annual Report & CG Report for CABNET_HOLDINGS_BERHAD (3 PDFs) is in the database\n"
     ]
    }
   ],
   "source": [
    "manager.run_one(\n",
    "    rtype = ReportType.ANNUAL,\n",
    "    year = 2020,\n",
    "    company_name = [\n",
    "        \"VETECE HOLDINGS BERHAD\",\n",
    "        \"EDELTEQ HOLDINGS BERHAD\", \n",
    "        \"CABNET HOLDINGS BERHAD\",\n",
    "        \"Autocount Dotcom Berhad\",\n",
    "        \"ICT ZONE ASIA BERHAD\"\n",
    "    ]\n",
    ")"
   ]
  },
  {
   "cell_type": "code",
   "execution_count": 5,
   "id": "bfcd4eb1",
   "metadata": {},
   "outputs": [
    {
     "name": "stderr",
     "output_type": "stream",
     "text": [
      "2025-09-08 16:28:35,344 - scraper - INFO - === Annual Report & CG Report ===\n",
      "2025-09-08 16:28:35,345 - scraper - INFO - Fetching concurrently for 5 companies (up to 5 links each)...\n",
      "2025-09-08 16:28:39,891 - scraper - INFO - Using company code: 0319 (VETECE HOLDINGS BERHAD)\n",
      "2025-09-08 16:28:39,892 - scraper - INFO - Fetching Annual Report & CG Report links (Year: 2019, Company: VETECE HOLDINGS BERHAD)...\n",
      "2025-09-08 16:28:39,971 - scraper - INFO - Using company code: 0276 (Autocount Dotcom Berhad)\n",
      "2025-09-08 16:28:39,971 - scraper - INFO - Fetching Annual Report & CG Report links (Year: 2019, Company: Autocount Dotcom Berhad)...\n",
      "2025-09-08 16:28:40,042 - scraper - INFO - Using company code: 0278 (EDELTEQ HOLDINGS BERHAD)\n",
      "2025-09-08 16:28:40,043 - scraper - INFO - Fetching Annual Report & CG Report links (Year: 2019, Company: EDELTEQ HOLDINGS BERHAD)...\n",
      "2025-09-08 16:28:40,158 - scraper - INFO - Using company code: 0358 (ICT ZONE ASIA BERHAD)\n",
      "2025-09-08 16:28:40,158 - scraper - INFO - Fetching Annual Report & CG Report links (Year: 2019, Company: ICT ZONE ASIA BERHAD)...\n",
      "2025-09-08 16:28:40,230 - scraper - INFO - Using company code: 0191 (CABNET HOLDINGS BERHAD)\n",
      "2025-09-08 16:28:40,231 - scraper - INFO - Fetching Annual Report & CG Report links (Year: 2019, Company: CABNET HOLDINGS BERHAD)...\n",
      "2025-09-08 16:28:44,082 - scraper - INFO - Found 0 announcement links\n",
      "2025-09-08 16:28:44,083 - scraper - INFO - Fetched 0 links for VETECE HOLDINGS BERHAD\n",
      "2025-09-08 16:28:44,300 - scraper - INFO - Found 0 announcement links\n",
      "2025-09-08 16:28:44,300 - scraper - INFO - Fetched 0 links for EDELTEQ HOLDINGS BERHAD\n",
      "2025-09-08 16:28:44,344 - scraper - INFO - Found 0 announcement links\n",
      "2025-09-08 16:28:44,344 - scraper - INFO - Fetched 0 links for Autocount Dotcom Berhad\n",
      "2025-09-08 16:28:44,371 - scraper - INFO - Found 0 announcement links\n",
      "2025-09-08 16:28:44,371 - scraper - INFO - Fetched 0 links for ICT ZONE ASIA BERHAD\n",
      "2025-09-08 16:29:02,199 - scraper - INFO - Found 1 announcement links\n",
      "2025-09-08 16:29:02,202 - scraper - INFO - Fetched 1 links for CABNET HOLDINGS BERHAD\n",
      "2025-09-08 16:29:02,203 - scraper - INFO - Processing 1 links with 5 workers\n",
      "2025-09-08 16:29:20,220 - scraper - INFO - Original Annual Report & CG Report for CABNET_HOLDINGS_BERHAD (2 PDFs) is in the database\n"
     ]
    }
   ],
   "source": [
    "manager.run_one(\n",
    "    rtype = ReportType.ANNUAL,\n",
    "    year = 2019,\n",
    "    company_name = [\n",
    "        \"VETECE HOLDINGS BERHAD\",\n",
    "        \"EDELTEQ HOLDINGS BERHAD\", \n",
    "        \"CABNET HOLDINGS BERHAD\",\n",
    "        \"Autocount Dotcom Berhad\",\n",
    "        \"ICT ZONE ASIA BERHAD\"\n",
    "    ]\n",
    ")"
   ]
  },
  {
   "cell_type": "code",
   "execution_count": 6,
   "id": "2e9ec861",
   "metadata": {},
   "outputs": [
    {
     "name": "stderr",
     "output_type": "stream",
     "text": [
      "2025-09-08 16:29:20,229 - scraper - INFO - === Annual Report & CG Report ===\n",
      "2025-09-08 16:29:20,230 - scraper - INFO - Fetching concurrently for 5 companies (up to 5 links each)...\n",
      "2025-09-08 16:29:24,788 - scraper - INFO - Using company code: 0278 (EDELTEQ HOLDINGS BERHAD)\n",
      "2025-09-08 16:29:24,790 - scraper - INFO - Fetching Annual Report & CG Report links (Year: 2018, Company: EDELTEQ HOLDINGS BERHAD)...\n",
      "2025-09-08 16:29:24,966 - scraper - INFO - Using company code: 0319 (VETECE HOLDINGS BERHAD)\n",
      "2025-09-08 16:29:25,008 - scraper - INFO - Using company code: 0276 (Autocount Dotcom Berhad)\n",
      "2025-09-08 16:29:25,027 - scraper - INFO - Using company code: 0191 (CABNET HOLDINGS BERHAD)\n",
      "2025-09-08 16:29:25,027 - scraper - INFO - Fetching Annual Report & CG Report links (Year: 2018, Company: VETECE HOLDINGS BERHAD)...\n",
      "2025-09-08 16:29:25,028 - scraper - INFO - Fetching Annual Report & CG Report links (Year: 2018, Company: Autocount Dotcom Berhad)...\n",
      "2025-09-08 16:29:25,028 - scraper - INFO - Fetching Annual Report & CG Report links (Year: 2018, Company: CABNET HOLDINGS BERHAD)...\n",
      "2025-09-08 16:29:25,103 - scraper - INFO - Using company code: 0358 (ICT ZONE ASIA BERHAD)\n",
      "2025-09-08 16:29:25,103 - scraper - INFO - Fetching Annual Report & CG Report links (Year: 2018, Company: ICT ZONE ASIA BERHAD)...\n",
      "2025-09-08 16:29:29,219 - scraper - INFO - Found 1 announcement links\n",
      "2025-09-08 16:29:29,221 - scraper - INFO - Fetched 1 links for CABNET HOLDINGS BERHAD\n",
      "2025-09-08 16:29:29,279 - scraper - INFO - Found 0 announcement links\n",
      "2025-09-08 16:29:29,281 - scraper - INFO - Fetched 0 links for ICT ZONE ASIA BERHAD\n",
      "2025-09-08 16:29:29,291 - scraper - INFO - Found 0 announcement links\n",
      "2025-09-08 16:29:29,292 - scraper - INFO - Fetched 0 links for VETECE HOLDINGS BERHAD\n",
      "2025-09-08 16:29:29,295 - scraper - INFO - Found 0 announcement links\n",
      "2025-09-08 16:29:29,296 - scraper - INFO - Fetched 0 links for Autocount Dotcom Berhad\n",
      "2025-09-08 16:29:29,432 - scraper - INFO - Found 0 announcement links\n",
      "2025-09-08 16:29:29,433 - scraper - INFO - Fetched 0 links for EDELTEQ HOLDINGS BERHAD\n",
      "2025-09-08 16:29:29,434 - scraper - INFO - Processing 1 links with 5 workers\n",
      "2025-09-08 16:29:47,471 - scraper - INFO - Original Annual Report & CG Report for CABNET_HOLDINGS_BERHAD (2 PDFs) is in the database\n"
     ]
    }
   ],
   "source": [
    "manager.run_one(\n",
    "    rtype = ReportType.ANNUAL,\n",
    "    year = 2018,\n",
    "    company_name = [\n",
    "        \"VETECE HOLDINGS BERHAD\",\n",
    "        \"EDELTEQ HOLDINGS BERHAD\", \n",
    "        \"CABNET HOLDINGS BERHAD\",\n",
    "        \"Autocount Dotcom Berhad\",\n",
    "        \"ICT ZONE ASIA BERHAD\"\n",
    "    ]\n",
    ")"
   ]
  },
  {
   "cell_type": "code",
   "execution_count": 7,
   "id": "20ba60c8",
   "metadata": {},
   "outputs": [
    {
     "name": "stderr",
     "output_type": "stream",
     "text": [
      "2025-09-08 16:29:47,482 - scraper - INFO - === Annual Report & CG Report ===\n",
      "2025-09-08 16:29:47,485 - scraper - INFO - Fetching concurrently for 5 companies (up to 5 links each)...\n",
      "2025-09-08 16:29:52,171 - scraper - INFO - Using company code: 0358 (ICT ZONE ASIA BERHAD)\n",
      "2025-09-08 16:29:52,185 - scraper - INFO - Using company code: 0276 (Autocount Dotcom Berhad)\n",
      "2025-09-08 16:29:52,254 - scraper - INFO - Using company code: 0191 (CABNET HOLDINGS BERHAD)\n",
      "2025-09-08 16:29:52,254 - scraper - INFO - Fetching Annual Report & CG Report links (Year: 2017, Company: ICT ZONE ASIA BERHAD)...\n",
      "2025-09-08 16:29:52,255 - scraper - INFO - Fetching Annual Report & CG Report links (Year: 2017, Company: Autocount Dotcom Berhad)...\n",
      "2025-09-08 16:29:52,256 - scraper - INFO - Fetching Annual Report & CG Report links (Year: 2017, Company: CABNET HOLDINGS BERHAD)...\n",
      "2025-09-08 16:29:52,391 - scraper - INFO - Using company code: 0319 (VETECE HOLDINGS BERHAD)\n",
      "2025-09-08 16:29:52,399 - scraper - INFO - Using company code: 0278 (EDELTEQ HOLDINGS BERHAD)\n",
      "2025-09-08 16:29:52,400 - scraper - INFO - Fetching Annual Report & CG Report links (Year: 2017, Company: VETECE HOLDINGS BERHAD)...\n",
      "2025-09-08 16:29:52,401 - scraper - INFO - Fetching Annual Report & CG Report links (Year: 2017, Company: EDELTEQ HOLDINGS BERHAD)...\n",
      "2025-09-08 16:29:56,503 - scraper - INFO - Found 0 announcement links\n",
      "2025-09-08 16:29:56,505 - scraper - INFO - Fetched 0 links for Autocount Dotcom Berhad\n",
      "2025-09-08 16:29:56,583 - scraper - INFO - Found 0 announcement links\n",
      "2025-09-08 16:29:56,584 - scraper - INFO - Fetched 0 links for ICT ZONE ASIA BERHAD\n",
      "2025-09-08 16:29:56,606 - scraper - INFO - Found 1 announcement links\n",
      "2025-09-08 16:29:56,606 - scraper - INFO - Fetched 1 links for CABNET HOLDINGS BERHAD\n",
      "2025-09-08 16:29:56,664 - scraper - INFO - Found 0 announcement links\n",
      "2025-09-08 16:29:56,665 - scraper - INFO - Fetched 0 links for VETECE HOLDINGS BERHAD\n",
      "2025-09-08 16:29:56,676 - scraper - INFO - Found 0 announcement links\n",
      "2025-09-08 16:29:56,677 - scraper - INFO - Fetched 0 links for EDELTEQ HOLDINGS BERHAD\n",
      "2025-09-08 16:29:56,677 - scraper - INFO - Processing 1 links with 5 workers\n",
      "2025-09-08 16:30:14,787 - scraper - INFO - Original Annual Report & CG Report for CABNET_HOLDINGS_BERHAD (2 PDFs) is in the database\n"
     ]
    }
   ],
   "source": [
    "manager.run_one(\n",
    "    rtype = ReportType.ANNUAL,\n",
    "    year = 2017,\n",
    "    company_name = [\n",
    "        \"VETECE HOLDINGS BERHAD\",\n",
    "        \"EDELTEQ HOLDINGS BERHAD\", \n",
    "        \"CABNET HOLDINGS BERHAD\",\n",
    "        \"Autocount Dotcom Berhad\",\n",
    "        \"ICT ZONE ASIA BERHAD\"\n",
    "    ]\n",
    ")"
   ]
  },
  {
   "cell_type": "code",
   "execution_count": null,
   "id": "55bf6fa7",
   "metadata": {},
   "outputs": [
    {
     "name": "stderr",
     "output_type": "stream",
     "text": [
      "2025-09-08 13:15:47,399 - scraper - INFO - === Initial Public Offering ===\n",
      "2025-09-08 13:15:47,400 - scraper - INFO - Fetching concurrently for 5 companies (up to 5 links each)...\n",
      "2025-09-08 13:15:51,961 - scraper - INFO - Using company code: 0267 (ECA INTEGRATED SOLUTION BERHAD)\n",
      "2025-09-08 13:15:51,962 - scraper - INFO - Fetching Initial Public Offering links (Year: N/A, Company: ECA INTEGRATED SOLUTION BERHAD)...\n",
      "2025-09-08 13:15:52,120 - scraper - INFO - Using company code: 0272 (TT VISION HOLDINGS BERHAD)\n",
      "2025-09-08 13:15:52,140 - scraper - INFO - Using company code: 0209 (AIMFLEX BERHAD)\n",
      "2025-09-08 13:15:52,140 - scraper - INFO - Fetching Initial Public Offering links (Year: N/A, Company: TT VISION HOLDINGS BERHAD)...\n",
      "2025-09-08 13:15:52,140 - scraper - INFO - Fetching Initial Public Offering links (Year: N/A, Company: AIMFLEX BERHAD)...\n",
      "2025-09-08 13:15:52,245 - scraper - INFO - Using company code: 0251 (SFP TECH HOLDINGS BERHAD)\n",
      "2025-09-08 13:15:52,246 - scraper - INFO - Fetching Initial Public Offering links (Year: N/A, Company: SFP TECH HOLDINGS BERHAD)...\n",
      "2025-09-08 13:15:52,316 - scraper - INFO - Using company code: 0236 (RAMSSOL GROUP BERHAD)\n",
      "2025-09-08 13:15:52,317 - scraper - INFO - Fetching Initial Public Offering links (Year: N/A, Company: RAMSSOL GROUP BERHAD)...\n",
      "2025-09-08 13:15:56,265 - scraper - INFO - Found 1 announcement links\n",
      "2025-09-08 13:15:56,267 - scraper - INFO - Fetched 1 links for ECA INTEGRATED SOLUTION BERHAD\n",
      "2025-09-08 13:15:56,351 - scraper - INFO - Found 1 announcement links\n",
      "2025-09-08 13:15:56,352 - scraper - INFO - Found 1 announcement links\n",
      "2025-09-08 13:15:56,352 - scraper - INFO - Fetched 1 links for TT VISION HOLDINGS BERHAD\n",
      "2025-09-08 13:15:56,354 - scraper - INFO - Fetched 1 links for AIMFLEX BERHAD\n",
      "2025-09-08 13:15:56,529 - scraper - INFO - Found 1 announcement links\n",
      "2025-09-08 13:15:56,530 - scraper - INFO - Fetched 1 links for SFP TECH HOLDINGS BERHAD\n",
      "2025-09-08 13:15:56,587 - scraper - INFO - Found 1 announcement links\n",
      "2025-09-08 13:15:56,588 - scraper - INFO - Fetched 1 links for RAMSSOL GROUP BERHAD\n",
      "2025-09-08 13:15:56,589 - scraper - INFO - Processing 5 links with 5 workers\n",
      "2025-09-08 13:16:05,693 - scraper - INFO - Original Initial Public Offering for I-STONE_GROUP_BERHAD (3 PDFs) is in the database\n",
      "2025-09-08 13:16:20,930 - scraper - INFO - Original Initial Public Offering for SFP_TECH_HOLDINGS_BERHAD (3 PDFs) is in the database\n",
      "2025-09-08 13:16:26,782 - scraper - INFO - Original Initial Public Offering for RAMSSOL_GROUP_BERHAD (4 PDFs) is in the database\n",
      "2025-09-08 13:16:27,906 - scraper - INFO - Original Initial Public Offering for TT_VISION_HOLDINGS_BERHAD (4 PDFs) is in the database\n",
      "2025-09-08 13:16:36,562 - scraper - INFO - Original Initial Public Offering for ECA_INTEGRATED_SOLUTION_BERHAD (6 PDFs) is in the database\n"
     ]
    }
   ],
   "source": [
    "manager.run_one(\n",
    "    rtype = ReportType.IPO,\n",
    "    company_name = [\n",
    "        \"SFP_TECH_HOLDINGS_BERHAD\",\n",
    "        \"TT_VISION_HOLDINGS_BERHAD\",\n",
    "        \"RAMSSOL_GROUP_BERHAD\",\n",
    "        \"AIMFLEX BERHAD\", # same as I-STONE_GROUP_BERHAD\n",
    "        \"ECA_INTEGRATED_SOLUTION_BERHAD\"\n",
    "    ]\n",
    ")"
   ]
  },
  {
   "cell_type": "code",
   "execution_count": 2,
   "id": "32c91d28",
   "metadata": {},
   "outputs": [
    {
     "name": "stderr",
     "output_type": "stream",
     "text": [
      "2025-08-29 22:25:47,087 - scraper - INFO - === Annual Report & CG Report ===\n",
      "2025-08-29 22:25:51,772 - scraper - INFO - Using company code: 0097 (VITROX CORPORATION BERHAD)\n",
      "2025-08-29 22:25:51,772 - scraper - INFO - Fetching Annual Report & CG Report links (Year: 2024, Company: VITROX CORPORATION BERHAD)...\n",
      "2025-08-29 22:26:00,824 - scraper - INFO - Found 1 announcement links\n",
      "2025-08-29 22:26:00,826 - scraper - INFO - Processing 1 links with 5 workers\n",
      "2025-08-29 22:26:34,723 - scraper - INFO - Original Annual Report & CG Report for VITROX_CORPORATION_BERHAD (5 PDFs) is in the database\n"
     ]
    }
   ],
   "source": [
    "manager.run_one(\n",
    "    rtype = ReportType.ANNUAL,\n",
    "    year = 2024,\n",
    "    company_name = \"VITROX CORPORATION BERHAD\",  # None for all companies\n",
    ")"
   ]
  },
  {
   "cell_type": "code",
   "execution_count": 3,
   "id": "b5a261ee",
   "metadata": {},
   "outputs": [
    {
     "name": "stderr",
     "output_type": "stream",
     "text": [
      "2025-08-29 22:27:23,884 - scraper - INFO - === Initial Public Offering ===\n",
      "2025-08-29 22:27:28,740 - scraper - INFO - Using company code: 0097 (VITROX CORPORATION BERHAD)\n",
      "2025-08-29 22:27:28,741 - scraper - INFO - Fetching Initial Public Offering links (Year: N/A, Company: VITROX CORPORATION BERHAD)...\n",
      "2025-08-29 22:27:33,174 - scraper - INFO - Found 0 announcement links\n",
      "2025-08-29 22:27:33,176 - scraper - INFO - No links for Initial Public Offering N/A\n"
     ]
    }
   ],
   "source": [
    "manager.run_one(\n",
    "    rtype = ReportType.IPO,\n",
    "    company_name = \"VITROX CORPORATION BERHAD\"\n",
    ")"
   ]
  },
  {
   "cell_type": "code",
   "execution_count": 2,
   "id": "3cd7dc74",
   "metadata": {},
   "outputs": [
    {
     "name": "stderr",
     "output_type": "stream",
     "text": [
      "2025-08-28 00:02:55,525 - scraper - INFO - === Annual Report & CG Report ===\n",
      "2025-08-28 00:03:00,116 - scraper - INFO - Using company code: 0276 (Autocount Dotcom Berhad)\n",
      "2025-08-28 00:03:00,117 - scraper - INFO - Fetching Annual Report & CG Report links (Year: 2024, Company: Autocount Dotcom Berhad)...\n",
      "2025-08-28 00:03:08,764 - scraper - INFO - Found 1 announcement links\n",
      "2025-08-28 00:03:08,767 - scraper - INFO - Processing 1 links with 5 workers\n",
      "2025-08-28 00:03:17,366 - scraper - INFO - [DRY RUN] Original ANNUAL → 3 PDFs for AUTOCOUNT_DOTCOM_BERHAD\n",
      "2025-08-28 00:03:17,367 - scraper - INFO -   - ADBAR2024_-_Part_1.pdf\n",
      "2025-08-28 00:03:17,370 - scraper - INFO -   - ADBAR2024_-_Part_2.pdf\n",
      "2025-08-28 00:03:17,370 - scraper - INFO -   - ADB_-_CG_Report_2024_.pdf\n"
     ]
    }
   ],
   "source": [
    "manager.run_one(\n",
    "    rtype = ReportType.ANNUAL,\n",
    "    year = 2024,\n",
    "    company_name = \"Autocount Dotcom Berhad\",  # None for all companies\n",
    ")"
   ]
  },
  {
   "cell_type": "code",
   "execution_count": 2,
   "id": "d1fa1a39",
   "metadata": {},
   "outputs": [
    {
     "name": "stderr",
     "output_type": "stream",
     "text": [
      "2025-08-16 16:29:46,862 - scraper - INFO - === Initial Public Offering ===\n",
      "2025-08-16 16:29:51,675 - scraper - INFO - Using company code: 0276 (Autocount Dotcom Berhad)\n",
      "2025-08-16 16:29:51,676 - scraper - INFO - Fetching Initial Public Offering links (Year: N/A, Company: Autocount Dotcom Berhad)...\n",
      "2025-08-16 16:30:00,272 - scraper - INFO - Found 1 announcement links\n",
      "2025-08-16 16:30:00,274 - scraper - INFO - Processing 1 links with 5 workers\n",
      "2025-08-16 16:30:09,716 - scraper - INFO - Original Initial Public Offering for AUTOCOUNT_DOTCOM_BERHAD (3 PDFs) is in the database\n"
     ]
    }
   ],
   "source": [
    "manager.run_one(\n",
    "    rtype = ReportType.IPO,\n",
    "    company_name = \"Autocount Dotcom Berhad\"\n",
    ")"
   ]
  },
  {
   "cell_type": "code",
   "execution_count": null,
   "id": "a6506b42",
   "metadata": {},
   "outputs": [],
   "source": [
    "manager.run_one(\n",
    "    rtype = ReportType.IPO,\n",
    "    company_name = \"CABNET HOLDINGS BERHAD\"\n",
    ")"
   ]
  },
  {
   "cell_type": "code",
   "execution_count": 2,
   "id": "459bcb53",
   "metadata": {},
   "outputs": [
    {
     "name": "stderr",
     "output_type": "stream",
     "text": [
      "2025-08-07 09:01:25,277 - scraper - INFO - === Initial Public Offering ===\n",
      "2025-08-07 09:01:29,804 - scraper - INFO - Using company code: 0319 (VETECE HOLDINGS BERHAD)\n",
      "2025-08-07 09:01:29,804 - scraper - INFO - Fetching Initial Public Offering links (Year: N/A, Company: VETECE HOLDINGS BERHAD)...\n",
      "2025-08-07 09:01:38,403 - scraper - INFO - Found 1 announcement links\n",
      "2025-08-07 09:01:38,404 - scraper - INFO - Processing 1 links with 5 workers\n",
      "2025-08-07 09:02:01,990 - scraper - INFO - Original Initial Public Offering for VETECE_HOLDINGS_BERHAD (3 PDFs) is in the database\n"
     ]
    }
   ],
   "source": [
    "manager.run_one(\n",
    "    rtype = ReportType.IPO,\n",
    "    company_name = \"VETECE HOLDINGS BERHAD\"\n",
    ")"
   ]
  },
  {
   "cell_type": "code",
   "execution_count": 2,
   "id": "1332a9e1",
   "metadata": {},
   "outputs": [
    {
     "name": "stderr",
     "output_type": "stream",
     "text": [
      "2025-08-09 22:53:48,040 - scraper - INFO - === Initial Public Offering ===\n",
      "2025-08-09 22:53:52,542 - scraper - INFO - Using company code: 0278 (EDELTEQ HOLDINGS BERHAD)\n",
      "2025-08-09 22:53:52,543 - scraper - INFO - Fetching Initial Public Offering links (Year: N/A, Company: EDELTEQ HOLDINGS BERHAD)...\n",
      "2025-08-09 22:54:01,194 - scraper - INFO - Found 1 announcement links\n",
      "2025-08-09 22:54:01,195 - scraper - INFO - Processing 1 links with 5 workers\n",
      "2025-08-09 22:54:26,711 - scraper - INFO - Original Initial Public Offering for EDELTEQ_HOLDINGS_BERHAD (3 PDFs) is in the database\n"
     ]
    }
   ],
   "source": [
    "manager.run_one(\n",
    "    rtype = ReportType.IPO,\n",
    "    company_name = \"EDELTEQ HOLDINGS BERHAD\"\n",
    ")"
   ]
  },
  {
   "cell_type": "code",
   "execution_count": 2,
   "id": "4fa4f4dc",
   "metadata": {},
   "outputs": [
    {
     "name": "stderr",
     "output_type": "stream",
     "text": [
      "2025-08-24 16:47:01,069 - scraper - INFO - === Initial Public Offering ===\n",
      "2025-08-24 16:47:05,672 - scraper - INFO - Using company code: 0358 (ICT ZONE ASIA BERHAD)\n",
      "2025-08-24 16:47:05,673 - scraper - INFO - Fetching Initial Public Offering links (Year: N/A, Company: ICT ZONE ASIA BERHAD)...\n",
      "2025-08-24 16:47:14,383 - scraper - INFO - Found 1 announcement links\n",
      "2025-08-24 16:47:14,384 - scraper - INFO - Processing 1 links with 5 workers\n",
      "2025-08-24 16:47:39,704 - scraper - INFO - Original Initial Public Offering for ICT_ZONE_ASIA_BERHAD (3 PDFs) is in the database\n"
     ]
    }
   ],
   "source": [
    "manager.run_one(\n",
    "    rtype = ReportType.IPO,\n",
    "    company_name = \"ICT ZONE ASIA BERHAD\"\n",
    ")"
   ]
  },
  {
   "cell_type": "code",
   "execution_count": null,
   "id": "036e260f",
   "metadata": {},
   "outputs": [],
   "source": [
    "manager.run_one(\n",
    "    rtype = ReportType.ANNUAL,\n",
    "    year = 2024,\n",
    "    company_name = \"FARM FRESH BERHAD\"\n",
    ")"
   ]
  },
  {
   "cell_type": "code",
   "execution_count": 5,
   "id": "ad82f1d0",
   "metadata": {},
   "outputs": [
    {
     "name": "stderr",
     "output_type": "stream",
     "text": [
      "2025-08-24 16:42:17,351 - scraper - INFO - === Initial Public Offering ===\n",
      "2025-08-24 16:42:21,965 - scraper - INFO - Using company code: 5306 (FARM FRESH BERHAD)\n",
      "2025-08-24 16:42:21,966 - scraper - INFO - Fetching Initial Public Offering links (Year: N/A, Company: FARM FRESH BERHAD)...\n",
      "2025-08-24 16:42:30,656 - scraper - INFO - Found 1 announcement links\n",
      "2025-08-24 16:42:30,657 - scraper - INFO - Processing 1 links with 5 workers\n",
      "2025-08-24 16:42:39,700 - scraper - INFO - Original Initial Public Offering for FARM_FRESH_BERHAD (4 PDFs) is in the database\n"
     ]
    }
   ],
   "source": [
    "manager.run_one(\n",
    "    rtype = ReportType.IPO,\n",
    "    company_name = \"FARM FRESH BERHAD\"\n",
    ")"
   ]
  },
  {
   "cell_type": "code",
   "execution_count": null,
   "id": "b5ffa601",
   "metadata": {},
   "outputs": [],
   "source": [
    "manager.run_one(\n",
    "    rtype = ReportType.IPO,\n",
    "    company_name = \"CABNET HOLDINGS BERHAD\"\n",
    ")"
   ]
  },
  {
   "cell_type": "code",
   "execution_count": null,
   "id": "2411e3f0",
   "metadata": {},
   "outputs": [],
   "source": [
    "manager.run_one(\n",
    "    rtype = ReportType.ANNUAL,\n",
    "    year = 2025,\n",
    "    company_name = \"SKYWORLD DEVELOPMENT BERHAD\",  # None for all companies\n",
    ")"
   ]
  },
  {
   "cell_type": "code",
   "execution_count": null,
   "id": "e04e8ad7",
   "metadata": {},
   "outputs": [],
   "source": [
    "manager.run_one(\n",
    "    rtype = ReportType.ANNUAL,\n",
    "    year = 2024,\n",
    ")"
   ]
  },
  {
   "cell_type": "markdown",
   "id": "20b4e76d",
   "metadata": {},
   "source": [
    "## Delete reports from MongoDB according to Company, Year, ReportType"
   ]
  },
  {
   "cell_type": "code",
   "execution_count": null,
   "id": "1e915bc8",
   "metadata": {},
   "outputs": [],
   "source": [
    "deleted_count = await manager.storage.delete_reports(\n",
    "        company = \"Autocount Dotcom Berhad\",\n",
    "        report_type = ReportType.IPO,\n",
    "        #year = 2024\n",
    ")\n"
   ]
  },
  {
   "cell_type": "code",
   "execution_count": null,
   "id": "a947731f",
   "metadata": {},
   "outputs": [],
   "source": [
    "companies_1 = [\n",
    "    \"Cabnet Holdings Berhad\",\n",
    "    \"Aemulus Holdings Berhad\",\n",
    "    \"Autocount Dotcom Berhad\",\n",
    "    \"Edelteq Holdings Berhad\",\n",
    "    \"ICT Zone Asia Berhad\",\n",
    "    \"ViTrox Corporation Berhad\",\n",
    "    \"VETECE HOLDINGS BERHAD\",\n",
    "    \"Censof Holdings Berhad\",\n",
    "    \"Edaran BHD\",\n",
    "    \"AIMFLEX Berhad\",\n",
    "]\n",
    "\n",
    "companies = [\n",
    "    \"Inari Amertron Berhad\",\n",
    "    \"IFCA MSC Berhad\",\n",
    "    \"EVD Berhad\",\n",
    "    \"HeiTech Padu BHD\",\n",
    "    \"Greatech Technology Berhad\", # this\n",
    "    \"MMAG Holdings Berhad\",\n",
    "    \"Mi Technovation Berhad\",\n",
    "    \"Kronologi Asia Berhad\",\n",
    "    \"JHM Consolidation BHD\",\n",
    "    \"AwanBiru Technology Berhad\",\n",
    "]\n",
    "\n",
    "companies_2 = [\n",
    "    \"Pineapple Resources BHD\",\n",
    "    \"Pentamaster Corporation Berhad\",\n",
    "    \"Malaysian Pacific Industries\",\n",
    "    \"ManagePay Systems Berhad\",\n",
    "    \"UWC Berhad\",\n",
    "    \"SMTrack Berhad\",\n",
    "    \"Securemetric Berhad\",\n",
    "    \"Radiant Globaltech Berhad\",\n",
    "    \"Revenue Group Berhad\",\n",
    "    \"Techstore Berhad\",\n",
    "]\n",
    "\n",
    "companies_3 = [\n",
    "    \"3REN Berhad\",\n",
    "    \"Panda Eco System Berhad\",\n",
    "    \"Cloudpoint Technology Berhad\",\n",
    "    \"Oppstar Berhad\",\n",
    "    \"TT Vision Holdings Berhad\",\n",
    "    \"NationGate Holdings Berhad\",\n",
    "    \"ITMAX System Berhad\",\n",
    "    \"Infomina Berhad\",\n",
    "    \"ECA Integrated Solution Berhad\",\n",
    "    \"UMediC Group Berhad\",\n",
    "]\n",
    "\n",
    "companies_4 = [\n",
    "    \"LGMS Berhad\",\n",
    "    \"Cnergenz Berhad\",\n",
    "    \"Ramssol Group Berhad\",\n",
    "    \"CTOS Digital Berhad\",\n",
    "    \"Hong Seng Consolidated Berhad\",\n",
    "    \"VSTECS Berhad\",\n",
    "]"
   ]
  }
 ],
 "metadata": {
  "kernelspec": {
   "display_name": "myenv",
   "language": "python",
   "name": "python3"
  },
  "language_info": {
   "codemirror_mode": {
    "name": "ipython",
    "version": 3
   },
   "file_extension": ".py",
   "mimetype": "text/x-python",
   "name": "python",
   "nbconvert_exporter": "python",
   "pygments_lexer": "ipython3",
   "version": "3.10.18"
  }
 },
 "nbformat": 4,
 "nbformat_minor": 5
}

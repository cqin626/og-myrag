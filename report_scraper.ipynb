{
 "cells": [
  {
   "cell_type": "code",
   "execution_count": null,
   "id": "ef004a6b",
   "metadata": {},
   "outputs": [
    {
     "name": "stderr",
     "output_type": "stream",
     "text": [
      "2025-09-08 22:57:37,217 - scraper - INFO - \n",
      "================================================================================\n",
      "2025-09-08 22:57:37,226 - scraper - INFO - Connected to MongoDB database: FYP\n"
     ]
    },
    {
     "name": "stderr",
     "output_type": "stream",
     "text": [
      "2025-09-08 22:58:08,978 - scraper - WARNING - Already exists: Cabnet_-_Prospectus_(ENG)(notice-pg81).pdf (amended = False)\n",
      "2025-09-08 22:58:08,983 - scraper - WARNING - Already exists: 1._Autocount_-_IPO_Prospectus_-_Part_1.pdf (amended = False)\n",
      "2025-09-08 22:58:08,990 - scraper - WARNING - Already exists: Edelteq_Holdings_Berhad_-_Prospectus_(Part_1).pdf (amended = False)\n",
      "2025-09-08 22:58:08,993 - scraper - WARNING - Already exists: 1._ICT_Zone_Asia_-_Prospectus_(Part_1).pdf (amended = False)\n",
      "2025-09-08 22:58:09,002 - scraper - WARNING - Already exists: Cabnet_-_Prospectus_(ENG)(pg82-pg179).pdf (amended = False)\n",
      "2025-09-08 22:58:09,023 - scraper - WARNING - Already exists: 2._ICT_Zone_Asia_-_Prospectus_(Part_2).pdf (amended = False)\n",
      "2025-09-08 22:58:09,042 - scraper - WARNING - Already exists: Cabnet_-_Prospectus_(ENG)(pg180-pg274).pdf (amended = False)\n",
      "2025-09-08 22:58:09,062 - scraper - WARNING - Already exists: 3._Detailed_Procedures_for_Application.pdf (amended = False)\n",
      "2025-09-08 22:58:09,081 - scraper - WARNING - Already exists: Cabnet_-_Prospectus_(ENG)(pg275-pg468).pdf (amended = False)\n",
      "2025-09-08 22:58:09,086 - scraper - WARNING - Already exists: 01._VETECE_Holdings_Berhad_-_Prospectus_(Part_1).pdf (amended = False)\n",
      "2025-09-08 22:58:09,147 - scraper - WARNING - Already exists: 02._VETECE_Holdings_Berhad_-_Prospectus_(Part_2).pdf (amended = False)\n",
      "2025-09-08 22:58:09,154 - scraper - WARNING - Already exists: 2._Autocount_-_IPO_Prospectus_-_Part_2.pdf (amended = False)\n",
      "2025-09-08 22:58:09,163 - scraper - WARNING - Already exists: Edelteq_Holdings_Berhad_-_Prospectus_(Part_2).pdf (amended = False)\n",
      "2025-09-08 22:58:09,183 - scraper - WARNING - Already exists: 3._Autocount_-_Detailed_Procedures_for_Application_and_Acceptance.pdf (amended = False)\n",
      "2025-09-08 22:58:09,185 - scraper - WARNING - Already exists: 03._VETECE_Holdings_Berhad_-_Detailed_Procedures_for_Application.pdf (amended = False)\n",
      "2025-09-08 22:58:09,192 - scraper - WARNING - Already exists: Edelteq_-_Detailed_Procedures_for_Application_and_Acceptance.pdf (amended = False)\n",
      "2025-09-08 22:58:17,557 - scraper - WARNING - Already exists: TT_Vision_Holdings_Berhad_-_Prospectus_(Part_1).pdf (amended = False)\n",
      "2025-09-08 22:58:17,577 - scraper - WARNING - Already exists: TT_Vision_Holdings_Berhad_-_Prospectus_(Part_2).pdf (amended = False)\n",
      "2025-09-08 22:58:17,598 - scraper - WARNING - Already exists: TT_Vision_Holdings_Berhad_-_Prospectus_(Part_3).pdf (amended = False)\n",
      "2025-09-08 22:58:17,614 - scraper - WARNING - Already exists: ECA_Integrated_Solution_Berhad_-_Prospectus_(part_1).pdf (amended = False)\n",
      "2025-09-08 22:58:17,617 - scraper - WARNING - Already exists: TT_Vision_Holdings_Berhad_-_Detailed_Procedures_for_Application_and_Acceptance.pdf (amended = False)\n",
      "2025-09-08 22:58:17,635 - scraper - WARNING - Already exists: ECA_Integrated_Solution_Berhad_-_Prospectus_(part_2).pdf (amended = False)\n",
      "2025-09-08 22:58:17,657 - scraper - WARNING - Already exists: ECA_Integrated_Solution_Berhad_-_Prospectus_(part_3).pdf (amended = False)\n",
      "2025-09-08 22:58:17,676 - scraper - WARNING - Already exists: ECA_Integrated_Solution_Berhad_-_Prospectus_(part_4).pdf (amended = False)\n",
      "2025-09-08 22:58:17,696 - scraper - WARNING - Already exists: ECA_Integrated_Solution_Berhad_-_Prospectus_(part_5).pdf (amended = False)\n",
      "2025-09-08 22:58:17,717 - scraper - WARNING - Already exists: ECA_-_Detailed_Procedures_for_Application_and_Acceptance.pdf (amended = False)\n",
      "2025-09-08 22:58:17,841 - scraper - WARNING - Already exists: Detailed_Procedures_for_E-IPO_Share_Application_and_Acceptance.pdf (amended = False)\n",
      "2025-09-08 22:58:17,863 - scraper - WARNING - Already exists: Ramssol_Group_Berhad_-_Prospectus_(Part_1).pdf (amended = False)\n",
      "2025-09-08 22:58:17,882 - scraper - WARNING - Already exists: Ramssol_Group_Berhad_-_Prospectus_(Part_2).pdf (amended = False)\n",
      "2025-09-08 22:58:17,905 - scraper - WARNING - Already exists: Ramssol_Group_Berhad_-_Prospectus_(Part_3).pdf (amended = False)\n",
      "2025-09-08 22:58:18,086 - scraper - WARNING - Already exists: SFP_Tech_Holdings_Berhad_-_Prospectus_(Part_1).pdf (amended = False)\n",
      "2025-09-08 22:58:18,109 - scraper - WARNING - Already exists: SFP_Tech_Holdings_Berhad_-_Prospectus_(Part_2).pdf (amended = False)\n",
      "2025-09-08 22:58:18,131 - scraper - WARNING - Already exists: SFP_Tech_-_Detailed_Procedures_for_Application_and_Acceptance.pdf (amended = False)\n",
      "2025-09-08 22:58:52,938 - scraper - WARNING - Already exists: ADBAR2024_-_Part_1.pdf (amended = False)\n",
      "2025-09-08 22:58:52,965 - scraper - WARNING - Already exists: ADBAR2024_-_Part_2.pdf (amended = False)\n",
      "2025-09-08 22:58:52,986 - scraper - WARNING - Already exists: EHB-Annual_Report_2024_(Bursa).pdf (amended = False)\n",
      "2025-09-08 22:58:52,987 - scraper - WARNING - Already exists: ADB_-_CG_Report_2024_.pdf (amended = False)\n",
      "2025-09-08 22:58:53,005 - scraper - WARNING - Already exists: EHB-CG_Report_2024.pdf (amended = False)\n",
      "2025-09-08 22:58:53,151 - scraper - INFO - Downloading SFP_CG_Report_2024.pdf\n",
      "2025-09-08 22:58:53,220 - scraper - WARNING - Already exists: Annual_Report_2024.pdf (amended = False)\n",
      "2025-09-08 22:58:53,240 - scraper - WARNING - Already exists: CG_report_2024.pdf (amended = False)\n",
      "2025-09-08 22:58:53,250 - scraper - WARNING - Already exists: VETECE_-_AR2024_(Final).pdf (amended = False)\n",
      "2025-09-08 22:58:53,271 - scraper - WARNING - Already exists: VETECE-_CG_Report_(Final).pdf (amended = False)\n",
      "2025-09-08 22:58:57,705 - scraper - INFO - Uploaded PDF bytes for SFP_CG_Report_2024.pdf → GridFS ID 68beef316578e9d6a2d43b21\n",
      "2025-09-08 22:58:57,728 - scraper - INFO - Inserted metadata for SFP_CG_Report_2024.pdf → 68beef316578e9d6a2d43b25\n",
      "2025-09-08 22:58:57,754 - scraper - INFO - Downloading SFP_AR2024.pdf\n",
      "2025-09-08 22:59:01,682 - scraper - INFO - Downloading RAMSSOL_AR24.pdf\n",
      "2025-09-08 22:59:01,690 - scraper - INFO - Downloading ECA_Integrated_Solution_Berhad_-_Annual_Report_2024_.pdf\n",
      "2025-09-08 22:59:01,913 - scraper - INFO - Downloading TTV_AR2024-part_1.pdf\n",
      "2025-09-08 22:59:02,568 - scraper - INFO - Uploaded PDF bytes for SFP_AR2024.pdf → GridFS ID 68beef366578e9d6a2d43b26\n",
      "2025-09-08 22:59:02,594 - scraper - INFO - Inserted metadata for SFP_AR2024.pdf → 68beef366578e9d6a2d43b2f\n",
      "2025-09-08 22:59:02,615 - scraper - INFO - Downloading SFP_AFS_2024.pdf\n",
      "2025-09-08 22:59:07,020 - scraper - INFO - Uploaded PDF bytes for ECA_Integrated_Solution_Berhad_-_Annual_Report_2024_.pdf → GridFS ID 68beef3a6578e9d6a2d43b30\n",
      "2025-09-08 22:59:07,042 - scraper - INFO - Inserted metadata for ECA_Integrated_Solution_Berhad_-_Annual_Report_2024_.pdf → 68beef3b6578e9d6a2d43b51\n",
      "2025-09-08 22:59:07,062 - scraper - INFO - Downloading ECA_Integrated_Solution_Berhad_-_Corporate_Governance_Report.pdf\n",
      "2025-09-08 22:59:07,397 - scraper - INFO - Uploaded PDF bytes for TTV_AR2024-part_1.pdf → GridFS ID 68beef3a6578e9d6a2d43b44\n",
      "2025-09-08 22:59:07,429 - scraper - INFO - Inserted metadata for TTV_AR2024-part_1.pdf → 68beef3b6578e9d6a2d43b58\n",
      "2025-09-08 22:59:07,449 - scraper - INFO - Uploaded PDF bytes for RAMSSOL_AR24.pdf → GridFS ID 68beef3a6578e9d6a2d43b39\n",
      "2025-09-08 22:59:07,451 - scraper - INFO - Downloading TTV_AR2024-part_2.pdf\n",
      "2025-09-08 22:59:07,472 - scraper - INFO - Inserted metadata for RAMSSOL_AR24.pdf → 68beef3b6578e9d6a2d43b59\n",
      "2025-09-08 22:59:07,492 - scraper - INFO - Downloading CG_Report_2024.pdf\n",
      "2025-09-08 22:59:07,826 - scraper - INFO - Uploaded PDF bytes for SFP_AFS_2024.pdf → GridFS ID 68beef3b6578e9d6a2d43b52\n",
      "2025-09-08 22:59:07,849 - scraper - INFO - Inserted metadata for SFP_AFS_2024.pdf → 68beef3b6578e9d6a2d43b5a\n",
      "2025-09-08 22:59:11,875 - scraper - INFO - Uploaded PDF bytes for ECA_Integrated_Solution_Berhad_-_Corporate_Governance_Report.pdf → GridFS ID 68beef3f6578e9d6a2d43b5b\n",
      "2025-09-08 22:59:11,898 - scraper - INFO - Inserted metadata for ECA_Integrated_Solution_Berhad_-_Corporate_Governance_Report.pdf → 68beef3f6578e9d6a2d43b61\n",
      "2025-09-08 22:59:12,126 - scraper - INFO - Uploaded PDF bytes for CG_Report_2024.pdf → GridFS ID 68beef3f6578e9d6a2d43b62\n",
      "2025-09-08 22:59:12,149 - scraper - INFO - Inserted metadata for CG_Report_2024.pdf → 68beef406578e9d6a2d43b6e\n",
      "2025-09-08 22:59:12,368 - scraper - INFO - Uploaded PDF bytes for TTV_AR2024-part_2.pdf → GridFS ID 68beef3f6578e9d6a2d43b63\n",
      "2025-09-08 22:59:12,391 - scraper - INFO - Inserted metadata for TTV_AR2024-part_2.pdf → 68beef406578e9d6a2d43b6f\n",
      "2025-09-08 22:59:12,411 - scraper - INFO - Downloading CG_Report_TTVHB_2024_FINAL.pdf\n",
      "2025-09-08 22:59:16,887 - scraper - INFO - Uploaded PDF bytes for CG_Report_TTVHB_2024_FINAL.pdf → GridFS ID 68beef446578e9d6a2d43b70\n",
      "2025-09-08 22:59:16,912 - scraper - INFO - Inserted metadata for CG_Report_TTVHB_2024_FINAL.pdf → 68beef446578e9d6a2d43b74\n",
      "2025-09-08 23:00:45,871 - scraper - INFO - Downloading Ramssol_AR2023.pdf\n",
      "2025-09-08 23:00:45,935 - scraper - INFO - Downloading TTV_AR_2023_part_1.pdf\n",
      "2025-09-08 23:00:45,950 - scraper - INFO - Downloading SFP_AR2023_final_BURSA.pdf\n",
      "2025-09-08 23:00:46,391 - scraper - INFO - Downloading ECA_Integrated_Solution_Berhad_-_Annual_Report_2023.pdf\n",
      "2025-09-08 23:00:51,258 - scraper - INFO - Uploaded PDF bytes for Ramssol_AR2023.pdf → GridFS ID 68beefa26578e9d6a2d43b75\n",
      "2025-09-08 23:00:51,266 - scraper - INFO - Uploaded PDF bytes for SFP_AR2023_final_BURSA.pdf → GridFS ID 68beefa26578e9d6a2d43b76\n",
      "2025-09-08 23:00:51,282 - scraper - INFO - Inserted metadata for Ramssol_AR2023.pdf → 68beefa36578e9d6a2d43b9e\n",
      "2025-09-08 23:00:51,293 - scraper - INFO - Inserted metadata for SFP_AR2023_final_BURSA.pdf → 68beefa36578e9d6a2d43b9f\n",
      "2025-09-08 23:00:51,309 - scraper - INFO - Downloading CG_Report_2023.pdf\n",
      "2025-09-08 23:00:51,323 - scraper - INFO - Downloading SFP_TECH_CGR_final.pdf\n",
      "2025-09-08 23:00:52,191 - scraper - INFO - Uploaded PDF bytes for TTV_AR_2023_part_1.pdf → GridFS ID 68beefa26578e9d6a2d43b77\n",
      "2025-09-08 23:00:52,216 - scraper - INFO - Inserted metadata for TTV_AR_2023_part_1.pdf → 68beefa46578e9d6a2d43bac\n",
      "2025-09-08 23:00:52,256 - scraper - INFO - Downloading TTV_AR_2023_part_2.pdf\n",
      "2025-09-08 23:00:52,785 - scraper - INFO - Uploaded PDF bytes for ECA_Integrated_Solution_Berhad_-_Annual_Report_2023.pdf → GridFS ID 68beefa36578e9d6a2d43b9d\n",
      "2025-09-08 23:00:52,810 - scraper - INFO - Inserted metadata for ECA_Integrated_Solution_Berhad_-_Annual_Report_2023.pdf → 68beefa46578e9d6a2d43bad\n",
      "2025-09-08 23:00:52,831 - scraper - INFO - Downloading ECA_Integrated_Solution_Berhad_-_Corporate_Governance_Report.pdf\n",
      "2025-09-08 23:00:55,944 - scraper - INFO - Uploaded PDF bytes for CG_Report_2023.pdf → GridFS ID 68beefa76578e9d6a2d43bae\n",
      "2025-09-08 23:00:55,966 - scraper - INFO - Inserted metadata for CG_Report_2023.pdf → 68beefa76578e9d6a2d43bb7\n",
      "2025-09-08 23:00:56,052 - scraper - INFO - Uploaded PDF bytes for SFP_TECH_CGR_final.pdf → GridFS ID 68beefa76578e9d6a2d43baf\n",
      "2025-09-08 23:00:56,075 - scraper - INFO - Inserted metadata for SFP_TECH_CGR_final.pdf → 68beefa86578e9d6a2d43bb8\n",
      "2025-09-08 23:00:57,262 - scraper - INFO - Uploaded PDF bytes for TTV_AR_2023_part_2.pdf → GridFS ID 68beefa86578e9d6a2d43bb9\n",
      "2025-09-08 23:00:57,287 - scraper - INFO - Inserted metadata for TTV_AR_2023_part_2.pdf → 68beefa96578e9d6a2d43bc3\n",
      "2025-09-08 23:00:57,306 - scraper - INFO - Downloading CG_Report_TTVHB_2023_FINAL.pdf\n",
      "2025-09-08 23:00:57,332 - scraper - INFO - Uploaded PDF bytes for ECA_Integrated_Solution_Berhad_-_Corporate_Governance_Report.pdf → GridFS ID 68beefa96578e9d6a2d43bbf\n",
      "2025-09-08 23:00:57,353 - scraper - INFO - Inserted metadata for ECA_Integrated_Solution_Berhad_-_Corporate_Governance_Report.pdf → 68beefa96578e9d6a2d43bc4\n",
      "2025-09-08 23:01:01,884 - scraper - INFO - Uploaded PDF bytes for CG_Report_TTVHB_2023_FINAL.pdf → GridFS ID 68beefad6578e9d6a2d43bc5\n",
      "2025-09-08 23:01:01,908 - scraper - INFO - Inserted metadata for CG_Report_TTVHB_2023_FINAL.pdf → 68beefad6578e9d6a2d43bc9\n",
      "2025-09-08 23:01:29,280 - scraper - INFO - Downloading Ramssol_AR2022__Part_1.pdf\n",
      "2025-09-08 23:01:29,460 - scraper - INFO - Downloading ECA_Integrated_Solution_Berhad_-_Annual_Report_2022.pdf\n",
      "2025-09-08 23:01:29,539 - scraper - INFO - Downloading TTVHB_CG_Report_2022.pdf\n",
      "2025-09-08 23:01:29,588 - scraper - INFO - Downloading SFP_AR2022_final__BURSA.pdf\n",
      "2025-09-08 23:01:34,249 - scraper - INFO - Uploaded PDF bytes for TTVHB_CG_Report_2022.pdf → GridFS ID 68beefce6578e9d6a2d43bcc\n",
      "2025-09-08 23:01:34,285 - scraper - INFO - Inserted metadata for TTVHB_CG_Report_2022.pdf → 68beefce6578e9d6a2d43beb\n",
      "2025-09-08 23:01:34,321 - scraper - INFO - Downloading TTVHB_Annual_Report_FYE_2022_Part_1.pdf\n",
      "2025-09-08 23:01:34,421 - scraper - INFO - Uploaded PDF bytes for ECA_Integrated_Solution_Berhad_-_Annual_Report_2022.pdf → GridFS ID 68beefcd6578e9d6a2d43bca\n",
      "2025-09-08 23:01:34,445 - scraper - INFO - Inserted metadata for ECA_Integrated_Solution_Berhad_-_Annual_Report_2022.pdf → 68beefce6578e9d6a2d43bec\n",
      "2025-09-08 23:01:34,467 - scraper - INFO - Downloading ECA_Integrated_Solution_Berhad_-_Corporate_Governance_Report.pdf\n",
      "2025-09-08 23:01:34,640 - scraper - INFO - Uploaded PDF bytes for SFP_AR2022_final__BURSA.pdf → GridFS ID 68beefce6578e9d6a2d43bd6\n",
      "2025-09-08 23:01:34,675 - scraper - INFO - Inserted metadata for SFP_AR2022_final__BURSA.pdf → 68beefce6578e9d6a2d43bed\n",
      "2025-09-08 23:01:34,700 - scraper - INFO - Downloading SFP_TECH_CGR_final.pdf\n",
      "2025-09-08 23:01:35,187 - scraper - INFO - Uploaded PDF bytes for Ramssol_AR2022__Part_1.pdf → GridFS ID 68beefcd6578e9d6a2d43bcb\n",
      "2025-09-08 23:01:35,210 - scraper - INFO - Inserted metadata for Ramssol_AR2022__Part_1.pdf → 68beefcf6578e9d6a2d43bee\n",
      "2025-09-08 23:01:35,233 - scraper - INFO - Downloading Ramssol_AR2022__Part_2.pdf\n",
      "2025-09-08 23:01:38,961 - scraper - INFO - Uploaded PDF bytes for ECA_Integrated_Solution_Berhad_-_Corporate_Governance_Report.pdf → GridFS ID 68beefd26578e9d6a2d43bef\n",
      "2025-09-08 23:01:38,995 - scraper - INFO - Inserted metadata for ECA_Integrated_Solution_Berhad_-_Corporate_Governance_Report.pdf → 68beefd26578e9d6a2d43bff\n",
      "2025-09-08 23:01:39,282 - scraper - INFO - Uploaded PDF bytes for SFP_TECH_CGR_final.pdf → GridFS ID 68beefd36578e9d6a2d43c00\n",
      "2025-09-08 23:01:39,307 - scraper - INFO - Inserted metadata for SFP_TECH_CGR_final.pdf → 68beefd36578e9d6a2d43c04\n",
      "2025-09-08 23:01:39,367 - scraper - INFO - Uploaded PDF bytes for TTVHB_Annual_Report_FYE_2022_Part_1.pdf → GridFS ID 68beefd26578e9d6a2d43bf3\n",
      "2025-09-08 23:01:39,390 - scraper - INFO - Inserted metadata for TTVHB_Annual_Report_FYE_2022_Part_1.pdf → 68beefd36578e9d6a2d43c05\n",
      "2025-09-08 23:01:39,412 - scraper - INFO - Downloading TTVHB_Annual_Report_FYE_2022_Part_2.pdf\n",
      "2025-09-08 23:01:39,849 - scraper - INFO - Uploaded PDF bytes for Ramssol_AR2022__Part_2.pdf → GridFS ID 68beefd36578e9d6a2d43c06\n",
      "2025-09-08 23:01:39,881 - scraper - INFO - Inserted metadata for Ramssol_AR2022__Part_2.pdf → 68beefd36578e9d6a2d43c0c\n",
      "2025-09-08 23:01:39,906 - scraper - INFO - Downloading CG_Report_2022.pdf\n",
      "2025-09-08 23:01:44,097 - scraper - INFO - Uploaded PDF bytes for TTVHB_Annual_Report_FYE_2022_Part_2.pdf → GridFS ID 68beefd76578e9d6a2d43c0d\n",
      "2025-09-08 23:01:44,124 - scraper - INFO - Inserted metadata for TTVHB_Annual_Report_FYE_2022_Part_2.pdf → 68beefd86578e9d6a2d43c14\n",
      "2025-09-08 23:01:44,403 - scraper - INFO - Uploaded PDF bytes for CG_Report_2022.pdf → GridFS ID 68beefd86578e9d6a2d43c15\n",
      "2025-09-08 23:01:44,425 - scraper - INFO - Inserted metadata for CG_Report_2022.pdf → 68beefd86578e9d6a2d43c19\n",
      "2025-09-08 23:02:02,479 - scraper - INFO - Downloading RAMSSOL_AR2021_(part_1).pdf\n",
      "2025-09-08 23:02:07,547 - scraper - INFO - Uploaded PDF bytes for RAMSSOL_AR2021_(part_1).pdf → GridFS ID 68beefef6578e9d6a2d43c1a\n",
      "2025-09-08 23:02:07,572 - scraper - INFO - Inserted metadata for RAMSSOL_AR2021_(part_1).pdf → 68beefef6578e9d6a2d43c27\n",
      "2025-09-08 23:02:07,594 - scraper - INFO - Downloading RAMSSOL_AR2021_(part_2).pdf\n",
      "2025-09-08 23:02:12,743 - scraper - INFO - Uploaded PDF bytes for RAMSSOL_AR2021_(part_2).pdf → GridFS ID 68beeff46578e9d6a2d43c28\n",
      "2025-09-08 23:02:12,769 - scraper - INFO - Inserted metadata for RAMSSOL_AR2021_(part_2).pdf → 68beeff46578e9d6a2d43c34\n",
      "2025-09-08 23:02:12,793 - scraper - INFO - Downloading RAMSSOL_AR2021_(part_3).pdf\n",
      "2025-09-08 23:02:17,531 - scraper - INFO - Uploaded PDF bytes for RAMSSOL_AR2021_(part_3).pdf → GridFS ID 68beeff96578e9d6a2d43c35\n",
      "2025-09-08 23:02:17,556 - scraper - INFO - Inserted metadata for RAMSSOL_AR2021_(part_3).pdf → 68beeff96578e9d6a2d43c3c\n",
      "2025-09-08 23:02:17,577 - scraper - INFO - Downloading RAMSSOL_CG_REPORT2021.pdf\n",
      "2025-09-08 23:02:22,055 - scraper - INFO - Uploaded PDF bytes for RAMSSOL_CG_REPORT2021.pdf → GridFS ID 68beeffd6578e9d6a2d43c3d\n",
      "2025-09-08 23:02:22,080 - scraper - INFO - Inserted metadata for RAMSSOL_CG_REPORT2021.pdf → 68beeffe6578e9d6a2d43c41\n"
     ]
    }
   ],
   "source": [
    "import logging\n",
    "import os\n",
    "import asyncio\n",
    "from ogmyrag.report_scraper.storage import AsyncStorageManager\n",
    "from motor.motor_asyncio import AsyncIOMotorClient\n",
    "from ogmyrag.base import MongoStorageConfig\n",
    "from ogmyrag.report_scraper.manager import ScraperManager\n",
    "from ogmyrag.report_scraper.models  import ReportType\n",
    "from ogmyrag.my_logging import configure_logger\n",
    "from dotenv import load_dotenv\n",
    "\n",
    "scraper_logger = configure_logger(name='scraper',log_level=logging.INFO, log_file='logs/scraper.log')\n",
    "scraper_logger.info(\"\\n\" + \"=\" * 80)\n",
    "\n",
    "load_dotenv(override=True)\n",
    "\n",
    "mongo_db_uri = os.getenv(\"MONGO_DB_URI_JJ\",\"\")\n",
    "db_name = \"FYP\"\n",
    "\n",
    "mongo_storage_config: MongoStorageConfig = {\n",
    "    \"database_name\": db_name\n",
    "}\n",
    "\n",
    "mongo_client = AsyncIOMotorClient(\n",
    "    mongo_db_uri,\n",
    "    serverSelectionTimeoutMS=5000\n",
    ")\n",
    "storage = AsyncStorageManager(mongo_client, mongo_storage_config)\n",
    "\n",
    "manager = ScraperManager(\n",
    "    storage_manager=storage,\n",
    "    max_workers=5,\n",
    "    dry_run=False,\n",
    ")\n"
   ]
  },
  {
   "cell_type": "markdown",
   "id": "88430874",
   "metadata": {},
   "source": [
    "## Scrap Annual Reports by Company Name & Year"
   ]
  },
  {
   "cell_type": "code",
   "execution_count": 2,
   "id": "f8233ade",
   "metadata": {},
   "outputs": [
    {
     "name": "stderr",
     "output_type": "stream",
     "text": [
      "2025-08-29 13:36:11,930 - scraper - INFO - === Annual Report & CG Report ===\n",
      "2025-08-29 13:36:11,931 - scraper - INFO - Fetching Annual Report & CG Report links (Year: 2024, Company: ALL)...\n",
      "2025-08-29 13:36:20,506 - scraper - INFO - Found 20 announcement links\n",
      "2025-08-29 13:36:20,508 - scraper - INFO - Processing 5 links with 5 workers\n",
      "2025-08-29 13:36:29,239 - scraper - INFO - Amended Annual Report & CG Report for ARK_RESOURCES_HOLDINGS_BERHAD (1 PDFs) is in the database\n",
      "2025-08-29 13:36:29,310 - scraper - INFO - Amended Annual Report & CG Report for MALAYSIAN_PACIFIC_INDUSTRIES_BERHAD (2 PDFs) is in the database\n",
      "2025-08-29 13:36:29,396 - scraper - INFO - Amended Annual Report & CG Report for KEY_ASIC_BERHAD (2 PDFs) is in the database\n",
      "2025-08-29 13:36:33,669 - scraper - INFO - Amended Annual Report & CG Report for SEE_HUP_CONSOLIDATED_BERHAD (1 PDFs) is in the database\n",
      "2025-08-29 13:36:33,737 - scraper - INFO - Amended Annual Report & CG Report for CTOS_DIGITAL_BERHAD (1 PDFs) is in the database\n"
     ]
    }
   ],
   "source": [
    "manager.run_one(\n",
    "    rtype = ReportType.ANNUAL,\n",
    "    year = 2024,\n",
    "    sector_name = \"TECHNOLOGY\"\n",
    "    #company_name = \"\",  # None for all companies\n",
    ")"
   ]
  },
  {
   "cell_type": "code",
   "execution_count": 5,
   "id": "ca187833",
   "metadata": {},
   "outputs": [],
   "source": [
    "company_1 = [\n",
    "        \"VETECE HOLDINGS BERHAD\",\n",
    "        \"EDELTEQ HOLDINGS BERHAD\", \n",
    "        \"CABNET HOLDINGS BERHAD\",\n",
    "        \"Autocount Dotcom Berhad\",\n",
    "        \"ICT ZONE ASIA BERHAD\",\n",
    "    ]\n",
    "\n",
    "company_2 = [\n",
    "        \"SFP TECH HOLDINGS BERHAD\",\n",
    "        \"TT VISION HOLDINGS BERHAD\",\n",
    "        \"RAMSSOL GROUP BERHAD\",\n",
    "        \"ECA INTEGRATED SOLUTION BERHAD\"\n",
    "    ]"
   ]
  },
  {
   "cell_type": "code",
   "execution_count": 2,
   "id": "50c05d8c",
   "metadata": {},
   "outputs": [
    {
     "name": "stderr",
     "output_type": "stream",
     "text": [
      "2025-09-08 22:57:41,918 - scraper - INFO - === Initial Public Offering ===\n",
      "2025-09-08 22:57:41,919 - scraper - INFO - Fetching concurrently for 9 companies (up to 5 links each)...\n",
      "2025-09-08 22:57:46,415 - scraper - INFO - Using company code: 0358 (ICT ZONE ASIA BERHAD)\n",
      "2025-09-08 22:57:46,415 - scraper - INFO - Fetching Initial Public Offering links (Year: N/A, Company: ICT ZONE ASIA BERHAD)...\n",
      "2025-09-08 22:57:46,595 - scraper - INFO - Using company code: 0276 (Autocount Dotcom Berhad)\n",
      "2025-09-08 22:57:46,596 - scraper - INFO - Using company code: 0191 (CABNET HOLDINGS BERHAD)\n",
      "2025-09-08 22:57:46,596 - scraper - INFO - Fetching Initial Public Offering links (Year: N/A, Company: Autocount Dotcom Berhad)...\n",
      "2025-09-08 22:57:46,597 - scraper - INFO - Fetching Initial Public Offering links (Year: N/A, Company: CABNET HOLDINGS BERHAD)...\n",
      "2025-09-08 22:57:46,702 - scraper - INFO - Using company code: 0278 (EDELTEQ HOLDINGS BERHAD)\n",
      "2025-09-08 22:57:46,702 - scraper - INFO - Fetching Initial Public Offering links (Year: N/A, Company: EDELTEQ HOLDINGS BERHAD)...\n",
      "2025-09-08 22:57:46,940 - scraper - INFO - Using company code: 0319 (VETECE HOLDINGS BERHAD)\n",
      "2025-09-08 22:57:46,940 - scraper - INFO - Fetching Initial Public Offering links (Year: N/A, Company: VETECE HOLDINGS BERHAD)...\n",
      "2025-09-08 22:57:50,823 - scraper - INFO - Found 1 announcement links\n",
      "2025-09-08 22:57:50,826 - scraper - INFO - Fetched 1 links for Autocount Dotcom Berhad\n",
      "2025-09-08 22:57:50,837 - scraper - INFO - Found 1 announcement links\n",
      "2025-09-08 22:57:50,840 - scraper - INFO - Fetched 1 links for ICT ZONE ASIA BERHAD\n",
      "2025-09-08 22:57:50,900 - scraper - INFO - Found 1 announcement links\n",
      "2025-09-08 22:57:50,902 - scraper - INFO - Fetched 1 links for EDELTEQ HOLDINGS BERHAD\n",
      "2025-09-08 22:57:51,033 - scraper - INFO - Found 1 announcement links\n",
      "2025-09-08 22:57:51,035 - scraper - INFO - Fetched 1 links for CABNET HOLDINGS BERHAD\n",
      "2025-09-08 22:57:51,568 - scraper - INFO - Found 1 announcement links\n",
      "2025-09-08 22:57:51,570 - scraper - INFO - Fetched 1 links for VETECE HOLDINGS BERHAD\n",
      "2025-09-08 22:57:55,356 - scraper - INFO - Using company code: 0272 (TT VISION HOLDINGS BERHAD)\n",
      "2025-09-08 22:57:55,357 - scraper - INFO - Fetching Initial Public Offering links (Year: N/A, Company: TT VISION HOLDINGS BERHAD)...\n",
      "2025-09-08 22:57:55,463 - scraper - INFO - Using company code: 0251 (SFP TECH HOLDINGS BERHAD)\n",
      "2025-09-08 22:57:55,463 - scraper - INFO - Fetching Initial Public Offering links (Year: N/A, Company: SFP TECH HOLDINGS BERHAD)...\n",
      "2025-09-08 22:57:55,657 - scraper - INFO - Using company code: 0236 (RAMSSOL GROUP BERHAD)\n",
      "2025-09-08 22:57:55,658 - scraper - INFO - Fetching Initial Public Offering links (Year: N/A, Company: RAMSSOL GROUP BERHAD)...\n",
      "2025-09-08 22:57:55,882 - scraper - INFO - Using company code: 0267 (ECA INTEGRATED SOLUTION BERHAD)\n",
      "2025-09-08 22:57:55,882 - scraper - INFO - Fetching Initial Public Offering links (Year: N/A, Company: ECA INTEGRATED SOLUTION BERHAD)...\n",
      "2025-09-08 22:57:59,563 - scraper - INFO - Found 1 announcement links\n",
      "2025-09-08 22:57:59,564 - scraper - INFO - Fetched 1 links for TT VISION HOLDINGS BERHAD\n",
      "2025-09-08 22:57:59,634 - scraper - INFO - Found 1 announcement links\n",
      "2025-09-08 22:57:59,635 - scraper - INFO - Fetched 1 links for SFP TECH HOLDINGS BERHAD\n",
      "2025-09-08 22:57:59,832 - scraper - INFO - Found 1 announcement links\n",
      "2025-09-08 22:57:59,834 - scraper - INFO - Fetched 1 links for RAMSSOL GROUP BERHAD\n",
      "2025-09-08 22:58:00,098 - scraper - INFO - Found 1 announcement links\n",
      "2025-09-08 22:58:00,100 - scraper - INFO - Fetched 1 links for ECA INTEGRATED SOLUTION BERHAD\n",
      "2025-09-08 22:58:00,101 - scraper - INFO - Processing 9 links with 5 workers\n",
      "2025-09-08 22:58:09,062 - scraper - INFO - Original Initial Public Offering for ICT_ZONE_ASIA_BERHAD (3 PDFs) is in the database\n",
      "2025-09-08 22:58:09,081 - scraper - INFO - Original Initial Public Offering for CABNET_HOLDINGS_BERHAD (4 PDFs) is in the database\n",
      "2025-09-08 22:58:09,186 - scraper - INFO - Original Initial Public Offering for AUTOCOUNT_DOTCOM_BERHAD (3 PDFs) is in the database\n",
      "2025-09-08 22:58:09,186 - scraper - INFO - Original Initial Public Offering for VETECE_HOLDINGS_BERHAD (3 PDFs) is in the database\n",
      "2025-09-08 22:58:09,202 - scraper - INFO - Original Initial Public Offering for EDELTEQ_HOLDINGS_BERHAD (3 PDFs) is in the database\n",
      "2025-09-08 22:58:17,618 - scraper - INFO - Original Initial Public Offering for TT_VISION_HOLDINGS_BERHAD (4 PDFs) is in the database\n",
      "2025-09-08 22:58:17,717 - scraper - INFO - Original Initial Public Offering for ECA_INTEGRATED_SOLUTION_BERHAD (6 PDFs) is in the database\n",
      "2025-09-08 22:58:17,906 - scraper - INFO - Original Initial Public Offering for RAMSSOL_GROUP_BERHAD (4 PDFs) is in the database\n",
      "2025-09-08 22:58:18,132 - scraper - INFO - Original Initial Public Offering for SFP_TECH_HOLDINGS_BERHAD (3 PDFs) is in the database\n"
     ]
    }
   ],
   "source": [
    "manager.run_one(\n",
    "    rtype = ReportType.IPO,\n",
    "    company_name = [\n",
    "        \"VETECE HOLDINGS BERHAD\",\n",
    "        \"EDELTEQ HOLDINGS BERHAD\", \n",
    "        \"CABNET HOLDINGS BERHAD\",\n",
    "        \"Autocount Dotcom Berhad\",\n",
    "        \"ICT ZONE ASIA BERHAD\",\n",
    "        \"SFP TECH HOLDINGS BERHAD\",\n",
    "        \"TT VISION HOLDINGS BERHAD\",\n",
    "        \"RAMSSOL GROUP BERHAD\",\n",
    "        \"ECA INTEGRATED SOLUTION BERHAD\"\n",
    "    ]\n",
    ")"
   ]
  },
  {
   "cell_type": "code",
   "execution_count": 3,
   "id": "1b36bb03",
   "metadata": {},
   "outputs": [
    {
     "name": "stderr",
     "output_type": "stream",
     "text": [
      "2025-09-08 22:58:26,476 - scraper - INFO - === Annual Report & CG Report ===\n",
      "2025-09-08 22:58:26,478 - scraper - INFO - Fetching concurrently for 9 companies (up to 5 links each)...\n",
      "2025-09-08 22:58:30,998 - scraper - INFO - Using company code: 0191 (CABNET HOLDINGS BERHAD)\n",
      "2025-09-08 22:58:30,999 - scraper - INFO - Fetching Annual Report & CG Report links (Year: 2024, Company: CABNET HOLDINGS BERHAD)...\n",
      "2025-09-08 22:58:31,216 - scraper - INFO - Using company code: 0319 (VETECE HOLDINGS BERHAD)\n",
      "2025-09-08 22:58:31,205 - scraper - INFO - Using company code: 0358 (ICT ZONE ASIA BERHAD)\n",
      "2025-09-08 22:58:31,233 - scraper - INFO - Using company code: 0278 (EDELTEQ HOLDINGS BERHAD)\n",
      "2025-09-08 22:58:31,233 - scraper - INFO - Fetching Annual Report & CG Report links (Year: 2024, Company: VETECE HOLDINGS BERHAD)...\n",
      "2025-09-08 22:58:31,234 - scraper - INFO - Fetching Annual Report & CG Report links (Year: 2024, Company: ICT ZONE ASIA BERHAD)...\n",
      "2025-09-08 22:58:31,234 - scraper - INFO - Fetching Annual Report & CG Report links (Year: 2024, Company: EDELTEQ HOLDINGS BERHAD)...\n",
      "2025-09-08 22:58:31,726 - scraper - INFO - Using company code: 0276 (Autocount Dotcom Berhad)\n",
      "2025-09-08 22:58:31,727 - scraper - INFO - Fetching Annual Report & CG Report links (Year: 2024, Company: Autocount Dotcom Berhad)...\n",
      "2025-09-08 22:58:35,392 - scraper - INFO - Found 1 announcement links\n",
      "2025-09-08 22:58:35,393 - scraper - INFO - Fetched 1 links for CABNET HOLDINGS BERHAD\n",
      "2025-09-08 22:58:35,402 - scraper - INFO - Found 0 announcement links\n",
      "2025-09-08 22:58:35,403 - scraper - INFO - Fetched 0 links for ICT ZONE ASIA BERHAD\n",
      "2025-09-08 22:58:35,415 - scraper - INFO - Found 1 announcement links\n",
      "2025-09-08 22:58:35,416 - scraper - INFO - Fetched 1 links for VETECE HOLDINGS BERHAD\n",
      "2025-09-08 22:58:35,431 - scraper - INFO - Found 1 announcement links\n",
      "2025-09-08 22:58:35,432 - scraper - INFO - Fetched 1 links for EDELTEQ HOLDINGS BERHAD\n",
      "2025-09-08 22:58:35,916 - scraper - INFO - Found 1 announcement links\n",
      "2025-09-08 22:58:35,917 - scraper - INFO - Fetched 1 links for Autocount Dotcom Berhad\n",
      "2025-09-08 22:58:40,014 - scraper - INFO - Using company code: 0251 (SFP TECH HOLDINGS BERHAD)\n",
      "2025-09-08 22:58:40,045 - scraper - INFO - Fetching Annual Report & CG Report links (Year: 2024, Company: SFP TECH HOLDINGS BERHAD)...\n",
      "2025-09-08 22:58:40,084 - scraper - INFO - Using company code: 0267 (ECA INTEGRATED SOLUTION BERHAD)\n",
      "2025-09-08 22:58:40,085 - scraper - INFO - Fetching Annual Report & CG Report links (Year: 2024, Company: ECA INTEGRATED SOLUTION BERHAD)...\n",
      "2025-09-08 22:58:40,157 - scraper - INFO - Using company code: 0236 (RAMSSOL GROUP BERHAD)\n",
      "2025-09-08 22:58:40,157 - scraper - INFO - Fetching Annual Report & CG Report links (Year: 2024, Company: RAMSSOL GROUP BERHAD)...\n",
      "2025-09-08 22:58:40,325 - scraper - INFO - Using company code: 0272 (TT VISION HOLDINGS BERHAD)\n",
      "2025-09-08 22:58:40,326 - scraper - INFO - Fetching Annual Report & CG Report links (Year: 2024, Company: TT VISION HOLDINGS BERHAD)...\n",
      "2025-09-08 22:58:44,289 - scraper - INFO - Found 1 announcement links\n",
      "2025-09-08 22:58:44,291 - scraper - INFO - Fetched 1 links for SFP TECH HOLDINGS BERHAD\n",
      "2025-09-08 22:58:44,312 - scraper - INFO - Found 1 announcement links\n",
      "2025-09-08 22:58:44,313 - scraper - INFO - Fetched 1 links for ECA INTEGRATED SOLUTION BERHAD\n",
      "2025-09-08 22:58:44,452 - scraper - INFO - Found 1 announcement links\n",
      "2025-09-08 22:58:44,454 - scraper - INFO - Fetched 1 links for RAMSSOL GROUP BERHAD\n",
      "2025-09-08 22:58:44,537 - scraper - INFO - Found 1 announcement links\n",
      "2025-09-08 22:58:44,538 - scraper - INFO - Fetched 1 links for TT VISION HOLDINGS BERHAD\n",
      "2025-09-08 22:58:44,539 - scraper - INFO - Processing 8 links with 5 workers\n",
      "2025-09-08 22:58:52,987 - scraper - INFO - Original Annual Report & CG Report for AUTOCOUNT_DOTCOM_BERHAD (3 PDFs) is in the database\n",
      "2025-09-08 22:58:53,006 - scraper - INFO - Original Annual Report & CG Report for EDELTEQ_HOLDINGS_BERHAD (2 PDFs) is in the database\n",
      "2025-09-08 22:58:53,241 - scraper - INFO - Original Annual Report & CG Report for CABNET_HOLDINGS_BERHAD (2 PDFs) is in the database\n",
      "2025-09-08 22:58:53,272 - scraper - INFO - Original Annual Report & CG Report for VETECE_HOLDINGS_BERHAD (2 PDFs) is in the database\n",
      "2025-09-08 22:59:07,850 - scraper - INFO - Original Annual Report & CG Report for SFP_TECH_HOLDINGS_BERHAD (3 PDFs) is in the database\n",
      "2025-09-08 22:59:11,899 - scraper - INFO - Original Annual Report & CG Report for ECA_INTEGRATED_SOLUTION_BERHAD (2 PDFs) is in the database\n",
      "2025-09-08 22:59:12,150 - scraper - INFO - Original Annual Report & CG Report for RAMSSOL_GROUP_BERHAD (2 PDFs) is in the database\n",
      "2025-09-08 22:59:16,912 - scraper - INFO - Original Annual Report & CG Report for TT_VISION_HOLDINGS_BERHAD (3 PDFs) is in the database\n"
     ]
    }
   ],
   "source": [
    "manager.run_one(\n",
    "    rtype = ReportType.ANNUAL,\n",
    "    year = 2024,\n",
    "    company_name = [\n",
    "        \"VETECE HOLDINGS BERHAD\",\n",
    "        \"EDELTEQ HOLDINGS BERHAD\", \n",
    "        \"CABNET HOLDINGS BERHAD\",\n",
    "        \"Autocount Dotcom Berhad\",\n",
    "        \"ICT ZONE ASIA BERHAD\",\n",
    "        \"SFP TECH HOLDINGS BERHAD\",\n",
    "        \"TT VISION HOLDINGS BERHAD\",\n",
    "        \"RAMSSOL GROUP BERHAD\",\n",
    "        \"ECA INTEGRATED SOLUTION BERHAD\"\n",
    "    ]\n",
    ")"
   ]
  },
  {
   "cell_type": "code",
   "execution_count": 6,
   "id": "c2b95ccb",
   "metadata": {},
   "outputs": [
    {
     "name": "stderr",
     "output_type": "stream",
     "text": [
      "2025-09-08 23:00:28,000 - scraper - INFO - === Annual Report & CG Report ===\n",
      "2025-09-08 23:00:28,004 - scraper - INFO - Fetching concurrently for 4 companies (up to 5 links each)...\n",
      "2025-09-08 23:00:32,790 - scraper - INFO - Using company code: 0272 (TT VISION HOLDINGS BERHAD)\n",
      "2025-09-08 23:00:32,791 - scraper - INFO - Fetching Annual Report & CG Report links (Year: 2023, Company: TT VISION HOLDINGS BERHAD)...\n",
      "2025-09-08 23:00:33,006 - scraper - INFO - Using company code: 0251 (SFP TECH HOLDINGS BERHAD)\n",
      "2025-09-08 23:00:33,020 - scraper - INFO - Using company code: 0267 (ECA INTEGRATED SOLUTION BERHAD)\n",
      "2025-09-08 23:00:33,024 - scraper - INFO - Using company code: 0236 (RAMSSOL GROUP BERHAD)\n",
      "2025-09-08 23:00:33,024 - scraper - INFO - Fetching Annual Report & CG Report links (Year: 2023, Company: SFP TECH HOLDINGS BERHAD)...\n",
      "2025-09-08 23:00:33,024 - scraper - INFO - Fetching Annual Report & CG Report links (Year: 2023, Company: ECA INTEGRATED SOLUTION BERHAD)...\n",
      "2025-09-08 23:00:33,025 - scraper - INFO - Fetching Annual Report & CG Report links (Year: 2023, Company: RAMSSOL GROUP BERHAD)...\n",
      "2025-09-08 23:00:37,149 - scraper - INFO - Found 1 announcement links\n",
      "2025-09-08 23:00:37,151 - scraper - INFO - Fetched 1 links for TT VISION HOLDINGS BERHAD\n",
      "2025-09-08 23:00:37,238 - scraper - INFO - Found 1 announcement links\n",
      "2025-09-08 23:00:37,239 - scraper - INFO - Fetched 1 links for SFP TECH HOLDINGS BERHAD\n",
      "2025-09-08 23:00:37,251 - scraper - INFO - Found 1 announcement links\n",
      "2025-09-08 23:00:37,251 - scraper - INFO - Fetched 1 links for RAMSSOL GROUP BERHAD\n",
      "2025-09-08 23:00:37,313 - scraper - INFO - Found 1 announcement links\n",
      "2025-09-08 23:00:37,314 - scraper - INFO - Fetched 1 links for ECA INTEGRATED SOLUTION BERHAD\n",
      "2025-09-08 23:00:37,315 - scraper - INFO - Processing 4 links with 5 workers\n",
      "2025-09-08 23:00:55,967 - scraper - INFO - Original Annual Report & CG Report for RAMSSOL_GROUP_BERHAD (2 PDFs) is in the database\n",
      "2025-09-08 23:00:56,075 - scraper - INFO - Original Annual Report & CG Report for SFP_TECH_HOLDINGS_BERHAD (2 PDFs) is in the database\n",
      "2025-09-08 23:00:57,354 - scraper - INFO - Original Annual Report & CG Report for ECA_INTEGRATED_SOLUTION_BERHAD (2 PDFs) is in the database\n",
      "2025-09-08 23:01:01,908 - scraper - INFO - Original Annual Report & CG Report for TT_VISION_HOLDINGS_BERHAD (3 PDFs) is in the database\n"
     ]
    }
   ],
   "source": [
    "manager.run_one(\n",
    "    rtype = ReportType.ANNUAL,\n",
    "    year = 2023,\n",
    "    company_name = company_2\n",
    ")"
   ]
  },
  {
   "cell_type": "code",
   "execution_count": null,
   "id": "07e26308",
   "metadata": {},
   "outputs": [
    {
     "name": "stderr",
     "output_type": "stream",
     "text": [
      "2025-09-07 21:59:48,996 - scraper - INFO - === Annual Report & CG Report ===\n",
      "2025-09-07 21:59:48,998 - scraper - INFO - Fetching concurrently for 5 companies (up to 5 links each)...\n",
      "2025-09-07 21:59:53,605 - scraper - INFO - Using company code: 0278 (EDELTEQ HOLDINGS BERHAD)\n",
      "2025-09-07 21:59:53,630 - scraper - INFO - Using company code: 0276 (Autocount Dotcom Berhad)\n",
      "2025-09-07 21:59:53,630 - scraper - INFO - Fetching Annual Report & CG Report links (Year: 2025, Company: EDELTEQ HOLDINGS BERHAD)...\n",
      "2025-09-07 21:59:53,631 - scraper - INFO - Fetching Annual Report & CG Report links (Year: 2025, Company: Autocount Dotcom Berhad)...\n",
      "2025-09-07 21:59:53,818 - scraper - INFO - Using company code: 0358 (ICT ZONE ASIA BERHAD)\n",
      "2025-09-07 21:59:53,880 - scraper - INFO - Using company code: 0319 (VETECE HOLDINGS BERHAD)\n",
      "2025-09-07 21:59:53,881 - scraper - INFO - Using company code: 0191 (CABNET HOLDINGS BERHAD)\n",
      "2025-09-07 21:59:53,881 - scraper - INFO - Fetching Annual Report & CG Report links (Year: 2025, Company: ICT ZONE ASIA BERHAD)...\n",
      "2025-09-07 21:59:53,882 - scraper - INFO - Fetching Annual Report & CG Report links (Year: 2025, Company: VETECE HOLDINGS BERHAD)...\n",
      "2025-09-07 21:59:53,882 - scraper - INFO - Fetching Annual Report & CG Report links (Year: 2025, Company: CABNET HOLDINGS BERHAD)...\n",
      "2025-09-07 21:59:58,052 - scraper - INFO - Found 0 announcement links\n",
      "2025-09-07 21:59:58,054 - scraper - INFO - Fetched 0 links for Autocount Dotcom Berhad\n",
      "2025-09-07 21:59:58,067 - scraper - INFO - Found 0 announcement links\n",
      "2025-09-07 21:59:58,068 - scraper - INFO - Fetched 0 links for EDELTEQ HOLDINGS BERHAD\n",
      "2025-09-07 21:59:58,126 - scraper - INFO - Found 1 announcement links\n",
      "2025-09-07 21:59:58,127 - scraper - INFO - Fetched 1 links for CABNET HOLDINGS BERHAD\n",
      "2025-09-07 21:59:58,146 - scraper - INFO - Found 0 announcement links\n",
      "2025-09-07 21:59:58,146 - scraper - INFO - Fetched 0 links for VETECE HOLDINGS BERHAD\n",
      "2025-09-07 21:59:58,196 - scraper - INFO - Found 0 announcement links\n",
      "2025-09-07 21:59:58,197 - scraper - INFO - Fetched 0 links for ICT ZONE ASIA BERHAD\n",
      "2025-09-07 21:59:58,198 - scraper - INFO - Processing 1 links with 5 workers\n",
      "2025-09-07 22:00:16,143 - scraper - INFO - Original Annual Report & CG Report for CABNET_HOLDINGS_BERHAD (2 PDFs) is in the database\n"
     ]
    }
   ],
   "source": [
    "manager.run_one(\n",
    "    rtype = ReportType.ANNUAL,\n",
    "    year = 2025,\n",
    "    company_name = [\n",
    "        \"VETECE HOLDINGS BERHAD\",\n",
    "        \"EDELTEQ HOLDINGS BERHAD\", \n",
    "        \"CABNET HOLDINGS BERHAD\",\n",
    "        \"Autocount Dotcom Berhad\",\n",
    "        \"ICT ZONE ASIA BERHAD\",\n",
    "        \"SFP TECH HOLDINGS BERHAD\",\n",
    "        \"TT VISION HOLDINGS BERHAD\",\n",
    "        \"RAMSSOL GROUP BERHAD\",\n",
    "        \"ECA INTEGRATED SOLUTION BERHAD\"\n",
    "    ]\n",
    ")"
   ]
  },
  {
   "cell_type": "code",
   "execution_count": 7,
   "id": "6d14776d",
   "metadata": {},
   "outputs": [
    {
     "name": "stderr",
     "output_type": "stream",
     "text": [
      "2025-09-08 23:01:11,500 - scraper - INFO - === Annual Report & CG Report ===\n",
      "2025-09-08 23:01:11,502 - scraper - INFO - Fetching concurrently for 4 companies (up to 5 links each)...\n",
      "2025-09-08 23:01:16,194 - scraper - INFO - Using company code: 0267 (ECA INTEGRATED SOLUTION BERHAD)\n",
      "2025-09-08 23:01:16,216 - scraper - INFO - Using company code: 0251 (SFP TECH HOLDINGS BERHAD)\n",
      "2025-09-08 23:01:16,217 - scraper - INFO - Fetching Annual Report & CG Report links (Year: 2022, Company: ECA INTEGRATED SOLUTION BERHAD)...\n",
      "2025-09-08 23:01:16,261 - scraper - INFO - Fetching Annual Report & CG Report links (Year: 2022, Company: SFP TECH HOLDINGS BERHAD)...\n",
      "2025-09-08 23:01:16,399 - scraper - INFO - Using company code: 0236 (RAMSSOL GROUP BERHAD)\n",
      "2025-09-08 23:01:16,399 - scraper - INFO - Using company code: 0272 (TT VISION HOLDINGS BERHAD)\n",
      "2025-09-08 23:01:16,400 - scraper - INFO - Fetching Annual Report & CG Report links (Year: 2022, Company: RAMSSOL GROUP BERHAD)...\n",
      "2025-09-08 23:01:16,401 - scraper - INFO - Fetching Annual Report & CG Report links (Year: 2022, Company: TT VISION HOLDINGS BERHAD)...\n",
      "2025-09-08 23:01:20,602 - scraper - INFO - Found 1 announcement links\n",
      "2025-09-08 23:01:20,604 - scraper - INFO - Found 1 announcement links\n",
      "2025-09-08 23:01:20,604 - scraper - INFO - Fetched 1 links for SFP TECH HOLDINGS BERHAD\n",
      "2025-09-08 23:01:20,606 - scraper - INFO - Fetched 1 links for ECA INTEGRATED SOLUTION BERHAD\n",
      "2025-09-08 23:01:20,642 - scraper - INFO - Found 1 announcement links\n",
      "2025-09-08 23:01:20,644 - scraper - INFO - Fetched 1 links for TT VISION HOLDINGS BERHAD\n",
      "2025-09-08 23:01:20,877 - scraper - INFO - Found 1 announcement links\n",
      "2025-09-08 23:01:20,878 - scraper - INFO - Fetched 1 links for RAMSSOL GROUP BERHAD\n",
      "2025-09-08 23:01:20,879 - scraper - INFO - Processing 4 links with 5 workers\n",
      "2025-09-08 23:01:38,996 - scraper - INFO - Original Annual Report & CG Report for ECA_INTEGRATED_SOLUTION_BERHAD (2 PDFs) is in the database\n",
      "2025-09-08 23:01:39,307 - scraper - INFO - Original Annual Report & CG Report for SFP_TECH_HOLDINGS_BERHAD (2 PDFs) is in the database\n",
      "2025-09-08 23:01:44,126 - scraper - INFO - Original Annual Report & CG Report for TT_VISION_HOLDINGS_BERHAD (3 PDFs) is in the database\n",
      "2025-09-08 23:01:44,426 - scraper - INFO - Original Annual Report & CG Report for RAMSSOL_GROUP_BERHAD (3 PDFs) is in the database\n"
     ]
    }
   ],
   "source": [
    "manager.run_one(\n",
    "    rtype = ReportType.ANNUAL,\n",
    "    year = 2022,\n",
    "    company_name = company_2\n",
    ")"
   ]
  },
  {
   "cell_type": "code",
   "execution_count": 8,
   "id": "e465cabe",
   "metadata": {},
   "outputs": [
    {
     "name": "stderr",
     "output_type": "stream",
     "text": [
      "2025-09-08 23:01:44,449 - scraper - INFO - === Annual Report & CG Report ===\n",
      "2025-09-08 23:01:44,450 - scraper - INFO - Fetching concurrently for 4 companies (up to 5 links each)...\n",
      "2025-09-08 23:01:48,976 - scraper - INFO - Using company code: 0236 (RAMSSOL GROUP BERHAD)\n",
      "2025-09-08 23:01:48,976 - scraper - INFO - Fetching Annual Report & CG Report links (Year: 2021, Company: RAMSSOL GROUP BERHAD)...\n",
      "2025-09-08 23:01:49,140 - scraper - INFO - Using company code: 0272 (TT VISION HOLDINGS BERHAD)\n",
      "2025-09-08 23:01:49,142 - scraper - INFO - Fetching Annual Report & CG Report links (Year: 2021, Company: TT VISION HOLDINGS BERHAD)...\n",
      "2025-09-08 23:01:49,213 - scraper - INFO - Using company code: 0267 (ECA INTEGRATED SOLUTION BERHAD)\n",
      "2025-09-08 23:01:49,213 - scraper - INFO - Fetching Annual Report & CG Report links (Year: 2021, Company: ECA INTEGRATED SOLUTION BERHAD)...\n",
      "2025-09-08 23:01:49,495 - scraper - INFO - Using company code: 0251 (SFP TECH HOLDINGS BERHAD)\n",
      "2025-09-08 23:01:49,495 - scraper - INFO - Fetching Annual Report & CG Report links (Year: 2021, Company: SFP TECH HOLDINGS BERHAD)...\n",
      "2025-09-08 23:01:53,351 - scraper - INFO - Found 0 announcement links\n",
      "2025-09-08 23:01:53,353 - scraper - INFO - Fetched 0 links for TT VISION HOLDINGS BERHAD\n",
      "2025-09-08 23:01:53,422 - scraper - INFO - Found 0 announcement links\n",
      "2025-09-08 23:01:53,423 - scraper - INFO - Fetched 0 links for ECA INTEGRATED SOLUTION BERHAD\n",
      "2025-09-08 23:01:53,434 - scraper - INFO - Found 1 announcement links\n",
      "2025-09-08 23:01:53,435 - scraper - INFO - Fetched 1 links for RAMSSOL GROUP BERHAD\n",
      "2025-09-08 23:01:53,725 - scraper - INFO - Found 0 announcement links\n",
      "2025-09-08 23:01:53,727 - scraper - INFO - Fetched 0 links for SFP TECH HOLDINGS BERHAD\n",
      "2025-09-08 23:01:53,727 - scraper - INFO - Processing 1 links with 5 workers\n",
      "2025-09-08 23:02:22,081 - scraper - INFO - Original Annual Report & CG Report for RAMSSOL_GROUP_BERHAD (4 PDFs) is in the database\n"
     ]
    }
   ],
   "source": [
    "manager.run_one(\n",
    "    rtype = ReportType.ANNUAL,\n",
    "    year = 2021,\n",
    "    company_name = company_2\n",
    ")"
   ]
  },
  {
   "cell_type": "code",
   "execution_count": 4,
   "id": "cd7b0fcb",
   "metadata": {},
   "outputs": [
    {
     "name": "stderr",
     "output_type": "stream",
     "text": [
      "2025-09-08 16:28:03,331 - scraper - INFO - === Annual Report & CG Report ===\n",
      "2025-09-08 16:28:03,333 - scraper - INFO - Fetching concurrently for 5 companies (up to 5 links each)...\n",
      "2025-09-08 16:28:07,913 - scraper - INFO - Using company code: 0358 (ICT ZONE ASIA BERHAD)\n",
      "2025-09-08 16:28:08,021 - scraper - INFO - Using company code: 0319 (VETECE HOLDINGS BERHAD)\n",
      "2025-09-08 16:28:08,048 - scraper - INFO - Using company code: 0276 (Autocount Dotcom Berhad)\n",
      "2025-09-08 16:28:08,048 - scraper - INFO - Fetching Annual Report & CG Report links (Year: 2020, Company: ICT ZONE ASIA BERHAD)...\n",
      "2025-09-08 16:28:08,049 - scraper - INFO - Fetching Annual Report & CG Report links (Year: 2020, Company: VETECE HOLDINGS BERHAD)...\n",
      "2025-09-08 16:28:08,049 - scraper - INFO - Fetching Annual Report & CG Report links (Year: 2020, Company: Autocount Dotcom Berhad)...\n",
      "2025-09-08 16:28:08,218 - scraper - INFO - Using company code: 0278 (EDELTEQ HOLDINGS BERHAD)\n",
      "2025-09-08 16:28:08,230 - scraper - INFO - Using company code: 0191 (CABNET HOLDINGS BERHAD)\n",
      "2025-09-08 16:28:08,231 - scraper - INFO - Fetching Annual Report & CG Report links (Year: 2020, Company: EDELTEQ HOLDINGS BERHAD)...\n",
      "2025-09-08 16:28:08,231 - scraper - INFO - Fetching Annual Report & CG Report links (Year: 2020, Company: CABNET HOLDINGS BERHAD)...\n",
      "2025-09-08 16:28:12,375 - scraper - INFO - Found 0 announcement links\n",
      "2025-09-08 16:28:12,377 - scraper - INFO - Fetched 0 links for ICT ZONE ASIA BERHAD\n",
      "2025-09-08 16:28:12,416 - scraper - INFO - Found 0 announcement links\n",
      "2025-09-08 16:28:12,417 - scraper - INFO - Fetched 0 links for Autocount Dotcom Berhad\n",
      "2025-09-08 16:28:12,478 - scraper - INFO - Found 0 announcement links\n",
      "2025-09-08 16:28:12,479 - scraper - INFO - Fetched 0 links for VETECE HOLDINGS BERHAD\n",
      "2025-09-08 16:28:12,493 - scraper - INFO - Found 1 announcement links\n",
      "2025-09-08 16:28:12,493 - scraper - INFO - Fetched 1 links for CABNET HOLDINGS BERHAD\n",
      "2025-09-08 16:28:12,516 - scraper - INFO - Found 0 announcement links\n",
      "2025-09-08 16:28:12,517 - scraper - INFO - Fetched 0 links for EDELTEQ HOLDINGS BERHAD\n",
      "2025-09-08 16:28:12,518 - scraper - INFO - Processing 1 links with 5 workers\n",
      "2025-09-08 16:28:35,335 - scraper - INFO - Original Annual Report & CG Report for CABNET_HOLDINGS_BERHAD (3 PDFs) is in the database\n"
     ]
    }
   ],
   "source": [
    "manager.run_one(\n",
    "    rtype = ReportType.ANNUAL,\n",
    "    year = 2020,\n",
    "    company_name = [\n",
    "        \"VETECE HOLDINGS BERHAD\",\n",
    "        \"EDELTEQ HOLDINGS BERHAD\", \n",
    "        \"CABNET HOLDINGS BERHAD\",\n",
    "        \"Autocount Dotcom Berhad\",\n",
    "        \"ICT ZONE ASIA BERHAD\"\n",
    "    ]\n",
    ")"
   ]
  },
  {
   "cell_type": "code",
   "execution_count": 5,
   "id": "bfcd4eb1",
   "metadata": {},
   "outputs": [
    {
     "name": "stderr",
     "output_type": "stream",
     "text": [
      "2025-09-08 16:28:35,344 - scraper - INFO - === Annual Report & CG Report ===\n",
      "2025-09-08 16:28:35,345 - scraper - INFO - Fetching concurrently for 5 companies (up to 5 links each)...\n",
      "2025-09-08 16:28:39,891 - scraper - INFO - Using company code: 0319 (VETECE HOLDINGS BERHAD)\n",
      "2025-09-08 16:28:39,892 - scraper - INFO - Fetching Annual Report & CG Report links (Year: 2019, Company: VETECE HOLDINGS BERHAD)...\n",
      "2025-09-08 16:28:39,971 - scraper - INFO - Using company code: 0276 (Autocount Dotcom Berhad)\n",
      "2025-09-08 16:28:39,971 - scraper - INFO - Fetching Annual Report & CG Report links (Year: 2019, Company: Autocount Dotcom Berhad)...\n",
      "2025-09-08 16:28:40,042 - scraper - INFO - Using company code: 0278 (EDELTEQ HOLDINGS BERHAD)\n",
      "2025-09-08 16:28:40,043 - scraper - INFO - Fetching Annual Report & CG Report links (Year: 2019, Company: EDELTEQ HOLDINGS BERHAD)...\n",
      "2025-09-08 16:28:40,158 - scraper - INFO - Using company code: 0358 (ICT ZONE ASIA BERHAD)\n",
      "2025-09-08 16:28:40,158 - scraper - INFO - Fetching Annual Report & CG Report links (Year: 2019, Company: ICT ZONE ASIA BERHAD)...\n",
      "2025-09-08 16:28:40,230 - scraper - INFO - Using company code: 0191 (CABNET HOLDINGS BERHAD)\n",
      "2025-09-08 16:28:40,231 - scraper - INFO - Fetching Annual Report & CG Report links (Year: 2019, Company: CABNET HOLDINGS BERHAD)...\n",
      "2025-09-08 16:28:44,082 - scraper - INFO - Found 0 announcement links\n",
      "2025-09-08 16:28:44,083 - scraper - INFO - Fetched 0 links for VETECE HOLDINGS BERHAD\n",
      "2025-09-08 16:28:44,300 - scraper - INFO - Found 0 announcement links\n",
      "2025-09-08 16:28:44,300 - scraper - INFO - Fetched 0 links for EDELTEQ HOLDINGS BERHAD\n",
      "2025-09-08 16:28:44,344 - scraper - INFO - Found 0 announcement links\n",
      "2025-09-08 16:28:44,344 - scraper - INFO - Fetched 0 links for Autocount Dotcom Berhad\n",
      "2025-09-08 16:28:44,371 - scraper - INFO - Found 0 announcement links\n",
      "2025-09-08 16:28:44,371 - scraper - INFO - Fetched 0 links for ICT ZONE ASIA BERHAD\n",
      "2025-09-08 16:29:02,199 - scraper - INFO - Found 1 announcement links\n",
      "2025-09-08 16:29:02,202 - scraper - INFO - Fetched 1 links for CABNET HOLDINGS BERHAD\n",
      "2025-09-08 16:29:02,203 - scraper - INFO - Processing 1 links with 5 workers\n",
      "2025-09-08 16:29:20,220 - scraper - INFO - Original Annual Report & CG Report for CABNET_HOLDINGS_BERHAD (2 PDFs) is in the database\n"
     ]
    }
   ],
   "source": [
    "manager.run_one(\n",
    "    rtype = ReportType.ANNUAL,\n",
    "    year = 2019,\n",
    "    company_name = [\n",
    "        \"VETECE HOLDINGS BERHAD\",\n",
    "        \"EDELTEQ HOLDINGS BERHAD\", \n",
    "        \"CABNET HOLDINGS BERHAD\",\n",
    "        \"Autocount Dotcom Berhad\",\n",
    "        \"ICT ZONE ASIA BERHAD\"\n",
    "    ]\n",
    ")"
   ]
  },
  {
   "cell_type": "code",
   "execution_count": 6,
   "id": "2e9ec861",
   "metadata": {},
   "outputs": [
    {
     "name": "stderr",
     "output_type": "stream",
     "text": [
      "2025-09-08 16:29:20,229 - scraper - INFO - === Annual Report & CG Report ===\n",
      "2025-09-08 16:29:20,230 - scraper - INFO - Fetching concurrently for 5 companies (up to 5 links each)...\n",
      "2025-09-08 16:29:24,788 - scraper - INFO - Using company code: 0278 (EDELTEQ HOLDINGS BERHAD)\n",
      "2025-09-08 16:29:24,790 - scraper - INFO - Fetching Annual Report & CG Report links (Year: 2018, Company: EDELTEQ HOLDINGS BERHAD)...\n",
      "2025-09-08 16:29:24,966 - scraper - INFO - Using company code: 0319 (VETECE HOLDINGS BERHAD)\n",
      "2025-09-08 16:29:25,008 - scraper - INFO - Using company code: 0276 (Autocount Dotcom Berhad)\n",
      "2025-09-08 16:29:25,027 - scraper - INFO - Using company code: 0191 (CABNET HOLDINGS BERHAD)\n",
      "2025-09-08 16:29:25,027 - scraper - INFO - Fetching Annual Report & CG Report links (Year: 2018, Company: VETECE HOLDINGS BERHAD)...\n",
      "2025-09-08 16:29:25,028 - scraper - INFO - Fetching Annual Report & CG Report links (Year: 2018, Company: Autocount Dotcom Berhad)...\n",
      "2025-09-08 16:29:25,028 - scraper - INFO - Fetching Annual Report & CG Report links (Year: 2018, Company: CABNET HOLDINGS BERHAD)...\n",
      "2025-09-08 16:29:25,103 - scraper - INFO - Using company code: 0358 (ICT ZONE ASIA BERHAD)\n",
      "2025-09-08 16:29:25,103 - scraper - INFO - Fetching Annual Report & CG Report links (Year: 2018, Company: ICT ZONE ASIA BERHAD)...\n",
      "2025-09-08 16:29:29,219 - scraper - INFO - Found 1 announcement links\n",
      "2025-09-08 16:29:29,221 - scraper - INFO - Fetched 1 links for CABNET HOLDINGS BERHAD\n",
      "2025-09-08 16:29:29,279 - scraper - INFO - Found 0 announcement links\n",
      "2025-09-08 16:29:29,281 - scraper - INFO - Fetched 0 links for ICT ZONE ASIA BERHAD\n",
      "2025-09-08 16:29:29,291 - scraper - INFO - Found 0 announcement links\n",
      "2025-09-08 16:29:29,292 - scraper - INFO - Fetched 0 links for VETECE HOLDINGS BERHAD\n",
      "2025-09-08 16:29:29,295 - scraper - INFO - Found 0 announcement links\n",
      "2025-09-08 16:29:29,296 - scraper - INFO - Fetched 0 links for Autocount Dotcom Berhad\n",
      "2025-09-08 16:29:29,432 - scraper - INFO - Found 0 announcement links\n",
      "2025-09-08 16:29:29,433 - scraper - INFO - Fetched 0 links for EDELTEQ HOLDINGS BERHAD\n",
      "2025-09-08 16:29:29,434 - scraper - INFO - Processing 1 links with 5 workers\n",
      "2025-09-08 16:29:47,471 - scraper - INFO - Original Annual Report & CG Report for CABNET_HOLDINGS_BERHAD (2 PDFs) is in the database\n"
     ]
    }
   ],
   "source": [
    "manager.run_one(\n",
    "    rtype = ReportType.ANNUAL,\n",
    "    year = 2018,\n",
    "    company_name = [\n",
    "        \"VETECE HOLDINGS BERHAD\",\n",
    "        \"EDELTEQ HOLDINGS BERHAD\", \n",
    "        \"CABNET HOLDINGS BERHAD\",\n",
    "        \"Autocount Dotcom Berhad\",\n",
    "        \"ICT ZONE ASIA BERHAD\"\n",
    "    ]\n",
    ")"
   ]
  },
  {
   "cell_type": "code",
   "execution_count": 7,
   "id": "20ba60c8",
   "metadata": {},
   "outputs": [
    {
     "name": "stderr",
     "output_type": "stream",
     "text": [
      "2025-09-08 16:29:47,482 - scraper - INFO - === Annual Report & CG Report ===\n",
      "2025-09-08 16:29:47,485 - scraper - INFO - Fetching concurrently for 5 companies (up to 5 links each)...\n",
      "2025-09-08 16:29:52,171 - scraper - INFO - Using company code: 0358 (ICT ZONE ASIA BERHAD)\n",
      "2025-09-08 16:29:52,185 - scraper - INFO - Using company code: 0276 (Autocount Dotcom Berhad)\n",
      "2025-09-08 16:29:52,254 - scraper - INFO - Using company code: 0191 (CABNET HOLDINGS BERHAD)\n",
      "2025-09-08 16:29:52,254 - scraper - INFO - Fetching Annual Report & CG Report links (Year: 2017, Company: ICT ZONE ASIA BERHAD)...\n",
      "2025-09-08 16:29:52,255 - scraper - INFO - Fetching Annual Report & CG Report links (Year: 2017, Company: Autocount Dotcom Berhad)...\n",
      "2025-09-08 16:29:52,256 - scraper - INFO - Fetching Annual Report & CG Report links (Year: 2017, Company: CABNET HOLDINGS BERHAD)...\n",
      "2025-09-08 16:29:52,391 - scraper - INFO - Using company code: 0319 (VETECE HOLDINGS BERHAD)\n",
      "2025-09-08 16:29:52,399 - scraper - INFO - Using company code: 0278 (EDELTEQ HOLDINGS BERHAD)\n",
      "2025-09-08 16:29:52,400 - scraper - INFO - Fetching Annual Report & CG Report links (Year: 2017, Company: VETECE HOLDINGS BERHAD)...\n",
      "2025-09-08 16:29:52,401 - scraper - INFO - Fetching Annual Report & CG Report links (Year: 2017, Company: EDELTEQ HOLDINGS BERHAD)...\n",
      "2025-09-08 16:29:56,503 - scraper - INFO - Found 0 announcement links\n",
      "2025-09-08 16:29:56,505 - scraper - INFO - Fetched 0 links for Autocount Dotcom Berhad\n",
      "2025-09-08 16:29:56,583 - scraper - INFO - Found 0 announcement links\n",
      "2025-09-08 16:29:56,584 - scraper - INFO - Fetched 0 links for ICT ZONE ASIA BERHAD\n",
      "2025-09-08 16:29:56,606 - scraper - INFO - Found 1 announcement links\n",
      "2025-09-08 16:29:56,606 - scraper - INFO - Fetched 1 links for CABNET HOLDINGS BERHAD\n",
      "2025-09-08 16:29:56,664 - scraper - INFO - Found 0 announcement links\n",
      "2025-09-08 16:29:56,665 - scraper - INFO - Fetched 0 links for VETECE HOLDINGS BERHAD\n",
      "2025-09-08 16:29:56,676 - scraper - INFO - Found 0 announcement links\n",
      "2025-09-08 16:29:56,677 - scraper - INFO - Fetched 0 links for EDELTEQ HOLDINGS BERHAD\n",
      "2025-09-08 16:29:56,677 - scraper - INFO - Processing 1 links with 5 workers\n",
      "2025-09-08 16:30:14,787 - scraper - INFO - Original Annual Report & CG Report for CABNET_HOLDINGS_BERHAD (2 PDFs) is in the database\n"
     ]
    }
   ],
   "source": [
    "manager.run_one(\n",
    "    rtype = ReportType.ANNUAL,\n",
    "    year = 2017,\n",
    "    company_name = [\n",
    "        \"VETECE HOLDINGS BERHAD\",\n",
    "        \"EDELTEQ HOLDINGS BERHAD\", \n",
    "        \"CABNET HOLDINGS BERHAD\",\n",
    "        \"Autocount Dotcom Berhad\",\n",
    "        \"ICT ZONE ASIA BERHAD\"\n",
    "    ]\n",
    ")"
   ]
  },
  {
   "cell_type": "code",
   "execution_count": 9,
   "id": "55bf6fa7",
   "metadata": {},
   "outputs": [
    {
     "name": "stderr",
     "output_type": "stream",
     "text": [
      "2025-09-08 21:32:08,361 - scraper - INFO - === Initial Public Offering ===\n",
      "2025-09-08 21:32:08,363 - scraper - INFO - Fetching concurrently for 5 companies (up to 5 links each)...\n",
      "2025-09-08 21:32:12,894 - scraper - INFO - Using company code: 0236 (RAMSSOL GROUP BERHAD)\n",
      "2025-09-08 21:32:12,895 - scraper - INFO - Fetching Initial Public Offering links (Year: N/A, Company: RAMSSOL GROUP BERHAD)...\n",
      "2025-09-08 21:32:13,132 - scraper - INFO - Using company code: 0272 (TT VISION HOLDINGS BERHAD)\n",
      "2025-09-08 21:32:13,142 - scraper - INFO - Using company code: 0251 (SFP TECH HOLDINGS BERHAD)\n",
      "2025-09-08 21:32:13,172 - scraper - INFO - Using company code: 0209 (AIMFLEX BERHAD)\n",
      "2025-09-08 21:32:13,191 - scraper - INFO - Fetching Initial Public Offering links (Year: N/A, Company: TT VISION HOLDINGS BERHAD)...\n",
      "2025-09-08 21:32:13,203 - scraper - INFO - Using company code: 0267 (ECA INTEGRATED SOLUTION BERHAD)\n",
      "2025-09-08 21:32:13,203 - scraper - INFO - Fetching Initial Public Offering links (Year: N/A, Company: SFP TECH HOLDINGS BERHAD)...\n",
      "2025-09-08 21:32:13,204 - scraper - INFO - Fetching Initial Public Offering links (Year: N/A, Company: AIMFLEX BERHAD)...\n",
      "2025-09-08 21:32:13,205 - scraper - INFO - Fetching Initial Public Offering links (Year: N/A, Company: ECA INTEGRATED SOLUTION BERHAD)...\n",
      "2025-09-08 21:32:17,380 - scraper - INFO - Found 1 announcement links\n",
      "2025-09-08 21:32:17,381 - scraper - INFO - Fetched 1 links for RAMSSOL GROUP BERHAD\n",
      "2025-09-08 21:32:17,405 - scraper - INFO - Found 1 announcement links\n",
      "2025-09-08 21:32:17,407 - scraper - INFO - Fetched 1 links for SFP TECH HOLDINGS BERHAD\n",
      "2025-09-08 21:32:17,415 - scraper - INFO - Found 1 announcement links\n",
      "2025-09-08 21:32:17,416 - scraper - INFO - Fetched 1 links for ECA INTEGRATED SOLUTION BERHAD\n",
      "2025-09-08 21:32:17,443 - scraper - INFO - Found 1 announcement links\n",
      "2025-09-08 21:32:17,444 - scraper - INFO - Fetched 1 links for TT VISION HOLDINGS BERHAD\n",
      "2025-09-08 21:32:17,469 - scraper - INFO - Found 1 announcement links\n",
      "2025-09-08 21:32:17,470 - scraper - INFO - Fetched 1 links for AIMFLEX BERHAD\n",
      "2025-09-08 21:32:17,471 - scraper - INFO - Processing 5 links with 5 workers\n",
      "2025-09-08 21:32:26,119 - scraper - INFO - Original Initial Public Offering for RAMSSOL_GROUP_BERHAD (4 PDFs) is in the database\n",
      "2025-09-08 21:32:26,213 - scraper - INFO - Original Initial Public Offering for TT_VISION_HOLDINGS_BERHAD (4 PDFs) is in the database\n",
      "2025-09-08 21:32:26,231 - scraper - INFO - Original Initial Public Offering for I-STONE_GROUP_BERHAD (3 PDFs) is in the database\n",
      "2025-09-08 21:32:26,277 - scraper - INFO - Original Initial Public Offering for ECA_INTEGRATED_SOLUTION_BERHAD (6 PDFs) is in the database\n",
      "2025-09-08 21:32:26,282 - scraper - INFO - Original Initial Public Offering for SFP_TECH_HOLDINGS_BERHAD (3 PDFs) is in the database\n"
     ]
    }
   ],
   "source": [
    "manager.run_one(\n",
    "    rtype = ReportType.IPO,\n",
    "    company_name = [\n",
    "        \"SFP TECH HOLDINGS BERHAD\",\n",
    "        \"TT VISION HOLDINGS BERHAD\",\n",
    "        \"RAMSSOL GROUP BERHAD\",\n",
    "        \"AIMFLEX BERHAD\", # same as I-STONE_GROUP_BERHAD\n",
    "        \"ECA INTEGRATED SOLUTION BERHAD\"\n",
    "    ]\n",
    ")"
   ]
  },
  {
   "cell_type": "code",
   "execution_count": 2,
   "id": "32c91d28",
   "metadata": {},
   "outputs": [
    {
     "name": "stderr",
     "output_type": "stream",
     "text": [
      "2025-08-29 22:25:47,087 - scraper - INFO - === Annual Report & CG Report ===\n",
      "2025-08-29 22:25:51,772 - scraper - INFO - Using company code: 0097 (VITROX CORPORATION BERHAD)\n",
      "2025-08-29 22:25:51,772 - scraper - INFO - Fetching Annual Report & CG Report links (Year: 2024, Company: VITROX CORPORATION BERHAD)...\n",
      "2025-08-29 22:26:00,824 - scraper - INFO - Found 1 announcement links\n",
      "2025-08-29 22:26:00,826 - scraper - INFO - Processing 1 links with 5 workers\n",
      "2025-08-29 22:26:34,723 - scraper - INFO - Original Annual Report & CG Report for VITROX_CORPORATION_BERHAD (5 PDFs) is in the database\n"
     ]
    }
   ],
   "source": [
    "manager.run_one(\n",
    "    rtype = ReportType.ANNUAL,\n",
    "    year = 2024,\n",
    "    company_name = \"VITROX CORPORATION BERHAD\",  # None for all companies\n",
    ")"
   ]
  },
  {
   "cell_type": "code",
   "execution_count": 3,
   "id": "b5a261ee",
   "metadata": {},
   "outputs": [
    {
     "name": "stderr",
     "output_type": "stream",
     "text": [
      "2025-08-29 22:27:23,884 - scraper - INFO - === Initial Public Offering ===\n",
      "2025-08-29 22:27:28,740 - scraper - INFO - Using company code: 0097 (VITROX CORPORATION BERHAD)\n",
      "2025-08-29 22:27:28,741 - scraper - INFO - Fetching Initial Public Offering links (Year: N/A, Company: VITROX CORPORATION BERHAD)...\n",
      "2025-08-29 22:27:33,174 - scraper - INFO - Found 0 announcement links\n",
      "2025-08-29 22:27:33,176 - scraper - INFO - No links for Initial Public Offering N/A\n"
     ]
    }
   ],
   "source": [
    "manager.run_one(\n",
    "    rtype = ReportType.IPO,\n",
    "    company_name = \"VITROX CORPORATION BERHAD\"\n",
    ")"
   ]
  },
  {
   "cell_type": "code",
   "execution_count": 2,
   "id": "3cd7dc74",
   "metadata": {},
   "outputs": [
    {
     "name": "stderr",
     "output_type": "stream",
     "text": [
      "2025-08-28 00:02:55,525 - scraper - INFO - === Annual Report & CG Report ===\n",
      "2025-08-28 00:03:00,116 - scraper - INFO - Using company code: 0276 (Autocount Dotcom Berhad)\n",
      "2025-08-28 00:03:00,117 - scraper - INFO - Fetching Annual Report & CG Report links (Year: 2024, Company: Autocount Dotcom Berhad)...\n",
      "2025-08-28 00:03:08,764 - scraper - INFO - Found 1 announcement links\n",
      "2025-08-28 00:03:08,767 - scraper - INFO - Processing 1 links with 5 workers\n",
      "2025-08-28 00:03:17,366 - scraper - INFO - [DRY RUN] Original ANNUAL → 3 PDFs for AUTOCOUNT_DOTCOM_BERHAD\n",
      "2025-08-28 00:03:17,367 - scraper - INFO -   - ADBAR2024_-_Part_1.pdf\n",
      "2025-08-28 00:03:17,370 - scraper - INFO -   - ADBAR2024_-_Part_2.pdf\n",
      "2025-08-28 00:03:17,370 - scraper - INFO -   - ADB_-_CG_Report_2024_.pdf\n"
     ]
    }
   ],
   "source": [
    "manager.run_one(\n",
    "    rtype = ReportType.ANNUAL,\n",
    "    year = 2024,\n",
    "    company_name = \"Autocount Dotcom Berhad\",  # None for all companies\n",
    ")"
   ]
  },
  {
   "cell_type": "code",
   "execution_count": 2,
   "id": "d1fa1a39",
   "metadata": {},
   "outputs": [
    {
     "name": "stderr",
     "output_type": "stream",
     "text": [
      "2025-08-16 16:29:46,862 - scraper - INFO - === Initial Public Offering ===\n",
      "2025-08-16 16:29:51,675 - scraper - INFO - Using company code: 0276 (Autocount Dotcom Berhad)\n",
      "2025-08-16 16:29:51,676 - scraper - INFO - Fetching Initial Public Offering links (Year: N/A, Company: Autocount Dotcom Berhad)...\n",
      "2025-08-16 16:30:00,272 - scraper - INFO - Found 1 announcement links\n",
      "2025-08-16 16:30:00,274 - scraper - INFO - Processing 1 links with 5 workers\n",
      "2025-08-16 16:30:09,716 - scraper - INFO - Original Initial Public Offering for AUTOCOUNT_DOTCOM_BERHAD (3 PDFs) is in the database\n"
     ]
    }
   ],
   "source": [
    "manager.run_one(\n",
    "    rtype = ReportType.IPO,\n",
    "    company_name = \"Autocount Dotcom Berhad\"\n",
    ")"
   ]
  },
  {
   "cell_type": "code",
   "execution_count": null,
   "id": "a6506b42",
   "metadata": {},
   "outputs": [],
   "source": [
    "manager.run_one(\n",
    "    rtype = ReportType.IPO,\n",
    "    company_name = \"CABNET HOLDINGS BERHAD\"\n",
    ")"
   ]
  },
  {
   "cell_type": "code",
   "execution_count": 2,
   "id": "459bcb53",
   "metadata": {},
   "outputs": [
    {
     "name": "stderr",
     "output_type": "stream",
     "text": [
      "2025-08-07 09:01:25,277 - scraper - INFO - === Initial Public Offering ===\n",
      "2025-08-07 09:01:29,804 - scraper - INFO - Using company code: 0319 (VETECE HOLDINGS BERHAD)\n",
      "2025-08-07 09:01:29,804 - scraper - INFO - Fetching Initial Public Offering links (Year: N/A, Company: VETECE HOLDINGS BERHAD)...\n",
      "2025-08-07 09:01:38,403 - scraper - INFO - Found 1 announcement links\n",
      "2025-08-07 09:01:38,404 - scraper - INFO - Processing 1 links with 5 workers\n",
      "2025-08-07 09:02:01,990 - scraper - INFO - Original Initial Public Offering for VETECE_HOLDINGS_BERHAD (3 PDFs) is in the database\n"
     ]
    }
   ],
   "source": [
    "manager.run_one(\n",
    "    rtype = ReportType.IPO,\n",
    "    company_name = \"VETECE HOLDINGS BERHAD\"\n",
    ")"
   ]
  },
  {
   "cell_type": "code",
   "execution_count": 2,
   "id": "1332a9e1",
   "metadata": {},
   "outputs": [
    {
     "name": "stderr",
     "output_type": "stream",
     "text": [
      "2025-08-09 22:53:48,040 - scraper - INFO - === Initial Public Offering ===\n",
      "2025-08-09 22:53:52,542 - scraper - INFO - Using company code: 0278 (EDELTEQ HOLDINGS BERHAD)\n",
      "2025-08-09 22:53:52,543 - scraper - INFO - Fetching Initial Public Offering links (Year: N/A, Company: EDELTEQ HOLDINGS BERHAD)...\n",
      "2025-08-09 22:54:01,194 - scraper - INFO - Found 1 announcement links\n",
      "2025-08-09 22:54:01,195 - scraper - INFO - Processing 1 links with 5 workers\n",
      "2025-08-09 22:54:26,711 - scraper - INFO - Original Initial Public Offering for EDELTEQ_HOLDINGS_BERHAD (3 PDFs) is in the database\n"
     ]
    }
   ],
   "source": [
    "manager.run_one(\n",
    "    rtype = ReportType.IPO,\n",
    "    company_name = \"EDELTEQ HOLDINGS BERHAD\"\n",
    ")"
   ]
  },
  {
   "cell_type": "code",
   "execution_count": 2,
   "id": "4fa4f4dc",
   "metadata": {},
   "outputs": [
    {
     "name": "stderr",
     "output_type": "stream",
     "text": [
      "2025-08-24 16:47:01,069 - scraper - INFO - === Initial Public Offering ===\n",
      "2025-08-24 16:47:05,672 - scraper - INFO - Using company code: 0358 (ICT ZONE ASIA BERHAD)\n",
      "2025-08-24 16:47:05,673 - scraper - INFO - Fetching Initial Public Offering links (Year: N/A, Company: ICT ZONE ASIA BERHAD)...\n",
      "2025-08-24 16:47:14,383 - scraper - INFO - Found 1 announcement links\n",
      "2025-08-24 16:47:14,384 - scraper - INFO - Processing 1 links with 5 workers\n",
      "2025-08-24 16:47:39,704 - scraper - INFO - Original Initial Public Offering for ICT_ZONE_ASIA_BERHAD (3 PDFs) is in the database\n"
     ]
    }
   ],
   "source": [
    "manager.run_one(\n",
    "    rtype = ReportType.IPO,\n",
    "    company_name = \"ICT ZONE ASIA BERHAD\"\n",
    ")"
   ]
  },
  {
   "cell_type": "code",
   "execution_count": null,
   "id": "036e260f",
   "metadata": {},
   "outputs": [],
   "source": [
    "manager.run_one(\n",
    "    rtype = ReportType.ANNUAL,\n",
    "    year = 2024,\n",
    "    company_name = \"FARM FRESH BERHAD\"\n",
    ")"
   ]
  },
  {
   "cell_type": "code",
   "execution_count": 5,
   "id": "ad82f1d0",
   "metadata": {},
   "outputs": [
    {
     "name": "stderr",
     "output_type": "stream",
     "text": [
      "2025-08-24 16:42:17,351 - scraper - INFO - === Initial Public Offering ===\n",
      "2025-08-24 16:42:21,965 - scraper - INFO - Using company code: 5306 (FARM FRESH BERHAD)\n",
      "2025-08-24 16:42:21,966 - scraper - INFO - Fetching Initial Public Offering links (Year: N/A, Company: FARM FRESH BERHAD)...\n",
      "2025-08-24 16:42:30,656 - scraper - INFO - Found 1 announcement links\n",
      "2025-08-24 16:42:30,657 - scraper - INFO - Processing 1 links with 5 workers\n",
      "2025-08-24 16:42:39,700 - scraper - INFO - Original Initial Public Offering for FARM_FRESH_BERHAD (4 PDFs) is in the database\n"
     ]
    }
   ],
   "source": [
    "manager.run_one(\n",
    "    rtype = ReportType.IPO,\n",
    "    company_name = \"FARM FRESH BERHAD\"\n",
    ")"
   ]
  },
  {
   "cell_type": "code",
   "execution_count": null,
   "id": "b5ffa601",
   "metadata": {},
   "outputs": [],
   "source": [
    "manager.run_one(\n",
    "    rtype = ReportType.IPO,\n",
    "    company_name = \"CABNET HOLDINGS BERHAD\"\n",
    ")"
   ]
  },
  {
   "cell_type": "code",
   "execution_count": null,
   "id": "2411e3f0",
   "metadata": {},
   "outputs": [],
   "source": [
    "manager.run_one(\n",
    "    rtype = ReportType.ANNUAL,\n",
    "    year = 2025,\n",
    "    company_name = \"SKYWORLD DEVELOPMENT BERHAD\",  # None for all companies\n",
    ")"
   ]
  },
  {
   "cell_type": "code",
   "execution_count": null,
   "id": "e04e8ad7",
   "metadata": {},
   "outputs": [],
   "source": [
    "manager.run_one(\n",
    "    rtype = ReportType.ANNUAL,\n",
    "    year = 2024,\n",
    ")"
   ]
  },
  {
   "cell_type": "markdown",
   "id": "20b4e76d",
   "metadata": {},
   "source": [
    "## Delete reports from MongoDB according to Company, Year, ReportType"
   ]
  },
  {
   "cell_type": "code",
   "execution_count": null,
   "id": "1e915bc8",
   "metadata": {},
   "outputs": [],
   "source": [
    "deleted_count = await manager.storage.delete_reports(\n",
    "        company = \"Autocount Dotcom Berhad\",\n",
    "        report_type = ReportType.IPO,\n",
    "        #year = 2024\n",
    ")\n"
   ]
  },
  {
   "cell_type": "code",
   "execution_count": null,
   "id": "a947731f",
   "metadata": {},
   "outputs": [],
   "source": [
    "companies_1 = [\n",
    "    \"Cabnet Holdings Berhad\",\n",
    "    \"Aemulus Holdings Berhad\",\n",
    "    \"Autocount Dotcom Berhad\",\n",
    "    \"Edelteq Holdings Berhad\",\n",
    "    \"ICT Zone Asia Berhad\",\n",
    "    \"ViTrox Corporation Berhad\",\n",
    "    \"VETECE HOLDINGS BERHAD\",\n",
    "    \"Censof Holdings Berhad\",\n",
    "    \"Edaran BHD\",\n",
    "    \"AIMFLEX Berhad\",\n",
    "]\n",
    "\n",
    "companies = [\n",
    "    \"Inari Amertron Berhad\",\n",
    "    \"IFCA MSC Berhad\",\n",
    "    \"EVD Berhad\",\n",
    "    \"HeiTech Padu BHD\",\n",
    "    \"Greatech Technology Berhad\", # this\n",
    "    \"MMAG Holdings Berhad\",\n",
    "    \"Mi Technovation Berhad\",\n",
    "    \"Kronologi Asia Berhad\",\n",
    "    \"JHM Consolidation BHD\",\n",
    "    \"AwanBiru Technology Berhad\",\n",
    "]\n",
    "\n",
    "companies_2 = [\n",
    "    \"Pineapple Resources BHD\",\n",
    "    \"Pentamaster Corporation Berhad\",\n",
    "    \"Malaysian Pacific Industries\",\n",
    "    \"ManagePay Systems Berhad\",\n",
    "    \"UWC Berhad\",\n",
    "    \"SMTrack Berhad\",\n",
    "    \"Securemetric Berhad\",\n",
    "    \"Radiant Globaltech Berhad\",\n",
    "    \"Revenue Group Berhad\",\n",
    "    \"Techstore Berhad\",\n",
    "]\n",
    "\n",
    "companies_3 = [\n",
    "    \"3REN Berhad\",\n",
    "    \"Panda Eco System Berhad\",\n",
    "    \"Cloudpoint Technology Berhad\",\n",
    "    \"Oppstar Berhad\",\n",
    "    \"TT Vision Holdings Berhad\",\n",
    "    \"NationGate Holdings Berhad\",\n",
    "    \"ITMAX System Berhad\",\n",
    "    \"Infomina Berhad\",\n",
    "    \"ECA Integrated Solution Berhad\",\n",
    "    \"UMediC Group Berhad\",\n",
    "]\n",
    "\n",
    "companies_4 = [\n",
    "    \"LGMS Berhad\",\n",
    "    \"Cnergenz Berhad\",\n",
    "    \"Ramssol Group Berhad\",\n",
    "    \"CTOS Digital Berhad\",\n",
    "    \"Hong Seng Consolidated Berhad\",\n",
    "    \"VSTECS Berhad\",\n",
    "]"
   ]
  }
 ],
 "metadata": {
  "kernelspec": {
   "display_name": "myenv",
   "language": "python",
   "name": "python3"
  },
  "language_info": {
   "codemirror_mode": {
    "name": "ipython",
    "version": 3
   },
   "file_extension": ".py",
   "mimetype": "text/x-python",
   "name": "python",
   "nbconvert_exporter": "python",
   "pygments_lexer": "ipython3",
   "version": "3.10.18"
  }
 },
 "nbformat": 4,
 "nbformat_minor": 5
}

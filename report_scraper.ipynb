{
 "cells": [
  {
   "cell_type": "code",
   "execution_count": 1,
   "id": "ef004a6b",
   "metadata": {},
   "outputs": [],
   "source": [
    "import logging\n",
    "import os\n",
    "from ogmyrag.report_scraper.storage import StorageManager\n",
    "from ogmyrag.report_scraper.manager import ScraperManager\n",
    "from ogmyrag.report_scraper.models  import ReportType\n",
    "from ogmyrag.my_logging import configure_logger\n",
    "from dotenv import load_dotenv"
   ]
  },
  {
   "cell_type": "code",
   "execution_count": 2,
   "id": "d3a8012a",
   "metadata": {},
   "outputs": [],
   "source": [
    "scraper_logger = configure_logger(name='scraper',log_level=logging.INFO, log_file='logs/scraper.log')"
   ]
  },
  {
   "cell_type": "code",
   "execution_count": 3,
   "id": "25074aef",
   "metadata": {},
   "outputs": [],
   "source": [
    "load_dotenv(override=True)\n",
    "\n",
    "mongo_db_uri = os.getenv(\"MONGO_DB_URI_JJ\",\"\")"
   ]
  },
  {
   "cell_type": "code",
   "execution_count": 4,
   "id": "9c12f4b9",
   "metadata": {},
   "outputs": [
    {
     "name": "stderr",
     "output_type": "stream",
     "text": [
      "2025-07-31 00:16:38,737 - scraper - INFO - Connected to MongoDB database: FYP\n"
     ]
    }
   ],
   "source": [
    "db_name = \"FYP\"\n",
    "storage = StorageManager(mongo_uri=mongo_db_uri, db_name=db_name)"
   ]
  },
  {
   "cell_type": "code",
   "execution_count": 5,
   "id": "20774947",
   "metadata": {},
   "outputs": [],
   "source": [
    "manager = ScraperManager(\n",
    "    storage_manager=storage,\n",
    "    max_workers=5,\n",
    "    dry_run=True,\n",
    ")"
   ]
  },
  {
   "cell_type": "code",
   "execution_count": 6,
   "id": "3cd7dc74",
   "metadata": {},
   "outputs": [
    {
     "name": "stderr",
     "output_type": "stream",
     "text": [
      "2025-07-31 00:16:38,744 - scraper - INFO - === Annual Report & CG Report ===\n",
      "2025-07-31 00:16:43,213 - scraper - INFO - Using company code: 0276 for Autocount Dotcom Berhad\n",
      "2025-07-31 00:16:43,214 - scraper - INFO - Fetching ANNUAL links (year = 2024, company = Autocount Dotcom Berhad)...\n",
      "2025-07-31 00:16:51,930 - scraper - INFO - Found 1 announcement links\n",
      "2025-07-31 00:16:51,932 - scraper - INFO - Processing 1 links with 5 workers\n",
      "2025-07-31 00:17:00,586 - scraper - INFO - [DRY RUN] Original ANNUAL → 3 PDFs for AUTOCOUNT_DOTCOM_BERHAD\n",
      "2025-07-31 00:17:00,588 - scraper - INFO -   - ADBAR2024_-_Part_1.pdf\n",
      "2025-07-31 00:17:00,588 - scraper - INFO -   - ADBAR2024_-_Part_2.pdf\n",
      "2025-07-31 00:17:00,589 - scraper - INFO -   - ADB_-_CG_Report_2024_.pdf\n"
     ]
    }
   ],
   "source": [
    "manager.run_one(\n",
    "    rtype = ReportType.ANNUAL,\n",
    "    year = 2024,\n",
    "    company_name = \"Autocount Dotcom Berhad\",  # None for all companies\n",
    ")"
   ]
  }
 ],
 "metadata": {
  "kernelspec": {
   "display_name": "myenv",
   "language": "python",
   "name": "python3"
  },
  "language_info": {
   "codemirror_mode": {
    "name": "ipython",
    "version": 3
   },
   "file_extension": ".py",
   "mimetype": "text/x-python",
   "name": "python",
   "nbconvert_exporter": "python",
   "pygments_lexer": "ipython3",
   "version": "3.10.18"
  }
 },
 "nbformat": 4,
 "nbformat_minor": 5
}

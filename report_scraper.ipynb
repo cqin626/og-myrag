{
 "cells": [
  {
   "cell_type": "code",
   "execution_count": null,
   "id": "ef004a6b",
   "metadata": {},
   "outputs": [
    {
     "name": "stderr",
     "output_type": "stream",
     "text": [
      "2025-08-29 22:25:02,278 - scraper - INFO - \n",
      "================================================================================\n",
      "2025-08-29 22:25:02,287 - scraper - INFO - Connected to MongoDB database: FYP\n"
     ]
    },
    {
     "name": "stderr",
     "output_type": "stream",
     "text": [
      "2025-08-29 22:26:09,614 - scraper - INFO - Downloading Vitrox_AR_2024_BURSA_Part1.pdf\n",
      "2025-08-29 22:26:15,038 - scraper - INFO - Uploaded PDF bytes for Vitrox_AR_2024_BURSA_Part1.pdf → GridFS ID 68b1b886eddac1b4ec37e45e\n",
      "2025-08-29 22:26:15,065 - scraper - INFO - Inserted metadata for Vitrox_AR_2024_BURSA_Part1.pdf → 68b1b887eddac1b4ec37e46b\n",
      "2025-08-29 22:26:15,090 - scraper - INFO - Downloading Vitrox_AR_2024_BURSA_Part2.pdf\n",
      "2025-08-29 22:26:20,266 - scraper - INFO - Uploaded PDF bytes for Vitrox_AR_2024_BURSA_Part2.pdf → GridFS ID 68b1b88beddac1b4ec37e46c\n",
      "2025-08-29 22:26:20,296 - scraper - INFO - Inserted metadata for Vitrox_AR_2024_BURSA_Part2.pdf → 68b1b88ceddac1b4ec37e479\n",
      "2025-08-29 22:26:20,323 - scraper - INFO - Downloading Vitrox_AR_2024_BURSA_Part3.pdf\n",
      "2025-08-29 22:26:25,058 - scraper - INFO - Uploaded PDF bytes for Vitrox_AR_2024_BURSA_Part3.pdf → GridFS ID 68b1b890eddac1b4ec37e47a\n",
      "2025-08-29 22:26:25,088 - scraper - INFO - Inserted metadata for Vitrox_AR_2024_BURSA_Part3.pdf → 68b1b891eddac1b4ec37e485\n",
      "2025-08-29 22:26:25,117 - scraper - INFO - Downloading ViTrox_CG_Report_2024_Final.pdf\n",
      "2025-08-29 22:26:29,609 - scraper - INFO - Uploaded PDF bytes for ViTrox_CG_Report_2024_Final.pdf → GridFS ID 68b1b895eddac1b4ec37e486\n",
      "2025-08-29 22:26:29,637 - scraper - INFO - Inserted metadata for ViTrox_CG_Report_2024_Final.pdf → 68b1b895eddac1b4ec37e48a\n",
      "2025-08-29 22:26:29,662 - scraper - INFO - Downloading Vitrox_SR_2024_BURSA.pdf\n",
      "2025-08-29 22:26:34,695 - scraper - INFO - Uploaded PDF bytes for Vitrox_SR_2024_BURSA.pdf → GridFS ID 68b1b89aeddac1b4ec37e48b\n",
      "2025-08-29 22:26:34,723 - scraper - INFO - Inserted metadata for Vitrox_SR_2024_BURSA.pdf → 68b1b89aeddac1b4ec37e496\n"
     ]
    }
   ],
   "source": [
    "import logging\n",
    "import os\n",
    "import asyncio\n",
    "from ogmyrag.report_scraper.storage import AsyncStorageManager\n",
    "from motor.motor_asyncio import AsyncIOMotorClient\n",
    "from ogmyrag.base import MongoStorageConfig\n",
    "from ogmyrag.report_scraper.manager import ScraperManager\n",
    "from ogmyrag.report_scraper.models  import ReportType\n",
    "from ogmyrag.my_logging import configure_logger\n",
    "from dotenv import load_dotenv\n",
    "\n",
    "scraper_logger = configure_logger(name='scraper',log_level=logging.INFO, log_file='logs/scraper.log')\n",
    "scraper_logger.info(\"\\n\" + \"=\" * 80)\n",
    "\n",
    "load_dotenv(override=True)\n",
    "\n",
    "mongo_db_uri = os.getenv(\"MONGO_DB_URI_JJ\",\"\")\n",
    "db_name = \"FYP\"\n",
    "\n",
    "mongo_storage_config: MongoStorageConfig = {\n",
    "    \"database_name\": db_name\n",
    "}\n",
    "\n",
    "mongo_client = AsyncIOMotorClient(\n",
    "    mongo_db_uri,\n",
    "    serverSelectionTimeoutMS=5000\n",
    ")\n",
    "storage = AsyncStorageManager(mongo_client, mongo_storage_config)\n",
    "\n",
    "manager = ScraperManager(\n",
    "    storage_manager=storage,\n",
    "    max_workers=5,\n",
    "    dry_run=False,\n",
    ")\n"
   ]
  },
  {
   "cell_type": "markdown",
   "id": "88430874",
   "metadata": {},
   "source": [
    "## Scrap Annual Reports by Company Name & Year"
   ]
  },
  {
   "cell_type": "code",
   "execution_count": 2,
   "id": "f8233ade",
   "metadata": {},
   "outputs": [
    {
     "name": "stderr",
     "output_type": "stream",
     "text": [
      "2025-08-29 13:36:11,930 - scraper - INFO - === Annual Report & CG Report ===\n",
      "2025-08-29 13:36:11,931 - scraper - INFO - Fetching Annual Report & CG Report links (Year: 2024, Company: ALL)...\n",
      "2025-08-29 13:36:20,506 - scraper - INFO - Found 20 announcement links\n",
      "2025-08-29 13:36:20,508 - scraper - INFO - Processing 5 links with 5 workers\n",
      "2025-08-29 13:36:29,239 - scraper - INFO - Amended Annual Report & CG Report for ARK_RESOURCES_HOLDINGS_BERHAD (1 PDFs) is in the database\n",
      "2025-08-29 13:36:29,310 - scraper - INFO - Amended Annual Report & CG Report for MALAYSIAN_PACIFIC_INDUSTRIES_BERHAD (2 PDFs) is in the database\n",
      "2025-08-29 13:36:29,396 - scraper - INFO - Amended Annual Report & CG Report for KEY_ASIC_BERHAD (2 PDFs) is in the database\n",
      "2025-08-29 13:36:33,669 - scraper - INFO - Amended Annual Report & CG Report for SEE_HUP_CONSOLIDATED_BERHAD (1 PDFs) is in the database\n",
      "2025-08-29 13:36:33,737 - scraper - INFO - Amended Annual Report & CG Report for CTOS_DIGITAL_BERHAD (1 PDFs) is in the database\n"
     ]
    }
   ],
   "source": [
    "manager.run_one(\n",
    "    rtype = ReportType.ANNUAL,\n",
    "    year = 2024,\n",
    "    sector_name = \"TECHNOLOGY\"\n",
    "    #company_name = \"\",  # None for all companies\n",
    ")"
   ]
  },
  {
   "cell_type": "code",
   "execution_count": null,
   "id": "50c05d8c",
   "metadata": {},
   "outputs": [
    {
     "name": "stderr",
     "output_type": "stream",
     "text": [
      "2025-08-27 23:59:38,305 - scraper - INFO - === Initial Public Offering ===\n",
      "2025-08-27 23:59:38,306 - scraper - INFO - Fetching concurrently for 5 companies (up to 5 links each)...\n",
      "2025-08-27 23:59:42,916 - scraper - INFO - Using company code: 0278 (EDELTEQ HOLDINGS BERHAD)\n",
      "2025-08-27 23:59:42,935 - scraper - INFO - Using company code: 0358 (ICT ZONE ASIA BERHAD)\n",
      "2025-08-27 23:59:42,936 - scraper - INFO - Fetching Initial Public Offering links (Year: N/A, Company: EDELTEQ HOLDINGS BERHAD)...\n",
      "2025-08-27 23:59:42,936 - scraper - INFO - Fetching Initial Public Offering links (Year: N/A, Company: ICT ZONE ASIA BERHAD)...\n",
      "2025-08-27 23:59:43,003 - scraper - INFO - Using company code: 0319 (VETECE HOLDINGS BERHAD)\n",
      "2025-08-27 23:59:43,004 - scraper - INFO - Fetching Initial Public Offering links (Year: N/A, Company: VETECE HOLDINGS BERHAD)...\n",
      "2025-08-27 23:59:43,110 - scraper - INFO - Using company code: 0276 (Autocount Dotcom Berhad)\n",
      "2025-08-27 23:59:43,110 - scraper - INFO - Fetching Initial Public Offering links (Year: N/A, Company: Autocount Dotcom Berhad)...\n",
      "2025-08-27 23:59:43,306 - scraper - INFO - Using company code: 0191 (CABNET HOLDINGS BERHAD)\n",
      "2025-08-27 23:59:43,307 - scraper - INFO - Fetching Initial Public Offering links (Year: N/A, Company: CABNET HOLDINGS BERHAD)...\n"
     ]
    }
   ],
   "source": [
    "manager.run_one(\n",
    "    rtype = ReportType.IPO,\n",
    "    company_name = [\n",
    "        \"VETECE HOLDINGS BERHAD\",\n",
    "        \"EDELTEQ HOLDINGS BERHAD\", \n",
    "        \"CABNET HOLDINGS BERHAD\",\n",
    "        \"Autocount Dotcom Berhad\",\n",
    "        \"ICT ZONE ASIA BERHAD\"\n",
    "    ]\n",
    ")"
   ]
  },
  {
   "cell_type": "code",
   "execution_count": 3,
   "id": "1b36bb03",
   "metadata": {},
   "outputs": [
    {
     "name": "stderr",
     "output_type": "stream",
     "text": [
      "2025-08-28 00:04:42,403 - scraper - INFO - === Annual Report & CG Report ===\n",
      "2025-08-28 00:04:42,404 - scraper - INFO - Fetching concurrently for 5 companies (up to 5 links each)...\n",
      "2025-08-28 00:04:46,948 - scraper - INFO - Using company code: 0191 (CABNET HOLDINGS BERHAD)\n",
      "2025-08-28 00:04:46,949 - scraper - INFO - Fetching Annual Report & CG Report links (Year: 2024, Company: CABNET HOLDINGS BERHAD)...\n",
      "2025-08-28 00:04:47,150 - scraper - INFO - Using company code: 0319 (VETECE HOLDINGS BERHAD)\n",
      "2025-08-28 00:04:47,156 - scraper - INFO - Using company code: 0278 (EDELTEQ HOLDINGS BERHAD)\n",
      "2025-08-28 00:04:47,157 - scraper - INFO - Fetching Annual Report & CG Report links (Year: 2024, Company: VETECE HOLDINGS BERHAD)...\n",
      "2025-08-28 00:04:47,158 - scraper - INFO - Fetching Annual Report & CG Report links (Year: 2024, Company: EDELTEQ HOLDINGS BERHAD)...\n",
      "2025-08-28 00:04:47,342 - scraper - INFO - Using company code: 0358 (ICT ZONE ASIA BERHAD)\n",
      "2025-08-28 00:04:47,349 - scraper - INFO - Using company code: 0276 (Autocount Dotcom Berhad)\n",
      "2025-08-28 00:04:47,350 - scraper - INFO - Fetching Annual Report & CG Report links (Year: 2024, Company: ICT ZONE ASIA BERHAD)...\n",
      "2025-08-28 00:04:47,350 - scraper - INFO - Fetching Annual Report & CG Report links (Year: 2024, Company: Autocount Dotcom Berhad)...\n",
      "2025-08-28 00:04:51,772 - scraper - INFO - Found 0 announcement links\n",
      "2025-08-28 00:04:51,774 - scraper - INFO - Fetched 0 links for ICT ZONE ASIA BERHAD\n",
      "2025-08-28 00:04:55,756 - scraper - INFO - Found 1 announcement links\n",
      "2025-08-28 00:04:55,757 - scraper - INFO - Fetched 1 links for CABNET HOLDINGS BERHAD\n",
      "2025-08-28 00:04:55,967 - scraper - INFO - Found 1 announcement links\n",
      "2025-08-28 00:04:55,969 - scraper - INFO - Fetched 1 links for VETECE HOLDINGS BERHAD\n",
      "2025-08-28 00:04:56,009 - scraper - INFO - Found 1 announcement links\n",
      "2025-08-28 00:04:56,010 - scraper - INFO - Fetched 1 links for EDELTEQ HOLDINGS BERHAD\n",
      "2025-08-28 00:04:56,011 - scraper - INFO - Found 1 announcement links\n",
      "2025-08-28 00:04:56,012 - scraper - INFO - Fetched 1 links for Autocount Dotcom Berhad\n",
      "2025-08-28 00:04:56,013 - scraper - INFO - Processing 4 links with 5 workers\n",
      "2025-08-28 00:05:04,585 - scraper - INFO - [DRY RUN] Original ANNUAL → 2 PDFs for VETECE_HOLDINGS_BERHAD\n",
      "2025-08-28 00:05:04,587 - scraper - INFO -   - VETECE_-_AR2024_(Final).pdf\n",
      "2025-08-28 00:05:04,587 - scraper - INFO -   - VETECE-_CG_Report_(Final).pdf\n",
      "2025-08-28 00:05:04,626 - scraper - INFO - [DRY RUN] Original ANNUAL → 2 PDFs for EDELTEQ_HOLDINGS_BERHAD\n",
      "2025-08-28 00:05:04,627 - scraper - INFO -   - EHB-Annual_Report_2024_(Bursa).pdf\n",
      "2025-08-28 00:05:04,627 - scraper - INFO -   - EHB-CG_Report_2024.pdf\n",
      "2025-08-28 00:05:04,702 - scraper - INFO - [DRY RUN] Original ANNUAL → 3 PDFs for AUTOCOUNT_DOTCOM_BERHAD\n",
      "2025-08-28 00:05:04,703 - scraper - INFO -   - ADBAR2024_-_Part_1.pdf\n",
      "2025-08-28 00:05:04,703 - scraper - INFO -   - ADBAR2024_-_Part_2.pdf\n",
      "2025-08-28 00:05:04,704 - scraper - INFO -   - ADB_-_CG_Report_2024_.pdf\n",
      "2025-08-28 00:05:05,039 - scraper - INFO - [DRY RUN] Original ANNUAL → 2 PDFs for CABNET_HOLDINGS_BERHAD\n",
      "2025-08-28 00:05:05,041 - scraper - INFO -   - Annual_Report_2024.pdf\n",
      "2025-08-28 00:05:05,041 - scraper - INFO -   - CG_report_2024.pdf\n"
     ]
    }
   ],
   "source": [
    "manager.run_one(\n",
    "    rtype = ReportType.ANNUAL,\n",
    "    year = 2024,\n",
    "    company_name = [\n",
    "        \"VETECE HOLDINGS BERHAD\",\n",
    "        \"EDELTEQ HOLDINGS BERHAD\", \n",
    "        \"CABNET HOLDINGS BERHAD\",\n",
    "        \"Autocount Dotcom Berhad\",\n",
    "        \"ICT ZONE ASIA BERHAD\"\n",
    "    ]\n",
    ")"
   ]
  },
  {
   "cell_type": "code",
   "execution_count": 2,
   "id": "32c91d28",
   "metadata": {},
   "outputs": [
    {
     "name": "stderr",
     "output_type": "stream",
     "text": [
      "2025-08-29 22:25:47,087 - scraper - INFO - === Annual Report & CG Report ===\n",
      "2025-08-29 22:25:51,772 - scraper - INFO - Using company code: 0097 (VITROX CORPORATION BERHAD)\n",
      "2025-08-29 22:25:51,772 - scraper - INFO - Fetching Annual Report & CG Report links (Year: 2024, Company: VITROX CORPORATION BERHAD)...\n",
      "2025-08-29 22:26:00,824 - scraper - INFO - Found 1 announcement links\n",
      "2025-08-29 22:26:00,826 - scraper - INFO - Processing 1 links with 5 workers\n",
      "2025-08-29 22:26:34,723 - scraper - INFO - Original Annual Report & CG Report for VITROX_CORPORATION_BERHAD (5 PDFs) is in the database\n"
     ]
    }
   ],
   "source": [
    "manager.run_one(\n",
    "    rtype = ReportType.ANNUAL,\n",
    "    year = 2024,\n",
    "    company_name = \"VITROX CORPORATION BERHAD\",  # None for all companies\n",
    ")"
   ]
  },
  {
   "cell_type": "code",
   "execution_count": 3,
   "id": "b5a261ee",
   "metadata": {},
   "outputs": [
    {
     "name": "stderr",
     "output_type": "stream",
     "text": [
      "2025-08-29 22:27:23,884 - scraper - INFO - === Initial Public Offering ===\n",
      "2025-08-29 22:27:28,740 - scraper - INFO - Using company code: 0097 (VITROX CORPORATION BERHAD)\n",
      "2025-08-29 22:27:28,741 - scraper - INFO - Fetching Initial Public Offering links (Year: N/A, Company: VITROX CORPORATION BERHAD)...\n",
      "2025-08-29 22:27:33,174 - scraper - INFO - Found 0 announcement links\n",
      "2025-08-29 22:27:33,176 - scraper - INFO - No links for Initial Public Offering N/A\n"
     ]
    }
   ],
   "source": [
    "manager.run_one(\n",
    "    rtype = ReportType.IPO,\n",
    "    company_name = \"VITROX CORPORATION BERHAD\"\n",
    ")"
   ]
  },
  {
   "cell_type": "code",
   "execution_count": 2,
   "id": "3cd7dc74",
   "metadata": {},
   "outputs": [
    {
     "name": "stderr",
     "output_type": "stream",
     "text": [
      "2025-08-28 00:02:55,525 - scraper - INFO - === Annual Report & CG Report ===\n",
      "2025-08-28 00:03:00,116 - scraper - INFO - Using company code: 0276 (Autocount Dotcom Berhad)\n",
      "2025-08-28 00:03:00,117 - scraper - INFO - Fetching Annual Report & CG Report links (Year: 2024, Company: Autocount Dotcom Berhad)...\n",
      "2025-08-28 00:03:08,764 - scraper - INFO - Found 1 announcement links\n",
      "2025-08-28 00:03:08,767 - scraper - INFO - Processing 1 links with 5 workers\n",
      "2025-08-28 00:03:17,366 - scraper - INFO - [DRY RUN] Original ANNUAL → 3 PDFs for AUTOCOUNT_DOTCOM_BERHAD\n",
      "2025-08-28 00:03:17,367 - scraper - INFO -   - ADBAR2024_-_Part_1.pdf\n",
      "2025-08-28 00:03:17,370 - scraper - INFO -   - ADBAR2024_-_Part_2.pdf\n",
      "2025-08-28 00:03:17,370 - scraper - INFO -   - ADB_-_CG_Report_2024_.pdf\n"
     ]
    }
   ],
   "source": [
    "manager.run_one(\n",
    "    rtype = ReportType.ANNUAL,\n",
    "    year = 2024,\n",
    "    company_name = \"Autocount Dotcom Berhad\",  # None for all companies\n",
    ")"
   ]
  },
  {
   "cell_type": "code",
   "execution_count": 2,
   "id": "d1fa1a39",
   "metadata": {},
   "outputs": [
    {
     "name": "stderr",
     "output_type": "stream",
     "text": [
      "2025-08-16 16:29:46,862 - scraper - INFO - === Initial Public Offering ===\n",
      "2025-08-16 16:29:51,675 - scraper - INFO - Using company code: 0276 (Autocount Dotcom Berhad)\n",
      "2025-08-16 16:29:51,676 - scraper - INFO - Fetching Initial Public Offering links (Year: N/A, Company: Autocount Dotcom Berhad)...\n",
      "2025-08-16 16:30:00,272 - scraper - INFO - Found 1 announcement links\n",
      "2025-08-16 16:30:00,274 - scraper - INFO - Processing 1 links with 5 workers\n",
      "2025-08-16 16:30:09,716 - scraper - INFO - Original Initial Public Offering for AUTOCOUNT_DOTCOM_BERHAD (3 PDFs) is in the database\n"
     ]
    }
   ],
   "source": [
    "manager.run_one(\n",
    "    rtype = ReportType.IPO,\n",
    "    company_name = \"Autocount Dotcom Berhad\"\n",
    ")"
   ]
  },
  {
   "cell_type": "code",
   "execution_count": null,
   "id": "a6506b42",
   "metadata": {},
   "outputs": [],
   "source": [
    "manager.run_one(\n",
    "    rtype = ReportType.IPO,\n",
    "    company_name = \"CABNET HOLDINGS BERHAD\"\n",
    ")"
   ]
  },
  {
   "cell_type": "code",
   "execution_count": 2,
   "id": "459bcb53",
   "metadata": {},
   "outputs": [
    {
     "name": "stderr",
     "output_type": "stream",
     "text": [
      "2025-08-07 09:01:25,277 - scraper - INFO - === Initial Public Offering ===\n",
      "2025-08-07 09:01:29,804 - scraper - INFO - Using company code: 0319 (VETECE HOLDINGS BERHAD)\n",
      "2025-08-07 09:01:29,804 - scraper - INFO - Fetching Initial Public Offering links (Year: N/A, Company: VETECE HOLDINGS BERHAD)...\n",
      "2025-08-07 09:01:38,403 - scraper - INFO - Found 1 announcement links\n",
      "2025-08-07 09:01:38,404 - scraper - INFO - Processing 1 links with 5 workers\n",
      "2025-08-07 09:02:01,990 - scraper - INFO - Original Initial Public Offering for VETECE_HOLDINGS_BERHAD (3 PDFs) is in the database\n"
     ]
    }
   ],
   "source": [
    "manager.run_one(\n",
    "    rtype = ReportType.IPO,\n",
    "    company_name = \"VETECE HOLDINGS BERHAD\"\n",
    ")"
   ]
  },
  {
   "cell_type": "code",
   "execution_count": 2,
   "id": "1332a9e1",
   "metadata": {},
   "outputs": [
    {
     "name": "stderr",
     "output_type": "stream",
     "text": [
      "2025-08-09 22:53:48,040 - scraper - INFO - === Initial Public Offering ===\n",
      "2025-08-09 22:53:52,542 - scraper - INFO - Using company code: 0278 (EDELTEQ HOLDINGS BERHAD)\n",
      "2025-08-09 22:53:52,543 - scraper - INFO - Fetching Initial Public Offering links (Year: N/A, Company: EDELTEQ HOLDINGS BERHAD)...\n",
      "2025-08-09 22:54:01,194 - scraper - INFO - Found 1 announcement links\n",
      "2025-08-09 22:54:01,195 - scraper - INFO - Processing 1 links with 5 workers\n",
      "2025-08-09 22:54:26,711 - scraper - INFO - Original Initial Public Offering for EDELTEQ_HOLDINGS_BERHAD (3 PDFs) is in the database\n"
     ]
    }
   ],
   "source": [
    "manager.run_one(\n",
    "    rtype = ReportType.IPO,\n",
    "    company_name = \"EDELTEQ HOLDINGS BERHAD\"\n",
    ")"
   ]
  },
  {
   "cell_type": "code",
   "execution_count": 2,
   "id": "4fa4f4dc",
   "metadata": {},
   "outputs": [
    {
     "name": "stderr",
     "output_type": "stream",
     "text": [
      "2025-08-24 16:47:01,069 - scraper - INFO - === Initial Public Offering ===\n",
      "2025-08-24 16:47:05,672 - scraper - INFO - Using company code: 0358 (ICT ZONE ASIA BERHAD)\n",
      "2025-08-24 16:47:05,673 - scraper - INFO - Fetching Initial Public Offering links (Year: N/A, Company: ICT ZONE ASIA BERHAD)...\n",
      "2025-08-24 16:47:14,383 - scraper - INFO - Found 1 announcement links\n",
      "2025-08-24 16:47:14,384 - scraper - INFO - Processing 1 links with 5 workers\n",
      "2025-08-24 16:47:39,704 - scraper - INFO - Original Initial Public Offering for ICT_ZONE_ASIA_BERHAD (3 PDFs) is in the database\n"
     ]
    }
   ],
   "source": [
    "manager.run_one(\n",
    "    rtype = ReportType.IPO,\n",
    "    company_name = \"ICT ZONE ASIA BERHAD\"\n",
    ")"
   ]
  },
  {
   "cell_type": "code",
   "execution_count": null,
   "id": "036e260f",
   "metadata": {},
   "outputs": [],
   "source": [
    "manager.run_one(\n",
    "    rtype = ReportType.ANNUAL,\n",
    "    year = 2024,\n",
    "    company_name = \"FARM FRESH BERHAD\"\n",
    ")"
   ]
  },
  {
   "cell_type": "code",
   "execution_count": 5,
   "id": "ad82f1d0",
   "metadata": {},
   "outputs": [
    {
     "name": "stderr",
     "output_type": "stream",
     "text": [
      "2025-08-24 16:42:17,351 - scraper - INFO - === Initial Public Offering ===\n",
      "2025-08-24 16:42:21,965 - scraper - INFO - Using company code: 5306 (FARM FRESH BERHAD)\n",
      "2025-08-24 16:42:21,966 - scraper - INFO - Fetching Initial Public Offering links (Year: N/A, Company: FARM FRESH BERHAD)...\n",
      "2025-08-24 16:42:30,656 - scraper - INFO - Found 1 announcement links\n",
      "2025-08-24 16:42:30,657 - scraper - INFO - Processing 1 links with 5 workers\n",
      "2025-08-24 16:42:39,700 - scraper - INFO - Original Initial Public Offering for FARM_FRESH_BERHAD (4 PDFs) is in the database\n"
     ]
    }
   ],
   "source": [
    "manager.run_one(\n",
    "    rtype = ReportType.IPO,\n",
    "    company_name = \"FARM FRESH BERHAD\"\n",
    ")"
   ]
  },
  {
   "cell_type": "code",
   "execution_count": null,
   "id": "b5ffa601",
   "metadata": {},
   "outputs": [],
   "source": [
    "manager.run_one(\n",
    "    rtype = ReportType.IPO,\n",
    "    company_name = \"CABNET HOLDINGS BERHAD\"\n",
    ")"
   ]
  },
  {
   "cell_type": "code",
   "execution_count": null,
   "id": "2411e3f0",
   "metadata": {},
   "outputs": [],
   "source": [
    "manager.run_one(\n",
    "    rtype = ReportType.ANNUAL,\n",
    "    year = 2025,\n",
    "    company_name = \"SKYWORLD DEVELOPMENT BERHAD\",  # None for all companies\n",
    ")"
   ]
  },
  {
   "cell_type": "code",
   "execution_count": null,
   "id": "e04e8ad7",
   "metadata": {},
   "outputs": [],
   "source": [
    "manager.run_one(\n",
    "    rtype = ReportType.ANNUAL,\n",
    "    year = 2024,\n",
    ")"
   ]
  },
  {
   "cell_type": "markdown",
   "id": "20b4e76d",
   "metadata": {},
   "source": [
    "## Delete reports from MongoDB according to Company, Year, ReportType"
   ]
  },
  {
   "cell_type": "code",
   "execution_count": null,
   "id": "1e915bc8",
   "metadata": {},
   "outputs": [],
   "source": [
    "deleted_count = await manager.storage.delete_reports(\n",
    "        company = \"Autocount Dotcom Berhad\",\n",
    "        report_type = ReportType.IPO,\n",
    "        #year = 2024\n",
    ")\n"
   ]
  }
 ],
 "metadata": {
  "kernelspec": {
   "display_name": "myenv",
   "language": "python",
   "name": "python3"
  },
  "language_info": {
   "codemirror_mode": {
    "name": "ipython",
    "version": 3
   },
   "file_extension": ".py",
   "mimetype": "text/x-python",
   "name": "python",
   "nbconvert_exporter": "python",
   "pygments_lexer": "ipython3",
   "version": "3.10.18"
  }
 },
 "nbformat": 4,
 "nbformat_minor": 5
}

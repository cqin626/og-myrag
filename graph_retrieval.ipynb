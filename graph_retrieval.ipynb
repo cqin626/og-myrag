{
 "cells": [
  {
   "cell_type": "markdown",
   "id": "136ad383",
   "metadata": {},
   "source": [
    "# Pipeline of Graph Retrieval\n"
   ]
  },
  {
   "cell_type": "markdown",
   "id": "6eb3a24c",
   "metadata": {},
   "source": [
    "## Initialize Environment\n"
   ]
  },
  {
   "cell_type": "code",
   "execution_count": null,
   "id": "1c1f175d",
   "metadata": {},
   "outputs": [],
   "source": [
    "import logging\n",
    "import os\n",
    "import gradio as gr\n",
    "import nest_asyncio\n",
    "from dotenv import load_dotenv\n",
    "from motor.motor_asyncio import AsyncIOMotorClient\n",
    "from ogmyrag.my_logging import configure_logger\n",
    "from ogmyrag.base import MongoStorageConfig, Neo4jStorageConfig, PineconeStorageConfig, BaseLLMClient\n",
    "from ogmyrag.llm import OpenAIAsyncClient\n",
    "from ogmyrag.graph_retrieval import GraphRetrievalSystem\n",
    "\n",
    "# Patch event loop to support re-entry in Jupyter\n",
    "nest_asyncio.apply()\n",
    "\n",
    "# Setup logging\n",
    "graph_retrieval_logger = configure_logger(\n",
    "    name=\"graph_retrieval\", log_level=logging.DEBUG, log_file=\"logs/graph_retrieval.log\"\n",
    ")\n",
    "\n",
    "# Load environment variables\n",
    "load_dotenv(override=True)\n",
    "\n",
    "mongo_db_uri = os.getenv(\"MONGO_DB_URI\", \"\")\n",
    "\n",
    "openai_api_key = os.getenv(\"OPENAI_API_KEY\", \"\")\n",
    "\n",
    "pinecone_entities_api_key = os.getenv(\"PINECONE_ENTITIES_API_KEY\", \"\")\n",
    "pinecone_entities_environment = os.getenv(\"PINECONE_ENTITIES_ENVIRONMENT\", \"\")\n",
    "pinecone_entities_cloud = os.getenv(\"PINECONE_ENTITIES_CLOUD\", \"\")\n",
    "pinecone_entities_metric = os.getenv(\"PINECONE_ENTITIES_METRIC\", \"\")\n",
    "pinecone_entities_dimensions = os.getenv(\"PINECONE_ENTITIES_DIMENSIONS\")\n",
    "\n",
    "neo4j_uri = os.getenv(\"NEO4J_URI\", \"\")\n",
    "neo4j_username = os.getenv(\"NEO4J_USERNAME\", \"\")\n",
    "neo4j_password = os.getenv(\"NEO4J_PASSWORD\", \"\")\n",
    "\n",
    "rag_pinecone_api_key = os.getenv(\"PINECONE_API_KEY_JJ\", \"\")\n",
    "\n",
    "if not mongo_db_uri:\n",
    "    graph_retrieval_logger.error(\"Please set the MONGO_DB_URI environment variable.\")\n",
    "\n",
    "if not openai_api_key:\n",
    "    graph_retrieval_logger.error(\"Please set the OPENAI_API_KEY environment variable.\")\n",
    "\n",
    "if (\n",
    "    not pinecone_entities_api_key\n",
    "    or not pinecone_entities_environment\n",
    "    or not pinecone_entities_cloud\n",
    "    or not pinecone_entities_metric\n",
    "    or not pinecone_entities_dimensions\n",
    "):\n",
    "    graph_retrieval_logger.error(\n",
    "        \"Please set the PINECONE_ENTITIES_API_KEY, PINECONE_ENTITIES_ENVIRONMENT, PINECONE_ENTITIES_CLOUD, PINECONE_ENTITIES_METRIC, and PINECONE_ENTITIES_DIMENSIONS environment variables.\"\n",
    "    )\n",
    "\n",
    "if not neo4j_uri or not neo4j_username or not neo4j_password:\n",
    "    graph_retrieval_logger.error(\n",
    "        \"Please set the NE04J_URI, NE04J_USERNAME, and NE04J_PASSWORD environment variables.\"\n",
    "    )"
   ]
  },
  {
   "cell_type": "markdown",
   "id": "41160600",
   "metadata": {},
   "source": [
    "## Setup Graph Retrieval Pipeline\n"
   ]
  },
  {
   "cell_type": "markdown",
   "id": "2b7e03d8",
   "metadata": {},
   "source": [
    "### Initialize Variables for Database Connection\n"
   ]
  },
  {
   "cell_type": "code",
   "execution_count": null,
   "id": "853af969",
   "metadata": {},
   "outputs": [],
   "source": [
    "ontology_config: MongoStorageConfig = {\n",
    "    \"database_name\": \"ogmyrag\",\n",
    "    \"collection_name\": \"ontology\",\n",
    "}\n",
    "\n",
    "graphdb_config: Neo4jStorageConfig = {\n",
    "    \"uri\": neo4j_uri,\n",
    "    \"user\": neo4j_username,\n",
    "    \"password\": neo4j_password,\n",
    "}\n",
    "\n",
    "entity_vector_config: PineconeStorageConfig = {\n",
    "    \"index_name\": \"ogmyrag\",\n",
    "    \"pinecone_api_key\": pinecone_entities_api_key,\n",
    "    \"pinecone_environment\": pinecone_entities_environment,\n",
    "    \"pinecone_cloud\": pinecone_entities_cloud,\n",
    "    \"pinecone_metric\": pinecone_entities_metric,\n",
    "    \"pinecone_dimensions\": pinecone_entities_dimensions,\n",
    "    \"openai_api_key\": openai_api_key,\n",
    "}\n",
    "\n",
    "rag_vector_config: PineconeStorageConfig = {\n",
    "    \"index_name\": \"company-disclosures-index\",\n",
    "    \"pinecone_api_key\": rag_pinecone_api_key,\n",
    "    \"pinecone_environment\": \"us-east-1\",\n",
    "    \"pinecone_cloud\": \"aws\",\n",
    "    \"pinecone_metric\": \"cosine\",\n",
    "    \"pinecone_dimensions\": 1536,\n",
    "    \"openai_api_key\": openai_api_key,\n",
    "}\n",
    "\n",
    "mongo_client = AsyncIOMotorClient(\n",
    "    mongo_db_uri,\n",
    "    serverSelectionTimeoutMS=5000,\n",
    ")"
   ]
  },
  {
   "cell_type": "markdown",
   "id": "66638458",
   "metadata": {},
   "source": [
    "### Initialize Graph Retrieval System\n"
   ]
  },
  {
   "cell_type": "code",
   "execution_count": null,
   "id": "936f5837",
   "metadata": {},
   "outputs": [],
   "source": [
    "try:\n",
    "    graph_system = GraphRetrievalSystem(\n",
    "        mongo_client=mongo_client,\n",
    "        ontology_config=ontology_config,\n",
    "        entity_vector_config=entity_vector_config,\n",
    "        graphdb_config=graphdb_config,\n",
    "        rag_vector_config=rag_vector_config,\n",
    "        llm_client=OpenAIAsyncClient(api_key=openai_api_key),\n",
    "        agent_configs={\n",
    "            \"ChatAgent\": {\n",
    "                \"model\": \"o4-mini\",\n",
    "                \"text\": {\"format\": {\"type\": \"text\"}},\n",
    "                \"reasoning\": {\"effort\": \"medium\"},\n",
    "                \"max_output_tokens\": 100000,\n",
    "            },\n",
    "            \"RequestDecompositionAgent\": {\n",
    "                \"model\": \"gpt-5-mini\",\n",
    "                \"text\": {\"format\": {\"type\": \"text\"}},\n",
    "                \"reasoning\": {\"effort\": \"medium\"},\n",
    "                \"max_output_tokens\": 100000,\n",
    "            },\n",
    "            \"QueryAgent\": {\n",
    "                \"model\": \"o4-mini\",\n",
    "                \"text\": {\"format\": {\"type\": \"text\"}},\n",
    "                \"reasoning\": {\"effort\": \"high\"},\n",
    "                \"max_output_tokens\": 100000,\n",
    "            },\n",
    "            \"Text2CypherAgent\": {\n",
    "                \"model\": \"o4-mini\",\n",
    "                \"text\": {\"format\": {\"type\": \"text\"}},\n",
    "                \"reasoning\": {\"effort\": \"high\"},\n",
    "                \"max_output_tokens\": 100000,\n",
    "            },\n",
    "            \"RetrievalResultCompilationAgent\": {\n",
    "                \"model\": \"gpt-4.1-mini\",\n",
    "                \"text\": {\"format\": {\"type\": \"text\"}},\n",
    "                \"max_output_tokens\": 32768,\n",
    "            },\n",
    "        },\n",
    "    )\n",
    "except Exception as e:\n",
    "    graph_retrieval_logger.error(\n",
    "        f\"GraphRetrievalSystem\\nError while creating graph retrieval system: {e}\"\n",
    "    )"
   ]
  },
  {
   "cell_type": "markdown",
   "id": "0574cfed",
   "metadata": {},
   "source": [
    "## Set Up User Interface\n"
   ]
  },
  {
   "cell_type": "code",
   "execution_count": null,
   "id": "e6b90f15",
   "metadata": {},
   "outputs": [],
   "source": [
    "async def respond(message: str, history: list):\n",
    "    accumulated_content = \"\"\n",
    "    try:\n",
    "        async for chunk in graph_system.query(\n",
    "            user_request=message,\n",
    "            top_k_for_similarity=20,\n",
    "            similarity_threshold=0.6,\n",
    "            max_tool_call=4,\n",
    "        ):\n",
    "            accumulated_content += chunk + \"\\n\\n\"\n",
    "            yield accumulated_content\n",
    "    except Exception as e:\n",
    "        graph_retrieval_logger.error(\n",
    "            f\"GraphRetrievalSystem\\nError while processing user request: {e}\"\n",
    "        )\n",
    "        yield \"**Unexpected error occured. Please contact the developer.**\"\n",
    "\n",
    "\n",
    "demo = gr.ChatInterface(\n",
    "    fn=respond,\n",
    "    type=\"messages\",\n",
    "    title=\"Ontology-Grounded Graph-Based RAG\",\n",
    ")\n",
    "\n",
    "demo.launch()"
   ]
  },
  {
   "cell_type": "code",
   "execution_count": null,
   "id": "50fe026c",
   "metadata": {},
   "outputs": [],
   "source": [
    "graph_retrieval_logger.info(\"Tset\")"
   ]
  },
  {
   "cell_type": "code",
   "execution_count": null,
   "id": "20643369",
   "metadata": {},
   "outputs": [],
   "source": []
  }
 ],
 "metadata": {
  "kernelspec": {
   "display_name": "ogmyrag",
   "language": "python",
   "name": "python3"
  },
  "language_info": {
   "codemirror_mode": {
    "name": "ipython",
    "version": 3
   },
   "file_extension": ".py",
   "mimetype": "text/x-python",
   "name": "python",
   "nbconvert_exporter": "python",
   "pygments_lexer": "ipython3",
   "version": "3.10.16"
  }
 },
 "nbformat": 4,
 "nbformat_minor": 5
}

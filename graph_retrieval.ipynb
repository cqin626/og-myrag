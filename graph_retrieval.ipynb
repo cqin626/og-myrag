{
 "cells": [
  {
   "cell_type": "markdown",
   "id": "136ad383",
   "metadata": {},
   "source": [
    "# Pipeline of Graph Retrieval"
   ]
  },
  {
   "cell_type": "markdown",
   "id": "6eb3a24c",
   "metadata": {},
   "source": [
    "## Initialization"
   ]
  },
  {
   "cell_type": "code",
   "execution_count": 1,
   "id": "1c1f175d",
   "metadata": {},
   "outputs": [],
   "source": [
    "import logging\n",
    "import os\n",
    "import gradio as gr\n",
    "import nest_asyncio\n",
    "from dotenv import load_dotenv\n",
    "from motor.motor_asyncio import AsyncIOMotorClient"
   ]
  },
  {
   "cell_type": "code",
   "execution_count": 2,
   "id": "08f45ef6",
   "metadata": {},
   "outputs": [],
   "source": [
    "from ogmyrag.my_logging import configure_logger\n",
    "from ogmyrag.base import MongoStorageConfig, Neo4jStorageConfig, PineconeStorageConfig\n",
    "from ogmyrag.graph_retrieval import GraphRetrievalSystem"
   ]
  },
  {
   "cell_type": "code",
   "execution_count": 3,
   "id": "921e5270",
   "metadata": {},
   "outputs": [],
   "source": [
    "# Patch event loop to support re-entry in Jupyter\n",
    "nest_asyncio.apply()"
   ]
  },
  {
   "cell_type": "code",
   "execution_count": 4,
   "id": "e2dd33d8",
   "metadata": {},
   "outputs": [],
   "source": [
    "# Setup logging\n",
    "graph_retrieval_logger = configure_logger(name='graph_retrieval',log_level=logging.DEBUG, log_file='logs/graph_retrieval.log')"
   ]
  },
  {
   "cell_type": "code",
   "execution_count": 5,
   "id": "8afa51e6",
   "metadata": {},
   "outputs": [],
   "source": [
    "# Load environment variables\n",
    "load_dotenv(override=True)\n",
    "\n",
    "mongo_db_uri = os.getenv(\"MONGO_DB_URI\", \"\")\n",
    "\n",
    "openai_api_key = os.getenv(\"OPENAI_API_KEY\", \"\")\n",
    "\n",
    "pinecone_entities_api_key = os.getenv(\"PINECONE_ENTITIES_API_KEY\", \"\")\n",
    "pinecone_entities_environment = os.getenv(\"PINECONE_ENTITIES_ENVIRONMENT\", \"\")\n",
    "pinecone_entities_cloud = os.getenv(\"PINECONE_ENTITIES_CLOUD\", \"\")\n",
    "pinecone_entities_metric = os.getenv(\"PINECONE_ENTITIES_METRIC\", \"\")\n",
    "pinecone_entities_dimensions = os.getenv(\"PINECONE_ENTITIES_DIMENSIONS\")\n",
    "\n",
    "neo4j_uri = os.getenv(\"NEO4J_URI\", \"\")\n",
    "neo4j_username = os.getenv(\"NEO4J_USERNAME\", \"\")\n",
    "neo4j_password = os.getenv(\"NEO4J_PASSWORD\", \"\")\n",
    "\n",
    "rag_pinecone_api_key = os.getenv(\"PINECONE_API_KEY_JJ\", \"\")\n",
    "\n",
    "\n",
    "if not mongo_db_uri:\n",
    "    graph_retrieval_logger.error(\"Please set the MONGO_DB_URI environment variable.\")\n",
    "\n",
    "if not openai_api_key:\n",
    "    graph_retrieval_logger.error(\"Please set the OPENAI_API_KEY environment variable.\")\n",
    "\n",
    "if (\n",
    "    not pinecone_entities_api_key\n",
    "    or not pinecone_entities_environment\n",
    "    or not pinecone_entities_cloud\n",
    "    or not pinecone_entities_metric\n",
    "    or not pinecone_entities_dimensions\n",
    "):\n",
    "    graph_retrieval_logger.error(\n",
    "        \"Please set the PINECONE_ENTITIES_API_KEY, PINECONE_ENTITIES_ENVIRONMENT, PINECONE_ENTITIES_CLOUD, PINECONE_ENTITIES_METRIC, and PINECONE_ENTITIES_DIMENSIONS environment variables.\"\n",
    "    )\n",
    "\n",
    "if not neo4j_uri or not neo4j_username or not neo4j_password:\n",
    "    graph_retrieval_logger.error(\n",
    "        \"Please set the NE04J_URI, NE04J_USERNAME, and NE04J_PASSWORD environment variables.\"\n",
    "    )"
   ]
  },
  {
   "cell_type": "markdown",
   "id": "41160600",
   "metadata": {},
   "source": [
    "## Initialize Graph Retrieval System"
   ]
  },
  {
   "cell_type": "code",
   "execution_count": 6,
   "id": "853af969",
   "metadata": {},
   "outputs": [],
   "source": [
    "ontology_config: MongoStorageConfig = {\n",
    "    \"database_name\": \"ogmyrag\",\n",
    "    \"collection_name\": \"ontology_v2\",\n",
    "}\n",
    "\n",
    "graphdb_config: Neo4jStorageConfig = {\n",
    "    \"uri\": neo4j_uri,\n",
    "    \"user\": neo4j_username,\n",
    "    \"password\": neo4j_password,\n",
    "}\n",
    "\n",
    "entity_vector_config: PineconeStorageConfig = {\n",
    "    \"index_name\": \"ogmyrag\",\n",
    "    \"pinecone_api_key\": pinecone_entities_api_key,\n",
    "    \"pinecone_environment\": pinecone_entities_environment,\n",
    "    \"pinecone_cloud\": pinecone_entities_cloud,\n",
    "    \"pinecone_metric\": pinecone_entities_metric,\n",
    "    \"pinecone_dimensions\": pinecone_entities_dimensions,\n",
    "    \"openai_api_key\": openai_api_key\n",
    "}\n",
    "\n",
    "rag_vector_config: PineconeStorageConfig = {\n",
    "    \"index_name\": \"company-disclosures-index\",\n",
    "    \"pinecone_api_key\": rag_pinecone_api_key,\n",
    "    \"pinecone_environment\": \"us-east-1\",\n",
    "    \"pinecone_cloud\": \"aws\",\n",
    "    \"pinecone_metric\": \"cosine\",\n",
    "    \"pinecone_dimensions\": 1536,\n",
    "    \"openai_api_key\": openai_api_key,\n",
    "}\n",
    "    "
   ]
  },
  {
   "cell_type": "code",
   "execution_count": 7,
   "id": "936f5837",
   "metadata": {},
   "outputs": [],
   "source": [
    "mongo_client = AsyncIOMotorClient(\n",
    "    mongo_db_uri,\n",
    "    serverSelectionTimeoutMS=5000,\n",
    ")\n",
    "\n",
    "try:\n",
    "    graph_system = GraphRetrievalSystem(\n",
    "        mongo_client=mongo_client,\n",
    "        ontology_config=ontology_config,\n",
    "        entity_vector_config=entity_vector_config,\n",
    "        graphdb_config=graphdb_config,\n",
    "        rag_vector_config=rag_vector_config\n",
    "    )\n",
    "except Exception as e:\n",
    "    graph_retrieval_logger.error(\n",
    "        f\"GraphRetrievalSystem\\nError while creating graph retrieval system: {e}\"\n",
    "    )"
   ]
  },
  {
   "cell_type": "code",
   "execution_count": 8,
   "id": "e6dfe60d",
   "metadata": {},
   "outputs": [
    {
     "name": "stderr",
     "output_type": "stream",
     "text": [
      "2025-08-30 20:08:26,465 - graph_retrieval - INFO - RAGAgent is called\n",
      "2025-08-30 20:08:26,466 - graph_retrieval - DEBUG - RAGAgent\n",
      "Queries used:\n",
      "['Who are the board of directors of AutoCount? Tell more about their background.', 'Who is Choo Chin Peng?', 'Who is Choo Yan Tiee?', 'Who is Liew Soung Yue?']\n",
      "2025-08-30 20:08:55,522 - graph_retrieval - INFO - RAGAgent: completed RAG for query='Who is Choo Yan Tiee?'\n",
      "2025-08-30 20:08:55,888 - graph_retrieval - INFO - RAGAgent: completed RAG for query='Who is Liew Soung Yue?'\n",
      "2025-08-30 20:08:56,561 - graph_retrieval - INFO - RAGAgent: completed RAG for query='Who is Choo Chin Peng?'\n",
      "2025-08-30 20:09:11,587 - graph_retrieval - INFO - RAGAgent: completed RAG for query='Who are the board of directors of AutoCount? Tell more about their background.'\n"
     ]
    },
    {
     "name": "stdout",
     "output_type": "stream",
     "text": [
      "## Calling RAGAgent...\n",
      "\n",
      "### Who are the board of directors of AutoCount? Tell more about their background.\n",
      "AUTOCOUNT DOTCOM BERHAD\n",
      "\n",
      "- CCP — Executive Director / Chairman\n",
      "- CYT — Executive Director / Managing Director\n",
      "- Dato’ Ng Wan Peng — Independent Non-Executive Director\n",
      "- Dr. Liew Soung Yue — Independent Non-Executive Director\n",
      "- Chin Chee Seng — Independent Non-Executive Director\n",
      "\n",
      "Background: Not found in provided documents.\n",
      "\n",
      "### Who is Choo Chin Peng?\n",
      "- Choo Chin Peng is the Executive Director (Board Chairman) of AutoCount Dotcom Berhad.\n",
      "- Appointed to the Board on 25 February 2022; “responsible for overseeing our Group's strategic business planning, products development and operations.”\n",
      "- Nationality: Malaysian; Age: 55; Gender: Male.\n",
      "- He is a Promoter, Specified Shareholder, major shareholder and Executive Director / Chairman.\n",
      "- Substantial shareholding: 169,357,196 direct shares (30.76%).\n",
      "- Background: co-founded Ology Marketing Sdn Bhd (later renamed Business Component Enterprise Sdn Bhd) in 1996; co-founded BCE Software Sdn Bhd in 2000.\n",
      "\n",
      "### Who is Choo Yan Tiee?\n",
      "AutoCount DotCom Berhad\n",
      "\n",
      "- Choo Yan Tiee: \"Executive Director / Managing Director\" \n",
      "- Appointed to our Board as Executive Director on 25 February 2022; \"responsible for the overall strategy and corporate direction of our Group, including sales, marketing initiatives, general management, resources planning and business development.\"\n",
      "- Nationality: Malaysian; Age: 55; Gender: Male.\n",
      "- Promoter, Specified Shareholder, major shareholder and Executive Director / Managing Director.\n",
      "\n",
      "### Who is Liew Soung Yue?\n",
      "AutoCount DotCom Berhad\n",
      "- Dr. Liew Soung Yue is Independent Non-Executive Director; appointed 6 April 2022.\n",
      "- Chairperson of the Nomination Committee; Member of the Audit and Risk Management Committee and Remuneration Committee.\n",
      "- Nationality: Malaysian; Age: 55; Gender: Male.\n",
      "- Education: Doctor of Philosophy (Information Engineering), The Chinese University of Hong Kong (1999).\n",
      "- Also noted: “holds directorships as independent and non-executive director in several public listed companies, such as Securemetric Berhad, Fraser & Neave Holdings Berhad, Iris Corporation Berhad and Lac Med Berhad.”\n",
      "\n",
      "Securemetric Berhad\n",
      "- Directorship: Independent and Non-Executive Director (as part of holding directorships described in the context).\n",
      "\n",
      "Fraser & Neave Holdings Berhad\n",
      "- Directorship: Independent and Non-Executive Director (as part of holding directorships described in the context).\n",
      "\n",
      "Iris Corporation Berhad\n",
      "- Directorship: Independent and Non-Executive Director (as part of holding directorships described in the context).\n",
      "\n",
      "Lac Med Berhad\n",
      "- Directorship: Independent and Non-Executive Director (as part of holding directorships described in the context).\n"
     ]
    }
   ],
   "source": [
    "chunks = []\n",
    "async for chunk in graph_system.rag_query(\n",
    "    user_request=[\n",
    "        \"Who are the board of directors of AutoCount? Tell more about their background.\",\n",
    "        \"Who is Choo Chin Peng?\",\n",
    "        \"Who is Choo Yan Tiee?\",\n",
    "        \"Who is Liew Soung Yue?\",\n",
    "    ],\n",
    "    top_k_for_similarity=15,\n",
    "    similarity_threshold=0.5,\n",
    "):\n",
    "    chunks.append(chunk)\n",
    "\n",
    "res = \"\\n\\n\".join(chunks)   # or pick the last chunk, or parse it\n",
    "\n",
    "print(res)"
   ]
  },
  {
   "cell_type": "markdown",
   "id": "0574cfed",
   "metadata": {},
   "source": [
    "## Setting Up User Interface"
   ]
  },
  {
   "cell_type": "code",
   "execution_count": 8,
   "id": "e6b90f15",
   "metadata": {},
   "outputs": [
    {
     "name": "stdout",
     "output_type": "stream",
     "text": [
      "* Running on local URL:  http://127.0.0.1:7860\n",
      "* To create a public link, set `share=True` in `launch()`.\n"
     ]
    },
    {
     "data": {
      "text/html": [
       "<div><iframe src=\"http://127.0.0.1:7860/\" width=\"100%\" height=\"500\" allow=\"autoplay; camera; microphone; clipboard-read; clipboard-write;\" frameborder=\"0\" allowfullscreen></iframe></div>"
      ],
      "text/plain": [
       "<IPython.core.display.HTML object>"
      ]
     },
     "metadata": {},
     "output_type": "display_data"
    },
    {
     "data": {
      "text/plain": []
     },
     "execution_count": 8,
     "metadata": {},
     "output_type": "execute_result"
    },
    {
     "name": "stderr",
     "output_type": "stream",
     "text": [
      "2025-08-30 20:09:54,474 - graph_retrieval - INFO - RAGAgent is called\n",
      "2025-08-30 20:09:54,474 - graph_retrieval - DEBUG - RAGAgent\n",
      "Queries used:\n",
      "['tell me about autocount']\n",
      "2025-08-30 20:10:26,893 - graph_retrieval - INFO - RAGAgent: completed RAG for query='tell me about autocount'\n",
      "2025-08-30 20:11:14,412 - graph_retrieval - INFO - RAGAgent is called\n",
      "2025-08-30 20:11:14,414 - graph_retrieval - DEBUG - RAGAgent\n",
      "Queries used:\n",
      "['tell me about vitrox']\n",
      "2025-08-30 20:11:57,658 - graph_retrieval - INFO - RAGAgent: completed RAG for query='tell me about vitrox'\n"
     ]
    }
   ],
   "source": [
    "async def respond(message: str, history: list):\n",
    "    accumulated_content = \"\"\n",
    "    try:\n",
    "        async for chunk in graph_system.rag_query(\n",
    "            user_request=message, top_k_for_similarity=15, similarity_threshold=0.5\n",
    "        ):\n",
    "            accumulated_content += chunk + \"\\n\\n\"\n",
    "            yield accumulated_content\n",
    "    except Exception as e:\n",
    "        graph_retrieval_logger.exception(\n",
    "            f\"GraphRetrievalSystem\\nError while creating graph retrieval system: {e}\"\n",
    "        )\n",
    "        yield \"Unexpected error occurred. Please contact the developer\"\n",
    "\n",
    "\n",
    "demo = gr.ChatInterface(\n",
    "    fn=respond,\n",
    "    type=\"messages\",\n",
    "    title=\"Ontology-Grounded Graph-Based RAG\",\n",
    ")\n",
    "\n",
    "demo.launch()"
   ]
  }
 ],
 "metadata": {
  "kernelspec": {
   "display_name": "myenv",
   "language": "python",
   "name": "python3"
  },
  "language_info": {
   "codemirror_mode": {
    "name": "ipython",
    "version": 3
   },
   "file_extension": ".py",
   "mimetype": "text/x-python",
   "name": "python",
   "nbconvert_exporter": "python",
   "pygments_lexer": "ipython3",
   "version": "3.10.18"
  }
 },
 "nbformat": 4,
 "nbformat_minor": 5
}

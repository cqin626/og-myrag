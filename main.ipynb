{
 "cells": [
  {
   "cell_type": "markdown",
   "id": "23d96d15",
   "metadata": {},
   "source": [
    "## Initializing Project"
   ]
  },
  {
   "cell_type": "code",
   "execution_count": null,
   "id": "ac8d16e0",
   "metadata": {},
   "outputs": [],
   "source": [
    "import logging\n",
    "import os\n",
    "import json\n",
    "import asyncio\n",
    "import nest_asyncio\n",
    "from dotenv import load_dotenv\n",
    "from pathlib import Path\n",
    "from pprint import pprint\n",
    "from typing import Any"
   ]
  },
  {
   "cell_type": "code",
   "execution_count": null,
   "id": "95cc3997",
   "metadata": {},
   "outputs": [],
   "source": [
    "from prompts import PROMPT\n",
    "\n",
    "from ogmyrag.my_logging import configure_logger\n",
    "\n",
    "from ogmyrag.storage import (\n",
    "   MongoDBStorage,\n",
    "   PineconeStorage\n",
    ")\n",
    "\n",
    "from ogmyrag.graph_construction import (\n",
    "   get_formatted_company_data, \n",
    "   get_formatted_entities_relationships_parsing_query, \n",
    "   get_formatted_entities_and_relationships,\n",
    "   get_formatted_entity_for_vectordb\n",
    ")\n",
    "\n",
    "from ogmyrag.llm import fetch_completion_openai\n",
    "\n",
    "from ogmyrag.util import (\n",
    "   get_formatted_ontology, \n",
    "   get_formatted_report_definitions,\n",
    "   get_formatted_current_datetime\n",
    ")"
   ]
  },
  {
   "cell_type": "code",
   "execution_count": null,
   "id": "0410d21f",
   "metadata": {},
   "outputs": [],
   "source": [
    "# Patch event loop to support re-entry in Jupyter\n",
    "\n",
    "nest_asyncio.apply()"
   ]
  },
  {
   "cell_type": "code",
   "execution_count": null,
   "id": "551ea65d",
   "metadata": {},
   "outputs": [],
   "source": [
    "# Set up logging\n",
    "\n",
    "app_logger = configure_logger(name='og-myrag',log_level=logging.DEBUG, log_file='logs/app.log')\n",
    "mongo_logger = configure_logger(name='mongodb',log_level=logging.DEBUG, log_file='logs/mongodb.log', to_console=False)\n",
    "pinecone_logger = configure_logger(name='pinecone',log_level=logging.DEBUG, log_file='logs/pinecone.log', to_console=False)"
   ]
  },
  {
   "cell_type": "code",
   "execution_count": null,
   "id": "90262bf0",
   "metadata": {},
   "outputs": [],
   "source": [
    "# Load environment variables\n",
    "\n",
    "load_dotenv(override=True)\n",
    "\n",
    "mongo_db_uri = os.getenv(\"MONGO_DB_URI\",\"\")\n",
    "\n",
    "openai_api_key = os.getenv(\"OPENAI_API_KEY\",\"\")\n",
    "\n",
    "pinecone_api_key = os.getenv(\"PINECONE_API_KEY\",\"\")\n",
    "pinecone_environment = os.getenv(\"PINECONE_ENVIRONMENT\",\"\")\n",
    "pinecone_cloud = os.getenv(\"PINECONE_CLOUD\",\"\")\n",
    "pinecone_metric = os.getenv(\"PINECONE_METRIC\", \"\")\n",
    "pinecone_dimensions = os.getenv(\"PINECONE_DIMENSIONS\")\n",
    "\n",
    "if not mongo_db_uri:\n",
    "    app_logger.error(\"Please set the MONGO_DB_URI environment variable.\")\n",
    "\n",
    "if not openai_api_key:\n",
    "    app_logger.error(\"Please set the OPENAI_API_KEY environment variable.\")\n",
    "\n",
    "if not pinecone_api_key or not pinecone_environment or not pinecone_cloud or not pinecone_metric or not pinecone_dimensions:\n",
    "    app_logger.error(\"Please set the PINECONE_API_KEY, PINECONE_ENVIRONMENT, PINECONE_CLOUD, PINECONE_METRIC, and PINECONE_DIMENSIONS environment variables.\")"
   ]
  },
  {
   "cell_type": "code",
   "execution_count": null,
   "id": "2dc6dfb9",
   "metadata": {},
   "outputs": [],
   "source": [
    "# Connect to MongoDB\n",
    "\n",
    "try:\n",
    "    mongo = MongoDBStorage(mongo_db_uri)\n",
    "    mongo.use_database(\"ogmyrag\")\n",
    "    mongo.use_collection(\"company_disclosures\")\n",
    "except Exception as e:\n",
    "    app_logger.error(f\"Could not connect to MongoDB: {str(e)}\")"
   ]
  },
  {
   "cell_type": "code",
   "execution_count": null,
   "id": "88a2dd13",
   "metadata": {},
   "outputs": [],
   "source": [
    "# Connect to Pinecone\n",
    "\n",
    "try:\n",
    "   pinecone = PineconeStorage(\n",
    "      index_name = \"ogmyrag\",\n",
    "      pinecone_api_key = pinecone_api_key,\n",
    "      pinecone_environment = pinecone_environment,\n",
    "      pinecone_cloud = pinecone_cloud,\n",
    "      pinecone_metric = pinecone_metric,\n",
    "      pinecone_dimensions = pinecone_dimensions,\n",
    "      openai_api_key = openai_api_key \n",
    "   )\n",
    "except Exception as e:\n",
    "    app_logger.error(f\"Could not connect to Pinecone: {str(e)}\")"
   ]
  },
  {
   "cell_type": "markdown",
   "id": "9a10f131",
   "metadata": {},
   "source": [
    "## Uploading Documents to MongoDB"
   ]
  },
  {
   "cell_type": "code",
   "execution_count": null,
   "id": "b0375479",
   "metadata": {},
   "outputs": [],
   "source": [
    "# For development purposes, we will use the local file system to read the files and upload to mongodb\n",
    "# TODO: Support formatting for definitions\n",
    "\n",
    "folder_name = \"adb_prospectus\"\n",
    "folder_path = Path.cwd() / folder_name\n",
    "\n",
    "if not folder_path.is_dir():\n",
    "    app_logger.info(f\"Folder '{folder_name}' not found in project root.\")\n",
    "    app_logger.info(f\"Project is terminated\")\n",
    "else:\n",
    "    txt_files = list(folder_path.glob(\"*.txt\"))\n",
    "    if not txt_files:\n",
    "        app_logger.info(\"No .txt files found in the folder.\")\n",
    "    else:\n",
    "        for txt_file in txt_files:\n",
    "            current_data = get_formatted_company_data(\n",
    "                txt_file.read_text(encoding='utf-8'),\n",
    "                txt_file.stem,\n",
    "                \"prospectus\",\n",
    "                \"Autocount Dotcom Berhad\"\n",
    "             )\n",
    "            existing_documents = mongo.read_documents({\"name\": current_data[\"name\"]})\n",
    "            if existing_documents:\n",
    "                app_logger.info(f\"Document with name '{current_data['name']}' already exists in the database.\")\n",
    "            else:\n",
    "                try:\n",
    "                    document_id = mongo.create_document(current_data)\n",
    "                    app_logger.info(f\"Inserted document with name '{current_data['name']}' and id '{document_id}' into the database.\")\n",
    "                except Exception as e:\n",
    "                    app_logger.error(f\"Error inserting document with name '{current_data['name']}': {str(e)}\")"
   ]
  },
  {
   "cell_type": "markdown",
   "id": "b240aaf9",
   "metadata": {},
   "source": [
    "## Entities and Relationships Parsing"
   ]
  },
  {
   "cell_type": "markdown",
   "id": "f12c43b9",
   "metadata": {},
   "source": [
    "### Load word definitions from mongodb"
   ]
  },
  {
   "cell_type": "code",
   "execution_count": null,
   "id": "275d52b9",
   "metadata": {},
   "outputs": [],
   "source": [
    "try:\n",
    "   raw_definitions = mongo.read_documents({\n",
    "      \"type\": \"PROSPECTUS DEFINITIONS\", \n",
    "      \"from_company\": \"AUTOCOUNT DOTCOM BERHAD\"\n",
    "   })\n",
    "   formatted_definitions = get_formatted_report_definitions(json.loads(raw_definitions[0][\"content\"]))\n",
    "except Exception as e:\n",
    "   app_logger.error(f\"Error getting formatted word definitions: {str(e)}\")"
   ]
  },
  {
   "cell_type": "markdown",
   "id": "6d93503a",
   "metadata": {},
   "source": [
    "### Load ontology"
   ]
  },
  {
   "cell_type": "code",
   "execution_count": null,
   "id": "c1080a3a",
   "metadata": {},
   "outputs": [],
   "source": [
    "with open(\"ontology.json\") as f:\n",
    "   raw_ontology = json.load(f)\n",
    "   formatted_ontology = get_formatted_ontology(raw_ontology)"
   ]
  },
  {
   "cell_type": "markdown",
   "id": "14b3e4f1",
   "metadata": {},
   "source": [
    "### Prepare system prompt"
   ]
  },
  {
   "cell_type": "code",
   "execution_count": null,
   "id": "d6983149",
   "metadata": {},
   "outputs": [],
   "source": [
    "entities_relationships_parsing_system_prompt = get_formatted_entities_relationships_parsing_query(\n",
    "   prompt_template=PROMPT[\"ENTITIES_RELATIONSHIPS_PARSING\"],\n",
    "   ontology = formatted_ontology,\n",
    "   source_txt_definitions=formatted_definitions\n",
    ")\n",
    "\n",
    "app_logger.debug(f\"Entities and relationships parsing system prompt: {entities_relationships_parsing_system_prompt}\")"
   ]
  },
  {
   "cell_type": "markdown",
   "id": "86d67650",
   "metadata": {},
   "source": [
    "### Extract entities and relationships from the documents and upload them to MongoDB"
   ]
  },
  {
   "cell_type": "code",
   "execution_count": null,
   "id": "4b00c75f",
   "metadata": {},
   "outputs": [],
   "source": [
    "# TODO: Add caching mechanism to avoid reprocessing the same document if error occur\n",
    "async def process_company_data(\n",
    "  get_data_by: dict[str, Any],\n",
    "  system_prompt: str,\n",
    "  llm_model: str = \"gpt-4.1-mini\",\n",
    "  max_tokens: int = 16384, \n",
    "  temperature: float = 0.3\n",
    "):\n",
    "   tasks = []\n",
    "   try:\n",
    "      documents = mongo.read_documents(get_data_by)\n",
    "\n",
    "      if not documents:\n",
    "         app_logger.info(\"There are no documents in the database to extract entities and relationships from.\")\n",
    "         return\n",
    "      else:\n",
    "         for document in documents:\n",
    "            if document.get(\"content\"):\n",
    "               tasks.append(fetch_completion_openai(\n",
    "                  model=llm_model,\n",
    "                  user_prompt=document[\"content\"],\n",
    "                  system_prompt= system_prompt,\n",
    "                  history_messages= None,\n",
    "                  max_tokens=max_tokens,\n",
    "                  temperature=temperature\n",
    "               ))\n",
    "               \n",
    "         if not tasks:\n",
    "           app_logger.info(\"No documents with content to process\")\n",
    "           return\n",
    "         \n",
    "         results = await asyncio.gather(*tasks)\n",
    "         \n",
    "         for document, result in zip(documents, results):\n",
    "            entities, relationships = get_formatted_entities_and_relationships(result)\n",
    "            \n",
    "            app_logger.info(f\"Inserting {len(entities)} entity(ies) into the database for document ID: {document['_id']}\")\n",
    "            mongo.use_collection(\"entities\")\n",
    "            for entity in entities:\n",
    "               mongo.create_document(entity)\n",
    "               \n",
    "            app_logger.info(f\"Inserting {len(relationships)} relationship(s) into the database for document ID: {document['_id']}\")\n",
    "            mongo.use_collection(\"relationships\")\n",
    "            for relationship in relationships:\n",
    "               mongo.create_document(relationship)\n",
    "            \n",
    "            app_logger.info(f\"Updating the is_parsed status of the document with ID: {document['_id']}\")\n",
    "            mongo.use_collection(\"company_disclosures\")\n",
    "            mongo.update_document(\n",
    "               {\"_id\": document[\"_id\"]},\n",
    "               {\"is_parsed\": True}\n",
    "            )\n",
    "            app_logger.info(f\"The document with ID {document['_id']} has been successfully processed, along with the upload of {len(entities)} entity(ies) and {len(relationships)} relationship(s).\")\n",
    "   except Exception as e:\n",
    "      app_logger.error(f\"Error occur while processing company data: {e}\")"
   ]
  },
  {
   "cell_type": "code",
   "execution_count": null,
   "id": "0a0c2d40",
   "metadata": {},
   "outputs": [],
   "source": [
    "await process_company_data(\n",
    "   llm_model= \"gpt-4o-mini\",\n",
    "   get_data_by = {\"is_parsed\": False, \"name\": \"ADB_PROSPECTUS_SECTION_1\"},\n",
    "   system_prompt = entities_relationships_parsing_system_prompt\n",
    ")"
   ]
  },
  {
   "cell_type": "markdown",
   "id": "e651498f",
   "metadata": {},
   "source": [
    "## Uploading entities to Pinecone"
   ]
  },
  {
   "cell_type": "markdown",
   "id": "ee21f327",
   "metadata": {},
   "source": [
    "### Read and format entities that have not been uploaded to Pinecone"
   ]
  },
  {
   "cell_type": "code",
   "execution_count": null,
   "id": "e2d4f550",
   "metadata": {},
   "outputs": [],
   "source": [
    "formatted_entities = []\n",
    "\n",
    "try:\n",
    "    mongo.use_collection(\"entities\")\n",
    "    entities = mongo.read_documents({\"inserted_into_vectordb_at\": \"\"})\n",
    "    for entity in entities:\n",
    "        formatted_entities.append(get_formatted_entity_for_vectordb(entity))\n",
    "    app_logger.info(f\"Read {len(formatted_entities)} entity(ies) that have not been formatted from the database.\")\n",
    "except Exception as e:\n",
    "    app_logger.error(\"Eror while reading entity(ies): {e}\")"
   ]
  },
  {
   "cell_type": "markdown",
   "id": "4e540bc6",
   "metadata": {},
   "source": [
    "### Upload to Pinecone and update the entities' inserted_into_vectordb_at status"
   ]
  },
  {
   "cell_type": "code",
   "execution_count": null,
   "id": "b0b45b63",
   "metadata": {},
   "outputs": [],
   "source": [
    "try:\n",
    "   await pinecone.create_vectors(formatted_entities)\n",
    "except Exception as e:\n",
    "   app_logger.error(f\"Error while uploading vectors: {e}\")"
   ]
  },
  {
   "cell_type": "code",
   "execution_count": null,
   "id": "ea9ffd67",
   "metadata": {},
   "outputs": [],
   "source": [
    "try:\n",
    "   for entity in entities:\n",
    "      mongo.update_document(\n",
    "         {\"_id\": entity[\"_id\"]},\n",
    "         {\"inserted_into_vectordb_at\": get_formatted_current_datetime(\"Asia/Kuala_Lumpur\")}\n",
    "      )\n",
    "   app_logger.info(f\"Updated {len(entities)} entity(ies) with inserted_into_vectordb_at field.\")\n",
    "except Exception as e:\n",
    "   app_logger.error(\"Error while updating entity(ies): {e}\")"
   ]
  },
  {
   "cell_type": "code",
   "execution_count": null,
   "id": "db2f7a8b",
   "metadata": {},
   "outputs": [],
   "source": [
    "try:\n",
    "   results = await pinecone.get_similar_results(query_text=\"ADB\", namespace=\"COMPANY\")\n",
    "   pprint(results)\n",
    "except Exception as e:\n",
    "   app_logger.error(f\"Error while getting similar results: {e}\")"
   ]
  },
  {
   "cell_type": "code",
   "execution_count": null,
   "id": "89afce09",
   "metadata": {},
   "outputs": [],
   "source": [
    "\n"
   ]
  },
  {
   "cell_type": "code",
   "execution_count": null,
   "id": "3c6d1dbc",
   "metadata": {},
   "outputs": [],
   "source": []
  }
 ],
 "metadata": {
  "kernelspec": {
   "display_name": "ogmyrag",
   "language": "python",
   "name": "python3"
  },
  "language_info": {
   "codemirror_mode": {
    "name": "ipython",
    "version": 3
   },
   "file_extension": ".py",
   "mimetype": "text/x-python",
   "name": "python",
   "nbconvert_exporter": "python",
   "pygments_lexer": "ipython3",
   "version": "3.10.16"
  }
 },
 "nbformat": 4,
 "nbformat_minor": 5
}

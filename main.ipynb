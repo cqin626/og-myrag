{
 "cells": [
  {
   "cell_type": "code",
   "execution_count": 1,
   "id": "551ea65d",
   "metadata": {},
   "outputs": [],
   "source": [
    "# Setting up logging\n",
    "import logging\n",
    "\n",
    "from ogmyrag.my_logging import configure_logger\n",
    "\n",
    "app_logger = configure_logger(name='og-myrag',log_level=logging.DEBUG, log_file='logs/app.log')\n",
    "test_logger = configure_logger(name='test',log_level=logging.DEBUG, log_file='logs/test.log', to_console=False)"
   ]
  },
  {
   "cell_type": "code",
   "execution_count": 2,
   "id": "2dc6dfb9",
   "metadata": {},
   "outputs": [
    {
     "name": "stderr",
     "output_type": "stream",
     "text": [
      "2025-04-13 17:09:55,019 - og-myrag - DEBUG - This is a debug message\n",
      "2025-04-13 17:09:55,022 - og-myrag - INFO - This is a info message\n",
      "2025-04-13 17:09:55,022 - og-myrag - WARNING - This is a warning message\n",
      "2025-04-13 17:09:55,029 - og-myrag - ERROR - This is a error message\n",
      "2025-04-13 17:09:55,032 - og-myrag - CRITICAL - This is a critical message\n"
     ]
    }
   ],
   "source": [
    "app_logger.debug(\"This is a debug message\")\n",
    "app_logger.info(\"This is a info message\")\n",
    "app_logger.warning(\"This is a warning message\")\n",
    "app_logger.error(\"This is a error message\")\n",
    "app_logger.critical(\"This is a critical message\")\n",
    "\n",
    "\n",
    "test_logger.debug(\"This is a debug message\")\n",
    "test_logger.info(\"This is a info message\")\n",
    "test_logger.warning(\"This is a warning message\")\n",
    "test_logger.error(\"This is a error message\")\n",
    "test_logger.critical(\"This is a critical message\")"
   ]
  },
  {
   "cell_type": "code",
   "execution_count": null,
   "id": "37dbf267",
   "metadata": {},
   "outputs": [],
   "source": []
  }
 ],
 "metadata": {
  "kernelspec": {
   "display_name": "ogmyrag",
   "language": "python",
   "name": "python3"
  },
  "language_info": {
   "codemirror_mode": {
    "name": "ipython",
    "version": 3
   },
   "file_extension": ".py",
   "mimetype": "text/x-python",
   "name": "python",
   "nbconvert_exporter": "python",
   "pygments_lexer": "ipython3",
   "version": "3.10.16"
  }
 },
 "nbformat": 4,
 "nbformat_minor": 5
}

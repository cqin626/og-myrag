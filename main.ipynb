{
 "cells": [
  {
   "cell_type": "markdown",
   "id": "23d96d15",
   "metadata": {},
   "source": [
    "## Initializing Project"
   ]
  },
  {
   "cell_type": "code",
   "execution_count": 1,
   "id": "ac8d16e0",
   "metadata": {},
   "outputs": [],
   "source": [
    "import logging\n",
    "import os\n",
    "from dotenv import load_dotenv\n",
    "from pathlib import Path\n",
    "from pprint import pprint"
   ]
  },
  {
   "cell_type": "code",
   "execution_count": 2,
   "id": "551ea65d",
   "metadata": {},
   "outputs": [],
   "source": [
    "# Setting up logging\n",
    "from ogmyrag.my_logging import configure_logger\n",
    "\n",
    "app_logger = configure_logger(name='og-myrag',log_level=logging.DEBUG, log_file='logs/app.log')\n",
    "test_logger = configure_logger(name='mongodb',log_level=logging.DEBUG, log_file='logs/mongodb.log', to_console=False)"
   ]
  },
  {
   "cell_type": "code",
   "execution_count": 3,
   "id": "90262bf0",
   "metadata": {},
   "outputs": [
    {
     "data": {
      "text/plain": [
       "True"
      ]
     },
     "execution_count": 3,
     "metadata": {},
     "output_type": "execute_result"
    }
   ],
   "source": [
    "load_dotenv(override=True)"
   ]
  },
  {
   "cell_type": "code",
   "execution_count": 4,
   "id": "2dc6dfb9",
   "metadata": {},
   "outputs": [],
   "source": [
    "# Testing connection to mongodb\n",
    "\n",
    "from ogmyrag.storage import MongoDBStorage\n",
    "\n",
    "mongo_db_uri = os.getenv(\"MONGO_DB_URI\",\"\")\n",
    "\n",
    "try:\n",
    "    mongo = MongoDBStorage(mongo_db_uri)\n",
    "    mongo.use_database(\"ogmyrag\")\n",
    "    mongo.use_collection(\"company_disclosures\")\n",
    "except Exception as e:\n",
    "    app_logger.error(f\"Could not connect to MongoDB: {str(e)}\")"
   ]
  },
  {
   "cell_type": "markdown",
   "id": "9a10f131",
   "metadata": {},
   "source": [
    "## Uploading Documents to MongoDB"
   ]
  },
  {
   "cell_type": "code",
   "execution_count": null,
   "id": "b0375479",
   "metadata": {},
   "outputs": [
    {
     "name": "stderr",
     "output_type": "stream",
     "text": [
      "2025-04-15 12:59:30,084 - og-myrag - INFO - Document with name 'ADB_PROSPECTUS_SECTION_1' already exists in the database.\n",
      "2025-04-15 12:59:30,166 - og-myrag - INFO - Document with name 'ADB_PROSPECTUS_SECTION_10' already exists in the database.\n",
      "2025-04-15 12:59:30,236 - og-myrag - INFO - Document with name 'ADB_PROSPECTUS_SECTION_2' already exists in the database.\n",
      "2025-04-15 12:59:30,328 - og-myrag - INFO - Document with name 'ADB_PROSPECTUS_SECTION_3' already exists in the database.\n",
      "2025-04-15 12:59:31,035 - og-myrag - INFO - Document with name 'ADB_PROSPECTUS_SECTION_4' already exists in the database.\n",
      "2025-04-15 12:59:31,748 - og-myrag - INFO - Document with name 'ADB_PROSPECTUS_SECTION_5' already exists in the database.\n",
      "2025-04-15 12:59:31,801 - og-myrag - INFO - Document with name 'ADB_PROSPECTUS_SECTION_6' already exists in the database.\n",
      "2025-04-15 12:59:31,978 - og-myrag - INFO - Document with name 'ADB_PROSPECTUS_SECTION_7A' already exists in the database.\n",
      "2025-04-15 12:59:32,095 - og-myrag - INFO - Document with name 'ADB_PROSPECTUS_SECTION_7B' already exists in the database.\n",
      "2025-04-15 12:59:32,217 - og-myrag - INFO - Document with name 'ADB_PROSPECTUS_SECTION_7C' already exists in the database.\n",
      "2025-04-15 12:59:32,418 - og-myrag - INFO - Document with name 'ADB_PROSPECTUS_SECTION_8' already exists in the database.\n",
      "2025-04-15 12:59:32,600 - og-myrag - INFO - Document with name 'ADB_PROSPECTUS_SECTION_9A' already exists in the database.\n",
      "2025-04-15 12:59:32,686 - og-myrag - INFO - Document with name 'ADB_PROSPECTUS_SECTION_9B' already exists in the database.\n"
     ]
    }
   ],
   "source": [
    "from ogmyrag.util import get_formatted_company_data\n",
    "\n",
    "folder_name = \"adb_prospectus\"\n",
    "folder_path = Path.cwd() / folder_name\n",
    "\n",
    "if not folder_path.is_dir():\n",
    "    app_logger.info(f\"Folder '{folder_name}' not found in project root.\")\n",
    "    app_logger.info(f\"Project is terminated\")\n",
    "else:\n",
    "    txt_files = list(folder_path.glob(\"*.txt\"))\n",
    "    if not txt_files:\n",
    "        app_logger.info(\"No .txt files found in the folder.\")\n",
    "    else:\n",
    "        for txt_file in txt_files:\n",
    "            current_data = get_formatted_company_data(\n",
    "                txt_file.read_text(encoding='utf-8'),\n",
    "                txt_file.stem,\n",
    "                \"prospectus\",\n",
    "                \"Autocount Dotcom Berhad\"\n",
    "             )\n",
    "            existing_documents = mongo.read_documents({\"name\": current_data[\"name\"]})\n",
    "            if existing_documents:\n",
    "                app_logger.info(f\"Document with name '{current_data['name']}' already exists in the database.\")\n",
    "            else:\n",
    "                try:\n",
    "                    document_id = mongo.create_document(current_data)\n",
    "                    app_logger.info(f\"Inserted document with name '{current_data['name']}' and id '{document_id}' into the database.\")\n",
    "                except Exception as e:\n",
    "                    app_logger.error(f\"Error inserting document with name '{current_data['name']}': {str(e)}\")"
   ]
  },
  {
   "cell_type": "code",
   "execution_count": null,
   "id": "565fead9",
   "metadata": {},
   "outputs": [],
   "source": []
  },
  {
   "cell_type": "code",
   "execution_count": null,
   "id": "9c125488",
   "metadata": {},
   "outputs": [],
   "source": []
  }
 ],
 "metadata": {
  "kernelspec": {
   "display_name": "ogmyrag",
   "language": "python",
   "name": "python3"
  },
  "language_info": {
   "codemirror_mode": {
    "name": "ipython",
    "version": 3
   },
   "file_extension": ".py",
   "mimetype": "text/x-python",
   "name": "python",
   "nbconvert_exporter": "python",
   "pygments_lexer": "ipython3",
   "version": "3.10.16"
  }
 },
 "nbformat": 4,
 "nbformat_minor": 5
}

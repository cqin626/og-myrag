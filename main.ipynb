{
 "cells": [
  {
   "cell_type": "code",
   "execution_count": 7,
   "id": "ac8d16e0",
   "metadata": {},
   "outputs": [],
   "source": [
    "import logging\n",
    "import os\n",
    "from dotenv import load_dotenv\n",
    "from pprint import pprint"
   ]
  },
  {
   "cell_type": "code",
   "execution_count": 2,
   "id": "551ea65d",
   "metadata": {},
   "outputs": [],
   "source": [
    "# Setting up logging\n",
    "from ogmyrag.my_logging import configure_logger\n",
    "\n",
    "app_logger = configure_logger(name='og-myrag',log_level=logging.DEBUG, log_file='logs/app.log')\n",
    "test_logger = configure_logger(name='mongodb',log_level=logging.DEBUG, log_file='logs/mongodb.log', to_console=False)"
   ]
  },
  {
   "cell_type": "code",
   "execution_count": 3,
   "id": "90262bf0",
   "metadata": {},
   "outputs": [
    {
     "data": {
      "text/plain": [
       "True"
      ]
     },
     "execution_count": 3,
     "metadata": {},
     "output_type": "execute_result"
    }
   ],
   "source": [
    "load_dotenv(override=True)"
   ]
  },
  {
   "cell_type": "code",
   "execution_count": 4,
   "id": "2dc6dfb9",
   "metadata": {},
   "outputs": [],
   "source": [
    "# Testing connection to mongodb\n",
    "\n",
    "from ogmyrag.storage import MongoDBStorage\n",
    "\n",
    "mongo_db_uri = os.getenv(\"MONGO_DB_URI\",\"\")\n",
    "\n",
    "try:\n",
    "    mongo = MongoDBStorage(mongo_db_uri)\n",
    "    mongo.use_database(\"ogmyrag\")\n",
    "    mongo.use_collection(\"entities\")\n",
    "except Exception as e:\n",
    "    app_logger.error(f\"Could not connect to MongoDB: {str(e)}\")"
   ]
  },
  {
   "cell_type": "code",
   "execution_count": 5,
   "id": "37dbf267",
   "metadata": {},
   "outputs": [
    {
     "name": "stderr",
     "output_type": "stream",
     "text": [
      "2025-04-13 18:36:34,188 - og-myrag - INFO - 67fb93b209324f4c16e69f74\n"
     ]
    }
   ],
   "source": [
    "document = {\n",
    "    \"name\": \"Jane Doe\",\n",
    "    \"email\": \"jane.doe@example.com\",\n",
    "    \"age\": 28,\n",
    "    \"is_active\": True,\n",
    "    \"roles\": [\"analyst\", \"admin\"],\n",
    "    \"created_at\": \"2025-04-13T10:00:00Z\"\n",
    "}\n",
    "\n",
    "try:\n",
    "   app_logger.info(mongo.create_document(document))\n",
    "except Exception as e:\n",
    "   app_logger.error(e)"
   ]
  },
  {
   "cell_type": "code",
   "execution_count": 11,
   "id": "b0375479",
   "metadata": {},
   "outputs": [],
   "source": [
    "try:\n",
    "   all_documents = mongo.read_documents()\n",
    "\n",
    "   for doc in all_documents:\n",
    "      pprint(doc)\n",
    "except Exception as e:\n",
    "   app_logger.error(e)"
   ]
  },
  {
   "cell_type": "code",
   "execution_count": 10,
   "id": "565fead9",
   "metadata": {},
   "outputs": [
    {
     "name": "stdout",
     "output_type": "stream",
     "text": [
      "1\n"
     ]
    }
   ],
   "source": [
    "from bson import ObjectId\n",
    "\n",
    "\n",
    "try:\n",
    "   pprint(mongo.delete_document({\"_id\": ObjectId('67fb93b209324f4c16e69f74')}))\n",
    "except Exception as e:\n",
    "   app_logger.error(e)"
   ]
  },
  {
   "cell_type": "code",
   "execution_count": null,
   "id": "9c125488",
   "metadata": {},
   "outputs": [],
   "source": []
  }
 ],
 "metadata": {
  "kernelspec": {
   "display_name": "ogmyrag",
   "language": "python",
   "name": "python3"
  },
  "language_info": {
   "codemirror_mode": {
    "name": "ipython",
    "version": 3
   },
   "file_extension": ".py",
   "mimetype": "text/x-python",
   "name": "python",
   "nbconvert_exporter": "python",
   "pygments_lexer": "ipython3",
   "version": "3.10.16"
  }
 },
 "nbformat": 4,
 "nbformat_minor": 5
}

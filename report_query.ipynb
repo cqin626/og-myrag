{
 "cells": [
  {
   "cell_type": "code",
   "execution_count": null,
   "id": "8fe0d171",
   "metadata": {},
   "outputs": [
    {
     "name": "stderr",
     "output_type": "stream",
     "text": [
      "2025-08-28 13:23:39,515 - query - INFO - \n",
      "================================================================================\n"
     ]
    }
   ],
   "source": [
    "import logging\n",
    "import os\n",
    "import asyncio\n",
    "\n",
    "from ogmyrag.report_retrieval.report_retrieval import ReportRetrievalManager\n",
    "from ogmyrag.report_retrieval.retrieval_storage import RetrievalAsyncStorageManager\n",
    "from ogmyrag.report_scraper.models import ReportType\n",
    "from ogmyrag.my_logging import configure_logger\n",
    "from ogmyrag.storage import PineconeStorage\n",
    "from ogmyrag.report_retrieval.report_chunker import rag_answer_with_company_detection\n",
    "\n",
    "from dotenv import load_dotenv\n",
    "\n",
    "retrieval_logger = configure_logger(name='query',log_level=logging.INFO, log_file='logs/query.log')\n",
    "retrieval_logger.info(\"\\n\" + \"=\" * 80)\n",
    "\n",
    "load_dotenv(override=True)\n",
    "\n",
    "mongo_db_uri = os.getenv(\"MONGO_DB_URI_JJ\",\"\")\n",
    "pinecone_api_key = os.getenv(\"PINECONE_API_KEY_JJ\",\"\")\n",
    "genai_api_key = os.getenv(\"GENAI_API_KEY_JJ\",\"\")\n",
    "openai_api_key = os.getenv(\"OPENAI_API_KEY\", \"\")\n",
    "\n",
    "INDEX_NAME = \"company-disclosures-index\"\n",
    "EMBED_MODEL = \"text-embedding-3-small\"\n",
    "DIMENSION = 1536\n",
    "GENAI_MODEL = \"gemini-2.5-pro\"\n",
    "#GENAI_MODEL = \"gemini-2.5-flash\"\n",
    "OPENAI_MODEL = \"gpt-5-nano\"\n",
    "\n",
    "db_name = \"FYP\"\n",
    "storage = RetrievalAsyncStorageManager(mongo_uri=mongo_db_uri, db_name=db_name)\n",
    "\n",
    "\n",
    "pine = PineconeStorage(\n",
    "    pinecone_api_key = pinecone_api_key,\n",
    "    openai_api_key = openai_api_key\n",
    ")\n",
    "\n",
    "pine.create_index_if_not_exists(\n",
    "    index_name=entity_vector_config[\"index_name\"],\n",
    "    dimension=entity_vector_config[\"pinecone_dimensions\"],\n",
    "    metric=entity_vector_config[\"pinecone_metric\"],\n",
    "    cloud=entity_vector_config[\"pinecone_cloud\"],\n",
    "    region=entity_vector_config[\"pinecone_environment\"],\n",
    ")\n",
    "\n",
    "pine = PineconeStorage(\n",
    "    index_name = INDEX_NAME,\n",
    "    pinecone_api_key = pinecone_api_key,\n",
    "    pinecone_environment = \"us-east-1\",\n",
    "    pinecone_cloud = \"aws\",\n",
    "    pinecone_metric = \"cosine\",\n",
    "    pinecone_dimensions = DIMENSION,\n",
    "    openai_api_key = openai_api_key\n",
    ")"
   ]
  },
  {
   "cell_type": "markdown",
   "id": "8a1177df",
   "metadata": {},
   "source": [
    "## Simple User Query"
   ]
  },
  {
   "cell_type": "code",
   "execution_count": 2,
   "id": "6ed39024",
   "metadata": {},
   "outputs": [
    {
     "name": "stderr",
     "output_type": "stream",
     "text": [
      "2025-08-28 13:23:47,217 - query - INFO - RAG start | query='What is revenue for this company?' | top_k=5\n",
      "2025-08-28 13:23:49,786 - query - INFO - Catalog companies (6): ['AUTOCOUNT_DOTCOM_BERHAD', 'CABNET_HOLDINGS_BERHAD', 'EDELTEQ_HOLDINGS_BERHAD', 'FARM_FRESH_BERHAD', 'ICT_ZONE_ASIA_BERHAD', 'VETECE_HOLDINGS_BERHAD']\n",
      "2025-08-28 13:23:55,047 - query - INFO - Detected company: None\n",
      "2025-08-28 13:23:55,048 - query - INFO - Search query unchanged.\n",
      "2025-08-28 13:23:55,048 - query - INFO - Query filter: {}\n",
      "2025-08-28 13:24:13,718 - query - INFO - Final answer: \n",
      "\n",
      "VETECE_HOLDINGS_BERHAD\n",
      "- Latest revenue (FPE 2024): RM 11,265,000 (Total revenue)\n",
      "\n",
      "EDELTEQ_HOLDINGS_BERHAD\n",
      "- Not found in provided documents.\n",
      "\n",
      "ICT_ZONE_ASIA_BERHAD\n",
      "- Revenue (FYE 2024, Company): RM 114,428,000 (Total revenue)\n",
      "\n",
      "AUTOCOUNT_DOTCOM_BERHAD\n",
      "- Revenue (Company 2024): RM 11,010,000\n",
      "\n",
      "\n",
      "2025-08-28 13:24:13,720 - query - INFO - Token usage | total = 7466\n"
     ]
    }
   ],
   "source": [
    "out = await rag_answer_with_company_detection(\n",
    "    pine,\n",
    "    query = \"What is revenue for this company?\",\n",
    "    top_k = 5\n",
    ")"
   ]
  },
  {
   "cell_type": "code",
   "execution_count": 5,
   "id": "b7d60bda",
   "metadata": {},
   "outputs": [
    {
     "name": "stderr",
     "output_type": "stream",
     "text": [
      "2025-08-27 11:57:27,006 - retrieval - INFO - RAG start | query='What is farm fresh management’s strategy for growth over the next 3–5 years?' | top_k=5\n",
      "2025-08-27 11:57:27,570 - retrieval - INFO - Catalog companies (6): ['AUTOCOUNT_DOTCOM_BERHAD', 'CABNET_HOLDINGS_BERHAD', 'EDELTEQ_HOLDINGS_BERHAD', 'FARM_FRESH_BERHAD', 'ICT_ZONE_ASIA_BERHAD', 'VETECE_HOLDINGS_BERHAD']\n",
      "2025-08-27 11:57:44,240 - retrieval - INFO - Detected company: 'FARM_FRESH_BERHAD'\n",
      "2025-08-27 11:57:44,243 - retrieval - INFO - Search query normalized: 'What is farm fresh management’s strategy for growth over the next 3–5 years?' → \"What is the company's strategy for growth over the next 3–5 years?\"\n",
      "2025-08-27 11:57:44,243 - retrieval - INFO - Query filter: {'from_company': 'FARM_FRESH_BERHAD'}\n",
      "2025-08-27 11:57:58,769 - retrieval - INFO - Final answer: \n",
      "\n",
      "- Product portfolio expansion: Focus on developing and diversifying products (CPG ice cream via the Inside Scoop brand by Aug 2024; expanding into plant-based yoghurt; exploring non-dairy packaged foods; introducing local butter to complement existing dairy lines). Plans also include continuing to grow the Farm Fresh Grow range and entering new categories such as chocolate malt beverages, cultured milk, and other new SKUs.\n",
      "- Capacity and capabilities expansion in Malaysia: Invest to grow production capacity and capabilities across the Malaysian value chain, increase automation to improve efficiency, and launch new products (e.g., butter, cultured milk) in FY2025.\n",
      "- International expansion: Leverage opportunities to extend market footprint internationally as part of sustaining growth over the 3–5 year horizon.\n",
      "\n",
      "\n",
      "2025-08-27 11:57:58,770 - retrieval - INFO - Token usage | total=5679\n"
     ]
    }
   ],
   "source": [
    "out = await rag_answer_with_company_detection(\n",
    "    pine,\n",
    "    query = \"What is farm fresh management’s strategy for growth over the next 3–5 years?\",\n",
    "    top_k = 5\n",
    ")"
   ]
  },
  {
   "cell_type": "code",
   "execution_count": 2,
   "id": "db9b9c4d",
   "metadata": {},
   "outputs": [
    {
     "name": "stderr",
     "output_type": "stream",
     "text": [
      "2025-08-27 12:07:42,060 - retrieval - INFO - RAG start | query='Who is Joyce Wong Ai May? What is his/her position? Elaborate more' | top_k=5\n",
      "2025-08-27 12:07:44,310 - retrieval - INFO - Catalog companies (6): ['AUTOCOUNT_DOTCOM_BERHAD', 'CABNET_HOLDINGS_BERHAD', 'EDELTEQ_HOLDINGS_BERHAD', 'FARM_FRESH_BERHAD', 'ICT_ZONE_ASIA_BERHAD', 'VETECE_HOLDINGS_BERHAD']\n",
      "2025-08-27 12:07:48,327 - retrieval - INFO - Detected company: None\n",
      "2025-08-27 12:07:48,328 - retrieval - INFO - Search query unchanged.\n",
      "2025-08-27 12:07:48,329 - retrieval - INFO - Query filter: {}\n",
      "2025-08-27 12:08:02,078 - retrieval - INFO - Final answer: \n",
      "\n",
      "- Joyce Wong Ai May is an Independent Non-Executive Director of Edelteq Holdings Berhad; appointed to the Board on 1 August 2022. She is Malaysian, aged 47.\n",
      "\n",
      "- Education and professional background:\n",
      "  - Bachelor of Commerce, University of Tasmania (Dec 1998)\n",
      "  - Accountant by profession; CPA Australia since Jan 2003\n",
      "  - Member of the Malaysian Institute of Accountants since Sep 2016\n",
      "  - Member of the Institute of Internal Auditors Malaysia since Mar 2018\n",
      "\n",
      "- Corporate directory listing:\n",
      "  - Designation: Chairman\n",
      "  - Directorship: Independent Non-Executive Director\n",
      "\n",
      "- Other notable roles:\n",
      "  - Co-founded Desa Janajaya Sdn Bhd (agrotechnology solutions) in Aug 2016; as at the LPD, Director of Desa Janajaya Sdn Bhd\n",
      "  - Equity in Desa Janajaya Sdn Bhd: 33.33% direct and 33.33% indirect\n",
      "  - Note: Deemed interested by virtue of her spouse’s shareholdings in Desa Janajaya Sdn Bhd pursuant to Section 8 of the Act.\n",
      "\n",
      "\n",
      "2025-08-27 12:08:02,079 - retrieval - INFO - Token usage | total=5110\n"
     ]
    }
   ],
   "source": [
    "out = await rag_answer_with_company_detection(\n",
    "    pine,\n",
    "    query = \"Who is Joyce Wong Ai May? What is his/her position? Elaborate more\",\n",
    "    top_k = 5\n",
    ")"
   ]
  },
  {
   "cell_type": "code",
   "execution_count": 3,
   "id": "f06842ed",
   "metadata": {},
   "outputs": [
    {
     "name": "stderr",
     "output_type": "stream",
     "text": [
      "2025-08-27 12:08:21,470 - retrieval - INFO - RAG start | query='Who is Liew Soung Yue? What is his/her position? Elaborate more' | top_k=5\n",
      "2025-08-27 12:08:22,282 - retrieval - INFO - Catalog companies (6): ['AUTOCOUNT_DOTCOM_BERHAD', 'CABNET_HOLDINGS_BERHAD', 'EDELTEQ_HOLDINGS_BERHAD', 'FARM_FRESH_BERHAD', 'ICT_ZONE_ASIA_BERHAD', 'VETECE_HOLDINGS_BERHAD']\n",
      "2025-08-27 12:08:27,041 - retrieval - INFO - Detected company: None\n",
      "2025-08-27 12:08:27,042 - retrieval - INFO - Search query unchanged.\n",
      "2025-08-27 12:08:27,042 - retrieval - INFO - Query filter: {}\n",
      "2025-08-27 12:08:33,375 - retrieval - INFO - Final answer: \n",
      "\n",
      "- Liew Soung Yue is an Independent Non-Executive Director of AutoCount DotCom Berhad.\n",
      "- Board appointment: Appointed to the Board on 6 April 2022.\n",
      "- Committee roles: Chairman of the Nomination Committee; member of the Audit and Risk Management Committee and the Remuneration Committee.\n",
      "- Education: Doctor of Philosophy (Information Engineering) from The Chinese University of Hong Kong, 1999.\n",
      "- Background: Malaysian, aged 53.\n",
      "\n",
      "\n",
      "2025-08-27 12:08:33,377 - retrieval - INFO - Token usage | total=4056\n"
     ]
    }
   ],
   "source": [
    "out = await rag_answer_with_company_detection(\n",
    "    pine,\n",
    "    query = \"Who is Liew Soung Yue? What is his/her position? Elaborate more\",\n",
    "    top_k = 5\n",
    ")"
   ]
  },
  {
   "cell_type": "code",
   "execution_count": 4,
   "id": "213567cb",
   "metadata": {},
   "outputs": [
    {
     "name": "stderr",
     "output_type": "stream",
     "text": [
      "2025-08-27 12:08:46,790 - retrieval - INFO - RAG start | query='Who are the board of directors of AutoCount? Tell more story or background about each of them.' | top_k=5\n",
      "2025-08-27 12:08:47,632 - retrieval - INFO - Catalog companies (6): ['AUTOCOUNT_DOTCOM_BERHAD', 'CABNET_HOLDINGS_BERHAD', 'EDELTEQ_HOLDINGS_BERHAD', 'FARM_FRESH_BERHAD', 'ICT_ZONE_ASIA_BERHAD', 'VETECE_HOLDINGS_BERHAD']\n",
      "2025-08-27 12:08:55,147 - retrieval - INFO - Detected company: 'AUTOCOUNT_DOTCOM_BERHAD'\n",
      "2025-08-27 12:08:55,148 - retrieval - INFO - Search query normalized: 'Who are the board of directors of AutoCount? Tell more story or background about each of them.' → 'Who are the board of directors of the company? Tell more story or background about each of them.'\n",
      "2025-08-27 12:08:55,149 - retrieval - INFO - Query filter: {'from_company': 'AUTOCOUNT_DOTCOM_BERHAD'}\n",
      "2025-08-27 12:09:12,354 - retrieval - INFO - Final answer: \n",
      "\n",
      "AUTOCOUNT_DOTCOM_BERHAD — Board of Directors (Directors)\n",
      "\n",
      "- Choo Chin Peng (CCP) — Executive Director / Chairman\n",
      "  - Background: \"The organizational chart shows the Board of Directors at the top level. Reporting to the board are Choo Chin Peng (Executive Director/Chairman) and Choo Yan Tiee (Executive Director/Managing Director).\" Also noted: \"Our Managing Director and Executive Chairman ... have approximately 27 years of experience in the finance management software industry.\"\n",
      "\n",
      "- Choo Yan Tiee (CYT) — Executive Director / Managing Director\n",
      "  - Background: Same context as CCP, with CYT identified as \"Executive Director/Managing Director\" and sharing the same ~27 years of industry experience.\n",
      "\n",
      "- Dato’ Ng Wan Peng — Independent Non-Executive Director\n",
      "\n",
      "- Dr. Liew Soung Yue — Independent Non-Executive Director\n",
      "\n",
      "- Chin Chee Seng — Independent Non-Executive Director\n",
      "\n",
      "Note: Further details on the Directors and Key Senior Management are set out in Section 9.2 and Section 9.3 of the Prospectus.\n",
      "\n",
      "\n",
      "2025-08-27 12:09:12,355 - retrieval - INFO - Token usage | total=7138\n"
     ]
    }
   ],
   "source": [
    "out = await rag_answer_with_company_detection(\n",
    "    pine,\n",
    "    query = \"Who are the board of directors of AutoCount? Tell more story or background about each of them.\",\n",
    "    top_k = 5\n",
    ")"
   ]
  },
  {
   "cell_type": "code",
   "execution_count": 4,
   "id": "7daa9d77",
   "metadata": {},
   "outputs": [
    {
     "name": "stderr",
     "output_type": "stream",
     "text": [
      "2025-08-27 19:42:23,422 - query - INFO - RAG start | query='What are the mission and vision of EDELTEQ?' | top_k=5\n",
      "2025-08-27 19:42:25,816 - query - INFO - Catalog companies (6): ['AUTOCOUNT_DOTCOM_BERHAD', 'CABNET_HOLDINGS_BERHAD', 'EDELTEQ_HOLDINGS_BERHAD', 'FARM_FRESH_BERHAD', 'ICT_ZONE_ASIA_BERHAD', 'VETECE_HOLDINGS_BERHAD']\n",
      "2025-08-27 19:42:32,845 - query - INFO - Detected company: 'EDELTEQ_HOLDINGS_BERHAD'\n",
      "2025-08-27 19:42:32,846 - query - INFO - Search query normalized: 'What are the mission and vision of EDELTEQ?' → 'What are the mission and vision of the company?'\n",
      "2025-08-27 19:42:32,846 - query - INFO - Query filter: {'from_company': 'EDELTEQ_HOLDINGS_BERHAD'}\n",
      "2025-08-27 19:42:41,156 - query - INFO - Final answer: \n",
      "\n",
      "- Vision: \"to convert all our customers’ manufacturing ideas into reality; and enhance their manufacturing process & system efficiency.\"\n",
      "- Mission: \"to bring Value propositions, Innovative solutions and Niche processes to support semiconductor manufacturing needs and related industries around the world.\"\n",
      "\n",
      "\n",
      "2025-08-27 19:42:41,158 - query - INFO - Token usage | total = 3794\n"
     ]
    }
   ],
   "source": [
    "out = await rag_answer_with_company_detection(\n",
    "    pine,\n",
    "    query = \"What are the mission and vision of EDELTEQ?\",\n",
    "    top_k = 5\n",
    ")"
   ]
  },
  {
   "cell_type": "code",
   "execution_count": null,
   "id": "60963d21",
   "metadata": {},
   "outputs": [
    {
     "name": "stderr",
     "output_type": "stream",
     "text": [
      "2025-08-26 12:05:49,090 - retrieval - INFO - RAG start | query='What the company CABNET do?' | top_k=5\n",
      "2025-08-26 12:05:49,670 - retrieval - INFO - Catalog companies (6): ['AUTOCOUNT_DOTCOM_BERHAD', 'CABNET_HOLDINGS_BERHAD', 'EDELTEQ_HOLDINGS_BERHAD', 'FARM_FRESH_BERHAD', 'ICT_ZONE_ASIA_BERHAD', 'VETECE_HOLDINGS_BERHAD']\n",
      "2025-08-26 12:06:00,430 - retrieval - INFO - Detected company: 'CABNET_HOLDINGS_BERHAD'\n",
      "2025-08-26 12:06:00,431 - retrieval - INFO - Search query normalized: 'What the company CABNET do?' → 'What the company do?'\n",
      "2025-08-26 12:06:00,432 - retrieval - INFO - Query filter: {'from_company': 'CABNET_HOLDINGS_BERHAD'}\n",
      "2025-08-26 12:06:05,128 - retrieval - INFO - Final answer: \n",
      "\n",
      "Cabnet Holdings Berhad provides building management solutions, including structured cabling works and ELV systems for buildings and facilities, and IT services. Their activities cover design, supply, build, testing and commissioning, plus project management, training, maintenance and aftersales services.\n",
      "\n",
      "\n",
      "2025-08-26 12:06:05,130 - retrieval - INFO - Token usage | detect={'prompt_tokens': 352, 'completion_tokens': 1634, 'total_tokens': 1986} | answer={'prompt_tokens': 1877, 'completion_tokens': 574, 'total_tokens': 2451} | total=4437\n"
     ]
    }
   ],
   "source": [
    "out = await rag_answer_with_company_detection(\n",
    "    pine,\n",
    "    query = \"What the company CABNET do?\",\n",
    "    top_k = 5\n",
    ")"
   ]
  },
  {
   "cell_type": "code",
   "execution_count": 7,
   "id": "3b7f51ab",
   "metadata": {},
   "outputs": [
    {
     "name": "stderr",
     "output_type": "stream",
     "text": [
      "2025-08-27 12:10:16,796 - retrieval - INFO - RAG start | query='What is the vision and mission of farm fresh?' | top_k=8\n",
      "2025-08-27 12:10:17,351 - retrieval - INFO - Catalog companies (6): ['AUTOCOUNT_DOTCOM_BERHAD', 'CABNET_HOLDINGS_BERHAD', 'EDELTEQ_HOLDINGS_BERHAD', 'FARM_FRESH_BERHAD', 'ICT_ZONE_ASIA_BERHAD', 'VETECE_HOLDINGS_BERHAD']\n",
      "2025-08-27 12:10:25,862 - retrieval - INFO - Detected company: 'FARM_FRESH_BERHAD'\n",
      "2025-08-27 12:10:25,863 - retrieval - INFO - Search query normalized: 'What is the vision and mission of farm fresh?' → 'What is the vision and mission of the company?'\n",
      "2025-08-27 12:10:25,864 - retrieval - INFO - Query filter: {'from_company': 'FARM_FRESH_BERHAD'}\n",
      "2025-08-27 12:10:35,477 - retrieval - INFO - Final answer: \n",
      "\n",
      "- Vision\n",
      "  - \"TO BE A SUSTAINABLE AND HONEST FOOD COMPANY THAT HAS AN INGRAINED CULTURE OF PLACING THE WELL-BEING OF CONSUMERS FIRST, CULMINATING IN STRONG BRAND LOVE.\" \n",
      "\n",
      "- Mission\n",
      "  - \"Diversifying our product portfolio to capture a wide, addressable market with different functional and nutritional needs, supported by a culture of innovation whilst being honest and meticulous with our ingredients based on the functional and nutritional needs of customers.\"\n",
      "  - \"Being ethical and truthful in our labelling and marketing practices to foster strong brand trust.\"\n",
      "  - \"Practising certified-humane farming practices at our dairy farms and achieving high-yielding tropical dairy farming with our Australian Friesian Sahiwal (AFS) breed, including via continuous breed improvement utilising in vitro fertilisation (IVF).\"\n",
      "  - \"Enhancing our environmental stewardship by implementing regenerative agriculture processes that treat dairy manure for reuse in our farm operations.\"\n",
      "  - \"Championing socially inclusive efforts such as the home dealer network and creating rural employment.\"\n",
      "\n",
      "\n",
      "2025-08-27 12:10:35,479 - retrieval - INFO - Token usage | total=5768\n"
     ]
    }
   ],
   "source": [
    "out = await rag_answer_with_company_detection(\n",
    "    pine,\n",
    "    query = \"What is the vision and mission of farm fresh?\",\n",
    "    top_k = 8\n",
    ")"
   ]
  }
 ],
 "metadata": {
  "kernelspec": {
   "display_name": "myenv",
   "language": "python",
   "name": "python3"
  },
  "language_info": {
   "codemirror_mode": {
    "name": "ipython",
    "version": 3
   },
   "file_extension": ".py",
   "mimetype": "text/x-python",
   "name": "python",
   "nbconvert_exporter": "python",
   "pygments_lexer": "ipython3",
   "version": "3.10.18"
  }
 },
 "nbformat": 4,
 "nbformat_minor": 5
}

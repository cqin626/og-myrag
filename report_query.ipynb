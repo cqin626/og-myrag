{
 "cells": [
  {
   "cell_type": "code",
   "execution_count": 1,
   "id": "8fe0d171",
   "metadata": {},
   "outputs": [
    {
     "name": "stderr",
     "output_type": "stream",
     "text": [
      "2025-09-10 01:49:26,809 - query - INFO - \n",
      "================================================================================\n"
     ]
    }
   ],
   "source": [
    "import logging\n",
    "import os\n",
    "import asyncio\n",
    "\n",
    "from ogmyrag.report_retrieval.report_retrieval import ReportRetrievalManager\n",
    "from ogmyrag.report_retrieval.retrieval_storage import RetrievalAsyncStorageManager\n",
    "from ogmyrag.base import PineconeStorageConfig\n",
    "from ogmyrag.report_scraper.models import ReportType\n",
    "from ogmyrag.my_logging import configure_logger\n",
    "from ogmyrag.storage import PineconeStorage\n",
    "from ogmyrag.report_retrieval.report_chunker import rag_answer_with_company_detection\n",
    "\n",
    "from dotenv import load_dotenv\n",
    "\n",
    "retrieval_logger = configure_logger(name='query',log_level=logging.INFO, log_file='logs/query.log')\n",
    "retrieval_logger.info(\"\\n\" + \"=\" * 80)\n",
    "\n",
    "load_dotenv(override=True)\n",
    "\n",
    "mongo_db_uri = os.getenv(\"MONGO_DB_URI_JJ\",\"\")\n",
    "pinecone_api_key = os.getenv(\"PINECONE_API_KEY_JJ\",\"\")\n",
    "genai_api_key = os.getenv(\"GENAI_API_KEY_JJ\",\"\")\n",
    "openai_api_key = os.getenv(\"OPENAI_API_KEY\", \"\")\n",
    "\n",
    "INDEX_NAME = \"company-disclosures-index\"\n",
    "EMBED_MODEL = \"text-embedding-3-small\"\n",
    "DIMENSION = 1536\n",
    "GENAI_MODEL = \"gemini-2.5-pro\"\n",
    "#GENAI_MODEL = \"gemini-2.5-flash\"\n",
    "OPENAI_MODEL = \"gpt-5-nano\"\n",
    "\n",
    "\n",
    "\n",
    "pinecone_config: PineconeStorageConfig = {\n",
    "    \"index_name\": INDEX_NAME,\n",
    "    \"pinecone_api_key\": pinecone_api_key,\n",
    "    \"pinecone_environment\": \"us-east-1\",\n",
    "    \"pinecone_cloud\": \"aws\",\n",
    "    \"pinecone_metric\": \"cosine\",\n",
    "    \"pinecone_dimensions\": DIMENSION,\n",
    "    \"openai_api_key\": openai_api_key,\n",
    "}\n",
    "\n",
    "pine = PineconeStorage(\n",
    "    pinecone_api_key = pinecone_api_key,\n",
    "    openai_api_key = openai_api_key\n",
    ")\n",
    "\n",
    "pine.create_index_if_not_exists(\n",
    "    index_name = pinecone_config[\"index_name\"],\n",
    "    dimension = pinecone_config[\"pinecone_dimensions\"],\n",
    "    metric = pinecone_config[\"pinecone_metric\"],\n",
    "    cloud = pinecone_config[\"pinecone_cloud\"],\n",
    "    region = pinecone_config[\"pinecone_environment\"],\n",
    ")\n"
   ]
  },
  {
   "cell_type": "markdown",
   "id": "8a1177df",
   "metadata": {},
   "source": [
    "## Simple User Query"
   ]
  },
  {
   "cell_type": "code",
   "execution_count": 2,
   "id": "07016642",
   "metadata": {},
   "outputs": [
    {
     "name": "stderr",
     "output_type": "stream",
     "text": [
      "2025-09-09 20:12:36,968 - query - INFO - RAG start | query='what does cabnet holdings do? elaborate' | top_k=10\n",
      "2025-09-09 20:12:41,710 - query - INFO - Catalog companies (14): ['AEMULUS_HOLDINGS_BERHAD', 'AUTOCOUNT_DOTCOM_BERHAD', 'CABNET_HOLDINGS_BERHAD', 'CENTURY_SOFTWARE_HOLDINGS_BERHAD', 'ECA_INTEGRATED_SOLUTION_BERHAD', 'EDELTEQ_HOLDINGS_BERHAD', 'FARM_FRESH_BERHAD', 'I-STONE_GROUP_BERHAD', 'ICT_ZONE_ASIA_BERHAD', 'RAMSSOL_GROUP_BERHAD', 'SFP_TECH_HOLDINGS_BERHAD', 'TT_VISION_HOLDINGS_BERHAD', 'VETECE_HOLDINGS_BERHAD', 'VITROX_CORPORATION_BERHAD']\n",
      "2025-09-09 20:12:47,873 - query - INFO - Detected company: 'CABNET_HOLDINGS_BERHAD'\n",
      "2025-09-09 20:12:47,874 - query - INFO - Search query normalized: 'what does cabnet holdings do? elaborate' → 'what does the company do? elaborate'\n",
      "2025-09-09 20:12:47,875 - query - INFO - Query filter: {'from_company': 'CABNET_HOLDINGS_BERHAD'}\n",
      "2025-09-09 20:13:19,097 - query - INFO - Final answer: \n",
      "\n",
      "## Overview\n",
      "Based on the provided documents for Cabnet Holdings Berhad, the company is described in financial statements as an investment holding company. However, the management discussion presents the group as active in building management solutions, including structured cabling, ELV systems, and ICT services, indicating broader operational activities. The two descriptions reflect different document contexts within the same group. [src: CABNET_HOLDINGS_BERHAD_ANNUAL_2019_SECTION_14_CHUNK_124], [src: CABNET_HOLDINGS_BERHAD_ANNUAL_2018_SECTION_7_CHUNK_1], [src: CABNET_HOLDINGS_BERHAD_ANNUAL_2025_SECTION_13_CHUNK_107], [src: CABNET_HOLDINGS_BERHAD_ANNUAL_2024_SECTION_13_CHUNK_69]\n",
      "\n",
      "## Details\n",
      "- Investment holding description\n",
      "  - \"The Company is principally engaged in the business of investment holding.\" [src: CABNET_HOLDINGS_BERHAD_ANNUAL_2019_SECTION_14_CHUNK_124]\n",
      "  - \"The Company is principally engaged in the business of investment holding.\" [src: CABNET_HOLDINGS_BERHAD_ANNUAL_2018_SECTION_14_CHUNK_90]\n",
      "  - \"The principal activities of the Company are those of investment holding.\" [src: CABNET_HOLDINGS_BERHAD_ANNUAL_2025_SECTION_13_CHUNK_107]\n",
      "  - \"The principal activities of the Company are those of investment holding.\" [src: CABNET_HOLDINGS_BERHAD_ANNUAL_2024_SECTION_13_CHUNK_69]\n",
      "  - \"The Company is principally engaged in the business of investment holding.\" [src: CABNET_HOLDINGS_BERHAD_ANNUAL_2020_SECTION_14_CHUNK_33]\n",
      "  - \"The Company is principally engaged in the business of investment holding.\" [src: CABNET_HOLDINGS_BERHAD_ANNUAL_2017_SECTION_14_CHUNK_72]\n",
      "\n",
      "- Operational/building management solutions description\n",
      "  - \"The Group ... is principally involved in the provision of building management solutions, where our core business segments comprise structured cabling works and Extra Low Voltage (“ELV”) systems for buildings and other facilities. ... The activities are interconnected: 'Installation & Maintenance' links ELV Systems and Structured Cabling. 'Software integration' links ICT Services and ELV Systems.\" [src: CABNET_HOLDINGS_BERHAD_ANNUAL_2018_SECTION_7_CHUNK_1]\n",
      "  - \"The Group also provides Information and Communication Technology (“ICT”) services which can be offered as complementary to our building management solutions or offered separately on a standalone basis.\" [src: CABNET_HOLDINGS_BERHAD_ANNUAL_2018_SECTION_7_CHUNK_1]\n",
      "\n",
      "- Note on subsidiary activities (contextual detail)\n",
      "  - \"The principal activities of the subsidiary companies are described in Note 7 to the financial statements.\" [src: CABNET_HOLDINGS_BERHAD_ANNUAL_2019_SECTION_14_CHUNK_124]\n",
      "  - (Similar note appears in related year documents.)\n",
      "\n",
      "- Conflict recognition\n",
      "  - The documents present two descriptions for the same group: investment-holding activities in financial statements vs. active operating activities in building management solutions (with ICT services). See citations above for both descriptions. [src: CABNET_HOLDINGS_BERHAD_ANNUAL_2019_SECTION_14_CHUNK_124], [src: CABNET_HOLDINGS_BERHAD_ANNUAL_2018_SECTION_7_CHUNK_1], [src: CABNET_HOLDINGS_BERHAD_ANNUAL_2025_SECTION_13_CHUNK_107], [src: CABNET_HOLDINGS_BERHAD_ANNUAL_2024_SECTION_13_CHUNK_69]\n",
      "\n",
      "## Metrics & Dates\n",
      "- Not stated in provided documents. (No standalone operational metrics or timelines are given to quantify activities beyond the descriptive statements above.)\n",
      "- Derived observations (not required to compute): None available beyond the explicit statements cited.\n",
      "\n",
      "## Evidence (verbatim)\n",
      "- \"The Company is principally engaged in the business of investment holding.\" [src: CABNET_HOLDINGS_BERHAD_ANNUAL_2019_SECTION_14_CHUNK_124]\n",
      "- \"The principal activities of the Company are those of investment holding.\" [src: CABNET_HOLDINGS_BERHAD_ANNUAL_2025_SECTION_13_CHUNK_107]\n",
      "- \"The principal activities of the Company are those of investment holding.\" [src: CABNET_HOLDINGS_BERHAD_ANNUAL_2024_SECTION_13_CHUNK_69]\n",
      "- \"The Group ... is principally involved in the provision of building management solutions, where our core business segments comprise structured cabling works and Extra Low Voltage (“ELV”) systems for buildings and other facilities.\" [src: CABNET_HOLDINGS_BERHAD_ANNUAL_2018_SECTION_7_CHUNK_1]\n",
      "- \"The Group also provides Information and Communication Technology (“ICT”) services which can be offered as complementary to our building management solutions or offered separately on a standalone basis.\" [src: CABNET_HOLDINGS_BERHAD_ANNUAL_2018_SECTION_7_CHUNK_1]\n",
      "- \"The principal activities of the subsidiary companies are described in Note 7 to the financial statements.\" [src: CABNET_HOLDINGS_BERHAD_ANNUAL_2019_SECTION_14_CHUNK_124]\n",
      "\n",
      "## Limitations / Unknowns\n",
      "- Not stated in provided documents. \n",
      "- If you want a single, unified description, the current sources do not reconcile the investment-holding view with the operating-building-solutions view; both descriptions are evidenced in the provided materials. [src: CABNET_HOLDINGS_BERHAD_ANNUAL_2019_SECTION_14_CHUNK_124], [src: CABNET_HOLDINGS_BERHAD_ANNUAL_2018_SECTION_7_CHUNK_1]\n",
      "\n",
      "\n",
      "2025-09-09 20:13:19,098 - query - INFO - Token usage | total = 8027\n"
     ]
    }
   ],
   "source": [
    "out = await rag_answer_with_company_detection(\n",
    "    pine,\n",
    "    pinecone_config = pinecone_config,\n",
    "    query = \"what does cabnet holdings do? elaborate\",\n",
    "    top_k = 10\n",
    ")"
   ]
  },
  {
   "cell_type": "code",
   "execution_count": 3,
   "id": "040bb512",
   "metadata": {},
   "outputs": [
    {
     "name": "stderr",
     "output_type": "stream",
     "text": [
      "2025-09-09 20:13:36,866 - query - INFO - RAG start | query='who are the board directors of cabnet?' | top_k=20\n",
      "2025-09-09 20:13:40,071 - query - INFO - Catalog companies (14): ['AEMULUS_HOLDINGS_BERHAD', 'AUTOCOUNT_DOTCOM_BERHAD', 'CABNET_HOLDINGS_BERHAD', 'CENTURY_SOFTWARE_HOLDINGS_BERHAD', 'ECA_INTEGRATED_SOLUTION_BERHAD', 'EDELTEQ_HOLDINGS_BERHAD', 'FARM_FRESH_BERHAD', 'I-STONE_GROUP_BERHAD', 'ICT_ZONE_ASIA_BERHAD', 'RAMSSOL_GROUP_BERHAD', 'SFP_TECH_HOLDINGS_BERHAD', 'TT_VISION_HOLDINGS_BERHAD', 'VETECE_HOLDINGS_BERHAD', 'VITROX_CORPORATION_BERHAD']\n",
      "2025-09-09 20:13:48,200 - query - INFO - Detected company: 'CABNET_HOLDINGS_BERHAD'\n",
      "2025-09-09 20:13:48,202 - query - INFO - Search query normalized: 'who are the board directors of cabnet?' → 'Who are the board directors of the company?'\n",
      "2025-09-09 20:13:48,203 - query - INFO - Query filter: {'from_company': 'CABNET_HOLDINGS_BERHAD'}\n",
      "2025-09-09 20:14:19,559 - query - INFO - Final answer: \n",
      "\n",
      "## Overview\n",
      "According to the 2019 Corporate Information for Cabnet Holdings Berhad, the board comprises eight directors. The chair is Datuk Tan Kok Hong @ Tan Yi, with a mix of executive and independent non-executive directors listed as follows. [src: CABNET_HOLDINGS_BERHAD_ANNUAL_2019_SECTION_2_CHUNK_4, p. 7]\n",
      "\n",
      "## Details\n",
      "- Datuk Tan Kok Hong @ Tan Yi — Chairman, Independent Non-Executive Director. [src: CABNET_HOLDINGS_BERHAD_ANNUAL_2019_SECTION_2_CHUNK_4, p. 7]\n",
      "- Tay Hong Sing — Chief Executive Officer, Executive Director. [src: CABNET_HOLDINGS_BERHAD_ANNUAL_2019_SECTION_2_CHUNK_4, p. 7]\n",
      "- Tan Boon Siang — Deputy Chief Executive Officer, Executive Director. [src: CABNET_HOLDINGS_BERHAD_ANNUAL_2019_SECTION_2_CHUNK_4, p. 7]\n",
      "- Yong Thiam Yuen — Chief Operating Officer, Executive Director. [src: CABNET_HOLDINGS_BERHAD_ANNUAL_2019_SECTION_2_CHUNK_4, p. 7]\n",
      "- Dato’ Jeffrey Lai Jiun Jye — Executive Director. [src: CABNET_HOLDINGS_BERHAD_ANNUAL_2019_SECTION_2_CHUNK_4, p. 7]\n",
      "- Abdul Mutalib Bin Idris — Senior Independent Non-Executive Director. [src: CABNET_HOLDINGS_BERHAD_ANNUAL_2019_SECTION_2_CHUNK_4, p. 7]\n",
      "- Vincent Wong Soon Choy — Independent Non-Executive Director. [src: CABNET_HOLDINGS_BERHAD_ANNUAL_2019_SECTION_2_CHUNK_4, p. 7]\n",
      "- Meachery Jo-anne Joseph — Independent Non-Executive Director. [src: CABNET_HOLDINGS_BERHAD_ANNUAL_2019_SECTION_2_CHUNK_4, p. 7]\n",
      "\n",
      "## Metrics & Dates\n",
      "- Board size: 8 directors. Derived from the eight entries listed under BOARD OF DIRECTORS in the 2019 Corporate Information. [src: CABNET_HOLDINGS_BERHAD_ANNUAL_2019_SECTION_2_CHUNK_4, p. 7]\n",
      "- Date/version: Board composition as reported in the 2019 Corporate Information (Cabnet Holdings Berhad). [src: CABNET_HOLDINGS_BERHAD_ANNUAL_2019_SECTION_2_CHUNK_4, p. 7]\n",
      "\n",
      "## Evidence (verbatim)\n",
      "- \"Table: BOARD OF DIRECTORS (p. 7) - Name: Datuk Tan Kok Hong @ Tan Yi; Title: Chairman, Independent Non-Executive Director\" [src: CABNET_HOLDINGS_BERHAD_ANNUAL_2019_SECTION_2_CHUNK_4, p. 7]\n",
      "- \"Name: Tay Hong Sing; Title: Chief Executive Officer, Executive Director\" [src: CABNET_HOLDINGS_BERHAD_ANNUAL_2019_SECTION_2_CHUNK_4, p. 7]\n",
      "- \"Name: Tan Boon Siang; Title: Deputy Chief Executive Officer, Executive Director\" [src: CABNET_HOLDINGS_BERHAD_ANNUAL_2019_SECTION_2_CHUNK_4, p. 7]\n",
      "- \"Name: Yong Thiam Yuen; Title: Chief Operating Officer, Executive Director\" [src: CABNET_HOLDINGS_BERHAD_ANNUAL_2019_SECTION_2_CHUNK_4, p. 7]\n",
      "- \"Name: Dato’ Jeffrey Lai Jiun Jye; Title: Executive Director\" [src: CABNET_HOLDINGS_BERHAD_ANNUAL_2019_SECTION_2_CHUNK_4, p. 7]\n",
      "- \"Name: Mr. Abdul Mutalib Bin Idris; Title: Senior Independent Non-Executive Director\" [src: CABNET_HOLDINGS_BERHAD_ANNUAL_2019_SECTION_2_CHUNK_4, p. 7]\n",
      "- \"Name: Mr. Vincent Wong Soon Choy; Title: Independent Non-Executive Director\" [src: CABNET_HOLDINGS_BERHAD_ANNUAL_2019_SECTION_2_CHUNK_4, p. 7]\n",
      "- \"Name: Ms. Meachery Jo-anne Joseph; Title: Independent Non-Executive Director\" [src: CABNET_HOLDINGS_BERHAD_ANNUAL_2019_SECTION_2_CHUNK_4, p. 7]\n",
      "\n",
      "## Limitations / Unknowns\n",
      "- Not stated in provided documents beyond the 2019 Corporate Information. If you need the current board as of a specific year, please indicate the year and I will extract from the relevant section.\n",
      "\n",
      "\n",
      "2025-09-09 20:14:19,561 - query - INFO - Token usage | total = 14048\n"
     ]
    }
   ],
   "source": [
    "out = await rag_answer_with_company_detection(\n",
    "    pine,\n",
    "    pinecone_config = pinecone_config,\n",
    "    query = \"who are the board directors of cabnet?\",\n",
    "    top_k = 20\n",
    ")"
   ]
  },
  {
   "cell_type": "code",
   "execution_count": 3,
   "id": "54b82759",
   "metadata": {},
   "outputs": [
    {
     "name": "stderr",
     "output_type": "stream",
     "text": [
      "2025-09-10 01:51:18,531 - query - INFO - RAG start | query='who are the competitors of autocount dotcom?' | top_k=10\n",
      "2025-09-10 01:51:21,866 - query - INFO - Catalog companies (14): ['AEMULUS_HOLDINGS_BERHAD', 'AUTOCOUNT_DOTCOM_BERHAD', 'CABNET_HOLDINGS_BERHAD', 'CENTURY_SOFTWARE_HOLDINGS_BERHAD', 'ECA_INTEGRATED_SOLUTION_BERHAD', 'EDELTEQ_HOLDINGS_BERHAD', 'FARM_FRESH_BERHAD', 'I-STONE_GROUP_BERHAD', 'ICT_ZONE_ASIA_BERHAD', 'RAMSSOL_GROUP_BERHAD', 'SFP_TECH_HOLDINGS_BERHAD', 'TT_VISION_HOLDINGS_BERHAD', 'VETECE_HOLDINGS_BERHAD', 'VITROX_CORPORATION_BERHAD']\n",
      "2025-09-10 01:51:31,836 - query - INFO - Detected company: 'AUTOCOUNT_DOTCOM_BERHAD'\n",
      "2025-09-10 01:51:31,838 - query - INFO - Search query normalized: 'who are the competitors of autocount dotcom?' → 'Who are the competitors of the company?'\n",
      "2025-09-10 01:51:31,839 - query - INFO - Query filter: {'from_company': 'AUTOCOUNT_DOTCOM_BERHAD'}\n",
      "2025-09-10 01:52:13,364 - query - INFO - Final answer: \n",
      "\n",
      "## Overview\n",
      "Autocount Group’s competitors are identified in the market research as other software principals offering financial management software targeting SMEs. The document lists four named companies as competitors of Autocount Group’s competitors: Intuit Inc., Xero Limited, 2ndSite Inc., and Wave Financial Inc. The report provides detailed figures for Intuit and Xero, while 2ndSite and Wave have no financial data in the excerpts.\n",
      "\n",
      "## Details\n",
      "- Intuit Inc. — financial management software brand: QuickBooks.\n",
      "- Xero Limited — financial management software brand: Xero.\n",
      "- 2ndSite Inc. — financial management software brand: FreshBooks.\n",
      "- Wave Financial Inc. — financial management software brand: Wave.\n",
      "\n",
      "- Intuit Inc. (latest available financial year: 31 July 2022) has total revenue of USD12.73 billion; GP margin 81.07%; PAT/LAT USD2.07 billion; PAT/LAT margin 16.26%.\n",
      "- Xero Limited (latest available financial year: 31 March 2022) has total revenue of NZD1.10 billion; GP NZD0.96 billion; GP margin 87.27%; PAT/LAT (NZD0.01) billion; PAT/LAT margin (0.91).\n",
      "\n",
      "- 2ndSite Inc. — Not stated (no financial data provided).\n",
      "- Wave Financial Inc. — Not stated (no financial data provided).\n",
      "\n",
      "## Metrics & Dates\n",
      "- Intuit Inc. — Latest available financial year: 31 July 2022; Total revenue: USD12.73 billion; GP margin: 81.07%; PAT/LAT: USD2.07 billion.\n",
      "- Xero Limited — Latest available financial year: 31 March 2022; Total revenue: NZD1.10 billion; GP: NZD0.96 billion; GP margin: 87.27%; PAT/LAT: (NZD0.01) billion; PAT/LAT margin: (0.91).\n",
      "- 2ndSite Inc. — Not stated.\n",
      "- Wave Financial Inc. — Not stated.\n",
      "\n",
      "## Evidence\n",
      "- \"Table: [Competitors of Autocount Group's competitors] (p. 148) - Company name: Intuit Inc.; ... Latest available financial year: 31 July 2022; Total revenue: USD12.73 billion (RM54.10 billion) a; GP: USD10.32 billion (RM43.86 billion) a; GP margin (%): 81.07; PAT/ (LAT): USD2.07 billion (RM8.80 billion) a; PAT/ (LAT) margin (%): 16.26\" [src: AUTOCOUNT_DOTCOM_BERHAD_IPO_SECTION_8_CHUNK_103, p. 148]\n",
      "- \"Company name: Xero Limited; ... Latest available financial year: 31 March 2022; Total revenue: NZD1.10 billion (RM3.05 billion) b,e; GP: NZD0.96 billion (RM2.79 billion) b; GP margin (%): 87.27; PAT/ (LAT): (NZD0.01 billion) ((RM0.03 billion)) b; PAT/ (LAT) margin (%): (0.91)\" [src: AUTOCOUNT_DOTCOM_BERHAD_IPO_SECTION_8_CHUNK_103, p. 148]\n",
      "- \"Company name: 2ndSite Inc.; Examples of financial management software offered: Accounting; Examples of software brands: FreshBooks; Latest available financial year: N/A; Total revenue: N/A; ... PAT/ (LAT): N/A; PAT/ (LAT) margin (%): N/A\" [src: AUTOCOUNT_DOTCOM_BERHAD_IPO_SECTION_8_CHUNK_103, p. 148]\n",
      "- \"Company name: Wave Financial Inc. (a subsidiary of H&R Block, Inc.); Examples of financial management software offered: Accounting and payroll; Examples of software brands: Wave; Latest available financial year: N/A; Total revenue: N/A; ... PAT/ (LAT) margin (%): N/A\" [src: AUTOCOUNT_DOTCOM_BERHAD_IPO_SECTION_8_CHUNK_103, p. 148]\n",
      "\n",
      "## Limitations / Unknowns\n",
      "- Not stated in provided documents for 2ndSite Inc. and Wave Financial Inc. (no revenue or margin data available in the excerpts).\n",
      "\n",
      "\n",
      "2025-09-10 01:52:13,367 - query - INFO - Token usage | total = 12533\n"
     ]
    }
   ],
   "source": [
    "out = await rag_answer_with_company_detection(\n",
    "    pine,\n",
    "    pinecone_config = pinecone_config,\n",
    "    query = \"who are the competitors of autocount dotcom?\",\n",
    "    top_k = 10\n",
    ")"
   ]
  },
  {
   "cell_type": "code",
   "execution_count": 6,
   "id": "6ed39024",
   "metadata": {},
   "outputs": [
    {
     "name": "stderr",
     "output_type": "stream",
     "text": [
      "2025-09-09 20:17:26,871 - query - INFO - RAG start | query='who are the directors of vitrox? elaborate about their background and position' | top_k=10\n",
      "2025-09-09 20:17:30,235 - query - INFO - Catalog companies (14): ['AEMULUS_HOLDINGS_BERHAD', 'AUTOCOUNT_DOTCOM_BERHAD', 'CABNET_HOLDINGS_BERHAD', 'CENTURY_SOFTWARE_HOLDINGS_BERHAD', 'ECA_INTEGRATED_SOLUTION_BERHAD', 'EDELTEQ_HOLDINGS_BERHAD', 'FARM_FRESH_BERHAD', 'I-STONE_GROUP_BERHAD', 'ICT_ZONE_ASIA_BERHAD', 'RAMSSOL_GROUP_BERHAD', 'SFP_TECH_HOLDINGS_BERHAD', 'TT_VISION_HOLDINGS_BERHAD', 'VETECE_HOLDINGS_BERHAD', 'VITROX_CORPORATION_BERHAD']\n",
      "2025-09-09 20:17:39,205 - query - INFO - Detected company: 'VITROX_CORPORATION_BERHAD'\n",
      "2025-09-09 20:17:39,206 - query - INFO - Search query normalized: 'who are the directors of vitrox? elaborate about their background and position' → 'who are the directors of the company? elaborate about their background and position'\n",
      "2025-09-09 20:17:39,207 - query - INFO - Query filter: {'from_company': 'VITROX_CORPORATION_BERHAD'}\n",
      "2025-09-09 20:18:15,714 - query - INFO - Final answer: \n",
      "\n",
      "## Overview\n",
      "The Vitrox Corporation Berhad board as of 31 December 2024 comprises nine directors: 3 Independent Non-Executive Directors, 3 Non-Independent Non-Executive Directors, and 3 Executive Directors. The Chairman is Dato’ Seri Dr. Kiew Kwong Sen, and the Group CEO is Dato’ Chu Jenn Weng. The board structure and roles are described across the company’s governance sections. [src: VITROX_CORPORATION_BERHAD_ANNUAL_2024_SECTION_5_CHUNK_39, p. 74] [src: VITROX_CORPORATION_BERHAD_ANNUAL_2024_SECTION_6_CHUNK_1] [src: VITROX_CORPORATION_BERHAD_ANNUAL_2024_SECTION_5_CHUNK_39, p. 73]\n",
      "\n",
      "## Details\n",
      "- Dato’ Seri Dr. Kiew Kwong Sen — Chairman / Non-Independent Non-Executive Director [src: VITROX_CORPORATION_BERHAD_ANNUAL_2024_SECTION_6_CHUNK_1]\n",
      "- Dato’ Chu Jenn Weng — Managing Director / President / Group CEO [src: VITROX_CORPORATION_BERHAD_ANNUAL_2024_SECTION_6_CHUNK_1]\n",
      "- Siaw Kok Tong — Executive Director / Senior Executive Vice President [src: VITROX_CORPORATION_BERHAD_ANNUAL_2024_SECTION_6_CHUNK_1]\n",
      "- Yeoh Shih Hoong — Executive Director / Senior Executive Vice President [src: VITROX_CORPORATION_BERHAD_ANNUAL_2024_SECTION_6_CHUNK_1]\n",
      "- Datuk Ir. Dr. Ahmad Fadzil Bin Mohamad Hani — Non-Independent Non-Executive Director [src: VITROX_CORPORATION_BERHAD_ANNUAL_2024_SECTION_6_CHUNK_1]\n",
      "- Chuah Poay Ngee — Non-Independent Non-Executive Director [src: VITROX_CORPORATION_BERHAD_ANNUAL_2024_SECTION_6_CHUNK_1]\n",
      "- Mary Yeo Chew Yen — Independent Non-Executive Director [src: VITROX_CORPORATION_BERHAD_ANNUAL_2024_SECTION_6_CHUNK_1]\n",
      "- Dato’ Prof. Dr. See Ching Mey — Independent Non-Executive Director [src: VITROX_CORPORATION_BERHAD_ANNUAL_2024_SECTION_6_CHUNK_1]\n",
      "- Emelia Binti Matrahah — Independent Non-Executive Director [src: VITROX_CORPORATION_BERHAD_ANNUAL_2024_SECTION_6_CHUNK_1]\n",
      "\n",
      "Note: The Board’s composition is described as of 31 December 2024. The board includes 3 Independent Non-Executive Directors, 3 Non-Independent Non-Executive Directors and 3 Executive Directors. [src: VITROX_CORPORATION_BERHAD_ANNUAL_2024_SECTION_5_CHUNK_39, p. 74]\n",
      "\n",
      "## Metrics & Dates\n",
      "- As at 31 December 2024, the Board comprised 3 Independent Non-Executive Directors, 3 Non-Independent Non-Executive Directors and 3 Executive Directors. [src: VITROX_CORPORATION_BERHAD_ANNUAL_2024_SECTION_5_CHUNK_39, p. 74]\n",
      "- The positions of the Chairman of the Board and the Group CEO are held by different individuals and their roles are clearly defined in the Board Charter. [src: VITROX_CORPORATION_BERHAD_ANNUAL_2024_SECTION_5_CHUNK_39, p. 73]\n",
      "\n",
      "- Verbatim excerpts:\n",
      "  - \"Dato' Seri Dr. Kiew Kwong Sen Chairman / Non-Independent Non-Executive Director\" [src: VITROX_CORPORATION_BERHAD_ANNUAL_2024_SECTION_6_CHUNK_1]\n",
      "  - \"Dato' Chu Jenn Weng Managing Director / President / Group CEO\" [src: VITROX_CORPORATION_BERHAD_ANNUAL_2024_SECTION_6_CHUNK_1]\n",
      "  - \"Mary Yeo Chew Yen Independent Non-Executive Director\" [src: VITROX_CORPORATION_BERHAD_ANNUAL_2024_SECTION_6_CHUNK_1]\n",
      "  - \"The positions of the Chairman of the Board and the Group CEO are held by different individuals and their roles are clearly defined in the Board Charter.\" [src: VITROX_CORPORATION_BERHAD_ANNUAL_2024_SECTION_5_CHUNK_39]\n",
      "\n",
      "## Evidence (verbatim)\n",
      "- \"Dato' Seri Dr. Kiew Kwong Sen Chairman / Non-Independent Non-Executive Director\" [src: VITROX_CORPORATION_BERHAD_ANNUAL_2024_SECTION_6_CHUNK_1]\n",
      "- \"Dato' Chu Jenn Weng Managing Director / President / Group CEO\" [src: VITROX_CORPORATION_BERHAD_ANNUAL_2024_SECTION_6_CHUNK_1]\n",
      "- \"Mary Yeo Chew Yen Independent Non-Executive Director\" [src: VITROX_CORPORATION_BERHAD_ANNUAL_2024_SECTION_6_CHUNK_1]\n",
      "- \"The positions of the Chairman of the Board and the Group CEO are held by different individuals and their roles are clearly defined in the Board Charter.\" [src: VITROX_CORPORATION_BERHAD_ANNUAL_2024_SECTION_5_CHUNK_39]\n",
      "\n",
      "## Limitations / Unknowns\n",
      "- Background information about individual directors (education, career history, prior positions) is not stated in the provided documents. If you need biographical details beyond titles, please specify and I can search within the given sources for any additional biographical notes.\n",
      "\n",
      "\n",
      "2025-09-09 20:18:15,717 - query - INFO - Token usage | total = 12577\n"
     ]
    }
   ],
   "source": [
    "out = await rag_answer_with_company_detection(\n",
    "    pine,\n",
    "    pinecone_config = pinecone_config,\n",
    "    query = \"who are the directors of vitrox? elaborate about their background and position\",\n",
    "    top_k = 10\n",
    ")"
   ]
  },
  {
   "cell_type": "code",
   "execution_count": null,
   "id": "b7d60bda",
   "metadata": {},
   "outputs": [
    {
     "name": "stderr",
     "output_type": "stream",
     "text": [
      "2025-08-27 11:57:27,006 - retrieval - INFO - RAG start | query='What is farm fresh management’s strategy for growth over the next 3–5 years?' | top_k=5\n",
      "2025-08-27 11:57:27,570 - retrieval - INFO - Catalog companies (6): ['AUTOCOUNT_DOTCOM_BERHAD', 'CABNET_HOLDINGS_BERHAD', 'EDELTEQ_HOLDINGS_BERHAD', 'FARM_FRESH_BERHAD', 'ICT_ZONE_ASIA_BERHAD', 'VETECE_HOLDINGS_BERHAD']\n",
      "2025-08-27 11:57:44,240 - retrieval - INFO - Detected company: 'FARM_FRESH_BERHAD'\n",
      "2025-08-27 11:57:44,243 - retrieval - INFO - Search query normalized: 'What is farm fresh management’s strategy for growth over the next 3–5 years?' → \"What is the company's strategy for growth over the next 3–5 years?\"\n",
      "2025-08-27 11:57:44,243 - retrieval - INFO - Query filter: {'from_company': 'FARM_FRESH_BERHAD'}\n",
      "2025-08-27 11:57:58,769 - retrieval - INFO - Final answer: \n",
      "\n",
      "- Product portfolio expansion: Focus on developing and diversifying products (CPG ice cream via the Inside Scoop brand by Aug 2024; expanding into plant-based yoghurt; exploring non-dairy packaged foods; introducing local butter to complement existing dairy lines). Plans also include continuing to grow the Farm Fresh Grow range and entering new categories such as chocolate malt beverages, cultured milk, and other new SKUs.\n",
      "- Capacity and capabilities expansion in Malaysia: Invest to grow production capacity and capabilities across the Malaysian value chain, increase automation to improve efficiency, and launch new products (e.g., butter, cultured milk) in FY2025.\n",
      "- International expansion: Leverage opportunities to extend market footprint internationally as part of sustaining growth over the 3–5 year horizon.\n",
      "\n",
      "\n",
      "2025-08-27 11:57:58,770 - retrieval - INFO - Token usage | total=5679\n"
     ]
    }
   ],
   "source": [
    "out = await rag_answer_with_company_detection(\n",
    "    pine,\n",
    "    pinecone_config = pinecone_config,\n",
    "    query = \"What is farm fresh management’s strategy for growth over the next 3–5 years?\",\n",
    "    top_k = 5\n",
    ")"
   ]
  },
  {
   "cell_type": "code",
   "execution_count": null,
   "id": "db9b9c4d",
   "metadata": {},
   "outputs": [
    {
     "name": "stderr",
     "output_type": "stream",
     "text": [
      "2025-08-27 12:07:42,060 - retrieval - INFO - RAG start | query='Who is Joyce Wong Ai May? What is his/her position? Elaborate more' | top_k=5\n",
      "2025-08-27 12:07:44,310 - retrieval - INFO - Catalog companies (6): ['AUTOCOUNT_DOTCOM_BERHAD', 'CABNET_HOLDINGS_BERHAD', 'EDELTEQ_HOLDINGS_BERHAD', 'FARM_FRESH_BERHAD', 'ICT_ZONE_ASIA_BERHAD', 'VETECE_HOLDINGS_BERHAD']\n",
      "2025-08-27 12:07:48,327 - retrieval - INFO - Detected company: None\n",
      "2025-08-27 12:07:48,328 - retrieval - INFO - Search query unchanged.\n",
      "2025-08-27 12:07:48,329 - retrieval - INFO - Query filter: {}\n",
      "2025-08-27 12:08:02,078 - retrieval - INFO - Final answer: \n",
      "\n",
      "- Joyce Wong Ai May is an Independent Non-Executive Director of Edelteq Holdings Berhad; appointed to the Board on 1 August 2022. She is Malaysian, aged 47.\n",
      "\n",
      "- Education and professional background:\n",
      "  - Bachelor of Commerce, University of Tasmania (Dec 1998)\n",
      "  - Accountant by profession; CPA Australia since Jan 2003\n",
      "  - Member of the Malaysian Institute of Accountants since Sep 2016\n",
      "  - Member of the Institute of Internal Auditors Malaysia since Mar 2018\n",
      "\n",
      "- Corporate directory listing:\n",
      "  - Designation: Chairman\n",
      "  - Directorship: Independent Non-Executive Director\n",
      "\n",
      "- Other notable roles:\n",
      "  - Co-founded Desa Janajaya Sdn Bhd (agrotechnology solutions) in Aug 2016; as at the LPD, Director of Desa Janajaya Sdn Bhd\n",
      "  - Equity in Desa Janajaya Sdn Bhd: 33.33% direct and 33.33% indirect\n",
      "  - Note: Deemed interested by virtue of her spouse’s shareholdings in Desa Janajaya Sdn Bhd pursuant to Section 8 of the Act.\n",
      "\n",
      "\n",
      "2025-08-27 12:08:02,079 - retrieval - INFO - Token usage | total=5110\n"
     ]
    }
   ],
   "source": [
    "out = await rag_answer_with_company_detection(\n",
    "    pine,\n",
    "    pinecone_config = pinecone_config,\n",
    "    query = \"Who is Joyce Wong Ai May? What is his/her position? Elaborate more\",\n",
    "    top_k = 5\n",
    ")"
   ]
  },
  {
   "cell_type": "code",
   "execution_count": 2,
   "id": "f06842ed",
   "metadata": {},
   "outputs": [
    {
     "name": "stderr",
     "output_type": "stream",
     "text": [
      "2025-09-09 20:21:05,973 - query - INFO - RAG start | query='Who is Liew Soung Yue? What is his/her position? Elaborate more' | top_k=5\n",
      "2025-09-09 20:21:10,609 - query - INFO - Catalog companies (14): ['AEMULUS_HOLDINGS_BERHAD', 'AUTOCOUNT_DOTCOM_BERHAD', 'CABNET_HOLDINGS_BERHAD', 'CENTURY_SOFTWARE_HOLDINGS_BERHAD', 'ECA_INTEGRATED_SOLUTION_BERHAD', 'EDELTEQ_HOLDINGS_BERHAD', 'FARM_FRESH_BERHAD', 'I-STONE_GROUP_BERHAD', 'ICT_ZONE_ASIA_BERHAD', 'RAMSSOL_GROUP_BERHAD', 'SFP_TECH_HOLDINGS_BERHAD', 'TT_VISION_HOLDINGS_BERHAD', 'VETECE_HOLDINGS_BERHAD', 'VITROX_CORPORATION_BERHAD']\n",
      "2025-09-09 20:21:15,149 - query - INFO - Detected company: None\n",
      "2025-09-09 20:21:15,150 - query - INFO - Search query unchanged.\n",
      "2025-09-09 20:21:15,151 - query - INFO - Query filter: {}\n",
      "2025-09-09 20:21:50,751 - query - INFO - Final answer: \n",
      "\n",
      "## Overview\n",
      "Dr. Liew Soung Yue is the Independent Non-Executive Director on AutoCount DotCom Berhad’s board, appointed on 6 April 2022. He serves as Chairperson of the Nomination Committee and is a member of the Audit and Risk Management Committee and the Remuneration Committee. Sources list him as Malaysian, male, and provide details of his education and early career, with some age figures varying between reports.\n",
      "\n",
      "## Details\n",
      "- Position and appointment: Independent Non-Executive Director since 6 April 2022. Chairperson of the Nomination Committee; member of the Audit and Risk Management Committee and Remuneration Committee.\n",
      "- Demographics: Nationality – Malaysian; Gender – Male; Age listed as 54 in the 2023 report and 55 in the 2024 report.\n",
      "- Education: Doctor of Philosophy (Information Engineering), conferred by The Chinese University of Hong Kong in 1999.\n",
      "- Early career: Assistant Professor in the Department of Information Engineering at The Chinese University of Hong Kong (1999); Postdoctoral Research Associate in 2000–2001 at Polytechnic University (Brooklyn, NY) and CUHK; Postdoctoral Research Associate again in 2001–2002 at CUHK.\n",
      "- Other directorships: Independent and non-executive director roles in several public-listed companies, including Securemetric Berhad, Fraser & Neave Holdings Berhad, Iris Corporation Berhad, and Lac Med Berhad.\n",
      "  \n",
      "## Metrics & Dates\n",
      "- Date of appointment: 6 April 2022\n",
      "- Education: Doctor of Philosophy (Information Engineering), conferred in 1999\n",
      "- Age (reports differ): 54 (as stated in 2023 report) and 55 (as stated in 2024 report)\n",
      "- Career milestones (selected): Assistant Professor at CUHK in 1999; Postdoctoral Research Associate in 2000–2001 at Polytechnic University and CUHK; Postdoctoral Research Associate in 2001–2002 at CUHK\n",
      "- Directorships: Listed in multiple public companies (examples include Securemetric Berhad, Fraser & Neave Holdings Berhad, Iris Corporation Berhad, Lac Med Berhad)\n",
      "\n",
      "## Evidence\n",
      "- \"Dr. Liew Soung Yue was appointed to our Board as Independent Non-Executive Director on 6 April 2022.\" [src: AUTOCOUNT_DOTCOM_BERHAD_ANNUAL_2023_SECTION_3_CHUNK_33, p. 23]\n",
      "- \"He is the Chairperson of our Nomination Committee and a member of our Audit and Risk Management Committee and Remuneration Committee.\" [src: AUTOCOUNT_DOTCOM_BERHAD_ANNUAL_2023_SECTION_3_CHUNK_33, p. 23]\n",
      "- \"Age: 54\" [src: AUTOCOUNT_DOTCOM_BERHAD_ANNUAL_2023_SECTION_3_CHUNK_33, p. 23]\n",
      "- \"Nationality: Malaysian\" [src: AUTOCOUNT_DOTCOM_BERHAD_ANNUAL_2023_SECTION_3_CHUNK_33, p. 23]\n",
      "- \"In 1999, he served as an Assistant Professor in the Department of Information Engineering of The Chinese University of Hong Kong...\" [src: AUTOCOUNT_DOTCOM_BERHAD_ANNUAL_2023_SECTION_3_CHUNK_33, p. 23]\n",
      "- \"In 2000-2001, he was appointed as a Postdoctoral Research Associate for the Department of Electrical Engineering, Polytechnic University, Brooklyn, New York; and in 2001-2002, he was appointed as a Postdoctoral Research Associate for the Department of Information Engineering, The Chinese University of Hong Kong...\" [src: AUTOCOUNT_DOTCOM_BERHAD_ANNUAL_2024_SECTION_2_CHUNK_32, p. 2]\n",
      "- \"Doctor of Philosophy (Information Engineering), which he was conferred by The Chinese University of Hong Kong, Hong Kong in 1999.\" [src: AUTOCOUNT_DOTCOM_BERHAD_ANNUAL_2023_SECTION_3_CHUNK_33, p. 23]\n",
      "- \"Further, she also holds directorships as independent and non-executive director in several public listed companies, such as Securemetric Berhad, Fraser & Neave Holdings Berhad, Iris Corporation Berhad and Lac Med Berhad.\" [src: AUTOCOUNT_DOTCOM_BERHAD_ANNUAL_2024_SECTION_2_CHUNK_6, p. 27]\n",
      "- \"Nationality: Malaysian Age: 55 Gender: Male\" [src: AUTOCOUNT_DOTCOM_BERHAD_ANNUAL_2024_SECTION_2_CHUNK_32, p. 2]\n",
      "\n",
      "## Limitations / Unknowns\n",
      "- Not stated in provided documents. (Additional details such as current term end date, or further roles beyond listed committees, are not available in the supplied chunks.)\n",
      "\n",
      "\n",
      "2025-09-09 20:21:50,753 - query - INFO - Token usage | total = 9355\n"
     ]
    }
   ],
   "source": [
    "out = await rag_answer_with_company_detection(\n",
    "    pine,\n",
    "    pinecone_config = pinecone_config,\n",
    "    query = \"Who is Liew Soung Yue? What is his/her position? Elaborate more\",\n",
    "    top_k = 5\n",
    ")"
   ]
  },
  {
   "cell_type": "code",
   "execution_count": 3,
   "id": "213567cb",
   "metadata": {},
   "outputs": [
    {
     "name": "stderr",
     "output_type": "stream",
     "text": [
      "2025-09-09 20:21:50,764 - query - INFO - RAG start | query='Who are the board of directors of AutoCount? Tell more about their background.' | top_k=10\n",
      "2025-09-09 20:21:54,159 - query - INFO - Catalog companies (14): ['AEMULUS_HOLDINGS_BERHAD', 'AUTOCOUNT_DOTCOM_BERHAD', 'CABNET_HOLDINGS_BERHAD', 'CENTURY_SOFTWARE_HOLDINGS_BERHAD', 'ECA_INTEGRATED_SOLUTION_BERHAD', 'EDELTEQ_HOLDINGS_BERHAD', 'FARM_FRESH_BERHAD', 'I-STONE_GROUP_BERHAD', 'ICT_ZONE_ASIA_BERHAD', 'RAMSSOL_GROUP_BERHAD', 'SFP_TECH_HOLDINGS_BERHAD', 'TT_VISION_HOLDINGS_BERHAD', 'VETECE_HOLDINGS_BERHAD', 'VITROX_CORPORATION_BERHAD']\n",
      "2025-09-09 20:22:05,449 - query - INFO - Detected company: 'AUTOCOUNT_DOTCOM_BERHAD'\n",
      "2025-09-09 20:22:05,451 - query - INFO - Search query normalized: 'Who are the board of directors of AutoCount? Tell more about their background.' → 'Who are the board of directors of the company? Tell more about their background.'\n",
      "2025-09-09 20:22:05,452 - query - INFO - Query filter: {'from_company': 'AUTOCOUNT_DOTCOM_BERHAD'}\n",
      "2025-09-09 20:22:41,879 - query - INFO - Final answer: \n",
      "\n",
      "## Overview\n",
      "AutoCount DotCom Berhad's board comprises five directors: CCP (Executive Director / Chairman), CYT (Executive Director / Managing Director), Dato’ Ng Wan Peng (Independent Non-Executive Director), Dr. Liew Soung Yue (Independent Non-Executive Director), and Chin Chee Seng (Independent Non-Executive Director). The available documents describe governance roles and a background note related to a Software Development Director joining in 2016, but detailed biographies are not provided in the accessible excerpts.\n",
      "\n",
      "## Details\n",
      "- Directors and designations:\n",
      "  - CCP — Executive Director / Chairman\n",
      "  - CYT — Executive Director / Managing Director\n",
      "  - Dato’ Ng Wan Peng — Independent Non-Executive Director\n",
      "  - Dr. Liew Soung Yue — Independent Non-Executive Director\n",
      "  - Chin Chee Seng — Independent Non-Executive Director\n",
      "- Governance context:\n",
      "  - The board includes a Chairman, Executive Directors responsible for operational and strategic decisions, and Independent Non-Executive Directors providing independent oversight.\n",
      "  - The board has access to information, management, the Company Secretary, and external auditors; independent professional advice can be obtained at the company’s expense.\n",
      "\n",
      "- Background note:\n",
      "  - A background snippet indicates that one director joined the group as Software Development Director in 2016 and is responsible for leading and facilitating the group’s R&D activities.\n",
      "\n",
      "## Metrics & Dates\n",
      "- Directors (as listed in the IPO Prospectus):\n",
      "  - CCP — Executive Director / Chairman\n",
      "  - CYT — Executive Director / Managing Director\n",
      "  - Dato’ Ng Wan Peng — Independent Non-Executive Director\n",
      "  - Dr. Liew Soung Yue — Independent Non-Executive Director\n",
      "  - Chin Chee Seng — Independent Non-Executive Director\n",
      "- Background reference:\n",
      "  - Joined as Software Development Director in 2016 (unnamed director) with R&D leadership responsibilities.\n",
      "\n",
      "## Evidence\n",
      "- \"Name: CCP; Designation: Executive Director / Chairman\" [src: AUTOCOUNT_DOTCOM_BERHAD_IPO_SECTION_3_CHUNK_47]\n",
      "- \"Name: CYT; Designation: Executive Director / Managing Director\" [src: AUTOCOUNT_DOTCOM_BERHAD_IPO_SECTION_3_CHUNK_47]\n",
      "- \"Name: Dato’ Ng Wan Peng; Designation: Independent Non-Executive Director\" [src: AUTOCOUNT_DOTCOM_BERHAD_IPO_SECTION_3_CHUNK_47]\n",
      "- \"Name: Dr. Liew Soung Yue; Designation: Independent Non-Executive Director\" [src: AUTOCOUNT_DOTCOM_BERHAD_IPO_SECTION_3_CHUNK_47]\n",
      "- \"Name: Chin Chee Seng; Designation: Independent Non-Executive Director\" [src: AUTOCOUNT_DOTCOM_BERHAD_IPO_SECTION_3_CHUNK_47]\n",
      "- \"He joined our Group as Software Development Director in 2016 and is responsible to lead and facilitate the research and development activities of our Group.\" [src: AUTOCOUNT_DOTCOM_BERHAD_ANNUAL_2024_SECTION_2_CHUNK_40]\n",
      "\n",
      "## Limitations / Unknowns\n",
      "- Not stated in provided documents. Specific biographical backgrounds beyond titles and one 2016 join-date are not available in the excerpts.\n",
      "\n",
      "\n",
      "2025-09-09 20:22:41,881 - query - INFO - Token usage | total = 11495\n"
     ]
    }
   ],
   "source": [
    "out = await rag_answer_with_company_detection(\n",
    "    pine,\n",
    "    pinecone_config = pinecone_config,\n",
    "    query = \"Who are the board of directors of AutoCount? Tell more about their background.\",\n",
    "    top_k = 10\n",
    ")"
   ]
  },
  {
   "cell_type": "code",
   "execution_count": null,
   "id": "7daa9d77",
   "metadata": {},
   "outputs": [
    {
     "name": "stderr",
     "output_type": "stream",
     "text": [
      "2025-08-27 19:42:23,422 - query - INFO - RAG start | query='What are the mission and vision of EDELTEQ?' | top_k=5\n",
      "2025-08-27 19:42:25,816 - query - INFO - Catalog companies (6): ['AUTOCOUNT_DOTCOM_BERHAD', 'CABNET_HOLDINGS_BERHAD', 'EDELTEQ_HOLDINGS_BERHAD', 'FARM_FRESH_BERHAD', 'ICT_ZONE_ASIA_BERHAD', 'VETECE_HOLDINGS_BERHAD']\n",
      "2025-08-27 19:42:32,845 - query - INFO - Detected company: 'EDELTEQ_HOLDINGS_BERHAD'\n",
      "2025-08-27 19:42:32,846 - query - INFO - Search query normalized: 'What are the mission and vision of EDELTEQ?' → 'What are the mission and vision of the company?'\n",
      "2025-08-27 19:42:32,846 - query - INFO - Query filter: {'from_company': 'EDELTEQ_HOLDINGS_BERHAD'}\n",
      "2025-08-27 19:42:41,156 - query - INFO - Final answer: \n",
      "\n",
      "- Vision: \"to convert all our customers’ manufacturing ideas into reality; and enhance their manufacturing process & system efficiency.\"\n",
      "- Mission: \"to bring Value propositions, Innovative solutions and Niche processes to support semiconductor manufacturing needs and related industries around the world.\"\n",
      "\n",
      "\n",
      "2025-08-27 19:42:41,158 - query - INFO - Token usage | total = 3794\n"
     ]
    }
   ],
   "source": [
    "out = await rag_answer_with_company_detection(\n",
    "    pine,\n",
    "    pinecone_config = pinecone_config,\n",
    "    query = \"What are the mission and vision of EDELTEQ?\",\n",
    "    top_k = 5\n",
    ")"
   ]
  },
  {
   "cell_type": "code",
   "execution_count": null,
   "id": "60963d21",
   "metadata": {},
   "outputs": [
    {
     "name": "stderr",
     "output_type": "stream",
     "text": [
      "2025-08-26 12:05:49,090 - retrieval - INFO - RAG start | query='What the company CABNET do?' | top_k=5\n",
      "2025-08-26 12:05:49,670 - retrieval - INFO - Catalog companies (6): ['AUTOCOUNT_DOTCOM_BERHAD', 'CABNET_HOLDINGS_BERHAD', 'EDELTEQ_HOLDINGS_BERHAD', 'FARM_FRESH_BERHAD', 'ICT_ZONE_ASIA_BERHAD', 'VETECE_HOLDINGS_BERHAD']\n",
      "2025-08-26 12:06:00,430 - retrieval - INFO - Detected company: 'CABNET_HOLDINGS_BERHAD'\n",
      "2025-08-26 12:06:00,431 - retrieval - INFO - Search query normalized: 'What the company CABNET do?' → 'What the company do?'\n",
      "2025-08-26 12:06:00,432 - retrieval - INFO - Query filter: {'from_company': 'CABNET_HOLDINGS_BERHAD'}\n",
      "2025-08-26 12:06:05,128 - retrieval - INFO - Final answer: \n",
      "\n",
      "Cabnet Holdings Berhad provides building management solutions, including structured cabling works and ELV systems for buildings and facilities, and IT services. Their activities cover design, supply, build, testing and commissioning, plus project management, training, maintenance and aftersales services.\n",
      "\n",
      "\n",
      "2025-08-26 12:06:05,130 - retrieval - INFO - Token usage | detect={'prompt_tokens': 352, 'completion_tokens': 1634, 'total_tokens': 1986} | answer={'prompt_tokens': 1877, 'completion_tokens': 574, 'total_tokens': 2451} | total=4437\n"
     ]
    }
   ],
   "source": [
    "out = await rag_answer_with_company_detection(\n",
    "    pine,\n",
    "    pinecone_config = pinecone_config,\n",
    "    query = \"What the company CABNET do?\",\n",
    "    top_k = 5\n",
    ")"
   ]
  },
  {
   "cell_type": "code",
   "execution_count": null,
   "id": "3b7f51ab",
   "metadata": {},
   "outputs": [
    {
     "name": "stderr",
     "output_type": "stream",
     "text": [
      "2025-08-27 12:10:16,796 - retrieval - INFO - RAG start | query='What is the vision and mission of farm fresh?' | top_k=8\n",
      "2025-08-27 12:10:17,351 - retrieval - INFO - Catalog companies (6): ['AUTOCOUNT_DOTCOM_BERHAD', 'CABNET_HOLDINGS_BERHAD', 'EDELTEQ_HOLDINGS_BERHAD', 'FARM_FRESH_BERHAD', 'ICT_ZONE_ASIA_BERHAD', 'VETECE_HOLDINGS_BERHAD']\n",
      "2025-08-27 12:10:25,862 - retrieval - INFO - Detected company: 'FARM_FRESH_BERHAD'\n",
      "2025-08-27 12:10:25,863 - retrieval - INFO - Search query normalized: 'What is the vision and mission of farm fresh?' → 'What is the vision and mission of the company?'\n",
      "2025-08-27 12:10:25,864 - retrieval - INFO - Query filter: {'from_company': 'FARM_FRESH_BERHAD'}\n",
      "2025-08-27 12:10:35,477 - retrieval - INFO - Final answer: \n",
      "\n",
      "- Vision\n",
      "  - \"TO BE A SUSTAINABLE AND HONEST FOOD COMPANY THAT HAS AN INGRAINED CULTURE OF PLACING THE WELL-BEING OF CONSUMERS FIRST, CULMINATING IN STRONG BRAND LOVE.\" \n",
      "\n",
      "- Mission\n",
      "  - \"Diversifying our product portfolio to capture a wide, addressable market with different functional and nutritional needs, supported by a culture of innovation whilst being honest and meticulous with our ingredients based on the functional and nutritional needs of customers.\"\n",
      "  - \"Being ethical and truthful in our labelling and marketing practices to foster strong brand trust.\"\n",
      "  - \"Practising certified-humane farming practices at our dairy farms and achieving high-yielding tropical dairy farming with our Australian Friesian Sahiwal (AFS) breed, including via continuous breed improvement utilising in vitro fertilisation (IVF).\"\n",
      "  - \"Enhancing our environmental stewardship by implementing regenerative agriculture processes that treat dairy manure for reuse in our farm operations.\"\n",
      "  - \"Championing socially inclusive efforts such as the home dealer network and creating rural employment.\"\n",
      "\n",
      "\n",
      "2025-08-27 12:10:35,479 - retrieval - INFO - Token usage | total=5768\n"
     ]
    }
   ],
   "source": [
    "out = await rag_answer_with_company_detection(\n",
    "    pine,\n",
    "    pinecone_config = pinecone_config,\n",
    "    query = \"What is the vision and mission of farm fresh?\",\n",
    "    top_k = 8\n",
    ")"
   ]
  }
 ],
 "metadata": {
  "kernelspec": {
   "display_name": "myenv",
   "language": "python",
   "name": "python3"
  },
  "language_info": {
   "codemirror_mode": {
    "name": "ipython",
    "version": 3
   },
   "file_extension": ".py",
   "mimetype": "text/x-python",
   "name": "python",
   "nbconvert_exporter": "python",
   "pygments_lexer": "ipython3",
   "version": "3.10.18"
  }
 },
 "nbformat": 4,
 "nbformat_minor": 5
}

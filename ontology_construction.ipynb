{
 "cells": [
  {
   "cell_type": "markdown",
   "id": "090d4d54",
   "metadata": {},
   "source": [
    "# Pipeline of Automated Ontology Construction"
   ]
  },
  {
   "cell_type": "markdown",
   "id": "5590e959",
   "metadata": {},
   "source": [
    "## Initialization"
   ]
  },
  {
   "cell_type": "code",
   "execution_count": 1,
   "id": "011e9c6e",
   "metadata": {},
   "outputs": [],
   "source": [
    "import logging\n",
    "import os\n",
    "import time\n",
    "import asyncio\n",
    "import nest_asyncio\n",
    "from dotenv import load_dotenv"
   ]
  },
  {
   "cell_type": "code",
   "execution_count": 2,
   "id": "01bdc33a",
   "metadata": {},
   "outputs": [],
   "source": [
    "from ogmyrag.prompts import PROMPT\n",
    "from ogmyrag.llm import fetch_responses_openai\n",
    "from ogmyrag.my_logging import configure_logger\n",
    "from ogmyrag.ontology_construction import (\n",
    "   OntologyStorageConfig,\n",
    "   CompetencyQuestionsStorageConfig,\n",
    "   OntologyConstructionSystem\n",
    ")"
   ]
  },
  {
   "cell_type": "code",
   "execution_count": 3,
   "id": "e20ffe96",
   "metadata": {},
   "outputs": [],
   "source": [
    "ontology_construction_logger = configure_logger(name='ontology_construction',log_level=logging.DEBUG, log_file='logs/ontology_construction.log')\n",
    "openai_logger = configure_logger(name='openai',log_level=logging.INFO, log_file='logs/openai.log')"
   ]
  },
  {
   "cell_type": "code",
   "execution_count": 4,
   "id": "13251b3f",
   "metadata": {},
   "outputs": [],
   "source": [
    "# Patch event loop to support re-entry in Jupyter\n",
    "\n",
    "nest_asyncio.apply()"
   ]
  },
  {
   "cell_type": "code",
   "execution_count": 5,
   "id": "5fed8ee0",
   "metadata": {},
   "outputs": [],
   "source": [
    "# Load environment variables\n",
    "\n",
    "load_dotenv(override=True)\n",
    "\n",
    "mongo_db_uri = os.getenv(\"MONGO_DB_URI\",\"\")\n",
    "\n",
    "openai_api_key = os.getenv(\"OPENAI_API_KEY\",\"\")\n",
    "\n",
    "neo4j_uri = os.getenv(\"NEO4J_URI\",\"\")\n",
    "neo4j_username = os.getenv(\"NEO4J_USERNAME\",\"\")\n",
    "neo4j_password = os.getenv(\"NEO4J_PASSWORD\",\"\")\n",
    "\n",
    "if not mongo_db_uri:\n",
    "    ontology_construction_logger.error(\"Please set the MONGO_DB_URI environment variable.\")\n",
    "\n",
    "if not openai_api_key:\n",
    "    ontology_construction_logger.error(\"Please set the OPENAI_API_KEY environment variable.\")\n",
    "\n",
    "if not neo4j_uri or not neo4j_username or not neo4j_password:\n",
    "    ontology_construction_logger.error(\"Please set the NE04J_URI, NE04J_USERNAME, and NE04J_PASSWORD environment variables.\")"
   ]
  },
  {
   "cell_type": "code",
   "execution_count": null,
   "id": "ccfc7721",
   "metadata": {},
   "outputs": [],
   "source": [
    "with open('main_market_listing_requirements/chapter_2.txt', 'r') as file:\n",
    "   content = file.read()\n",
    "   print(content)"
   ]
  },
  {
   "cell_type": "code",
   "execution_count": null,
   "id": "126ade99",
   "metadata": {},
   "outputs": [],
   "source": [
    "ontology_construction_prompt = PROMPT[\"ONTOLOGY_CONSTRUCTION\"].format(\n",
    "   document_desc=\"Chapter 2 of the Main Market Listing Requirements of Bursa Malaysia\",\n",
    "   ontology_purpose=\"to model the interrelationships and dynamics of companies listed on the Main and ACE Markets in Malaysia, using only information sourced from listing requirements, company prospectuses, and company reports available through Bursa Malaysia. The model emphasizes strategic aspects, including—but not limited to—key stakeholders, major competitors, business partners, suppliers, products and services, as well as location-specific details such as export, import, operations, and other relevant activities. This ontology powers a knowledge graph that enables graph-based Retrieval-Augmented Generation (RAG) to assist retail investors in conducting fundamental analysis\",\n",
    "   ontology=\"Empty\",\n",
    "   document_constraints=\"None\",\n",
    ")"
   ]
  },
  {
   "cell_type": "code",
   "execution_count": null,
   "id": "2c07980b",
   "metadata": {},
   "outputs": [],
   "source": [
    "print(ontology_construction_prompt)"
   ]
  },
  {
   "cell_type": "code",
   "execution_count": null,
   "id": "8fc6940c",
   "metadata": {},
   "outputs": [],
   "source": [
    "ontology_q_generation_prompt = PROMPT[\"ONTOLOGY_CQ_GENERATION\"].format(\n",
    "   ontology_purpose=\"to model the interrelationships and dynamics of companies listed on the Main and ACE Markets in Malaysia, using only information sourced from listing requirements, company prospectuses, and company reports available through Bursa Malaysia. It focuses on strategic aspects, including—but not limited to—key stakeholders, major competitors, business partners, suppliers, and the products and services offered. This ontology powers a knowledge graph that enables graph-based Retrieval-Augmented Generation (RAG) to assist retail investors in conducting fundamental analysis\",\n",
    "   personality_num=1,\n",
    "   task_num=10,\n",
    "   question_num=4\n",
    ")"
   ]
  },
  {
   "cell_type": "code",
   "execution_count": null,
   "id": "23eeb691",
   "metadata": {},
   "outputs": [],
   "source": [
    "ontology_construction_logger.info(ontology_q_generation_prompt)"
   ]
  },
  {
   "cell_type": "code",
   "execution_count": null,
   "id": "0cfc2a04",
   "metadata": {},
   "outputs": [],
   "source": [
    "async def test_concurrent_calls():\n",
    "    start_time = time.perf_counter()\n",
    "\n",
    "    async def call_function(i):\n",
    "        print(f\"Task {i} started\")\n",
    "        try:\n",
    "            result = await fetch_responses_openai(\n",
    "                model=\"gpt-4o-mini\",\n",
    "                user_prompt=f\"Hello from task {i}\",\n",
    "                system_prompt=\"You are a helpful assistant.\",\n",
    "                max_output_tokens=100,\n",
    "                temperature=0.7,\n",
    "            )\n",
    "            print(f\"Task {i} completed with result: {result.output_text}\")\n",
    "        except Exception as e:\n",
    "            print(f\"Task {i} failed: {e}\")\n",
    "\n",
    "    # Launch 10 concurrent tasks\n",
    "    tasks = [call_function(i) for i in range(10)]\n",
    "    await asyncio.gather(*tasks)\n",
    "\n",
    "    total_time = time.perf_counter() - start_time\n",
    "    print(f\"Total time for 10 tasks: {total_time:.2f} seconds\")"
   ]
  },
  {
   "cell_type": "code",
   "execution_count": null,
   "id": "be70a36c",
   "metadata": {},
   "outputs": [],
   "source": [
    "await test_concurrent_calls()"
   ]
  },
  {
   "cell_type": "markdown",
   "id": "be28a31d",
   "metadata": {},
   "source": [
    "## Setup Construction Pipeline"
   ]
  },
  {
   "cell_type": "markdown",
   "id": "bb8e7414",
   "metadata": {},
   "source": [
    "### Initialize Competency Questions"
   ]
  },
  {
   "cell_type": "code",
   "execution_count": null,
   "id": "7d226b42",
   "metadata": {},
   "outputs": [],
   "source": [
    "ontology_purpose=\"to model the interrelationships and dynamics of companies listed on the Main and ACE Markets in Malaysia, using only information sourced from listing requirements, company prospectuses, and company reports available through Bursa Malaysia. The model emphasizes strategic aspects, including—but not limited to—executives, directors, management team members, major competitors, business partners, suppliers, products and services, as well as location-specific details such as exports, imports, operations, and other relevant activities. This ontology powers a knowledge graph that enables graph-based Retrieval-Augmented Generation (RAG) to assist retail investors in conducting fundamental analysis.\""
   ]
  },
  {
   "cell_type": "code",
   "execution_count": null,
   "id": "7a432a26",
   "metadata": {},
   "outputs": [],
   "source": [
    "ontology_config: OntologyStorageConfig = {\n",
    "    'connection_uri': mongo_db_uri,\n",
    "    'database_name': 'ogmyrag',\n",
    "    'collection_name': 'ontology'\n",
    "}"
   ]
  },
  {
   "cell_type": "code",
   "execution_count": null,
   "id": "9385d159",
   "metadata": {},
   "outputs": [],
   "source": [
    "cq_config: CompetencyQuestionsStorageConfig = {\n",
    "    'connection_uri': mongo_db_uri,\n",
    "    'database_name': 'ogmyrag',\n",
    "    'collection_name': 'competency_questions'\n",
    "}"
   ]
  },
  {
   "cell_type": "code",
   "execution_count": null,
   "id": "df67faff",
   "metadata": {},
   "outputs": [],
   "source": [
    "try:\n",
    "   onto_system = OntologyConstructionSystem(\n",
    "      ontology_purpose=ontology_purpose,\n",
    "      ontology_config=ontology_config,\n",
    "      cq_config=cq_config\n",
    "   )\n",
    "except Exception as e:\n",
    "   ontology_construction_logger.error(f\"Error while creating ontology construction system: {e}\")"
   ]
  },
  {
   "cell_type": "code",
   "execution_count": null,
   "id": "1a8d13e1",
   "metadata": {},
   "outputs": [],
   "source": [
    "await onto_system.generate_competency_questions(\n",
    "   personality_num=1,\n",
    "   task_num=10,\n",
    "   question_num=4,\n",
    "   model=\"gpt-4.1-mini\"\n",
    ")"
   ]
  },
  {
   "cell_type": "code",
   "execution_count": null,
   "id": "e4de05d0",
   "metadata": {},
   "outputs": [],
   "source": []
  }
 ],
 "metadata": {
  "kernelspec": {
   "display_name": "ogmyrag",
   "language": "python",
   "name": "python3"
  },
  "language_info": {
   "codemirror_mode": {
    "name": "ipython",
    "version": 3
   },
   "file_extension": ".py",
   "mimetype": "text/x-python",
   "name": "python",
   "nbconvert_exporter": "python",
   "pygments_lexer": "ipython3",
   "version": "3.10.16"
  }
 },
 "nbformat": 4,
 "nbformat_minor": 5
}

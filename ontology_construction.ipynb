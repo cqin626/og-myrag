{
 "cells": [
  {
   "cell_type": "markdown",
   "id": "090d4d54",
   "metadata": {},
   "source": [
    "# Pipeline of Automated Ontology Construction"
   ]
  },
  {
   "cell_type": "markdown",
   "id": "5590e959",
   "metadata": {},
   "source": [
    "## Initialization"
   ]
  },
  {
   "cell_type": "code",
   "execution_count": 1,
   "id": "011e9c6e",
   "metadata": {},
   "outputs": [],
   "source": [
    "import logging\n",
    "import os\n",
    "import nest_asyncio\n",
    "from dotenv import load_dotenv"
   ]
  },
  {
   "cell_type": "code",
   "execution_count": null,
   "id": "01bdc33a",
   "metadata": {},
   "outputs": [],
   "source": [
    "from ogmyrag.my_logging import configure_logger\n",
    "from ogmyrag.base import MongoStorageConfig\n",
    "from ogmyrag.ontology_construction import OntologyConstructionSystem"
   ]
  },
  {
   "cell_type": "code",
   "execution_count": null,
   "id": "e20ffe96",
   "metadata": {},
   "outputs": [],
   "source": [
    "# Setup logging\n",
    "\n",
    "ontology_construction_logger = configure_logger(name='ontology_construction',log_level=logging.DEBUG, log_file='logs/ontology_construction.log')\n",
    "openai_logger = configure_logger(name='openai',log_level=logging.INFO, log_file='logs/openai.log', to_console=False)\n",
    "mongo_logger = configure_logger(name='mongodb',log_level=logging.DEBUG, log_file='logs/mongodb.log', to_console=False)"
   ]
  },
  {
   "cell_type": "code",
   "execution_count": 4,
   "id": "13251b3f",
   "metadata": {},
   "outputs": [],
   "source": [
    "# Patch event loop to support re-entry in Jupyter\n",
    "\n",
    "nest_asyncio.apply()"
   ]
  },
  {
   "cell_type": "code",
   "execution_count": 5,
   "id": "5fed8ee0",
   "metadata": {},
   "outputs": [],
   "source": [
    "# Load environment variables\n",
    "\n",
    "load_dotenv(override=True)\n",
    "\n",
    "mongo_db_uri = os.getenv(\"MONGO_DB_URI\",\"\")\n",
    "\n",
    "openai_api_key = os.getenv(\"OPENAI_API_KEY\",\"\")\n",
    "\n",
    "neo4j_uri = os.getenv(\"NEO4J_URI\",\"\")\n",
    "neo4j_username = os.getenv(\"NEO4J_USERNAME\",\"\")\n",
    "neo4j_password = os.getenv(\"NEO4J_PASSWORD\",\"\")\n",
    "\n",
    "if not mongo_db_uri:\n",
    "    ontology_construction_logger.error(\"Please set the MONGO_DB_URI environment variable.\")\n",
    "\n",
    "if not openai_api_key:\n",
    "    ontology_construction_logger.error(\"Please set the OPENAI_API_KEY environment variable.\")\n",
    "\n",
    "if not neo4j_uri or not neo4j_username or not neo4j_password:\n",
    "    ontology_construction_logger.error(\"Please set the NE04J_URI, NE04J_USERNAME, and NE04J_PASSWORD environment variables.\")"
   ]
  },
  {
   "cell_type": "markdown",
   "id": "be28a31d",
   "metadata": {},
   "source": [
    "## Setup Construction Pipeline"
   ]
  },
  {
   "cell_type": "markdown",
   "id": "bb8e7414",
   "metadata": {},
   "source": [
    "### Initialize Ontology Construction System"
   ]
  },
  {
   "cell_type": "code",
   "execution_count": null,
   "id": "7a432a26",
   "metadata": {},
   "outputs": [],
   "source": [
    "ontology_config: MongoStorageConfig = {\n",
    "    'connection_uri': mongo_db_uri,\n",
    "    'database_name': 'ogmyrag',\n",
    "    'collection_name': 'ontology'\n",
    "}\n",
    "\n",
    "cq_config: MongoStorageConfig = {\n",
    "    'connection_uri': mongo_db_uri,\n",
    "    'database_name': 'ogmyrag',\n",
    "    'collection_name': 'competency_questions'\n",
    "}\n",
    "\n",
    "feedback_config: MongoStorageConfig = {\n",
    "    'connection_uri': mongo_db_uri,\n",
    "    'database_name': 'ogmyrag',\n",
    "    'collection_name': 'feedback'\n",
    "}"
   ]
  },
  {
   "cell_type": "code",
   "execution_count": 7,
   "id": "df67faff",
   "metadata": {},
   "outputs": [],
   "source": [
    "try:\n",
    "   onto_system = OntologyConstructionSystem(\n",
    "      ontology_purpose=\"to model the interrelationships and dynamics of companies listed on Malaysia's Main and ACE Markets, using data solely from Bursa Malaysia's listing requirements, prospectuses, and reports. The model emphasizes strategic and operational activities—including executives, directors, board committees, competitors, business partners, suppliers, products, services, trademarks, and technology utilization—as well as location-specific details (e.g., exports, imports, operations) and regulatory aspects (e.g., corporate governance, shareholder ownership, and compliance). The ontology drives a unidirectional, relationship-based knowledge graph for graph-based Retrieval-Augmented Generation (RAG), supporting retail investors in qualitative fundamental analysis and regulatory compliance assessment.\",\n",
    "      ontology_config=ontology_config,\n",
    "      cq_config=cq_config,\n",
    "      feedback_config=feedback_config\n",
    "   )\n",
    "except Exception as e:\n",
    "   ontology_construction_logger.error(f\"Error while creating ontology construction system: {e}\")"
   ]
  },
  {
   "cell_type": "markdown",
   "id": "af49bce8",
   "metadata": {},
   "source": [
    "### Generate Competency Questions"
   ]
  },
  {
   "cell_type": "code",
   "execution_count": null,
   "id": "1a8d13e1",
   "metadata": {},
   "outputs": [],
   "source": [
    "await onto_system.generate_competency_questions(\n",
    "   personality_num=1,\n",
    "   task_num=10,\n",
    "   question_num=4,\n",
    ")"
   ]
  },
  {
   "cell_type": "markdown",
   "id": "86c5aa5d",
   "metadata": {},
   "source": [
    "### Construct Ontology"
   ]
  },
  {
   "cell_type": "code",
   "execution_count": null,
   "id": "e4de05d0",
   "metadata": {},
   "outputs": [],
   "source": [
    "files = {\n",
    "   \"Section 8\": \"adb_prospectus_section_8.txt\",\n",
    "   \"Section 9a\": \"adb_prospectus_section_9a.txt\",\n",
    "   \"Section 9b\": \"adb_prospectus_section_9b.txt\",\n",
    "   \"Section 10\": \"adb_prospectus_section_10.txt\",\n",
    "   \"Section 11\": \"adb_prospectus_section_11.txt\",\n",
    "   \"Section 12\": \"adb_prospectus_section_12.txt\",\n",
    "}\n",
    "\n",
    "for chapter_name, filename in files.items():\n",
    "    file_path = f\"adb_prospectus/{filename}\"\n",
    "    \n",
    "    with open(file_path, 'r') as file:\n",
    "        source_text = file.read()\n",
    "\n",
    "    source_text_desc = f\"{chapter_name} of the prospectus of Autocount Dotcom Berhad\"\n",
    "\n",
    "    await onto_system.handle_request(\n",
    "        source_text=source_text,\n",
    "        document_desc=source_text_desc,\n",
    "        requires_reconstruct=True\n",
    "    )\n",
    "    await onto_system.minimize_ontology()\n"
   ]
  },
  {
   "cell_type": "code",
   "execution_count": null,
   "id": "12c36d8f",
   "metadata": {},
   "outputs": [],
   "source": [
    "await onto_system.minimize_ontology()"
   ]
  },
  {
   "cell_type": "code",
   "execution_count": null,
   "id": "a01c7c80",
   "metadata": {},
   "outputs": [],
   "source": [
    "await onto_system.enhance_ontology_clarity()"
   ]
  },
  {
   "cell_type": "code",
   "execution_count": 8,
   "id": "90ffe37d",
   "metadata": {},
   "outputs": [
    {
     "name": "stderr",
     "output_type": "stream",
     "text": [
      "2025-05-14 15:36:34,521 - ontology_construction - INFO - Entities:\n",
      "  1. Person\n",
      "  - definition: An individual associated with a company, including directors, officers, employees, or advisors.\n",
      "  - llm-guidance: Extract full personal names in the order presented; remove honorifics (e.g., 'Mr.', 'Dr.') and post-nominal titles (e.g., 'Ph.D.', 'CPA').\n",
      "  - examples: Tan Hui Mei, John Lim, Siti Aminah\n",
      "\n",
      "  2. Company\n",
      "  - definition: A legal entity or organization mentioned in official company documents, such as annual reports, prospectuses, or filings.\n",
      "  - llm-guidance: Extract the full registered company name exactly as it appears in official filings; omit registration numbers, internal codes, or informal abbreviations.\n",
      "  - examples: ABC Berhad, XYZ Management Company, Trustee Services Sdn Bhd\n",
      "\n",
      "  3. BoardCommittee\n",
      "  - definition: A committee formed by a company's board of directors to oversee a specific governance or operational area.\n",
      "  - llm-guidance: Extract the exact names of board committees as listed in company reports or filings; exclude temporary task forces or informal groups.\n",
      "  - examples: Audit Committee, Remuneration Committee, Nomination Committee\n",
      "\n",
      "  4. BusinessLine\n",
      "  - definition: A distinct line of business or service offering in which a company operates.\n",
      "  - llm-guidance: Extract explicit business line names (e.g., 'mineral exploration', 'retail banking services'); exclude vague or general descriptions.\n",
      "  - examples: Mineral exploration, Semiconductor wafer manufacturing, Retail banking services, Logistics and distribution\n",
      "\n",
      "  5. Shareholder\n",
      "  - definition: An individual or legal entity holding equity shares in a company, as identified in official filings.\n",
      "  - llm-guidance: Extract the names of shareholders as listed; include share counts or percentage ownership when provided; exclude aggregated or unnamed groups.\n",
      "  - examples: Investor A (100 shares), Institutional Investor X (50,000 shares)\n",
      "\n",
      "  6. Location\n",
      "  - definition: A specific geographic area (country, region, state, or city) where a company is incorporated, operates, or conducts business.\n",
      "  - llm-guidance: Extract the most specific meaningful geographic name (country, region, state, or city) as presented; exclude street addresses, postal codes, or coordinates.\n",
      "  - examples: Malaysia, Singapore, Thailand, Indonesia\n",
      "\n",
      "  7. Product\n",
      "  - definition: A distinct physical good provided by a company under a specific name.\n",
      "  - llm-guidance: Extract names of physical goods offered by a company, including brand, edition, or model identifiers exactly as they appear; exclude services or generic descriptions.\n",
      "  - examples: Proton X70, Nestlé Milo, Petronas Primax Fuel\n",
      "\n",
      "  8. Regulation\n",
      "  - definition: A law, regulation, or official guideline governing corporate operations or compliance requirements.\n",
      "  - llm-guidance: Extract the full title and enactment year of laws, regulations, or guidelines as stated (e.g., 'Personal Data Protection Act, 2010').\n",
      "  - examples: Personal Data Protection Act, 2010, Local Government Act, 1976, Employees' Minimum Standards of Housing, Accommodation and Amenities Act, 1990, Prospectus Guidelines – Equity, International Standard on Assurance Engagements 3420\n",
      "\n",
      "  9. Capability\n",
      "  - definition: A specific technology, methodology, process, or strategic approach employed by a company.\n",
      "  - llm-guidance: Extract explicitly named capabilities (e.g., 'MySQL', 'SAP ERP', 'Lean Manufacturing', 'Blockchain') when a company is stated to use or implement them; exclude generic terms like 'technology' or 'system'.\n",
      "  - examples: MySQL, SAP ERP, Lean Manufacturing, Blockchain, Agile Methodology\n",
      "\n",
      "  10. ListingMarket\n",
      "  - definition: The stock exchange market segment on which a company lists its shares (e.g., Main Market, ACE Market).\n",
      "  - llm-guidance: Extract the specific market segment name as used in listing documents (e.g., 'ACE Market', 'Main Market'); exclude references to geographic or product markets.\n",
      "  - examples: ACE Market, Main Market\n",
      "\n",
      "  11. Service\n",
      "  - definition: A non-tangible offering provided by a company to customers or partners.\n",
      "  - llm-guidance: Extract distinct service names as presented, such as 'consultation', 'software implementation', 'market research'; exclude generic categories without specific service titles.\n",
      "  - examples: Consultation, Software customisation, Market research, Strategy consulting, Technical support and maintenance, User training\n",
      "\n",
      "  12. RelatedPartyTransaction\n",
      "  - definition: A transaction entered into by a company with its related parties (e.g., directors, substantial shareholders, or their affiliates).\n",
      "  - llm-guidance: Extract any mention of transactions specifically described as related party transactions, including recurrent transactions, with details of the parties involved.\n",
      "  - examples: Sale of IT services to a director-linked company, Purchase of office supplies from a shareholder’s affiliate\n",
      "\n",
      "Relationships:\n",
      "  1. hasDirector\n",
      "  - source: Company\n",
      "  - target: Person\n",
      "  - llm-guidance: Apply when a document explicitly designates a person as a board director, including titles like chairman, executive director, or independent director.\n",
      "  - examples: ABC Berhad hasDirector Tan Hui Mei\n",
      "\n",
      "  2. hasOfficer\n",
      "  - source: Company\n",
      "  - target: Person\n",
      "  - llm-guidance: Apply when a document explicitly describes a person as a corporate officer (e.g., CEO, CFO, Managing Partner) in official filings.\n",
      "  - examples: XYZ Berhad hasOfficer John Lim\n",
      "\n",
      "  3. hasBoardCommittee\n",
      "  - source: Company\n",
      "  - target: BoardCommittee\n",
      "  - llm-guidance: Apply when a document states the company has established or maintains a formal board committee by name.\n",
      "  - examples: ABC Berhad hasBoardCommittee Audit Committee\n",
      "\n",
      "  4. hasMember\n",
      "  - source: BoardCommittee\n",
      "  - target: Person\n",
      "  - llm-guidance: Apply when a document explicitly lists an individual as a member of a board committee.\n",
      "  - examples: Audit Committee hasMember Tan Hui Mei\n",
      "\n",
      "  5. engagesIn\n",
      "  - source: Company\n",
      "  - target: BusinessLine\n",
      "  - llm-guidance: Apply when a document explicitly states the company conducts a named line of business; extract explicit business line names and exclude vague mentions.\n",
      "  - examples: ABC Berhad engagesIn Mineral exploration\n",
      "\n",
      "  6. hasSubsidiary\n",
      "  - source: Company\n",
      "  - target: Company\n",
      "  - llm-guidance: Apply when a document explicitly states one company is a subsidiary of another; exclude joint ventures or associates.\n",
      "  - examples: ABC Berhad hasSubsidiary XYZ Sdn Bhd\n",
      "\n",
      "  7. hasShareholder\n",
      "  - source: Company\n",
      "  - target: Shareholder\n",
      "  - llm-guidance: Apply when a document lists an individual or entity as a shareholder; include share counts or percentage ownership when provided; exclude grouped or aggregated entries.\n",
      "  - examples: Autocount Dotcom Berhad hasShareholder CCP (169,357,196 shares, 30.76%)\n",
      "\n",
      "  8. operatesIn\n",
      "  - source: Company\n",
      "  - target: Location\n",
      "  - llm-guidance: Apply when a document states that a company conducts operations or derives significant revenue in a specific location; extract the most specific geographic name.\n",
      "  - examples: Autocount Dotcom Berhad operatesIn Malaysia\n",
      "\n",
      "  9. hasSupplier\n",
      "  - source: Company\n",
      "  - target: Company\n",
      "  - llm-guidance: Apply when a document identifies one company as procuring goods or services from another company designated as a supplier.\n",
      "  - examples: Autocount Dotcom Berhad hasSupplier XYZ Supplies Sdn Bhd\n",
      "\n",
      "  10. offersProduct\n",
      "  - source: Company\n",
      "  - target: Product\n",
      "  - llm-guidance: Apply when a document explicitly describes a company offering, launching, or marketing a physical product by name; include official product names.\n",
      "  - examples: Autocount Dotcom Berhad offersProduct AutoCount Accounting\n",
      "\n",
      "  11. providesService\n",
      "  - source: Company\n",
      "  - target: Service\n",
      "  - llm-guidance: Apply when a document lists a specific service provided by a company by name; include official service titles.\n",
      "  - examples: SMITH ZANDER INTERNATIONAL SDN BHD providesService Market research\n",
      "\n",
      "  12. hasCompetitor\n",
      "  - source: Company\n",
      "  - target: Company\n",
      "  - llm-guidance: Apply when a document identifies another company as a competitor.\n",
      "  - examples: ABC Berhad hasCompetitor XYZ Berhad\n",
      "\n",
      "  13. exportsTo\n",
      "  - source: Company\n",
      "  - target: Location\n",
      "  - llm-guidance: Apply when a document explicitly states that a company exports products or services to a specific location.\n",
      "  - examples: ABC Berhad exportsTo Japan\n",
      "\n",
      "  14. compliesWith\n",
      "  - source: Company\n",
      "  - target: Regulation\n",
      "  - llm-guidance: Apply when a document states that a company complies with or adopts measures under a specific law or regulation; capture the regulation title and year.\n",
      "  - examples: ACSB compliesWith Personal Data Protection Act, 2010\n",
      "\n",
      "  15. usesCapability\n",
      "  - source: Company\n",
      "  - target: Capability\n",
      "  - llm-guidance: Apply when a document explicitly states that a company uses, implements, or deploys a named capability; extract the exact term as used.\n",
      "  - examples: ABC Berhad usesCapability MySQL\n",
      "\n",
      "  16. listedOn\n",
      "  - source: Company\n",
      "  - target: ListingMarket\n",
      "  - llm-guidance: Apply when a document states that a company is listed on a specific stock exchange market segment, extracting the precise segment name.\n",
      "  - examples: Autocount Dotcom Berhad listedOn ACE Market\n",
      "\n",
      "  17. hasRelatedPartyTransaction\n",
      "  - source: Company\n",
      "  - target: RelatedPartyTransaction\n",
      "  - llm-guidance: Apply when a company is described as entering into a transaction with a related party, such as directors or substantial shareholders.\n",
      "  - examples: Autocount Dotcom Berhad hasRelatedPartyTransaction Sale of office supplies to a shareholder’s affiliate\n",
      "\n"
     ]
    }
   ],
   "source": [
    "from ogmyrag.util import get_formatted_ontology\n",
    "\n",
    "ontology_construction_logger.info(get_formatted_ontology(data=onto_system.get_current_onto(), exclude_entity_fields=\"is_stable\", exclude_relationship_fields=\"is_stable\"))"
   ]
  },
  {
   "cell_type": "code",
   "execution_count": null,
   "id": "9c50fde3",
   "metadata": {},
   "outputs": [],
   "source": []
  }
 ],
 "metadata": {
  "kernelspec": {
   "display_name": "ogmyrag",
   "language": "python",
   "name": "python3"
  },
  "language_info": {
   "codemirror_mode": {
    "name": "ipython",
    "version": 3
   },
   "file_extension": ".py",
   "mimetype": "text/x-python",
   "name": "python",
   "nbconvert_exporter": "python",
   "pygments_lexer": "ipython3",
   "version": "3.10.16"
  }
 },
 "nbformat": 4,
 "nbformat_minor": 5
}

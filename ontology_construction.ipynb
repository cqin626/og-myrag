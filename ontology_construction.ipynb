{
 "cells": [
  {
   "cell_type": "markdown",
   "id": "090d4d54",
   "metadata": {},
   "source": [
    "# Pipeline of Automated Ontology Construction"
   ]
  },
  {
   "cell_type": "markdown",
   "id": "5590e959",
   "metadata": {},
   "source": [
    "## Initialization"
   ]
  },
  {
   "cell_type": "code",
   "execution_count": 1,
   "id": "011e9c6e",
   "metadata": {},
   "outputs": [],
   "source": [
    "import logging\n",
    "import os\n",
    "import nest_asyncio\n",
    "from dotenv import load_dotenv"
   ]
  },
  {
   "cell_type": "code",
   "execution_count": 2,
   "id": "01bdc33a",
   "metadata": {},
   "outputs": [],
   "source": [
    "from ogmyrag.my_logging import configure_logger\n",
    "from ogmyrag.ontology_construction import (\n",
    "   StorageConfig,\n",
    "   OntologyConstructionSystem\n",
    ")"
   ]
  },
  {
   "cell_type": "code",
   "execution_count": 3,
   "id": "e20ffe96",
   "metadata": {},
   "outputs": [],
   "source": [
    "ontology_construction_logger = configure_logger(name='ontology_construction',log_level=logging.DEBUG, log_file='logs/ontology_construction.log')\n",
    "openai_logger = configure_logger(name='openai',log_level=logging.INFO, log_file='logs/openai.log')"
   ]
  },
  {
   "cell_type": "code",
   "execution_count": 4,
   "id": "13251b3f",
   "metadata": {},
   "outputs": [],
   "source": [
    "# Patch event loop to support re-entry in Jupyter\n",
    "\n",
    "nest_asyncio.apply()"
   ]
  },
  {
   "cell_type": "code",
   "execution_count": 5,
   "id": "5fed8ee0",
   "metadata": {},
   "outputs": [],
   "source": [
    "# Load environment variables\n",
    "\n",
    "load_dotenv(override=True)\n",
    "\n",
    "mongo_db_uri = os.getenv(\"MONGO_DB_URI\",\"\")\n",
    "\n",
    "openai_api_key = os.getenv(\"OPENAI_API_KEY\",\"\")\n",
    "\n",
    "neo4j_uri = os.getenv(\"NEO4J_URI\",\"\")\n",
    "neo4j_username = os.getenv(\"NEO4J_USERNAME\",\"\")\n",
    "neo4j_password = os.getenv(\"NEO4J_PASSWORD\",\"\")\n",
    "\n",
    "if not mongo_db_uri:\n",
    "    ontology_construction_logger.error(\"Please set the MONGO_DB_URI environment variable.\")\n",
    "\n",
    "if not openai_api_key:\n",
    "    ontology_construction_logger.error(\"Please set the OPENAI_API_KEY environment variable.\")\n",
    "\n",
    "if not neo4j_uri or not neo4j_username or not neo4j_password:\n",
    "    ontology_construction_logger.error(\"Please set the NE04J_URI, NE04J_USERNAME, and NE04J_PASSWORD environment variables.\")"
   ]
  },
  {
   "cell_type": "markdown",
   "id": "be28a31d",
   "metadata": {},
   "source": [
    "## Setup Construction Pipeline"
   ]
  },
  {
   "cell_type": "markdown",
   "id": "bb8e7414",
   "metadata": {},
   "source": [
    "### Initialize Ontology Construction System"
   ]
  },
  {
   "cell_type": "code",
   "execution_count": 6,
   "id": "7a432a26",
   "metadata": {},
   "outputs": [],
   "source": [
    "ontology_config: StorageConfig = {\n",
    "    'connection_uri': mongo_db_uri,\n",
    "    'database_name': 'ogmyrag',\n",
    "    'collection_name': 'ontology'\n",
    "}\n",
    "\n",
    "cq_config: StorageConfig = {\n",
    "    'connection_uri': mongo_db_uri,\n",
    "    'database_name': 'ogmyrag',\n",
    "    'collection_name': 'competency_questions'\n",
    "}\n",
    "\n",
    "feedback_config: StorageConfig = {\n",
    "    'connection_uri': mongo_db_uri,\n",
    "    'database_name': 'ogmyrag',\n",
    "    'collection_name': 'feedback'\n",
    "}"
   ]
  },
  {
   "cell_type": "code",
   "execution_count": null,
   "id": "df67faff",
   "metadata": {},
   "outputs": [],
   "source": [
    "try:\n",
    "   onto_system = OntologyConstructionSystem(\n",
    "      ontology_purpose=\"to model the interrelationships and dynamics of companies listed on Malaysia's Main and ACE Markets, using data solely from Bursa Malaysia's listing requirements, prospectuses, and reports. The model emphasizes strategic and operational activities—including executives, directors, board committees, competitors, business partners, suppliers, products, services, trademarks, and technology utilization—as well as location-specific details (e.g., exports, imports, operations) and regulatory aspects (e.g., corporate governance, shareholder ownership, and compliance). The ontology drives a unidirectional, relationship-based knowledge graph for graph-based Retrieval-Augmented Generation (RAG), supporting retail investors in qualitative fundamental analysis and regulatory compliance assessment.\",\n",
    "      ontology_config=ontology_config,\n",
    "      cq_config=cq_config,\n",
    "      feedback_config=feedback_config\n",
    "   )\n",
    "except Exception as e:\n",
    "   ontology_construction_logger.error(f\"Error while creating ontology construction system: {e}\")"
   ]
  },
  {
   "cell_type": "markdown",
   "id": "af49bce8",
   "metadata": {},
   "source": [
    "### Generate Competency Questions"
   ]
  },
  {
   "cell_type": "code",
   "execution_count": null,
   "id": "1a8d13e1",
   "metadata": {},
   "outputs": [],
   "source": [
    "await onto_system.generate_competency_questions(\n",
    "   personality_num=1,\n",
    "   task_num=10,\n",
    "   question_num=4,\n",
    ")"
   ]
  },
  {
   "cell_type": "markdown",
   "id": "86c5aa5d",
   "metadata": {},
   "source": [
    "### Construct Ontology"
   ]
  },
  {
   "cell_type": "code",
   "execution_count": null,
   "id": "e4de05d0",
   "metadata": {},
   "outputs": [],
   "source": [
    "files = {\n",
    "   \"Section 2\": \"adb_prospectus_section_2.txt\",\n",
    "   \"Section 3\": \"adb_prospectus_section_3.txt\",\n",
    "   \"Section 4\": \"adb_prospectus_section_4.txt\",\n",
    "   \"Section 5\": \"adb_prospectus_section_5.txt\",\n",
    "   \"Section 6\": \"adb_prospectus_section_6.txt\",\n",
    "   \"Section 7a\": \"adb_prospectus_section_7a.txt\",\n",
    "   \"Section 7b\": \"adb_prospectus_section_7b.txt\",\n",
    "   \"Section 7c\": \"adb_prospectus_section_7c.txt\",\n",
    "}\n",
    "\n",
    "\n",
    "for chapter_name, filename in files.items():\n",
    "    file_path = f\"adb_prospectus/{filename}\"\n",
    "    \n",
    "    with open(file_path, 'r') as file:\n",
    "        source_text = file.read()\n",
    "\n",
    "    source_text_desc = f\"{chapter_name} of the prospectus of Autocount Dotcom Berhad\"\n",
    "\n",
    "    await onto_system.handle_request(\n",
    "        source_text=source_text,\n",
    "        document_desc=source_text_desc,\n",
    "        requires_reconstruct=True\n",
    "    )\n",
    "    await onto_system.minimize_ontology()\n"
   ]
  },
  {
   "cell_type": "code",
   "execution_count": 9,
   "id": "12c36d8f",
   "metadata": {},
   "outputs": [
    {
     "name": "stderr",
     "output_type": "stream",
     "text": [
      "2025-05-13 22:04:27,224 - ontology_construction - INFO - OntologyComplexityReductionAgent is called\n",
      "2025-05-13 22:04:27,227 - openai - INFO - Sending query to o4-mini using ResponsesAPI\n",
      "2025-05-13 22:07:12,988 - openai - INFO - Received response from ResponsesAPI:\n",
      " Response(id='resp_6823516dcad8819899d584b4fd8d9e1e0571acbf1a26d837', created_at=1747145070.0, error=None, incomplete_details=None, instructions=None, metadata={}, model='o4-mini-2025-04-16', object='response', output=[ResponseReasoningItem(id='rs_6823518ecf2c8198820863becc9515e30571acbf1a26d837', summary=[], type='reasoning', status=None), ResponseOutputMessage(id='msg_6823520d2a8c8198ba431dd9ba5414510571acbf1a26d837', content=[ResponseOutputText(annotations=[], text='{\"updated_ontology\":{\"entities\":{\"Person\":{\"definition\":\"An individual named in company documents, such as directors, officers, employees, or advisors.\",\"llm-guidance\":\"Extract full personal names in the order presented, excluding honorifics (e.g., \\'Mr.\\', \\'Dr.\\') and post-nominal titles (e.g., \\'Ph.D.\\', \\'CPA\\').\",\"is_stable\":\"FALSE\",\"examples\":[\"Tan Hui Mei\",\"John Lim\",\"Siti Aminah\"]},\"Company\":{\"definition\":\"A legal entity referenced in listing documents or filings, including listed issuers, management companies, trustees, or trustee-managers.\",\"llm-guidance\":\"Extract the exact registered legal name as it appears in official filings, without registration numbers, abbreviations, or informal acronyms.\",\"is_stable\":\"FALSE\",\"examples\":[\"ABC Berhad\",\"XYZ Management Company\",\"Trustee Services Sdn Bhd\"]},\"BoardCommittee\":{\"definition\":\"A formal committee created by a company\\'s board of directors to oversee a specific function (e.g., audit, remuneration, risk management, nomination).\",\"llm-guidance\":\"Extract exact names of board committees as listed in company reports or filings; exclude temporary task forces or informal groups.\",\"is_stable\":\"FALSE\",\"examples\":[\"Audit Committee\",\"Remuneration Committee\",\"Nomination Committee\"]},\"BusinessActivity\":{\"definition\":\"A specific line of business or service area of a company as described in official documents.\",\"llm-guidance\":\"Extract explicit business activities or service lines named (e.g., \\'mineral exploration\\', \\'retail banking\\'); exclude vague or generic terms.\",\"is_stable\":\"FALSE\",\"examples\":[\"Mineral exploration\",\"Semiconductor wafer manufacturing\",\"Retail banking services\",\"Logistics and distribution\"]},\"Location\":{\"definition\":\"A geographic area where a company is incorporated, operates, or conducts activities, such as a country, region, state, or city.\",\"llm-guidance\":\"Extract the most specific meaningful geographic name (country, region, state, or city) as presented; exclude street addresses, postal codes, or coordinates.\",\"is_stable\":\"FALSE\",\"examples\":[\"Malaysia\",\"Singapore\",\"Thailand\",\"Indonesia\"]},\"Product\":{\"definition\":\"A distinct product or service offering provided by a company, such as software applications, modules, or related services.\",\"llm-guidance\":\"Extract names of products or services explicitly offered, including editions, modules, or brand names as they appear in official documentation; exclude generic descriptions without a clear product name.\",\"is_stable\":\"FALSE\",\"examples\":[\"AutoCount Accounting\",\"AutoCount On The Go\",\"eWaiter\"]},\"Trademark\":{\"definition\":\"A registered or pending trademark owned or applied for by a company, including its registration or application number and status.\",\"llm-guidance\":\"Extract trademark names along with their application or registration numbers and status if provided.\",\"is_stable\":\"FALSE\",\"examples\":[\"2017009060\",\"TM2019016108\",\"40201909963S\"]},\"Regulation\":{\"definition\":\"A law or statutory act governing business operations and compliance requirements.\",\"llm-guidance\":\"Extract the full title and enactment year of laws or regulations as stated (e.g., \\'Personal Data Protection Act, 2010\\').\",\"is_stable\":\"FALSE\",\"examples\":[\"Personal Data Protection Act, 2010\",\"Local Government Act, 1976\",\"Employees\\' Minimum Standards of Housing, Accommodation and Amenities Act, 1990\"]},\"Capability\":{\"definition\":\"A specific technology, methodology, process, or strategic approach employed by a company.\",\"llm-guidance\":\"Extract explicitly named capabilities (e.g., \\'MySQL\\', \\'SAP ERP\\', \\'Lean Manufacturing\\', \\'Blockchain\\') when a company is stated to use or implement them; exclude generic terms like \\'technology\\' or \\'system\\'.\",\"is_stable\":\"FALSE\",\"examples\":[\"MySQL\",\"SAP ERP\",\"Lean Manufacturing\",\"Blockchain\",\"Agile Methodology\"]}},\"relationships\":{\"hasDirector\":{\"source\":\"Company\",\"target\":\"Person\",\"llm-guidance\":\"Apply when a document explicitly designates a person as a board director, including titles like chairman, executive director, or independent director.\",\"is_stable\":\"FALSE\",\"examples\":[\"ABC Berhad hasDirector Tan Hui Mei\"]},\"hasOfficer\":{\"source\":\"Company\",\"target\":\"Person\",\"llm-guidance\":\"Use when a person is explicitly described as a corporate officer (e.g., CEO, CFO) in official documents.\",\"is_stable\":\"FALSE\",\"examples\":[\"XYZ Berhad hasOfficer John Lim\"]},\"hasCommittee\":{\"source\":\"Company\",\"target\":\"BoardCommittee\",\"llm-guidance\":\"Apply when a document states the company has established or maintains a formal board committee by name.\",\"is_stable\":\"FALSE\",\"examples\":[\"ABC Berhad hasCommittee Audit Committee\"]},\"hasMember\":{\"source\":\"BoardCommittee\",\"target\":\"Person\",\"llm-guidance\":\"Apply when a document explicitly lists an individual as a member of a board committee.\",\"is_stable\":\"FALSE\",\"examples\":[\"Audit Committee hasMember Tan Hui Mei\"]},\"engagesIn\":{\"source\":\"Company\",\"target\":\"BusinessActivity\",\"llm-guidance\":\"Apply when a document explicitly describes the company\\'s involvement in a specific business activity or service line.\",\"is_stable\":\"FALSE\",\"examples\":[\"ABC Berhad engagesIn Mineral exploration\"]},\"hasSubsidiary\":{\"source\":\"Company\",\"target\":\"Company\",\"llm-guidance\":\"Use when a document explicitly states one company is a subsidiary of another; exclude joint ventures or associates.\",\"is_stable\":\"FALSE\",\"examples\":[\"ABC Berhad hasSubsidiary XYZ Sdn Bhd\"]},\"operatesIn\":{\"source\":\"Company\",\"target\":\"Location\",\"llm-guidance\":\"Use when a document states that a company conducts operations or derives significant revenue in a specific location; extract the most specific geographic name.\",\"is_stable\":\"FALSE\",\"examples\":[\"Autocount Dotcom Berhad operatesIn Malaysia\"]},\"hasSupplier\":{\"source\":\"Company\",\"target\":\"Company\",\"llm-guidance\":\"Use when a document identifies a company as procuring goods or services from another company designated as a supplier.\",\"is_stable\":\"FALSE\",\"examples\":[\"Autocount Dotcom Berhad hasSupplier XYZ Supplies Sdn Bhd\"]},\"offersProduct\":{\"source\":\"Company\",\"target\":\"Product\",\"llm-guidance\":\"Apply when a company is explicitly described as offering, launching, or marketing a product or service by name.\",\"is_stable\":\"FALSE\",\"examples\":[\"Autocount Dotcom Berhad offersProduct AutoCount Accounting\"]},\"partnersWith\":{\"source\":\"Company\",\"target\":\"Company\",\"llm-guidance\":\"Apply when a document explicitly states the company has formed a formal partnership or collaboration with another organization.\",\"is_stable\":\"FALSE\",\"examples\":[\"Autocount Dotcom Berhad partnersWith University of Malaya\"]},\"hasTrademark\":{\"source\":\"Company\",\"target\":\"Trademark\",\"llm-guidance\":\"Apply when a document discloses that a company holds or has registered a trademark.\",\"is_stable\":\"FALSE\",\"examples\":[\"ACSB hasTrademark 2017009060\"]},\"compliesWith\":{\"source\":\"Company\",\"target\":\"Regulation\",\"llm-guidance\":\"Use when a document states that a company complies with or adopts policies under a specific law or regulation.\",\"is_stable\":\"FALSE\",\"examples\":[\"ACSB compliesWith Personal Data Protection Act, 2010\"]},\"usesCapability\":{\"source\":\"Company\",\"target\":\"Capability\",\"llm-guidance\":\"Apply when a document explicitly states that a company uses or implements a named capability for business purposes.\",\"is_stable\":\"FALSE\",\"examples\":[\"ABC Berhad uses MySQL\",\"XYZ Berhad uses SAP ERP\"]},\"hasCompetitor\":{\"source\":\"Company\",\"target\":\"Company\",\"llm-guidance\":\"Use when a document identifies another company as a competitor.\",\"is_stable\":\"FALSE\",\"examples\":[\"ABC Berhad hasCompetitor XYZ Berhad\"]},\"exportsTo\":{\"source\":\"Company\",\"target\":\"Location\",\"llm-guidance\":\"Use when a document explicitly states that a company exports products or services to a specific location.\",\"is_stable\":\"FALSE\",\"examples\":[\"ABC Berhad exportsTo Japan\"]}}},\"removed_entities\":{\"Shareholder\":\"Removed because shareholding structure is not directly relevant to the ontology\\'s focus on strategic operational activities and regulatory compliance.\"},\"removed_relationships\":{\"hasShareholder\":\"Removed because the Shareholder entity was removed, and shareholding relationships are not essential to the ontology\\'s intended purpose.\"},\"note\":\"\"}', type='output_text')], role='assistant', status='completed', type='message')], parallel_tool_calls=True, temperature=1.0, tool_choice='auto', tools=[], top_p=1.0, max_output_tokens=50000, previous_response_id=None, reasoning=Reasoning(effort='medium', generate_summary=None, summary=None), status='completed', text=ResponseTextConfig(format=ResponseFormatText(type='text')), truncation='disabled', usage=ResponseUsage(input_tokens=4345, input_tokens_details=InputTokensDetails(cached_tokens=0), output_tokens=5850, output_tokens_details=OutputTokensDetails(reasoning_tokens=4160), total_tokens=10195), user=None, service_tier='default', store=True)\n",
      "2025-05-13 22:07:12,992 - ontology_construction - INFO - OntologyComplexityReductionAgent\n",
      "Ontology complexity reduction response details:\n",
      "{\n",
      "  \"id\": \"resp_6823516dcad8819899d584b4fd8d9e1e0571acbf1a26d837\",\n",
      "  \"created_at\": 1747145070.0,\n",
      "  \"error\": null,\n",
      "  \"incomplete_details\": null,\n",
      "  \"instructions\": null,\n",
      "  \"metadata\": {},\n",
      "  \"model\": \"o4-mini-2025-04-16\",\n",
      "  \"object\": \"response\",\n",
      "  \"output\": [\n",
      "    {\n",
      "      \"id\": \"rs_6823518ecf2c8198820863becc9515e30571acbf1a26d837\",\n",
      "      \"summary\": [],\n",
      "      \"type\": \"reasoning\"\n",
      "    },\n",
      "    {\n",
      "      \"id\": \"msg_6823520d2a8c8198ba431dd9ba5414510571acbf1a26d837\",\n",
      "      \"content\": [\n",
      "        {\n",
      "          \"annotations\": [],\n",
      "          \"text\": \"{\\\"updated_ontology\\\":{\\\"entities\\\":{\\\"Person\\\":{\\\"definition\\\":\\\"An individual named in company documents, such as directors, officers, employees, or advisors.\\\",\\\"llm-guidance\\\":\\\"Extract full personal names in the order presented, excluding honorifics (e.g., 'Mr.', 'Dr.') and post-nominal titles (e.g., 'Ph.D.', 'CPA').\\\",\\\"is_stable\\\":\\\"FALSE\\\",\\\"examples\\\":[\\\"Tan Hui Mei\\\",\\\"John Lim\\\",\\\"Siti Aminah\\\"]},\\\"Company\\\":{\\\"definition\\\":\\\"A legal entity referenced in listing documents or filings, including listed issuers, management companies, trustees, or trustee-managers.\\\",\\\"llm-guidance\\\":\\\"Extract the exact registered legal name as it appears in official filings, without registration numbers, abbreviations, or informal acronyms.\\\",\\\"is_stable\\\":\\\"FALSE\\\",\\\"examples\\\":[\\\"ABC Berhad\\\",\\\"XYZ Management Company\\\",\\\"Trustee Services Sdn Bhd\\\"]},\\\"BoardCommittee\\\":{\\\"definition\\\":\\\"A formal committee created by a company's board of directors to oversee a specific function (e.g., audit, remuneration, risk management, nomination).\\\",\\\"llm-guidance\\\":\\\"Extract exact names of board committees as listed in company reports or filings; exclude temporary task forces or informal groups.\\\",\\\"is_stable\\\":\\\"FALSE\\\",\\\"examples\\\":[\\\"Audit Committee\\\",\\\"Remuneration Committee\\\",\\\"Nomination Committee\\\"]},\\\"BusinessActivity\\\":{\\\"definition\\\":\\\"A specific line of business or service area of a company as described in official documents.\\\",\\\"llm-guidance\\\":\\\"Extract explicit business activities or service lines named (e.g., 'mineral exploration', 'retail banking'); exclude vague or generic terms.\\\",\\\"is_stable\\\":\\\"FALSE\\\",\\\"examples\\\":[\\\"Mineral exploration\\\",\\\"Semiconductor wafer manufacturing\\\",\\\"Retail banking services\\\",\\\"Logistics and distribution\\\"]},\\\"Location\\\":{\\\"definition\\\":\\\"A geographic area where a company is incorporated, operates, or conducts activities, such as a country, region, state, or city.\\\",\\\"llm-guidance\\\":\\\"Extract the most specific meaningful geographic name (country, region, state, or city) as presented; exclude street addresses, postal codes, or coordinates.\\\",\\\"is_stable\\\":\\\"FALSE\\\",\\\"examples\\\":[\\\"Malaysia\\\",\\\"Singapore\\\",\\\"Thailand\\\",\\\"Indonesia\\\"]},\\\"Product\\\":{\\\"definition\\\":\\\"A distinct product or service offering provided by a company, such as software applications, modules, or related services.\\\",\\\"llm-guidance\\\":\\\"Extract names of products or services explicitly offered, including editions, modules, or brand names as they appear in official documentation; exclude generic descriptions without a clear product name.\\\",\\\"is_stable\\\":\\\"FALSE\\\",\\\"examples\\\":[\\\"AutoCount Accounting\\\",\\\"AutoCount On The Go\\\",\\\"eWaiter\\\"]},\\\"Trademark\\\":{\\\"definition\\\":\\\"A registered or pending trademark owned or applied for by a company, including its registration or application number and status.\\\",\\\"llm-guidance\\\":\\\"Extract trademark names along with their application or registration numbers and status if provided.\\\",\\\"is_stable\\\":\\\"FALSE\\\",\\\"examples\\\":[\\\"2017009060\\\",\\\"TM2019016108\\\",\\\"40201909963S\\\"]},\\\"Regulation\\\":{\\\"definition\\\":\\\"A law or statutory act governing business operations and compliance requirements.\\\",\\\"llm-guidance\\\":\\\"Extract the full title and enactment year of laws or regulations as stated (e.g., 'Personal Data Protection Act, 2010').\\\",\\\"is_stable\\\":\\\"FALSE\\\",\\\"examples\\\":[\\\"Personal Data Protection Act, 2010\\\",\\\"Local Government Act, 1976\\\",\\\"Employees' Minimum Standards of Housing, Accommodation and Amenities Act, 1990\\\"]},\\\"Capability\\\":{\\\"definition\\\":\\\"A specific technology, methodology, process, or strategic approach employed by a company.\\\",\\\"llm-guidance\\\":\\\"Extract explicitly named capabilities (e.g., 'MySQL', 'SAP ERP', 'Lean Manufacturing', 'Blockchain') when a company is stated to use or implement them; exclude generic terms like 'technology' or 'system'.\\\",\\\"is_stable\\\":\\\"FALSE\\\",\\\"examples\\\":[\\\"MySQL\\\",\\\"SAP ERP\\\",\\\"Lean Manufacturing\\\",\\\"Blockchain\\\",\\\"Agile Methodology\\\"]}},\\\"relationships\\\":{\\\"hasDirector\\\":{\\\"source\\\":\\\"Company\\\",\\\"target\\\":\\\"Person\\\",\\\"llm-guidance\\\":\\\"Apply when a document explicitly designates a person as a board director, including titles like chairman, executive director, or independent director.\\\",\\\"is_stable\\\":\\\"FALSE\\\",\\\"examples\\\":[\\\"ABC Berhad hasDirector Tan Hui Mei\\\"]},\\\"hasOfficer\\\":{\\\"source\\\":\\\"Company\\\",\\\"target\\\":\\\"Person\\\",\\\"llm-guidance\\\":\\\"Use when a person is explicitly described as a corporate officer (e.g., CEO, CFO) in official documents.\\\",\\\"is_stable\\\":\\\"FALSE\\\",\\\"examples\\\":[\\\"XYZ Berhad hasOfficer John Lim\\\"]},\\\"hasCommittee\\\":{\\\"source\\\":\\\"Company\\\",\\\"target\\\":\\\"BoardCommittee\\\",\\\"llm-guidance\\\":\\\"Apply when a document states the company has established or maintains a formal board committee by name.\\\",\\\"is_stable\\\":\\\"FALSE\\\",\\\"examples\\\":[\\\"ABC Berhad hasCommittee Audit Committee\\\"]},\\\"hasMember\\\":{\\\"source\\\":\\\"BoardCommittee\\\",\\\"target\\\":\\\"Person\\\",\\\"llm-guidance\\\":\\\"Apply when a document explicitly lists an individual as a member of a board committee.\\\",\\\"is_stable\\\":\\\"FALSE\\\",\\\"examples\\\":[\\\"Audit Committee hasMember Tan Hui Mei\\\"]},\\\"engagesIn\\\":{\\\"source\\\":\\\"Company\\\",\\\"target\\\":\\\"BusinessActivity\\\",\\\"llm-guidance\\\":\\\"Apply when a document explicitly describes the company's involvement in a specific business activity or service line.\\\",\\\"is_stable\\\":\\\"FALSE\\\",\\\"examples\\\":[\\\"ABC Berhad engagesIn Mineral exploration\\\"]},\\\"hasSubsidiary\\\":{\\\"source\\\":\\\"Company\\\",\\\"target\\\":\\\"Company\\\",\\\"llm-guidance\\\":\\\"Use when a document explicitly states one company is a subsidiary of another; exclude joint ventures or associates.\\\",\\\"is_stable\\\":\\\"FALSE\\\",\\\"examples\\\":[\\\"ABC Berhad hasSubsidiary XYZ Sdn Bhd\\\"]},\\\"operatesIn\\\":{\\\"source\\\":\\\"Company\\\",\\\"target\\\":\\\"Location\\\",\\\"llm-guidance\\\":\\\"Use when a document states that a company conducts operations or derives significant revenue in a specific location; extract the most specific geographic name.\\\",\\\"is_stable\\\":\\\"FALSE\\\",\\\"examples\\\":[\\\"Autocount Dotcom Berhad operatesIn Malaysia\\\"]},\\\"hasSupplier\\\":{\\\"source\\\":\\\"Company\\\",\\\"target\\\":\\\"Company\\\",\\\"llm-guidance\\\":\\\"Use when a document identifies a company as procuring goods or services from another company designated as a supplier.\\\",\\\"is_stable\\\":\\\"FALSE\\\",\\\"examples\\\":[\\\"Autocount Dotcom Berhad hasSupplier XYZ Supplies Sdn Bhd\\\"]},\\\"offersProduct\\\":{\\\"source\\\":\\\"Company\\\",\\\"target\\\":\\\"Product\\\",\\\"llm-guidance\\\":\\\"Apply when a company is explicitly described as offering, launching, or marketing a product or service by name.\\\",\\\"is_stable\\\":\\\"FALSE\\\",\\\"examples\\\":[\\\"Autocount Dotcom Berhad offersProduct AutoCount Accounting\\\"]},\\\"partnersWith\\\":{\\\"source\\\":\\\"Company\\\",\\\"target\\\":\\\"Company\\\",\\\"llm-guidance\\\":\\\"Apply when a document explicitly states the company has formed a formal partnership or collaboration with another organization.\\\",\\\"is_stable\\\":\\\"FALSE\\\",\\\"examples\\\":[\\\"Autocount Dotcom Berhad partnersWith University of Malaya\\\"]},\\\"hasTrademark\\\":{\\\"source\\\":\\\"Company\\\",\\\"target\\\":\\\"Trademark\\\",\\\"llm-guidance\\\":\\\"Apply when a document discloses that a company holds or has registered a trademark.\\\",\\\"is_stable\\\":\\\"FALSE\\\",\\\"examples\\\":[\\\"ACSB hasTrademark 2017009060\\\"]},\\\"compliesWith\\\":{\\\"source\\\":\\\"Company\\\",\\\"target\\\":\\\"Regulation\\\",\\\"llm-guidance\\\":\\\"Use when a document states that a company complies with or adopts policies under a specific law or regulation.\\\",\\\"is_stable\\\":\\\"FALSE\\\",\\\"examples\\\":[\\\"ACSB compliesWith Personal Data Protection Act, 2010\\\"]},\\\"usesCapability\\\":{\\\"source\\\":\\\"Company\\\",\\\"target\\\":\\\"Capability\\\",\\\"llm-guidance\\\":\\\"Apply when a document explicitly states that a company uses or implements a named capability for business purposes.\\\",\\\"is_stable\\\":\\\"FALSE\\\",\\\"examples\\\":[\\\"ABC Berhad uses MySQL\\\",\\\"XYZ Berhad uses SAP ERP\\\"]},\\\"hasCompetitor\\\":{\\\"source\\\":\\\"Company\\\",\\\"target\\\":\\\"Company\\\",\\\"llm-guidance\\\":\\\"Use when a document identifies another company as a competitor.\\\",\\\"is_stable\\\":\\\"FALSE\\\",\\\"examples\\\":[\\\"ABC Berhad hasCompetitor XYZ Berhad\\\"]},\\\"exportsTo\\\":{\\\"source\\\":\\\"Company\\\",\\\"target\\\":\\\"Location\\\",\\\"llm-guidance\\\":\\\"Use when a document explicitly states that a company exports products or services to a specific location.\\\",\\\"is_stable\\\":\\\"FALSE\\\",\\\"examples\\\":[\\\"ABC Berhad exportsTo Japan\\\"]}}},\\\"removed_entities\\\":{\\\"Shareholder\\\":\\\"Removed because shareholding structure is not directly relevant to the ontology's focus on strategic operational activities and regulatory compliance.\\\"},\\\"removed_relationships\\\":{\\\"hasShareholder\\\":\\\"Removed because the Shareholder entity was removed, and shareholding relationships are not essential to the ontology's intended purpose.\\\"},\\\"note\\\":\\\"\\\"}\",\n",
      "          \"type\": \"output_text\"\n",
      "        }\n",
      "      ],\n",
      "      \"role\": \"assistant\",\n",
      "      \"status\": \"completed\",\n",
      "      \"type\": \"message\"\n",
      "    }\n",
      "  ],\n",
      "  \"parallel_tool_calls\": true,\n",
      "  \"temperature\": 1.0,\n",
      "  \"tool_choice\": \"auto\",\n",
      "  \"tools\": [],\n",
      "  \"top_p\": 1.0,\n",
      "  \"max_output_tokens\": 50000,\n",
      "  \"previous_response_id\": null,\n",
      "  \"reasoning\": {\n",
      "    \"effort\": \"medium\",\n",
      "    \"summary\": null\n",
      "  },\n",
      "  \"status\": \"completed\",\n",
      "  \"text\": {\n",
      "    \"format\": {\n",
      "      \"type\": \"text\"\n",
      "    }\n",
      "  },\n",
      "  \"truncation\": \"disabled\",\n",
      "  \"usage\": {\n",
      "    \"input_tokens\": 4345,\n",
      "    \"input_tokens_details\": {\n",
      "      \"cached_tokens\": 0\n",
      "    },\n",
      "    \"output_tokens\": 5850,\n",
      "    \"output_tokens_details\": {\n",
      "      \"reasoning_tokens\": 4160\n",
      "    },\n",
      "    \"total_tokens\": 10195\n",
      "  },\n",
      "  \"user\": null,\n",
      "  \"service_tier\": \"default\",\n",
      "  \"store\": true\n",
      "}\n",
      "2025-05-13 22:07:13,126 - ontology_construction - INFO - OntologyConstructionSystem\n",
      "Ontology is updated, current version: 1.0.88\n"
     ]
    }
   ],
   "source": [
    "await onto_system.minimize_ontology()"
   ]
  },
  {
   "cell_type": "code",
   "execution_count": 8,
   "id": "a01c7c80",
   "metadata": {},
   "outputs": [
    {
     "name": "stderr",
     "output_type": "stream",
     "text": [
      "2025-05-13 22:00:47,198 - ontology_construction - INFO - OntologyClarityEnhancementAgent is called\n",
      "2025-05-13 22:00:47,651 - openai - INFO - Sending query to o4-mini using ResponsesAPI\n",
      "2025-05-13 22:02:42,040 - openai - INFO - Received response from ResponsesAPI:\n",
      " Response(id='resp_6823509011e48198b1d9da48be0e48ee0da0fb934beb5d96', created_at=1747144848.0, error=None, incomplete_details=None, instructions=None, metadata={}, model='o4-mini-2025-04-16', object='response', output=[ResponseReasoningItem(id='rs_68235090ff6c819899e70f3c7c78c6280da0fb934beb5d96', summary=[], type='reasoning', status=None), ResponseOutputMessage(id='msg_682350d75668819882f215b511984ef40da0fb934beb5d96', content=[ResponseOutputText(annotations=[], text='{\\n  \"updated_ontology\": {\\n    \"entities\": {\\n      \"Person\": {\\n        \"definition\": \"An individual named in company documents, such as directors, officers, employees, or advisors.\",\\n        \"llm-guidance\": \"Extract full personal names in the order presented, excluding honorifics (e.g., \\'Mr.\\', \\'Dr.\\') and post-nominal titles (e.g., \\'Ph.D.\\', \\'CPA\\').\",\\n        \"is_stable\": \"FALSE\",\\n        \"examples\": [\"Tan Hui Mei\", \"John Lim\", \"Siti Aminah\"]\\n      },\\n      \"Company\": {\\n        \"definition\": \"A legal entity referenced in listing documents or filings, including listed issuers, management companies, trustees, or trustee-managers.\",\\n        \"llm-guidance\": \"Extract the exact registered legal name as it appears in official filings, without registration numbers, abbreviations, or informal acronyms.\",\\n        \"is_stable\": \"FALSE\",\\n        \"examples\": [\"ABC Berhad\", \"XYZ Management Company\", \"Trustee Services Sdn Bhd\"]\\n      },\\n      \"BoardCommittee\": {\\n        \"definition\": \"A formal committee created by a company\\'s board of directors to oversee a specific function (e.g., audit, remuneration, risk management, nomination).\",\\n        \"llm-guidance\": \"Extract exact names of board committees as listed in company reports or filings; exclude temporary task forces or informal groups.\",\\n        \"is_stable\": \"FALSE\",\\n        \"examples\": [\"Audit Committee\", \"Remuneration Committee\", \"Nomination Committee\"]\\n      },\\n      \"BusinessActivity\": {\\n        \"definition\": \"A specific line of business or service area of a company as described in official documents.\",\\n        \"llm-guidance\": \"Extract explicit business activities or service lines named (e.g., \\'mineral exploration\\', \\'retail banking\\'); exclude vague or generic terms.\",\\n        \"is_stable\": \"FALSE\",\\n        \"examples\": [\"Mineral exploration\", \"Semiconductor wafer manufacturing\", \"Retail banking services\", \"Logistics and distribution\"]\\n      },\\n      \"Shareholder\": {\\n        \"definition\": \"An individual or legal entity owning shares in a company as identified in official filings.\",\\n        \"llm-guidance\": \"Extract names of individuals or entities explicitly listed as shareholders, including share counts or percentage ownership when provided; exclude aggregated or informal groups.\",\\n        \"is_stable\": \"FALSE\",\\n        \"examples\": [\"Investor A (100 shares)\", \"Institutional Investor X (50,000 shares)\"]\\n      },\\n      \"Location\": {\\n        \"definition\": \"A geographic area where a company is incorporated, operates, or conducts activities, such as a country, region, state, or city.\",\\n        \"llm-guidance\": \"Extract the most specific meaningful geographic name (country, region, state, or city) as presented; exclude street addresses, postal codes, or coordinates.\",\\n        \"is_stable\": \"FALSE\",\\n        \"examples\": [\"Malaysia\", \"Singapore\", \"Thailand\", \"Indonesia\"]\\n      },\\n      \"Product\": {\\n        \"definition\": \"A distinct product or service offering provided by a company, such as software applications, modules, or related services.\",\\n        \"llm-guidance\": \"Extract names of products or services explicitly offered, including editions, modules, or brand names as they appear in official documentation; exclude generic descriptions without a clear product name.\",\\n        \"is_stable\": \"FALSE\",\\n        \"examples\": [\"AutoCount Accounting\", \"AutoCount On The Go\", \"eWaiter\"]\\n      },\\n      \"Trademark\": {\\n        \"definition\": \"A registered or pending trademark owned or applied for by a company, including its registration or application number and status.\",\\n        \"llm-guidance\": \"Extract trademark names along with their application or registration numbers and status if provided.\",\\n        \"is_stable\": \"FALSE\",\\n        \"examples\": [\"2017009060\", \"TM2019016108\", \"40201909963S\"]\\n      },\\n      \"Regulation\": {\\n        \"definition\": \"A law or statutory act governing business operations and compliance requirements.\",\\n        \"llm-guidance\": \"Extract the full title and enactment year of laws or regulations as stated (e.g., \\'Personal Data Protection Act, 2010\\').\",\\n        \"is_stable\": \"FALSE\",\\n        \"examples\": [\"Personal Data Protection Act, 2010\", \"Local Government Act, 1976\", \"Employees\\' Minimum Standards of Housing, Accommodation and Amenities Act, 1990\"]\\n      },\\n      \"Capability\": {\\n        \"definition\": \"A specific technology, methodology, process, or strategic approach employed by a company.\",\\n        \"llm-guidance\": \"Extract explicitly named capabilities (e.g., \\'MySQL\\', \\'SAP ERP\\', \\'Lean Manufacturing\\', \\'Blockchain\\') when a company is stated to use or implement them; exclude generic terms like \\'technology\\' or \\'system\\'.\",\\n        \"is_stable\": \"FALSE\",\\n        \"examples\": [\"MySQL\", \"SAP ERP\", \"Lean Manufacturing\", \"Blockchain\", \"Agile Methodology\"]\\n      }\\n    },\\n    \"relationships\": {\\n      \"hasDirector\": {\\n        \"source\": \"Company\",\\n        \"target\": \"Person\",\\n        \"llm-guidance\": \"Apply when a document explicitly designates a person as a board director, including titles like chairman, executive director, or independent director.\",\\n        \"is_stable\": \"FALSE\",\\n        \"examples\": [\"ABC Berhad hasDirector Tan Hui Mei\"]\\n      },\\n      \"hasOfficer\": {\\n        \"source\": \"Company\",\\n        \"target\": \"Person\",\\n        \"llm-guidance\": \"Use when a person is explicitly described as a corporate officer (e.g., CEO, CFO) in official documents.\",\\n        \"is_stable\": \"FALSE\",\\n        \"examples\": [\"XYZ Berhad hasOfficer John Lim\"]\\n      },\\n      \"hasCommittee\": {\\n        \"source\": \"Company\",\\n        \"target\": \"BoardCommittee\",\\n        \"llm-guidance\": \"Apply when a document states the company has established or maintains a formal board committee by name.\",\\n        \"is_stable\": \"FALSE\",\\n        \"examples\": [\"ABC Berhad hasCommittee Audit Committee\"]\\n      },\\n      \"hasMember\": {\\n        \"source\": \"BoardCommittee\",\\n        \"target\": \"Person\",\\n        \"llm-guidance\": \"Apply when a document explicitly lists an individual as a member of a board committee.\",\\n        \"is_stable\": \"FALSE\",\\n        \"examples\": [\"Audit Committee hasMember Tan Hui Mei\"]\\n      },\\n      \"engagesIn\": {\\n        \"source\": \"Company\",\\n        \"target\": \"BusinessActivity\",\\n        \"llm-guidance\": \"Apply when a document explicitly describes the company\\'s involvement in a specific business activity or service line.\",\\n        \"is_stable\": \"FALSE\",\\n        \"examples\": [\"ABC Berhad engagesIn Mineral exploration\"]\\n      },\\n      \"hasSubsidiary\": {\\n        \"source\": \"Company\",\\n        \"target\": \"Company\",\\n        \"llm-guidance\": \"Use when a document explicitly states one company is a subsidiary of another; exclude joint ventures or associates.\",\\n        \"is_stable\": \"FALSE\",\\n        \"examples\": [\"ABC Berhad hasSubsidiary XYZ Sdn Bhd\"]\\n      },\\n      \"hasShareholder\": {\\n        \"source\": \"Company\",\\n        \"target\": \"Shareholder\",\\n        \"llm-guidance\": \"Apply when an investor is explicitly identified as a shareholder in documents, including share counts or percentage ownership.\",\\n        \"is_stable\": \"FALSE\",\\n        \"examples\": [\"ACSB hasShareholder Institutional Investor X (50,000 shares)\"]\\n      },\\n      \"operatesIn\": {\\n        \"source\": \"Company\",\\n        \"target\": \"Location\",\\n        \"llm-guidance\": \"Use when a document states that a company conducts operations or derives significant revenue in a specific location; extract the most specific geographic name.\",\\n        \"is_stable\": \"FALSE\",\\n        \"examples\": [\"Autocount Dotcom Berhad operatesIn Malaysia\"]\\n      },\\n      \"hasSupplier\": {\\n        \"source\": \"Company\",\\n        \"target\": \"Company\",\\n        \"llm-guidance\": \"Use when a document identifies a company as procuring goods or services from another company designated as a supplier.\",\\n        \"is_stable\": \"FALSE\",\\n        \"examples\": [\"Autocount Dotcom Berhad hasSupplier XYZ Supplies Sdn Bhd\"]\\n      },\\n      \"offersProduct\": {\\n        \"source\": \"Company\",\\n        \"target\": \"Product\",\\n        \"llm-guidance\": \"Apply when a company is explicitly described as offering, launching, or marketing a product or service by name.\",\\n        \"is_stable\": \"FALSE\",\\n        \"examples\": [\"Autocount Dotcom Berhad offersProduct AutoCount Accounting\"]\\n      },\\n      \"partnersWith\": {\\n        \"source\": \"Company\",\\n        \"target\": \"Company\",\\n        \"llm-guidance\": \"Apply when a document explicitly states the company has formed a formal partnership or collaboration with another organization.\",\\n        \"is_stable\": \"FALSE\",\\n        \"examples\": [\"Autocount Dotcom Berhad partnersWith University of Malaya\"]\\n      },\\n      \"hasTrademark\": {\\n        \"source\": \"Company\",\\n        \"target\": \"Trademark\",\\n        \"llm-guidance\": \"Apply when a document discloses that a company holds or has registered a trademark.\",\\n        \"is_stable\": \"FALSE\",\\n        \"examples\": [\"ACSB hasTrademark 2017009060\"]\\n      },\\n      \"compliesWith\": {\\n        \"source\": \"Company\",\\n        \"target\": \"Regulation\",\\n        \"llm-guidance\": \"Use when a document states that a company complies with or adopts policies under a specific law or regulation.\",\\n        \"is_stable\": \"FALSE\",\\n        \"examples\": [\"ACSB compliesWith Personal Data Protection Act, 2010\"]\\n      },\\n      \"usesCapability\": {\\n        \"source\": \"Company\",\\n        \"target\": \"Capability\",\\n        \"llm-guidance\": \"Apply when a document explicitly states that a company uses or implements a named capability for business purposes.\",\\n        \"is_stable\": \"FALSE\",\\n        \"examples\": [\"ABC Berhad uses MySQL\", \"XYZ Berhad uses SAP ERP\"]\\n      },\\n      \"hasCompetitor\": {\\n        \"source\": \"Company\",\\n        \"target\": \"Company\",\\n        \"llm-guidance\": \"Use when a document identifies another company as a competitor.\",\\n        \"is_stable\": \"FALSE\",\\n        \"examples\": [\"ABC Berhad hasCompetitor XYZ Berhad\"]\\n      },\\n      \"exportsTo\": {\\n        \"source\": \"Company\",\\n        \"target\": \"Location\",\\n        \"llm-guidance\": \"Use when a document explicitly states that a company exports products or services to a specific location.\",\\n        \"is_stable\": \"FALSE\",\\n        \"examples\": [\"ABC Berhad exportsTo Japan\"]\\n      }\\n    }\\n  },\\n  \"modified_entities\": {\\n    \"Person\\'s definition\": \"Shortened and clarified to remove redundancy and focus on named individuals across different roles.\",\\n    \"Person\\'s llm-guidance\": \"Reworded to start with \\'Extract\\' and clarify order and exclusion rules.\",\\n    \"Company\\'s definition\": \"Streamlined to focus on legal entities and examples, removing redundant wording.\",\\n    \"Company\\'s llm-guidance\": \"Refined to emphasize exact match of registered legal name and exclusion criteria.\",\\n    \"BoardCommittee\\'s definition\": \"Condensed to highlight function and provided examples in parentheses.\",\\n    \"BoardCommittee\\'s llm-guidance\": \"Clarified to exclude temporary or informal groups.\",\\n    \"BusinessActivity\\'s definition\": \"Simplified phrasing to focus on specific business lines.\",\\n    \"BusinessActivity\\'s llm-guidance\": \"Clarified extraction scope and provided examples.\"\\n  },\\n  \"modified_relationships\": {\\n    \"hasCommittee\\'s llm-guidance\": \"Clarified to require explicit mention of a formal board committee by name.\",\\n    \"hasMember\\'s llm-guidance\": \"Revised to emphasize explicit listing of individuals as committee members.\",\\n    \"engagesIn\\'s llm-guidance\": \"Standardized to start with \\'Apply when\\' and clarify extraction of business activities.\",\\n    \"partnersWith\\'s llm-guidance\": \"Reworded for consistency and to require explicit mention of partnership.\"\\n  },\\n  \"note\": \"\"\\n}', type='output_text')], role='assistant', status='completed', type='message')], parallel_tool_calls=True, temperature=1.0, tool_choice='auto', tools=[], top_p=1.0, max_output_tokens=50000, previous_response_id=None, reasoning=Reasoning(effort='medium', generate_summary=None, summary=None), status='completed', text=ResponseTextConfig(format=ResponseFormatText(type='text')), truncation='disabled', usage=ResponseUsage(input_tokens=5490, input_tokens_details=InputTokensDetails(cached_tokens=0), output_tokens=7872, output_tokens_details=OutputTokensDetails(reasoning_tokens=5312), total_tokens=13362), user=None, service_tier='default', store=True)\n",
      "2025-05-13 22:02:42,079 - ontology_construction - INFO - OntologyClarityEnhancementAgent\n",
      "Ontology clarity enhancement response details:\n",
      "{\n",
      "  \"id\": \"resp_6823509011e48198b1d9da48be0e48ee0da0fb934beb5d96\",\n",
      "  \"created_at\": 1747144848.0,\n",
      "  \"error\": null,\n",
      "  \"incomplete_details\": null,\n",
      "  \"instructions\": null,\n",
      "  \"metadata\": {},\n",
      "  \"model\": \"o4-mini-2025-04-16\",\n",
      "  \"object\": \"response\",\n",
      "  \"output\": [\n",
      "    {\n",
      "      \"id\": \"rs_68235090ff6c819899e70f3c7c78c6280da0fb934beb5d96\",\n",
      "      \"summary\": [],\n",
      "      \"type\": \"reasoning\"\n",
      "    },\n",
      "    {\n",
      "      \"id\": \"msg_682350d75668819882f215b511984ef40da0fb934beb5d96\",\n",
      "      \"content\": [\n",
      "        {\n",
      "          \"annotations\": [],\n",
      "          \"text\": \"{\\n  \\\"updated_ontology\\\": {\\n    \\\"entities\\\": {\\n      \\\"Person\\\": {\\n        \\\"definition\\\": \\\"An individual named in company documents, such as directors, officers, employees, or advisors.\\\",\\n        \\\"llm-guidance\\\": \\\"Extract full personal names in the order presented, excluding honorifics (e.g., 'Mr.', 'Dr.') and post-nominal titles (e.g., 'Ph.D.', 'CPA').\\\",\\n        \\\"is_stable\\\": \\\"FALSE\\\",\\n        \\\"examples\\\": [\\\"Tan Hui Mei\\\", \\\"John Lim\\\", \\\"Siti Aminah\\\"]\\n      },\\n      \\\"Company\\\": {\\n        \\\"definition\\\": \\\"A legal entity referenced in listing documents or filings, including listed issuers, management companies, trustees, or trustee-managers.\\\",\\n        \\\"llm-guidance\\\": \\\"Extract the exact registered legal name as it appears in official filings, without registration numbers, abbreviations, or informal acronyms.\\\",\\n        \\\"is_stable\\\": \\\"FALSE\\\",\\n        \\\"examples\\\": [\\\"ABC Berhad\\\", \\\"XYZ Management Company\\\", \\\"Trustee Services Sdn Bhd\\\"]\\n      },\\n      \\\"BoardCommittee\\\": {\\n        \\\"definition\\\": \\\"A formal committee created by a company's board of directors to oversee a specific function (e.g., audit, remuneration, risk management, nomination).\\\",\\n        \\\"llm-guidance\\\": \\\"Extract exact names of board committees as listed in company reports or filings; exclude temporary task forces or informal groups.\\\",\\n        \\\"is_stable\\\": \\\"FALSE\\\",\\n        \\\"examples\\\": [\\\"Audit Committee\\\", \\\"Remuneration Committee\\\", \\\"Nomination Committee\\\"]\\n      },\\n      \\\"BusinessActivity\\\": {\\n        \\\"definition\\\": \\\"A specific line of business or service area of a company as described in official documents.\\\",\\n        \\\"llm-guidance\\\": \\\"Extract explicit business activities or service lines named (e.g., 'mineral exploration', 'retail banking'); exclude vague or generic terms.\\\",\\n        \\\"is_stable\\\": \\\"FALSE\\\",\\n        \\\"examples\\\": [\\\"Mineral exploration\\\", \\\"Semiconductor wafer manufacturing\\\", \\\"Retail banking services\\\", \\\"Logistics and distribution\\\"]\\n      },\\n      \\\"Shareholder\\\": {\\n        \\\"definition\\\": \\\"An individual or legal entity owning shares in a company as identified in official filings.\\\",\\n        \\\"llm-guidance\\\": \\\"Extract names of individuals or entities explicitly listed as shareholders, including share counts or percentage ownership when provided; exclude aggregated or informal groups.\\\",\\n        \\\"is_stable\\\": \\\"FALSE\\\",\\n        \\\"examples\\\": [\\\"Investor A (100 shares)\\\", \\\"Institutional Investor X (50,000 shares)\\\"]\\n      },\\n      \\\"Location\\\": {\\n        \\\"definition\\\": \\\"A geographic area where a company is incorporated, operates, or conducts activities, such as a country, region, state, or city.\\\",\\n        \\\"llm-guidance\\\": \\\"Extract the most specific meaningful geographic name (country, region, state, or city) as presented; exclude street addresses, postal codes, or coordinates.\\\",\\n        \\\"is_stable\\\": \\\"FALSE\\\",\\n        \\\"examples\\\": [\\\"Malaysia\\\", \\\"Singapore\\\", \\\"Thailand\\\", \\\"Indonesia\\\"]\\n      },\\n      \\\"Product\\\": {\\n        \\\"definition\\\": \\\"A distinct product or service offering provided by a company, such as software applications, modules, or related services.\\\",\\n        \\\"llm-guidance\\\": \\\"Extract names of products or services explicitly offered, including editions, modules, or brand names as they appear in official documentation; exclude generic descriptions without a clear product name.\\\",\\n        \\\"is_stable\\\": \\\"FALSE\\\",\\n        \\\"examples\\\": [\\\"AutoCount Accounting\\\", \\\"AutoCount On The Go\\\", \\\"eWaiter\\\"]\\n      },\\n      \\\"Trademark\\\": {\\n        \\\"definition\\\": \\\"A registered or pending trademark owned or applied for by a company, including its registration or application number and status.\\\",\\n        \\\"llm-guidance\\\": \\\"Extract trademark names along with their application or registration numbers and status if provided.\\\",\\n        \\\"is_stable\\\": \\\"FALSE\\\",\\n        \\\"examples\\\": [\\\"2017009060\\\", \\\"TM2019016108\\\", \\\"40201909963S\\\"]\\n      },\\n      \\\"Regulation\\\": {\\n        \\\"definition\\\": \\\"A law or statutory act governing business operations and compliance requirements.\\\",\\n        \\\"llm-guidance\\\": \\\"Extract the full title and enactment year of laws or regulations as stated (e.g., 'Personal Data Protection Act, 2010').\\\",\\n        \\\"is_stable\\\": \\\"FALSE\\\",\\n        \\\"examples\\\": [\\\"Personal Data Protection Act, 2010\\\", \\\"Local Government Act, 1976\\\", \\\"Employees' Minimum Standards of Housing, Accommodation and Amenities Act, 1990\\\"]\\n      },\\n      \\\"Capability\\\": {\\n        \\\"definition\\\": \\\"A specific technology, methodology, process, or strategic approach employed by a company.\\\",\\n        \\\"llm-guidance\\\": \\\"Extract explicitly named capabilities (e.g., 'MySQL', 'SAP ERP', 'Lean Manufacturing', 'Blockchain') when a company is stated to use or implement them; exclude generic terms like 'technology' or 'system'.\\\",\\n        \\\"is_stable\\\": \\\"FALSE\\\",\\n        \\\"examples\\\": [\\\"MySQL\\\", \\\"SAP ERP\\\", \\\"Lean Manufacturing\\\", \\\"Blockchain\\\", \\\"Agile Methodology\\\"]\\n      }\\n    },\\n    \\\"relationships\\\": {\\n      \\\"hasDirector\\\": {\\n        \\\"source\\\": \\\"Company\\\",\\n        \\\"target\\\": \\\"Person\\\",\\n        \\\"llm-guidance\\\": \\\"Apply when a document explicitly designates a person as a board director, including titles like chairman, executive director, or independent director.\\\",\\n        \\\"is_stable\\\": \\\"FALSE\\\",\\n        \\\"examples\\\": [\\\"ABC Berhad hasDirector Tan Hui Mei\\\"]\\n      },\\n      \\\"hasOfficer\\\": {\\n        \\\"source\\\": \\\"Company\\\",\\n        \\\"target\\\": \\\"Person\\\",\\n        \\\"llm-guidance\\\": \\\"Use when a person is explicitly described as a corporate officer (e.g., CEO, CFO) in official documents.\\\",\\n        \\\"is_stable\\\": \\\"FALSE\\\",\\n        \\\"examples\\\": [\\\"XYZ Berhad hasOfficer John Lim\\\"]\\n      },\\n      \\\"hasCommittee\\\": {\\n        \\\"source\\\": \\\"Company\\\",\\n        \\\"target\\\": \\\"BoardCommittee\\\",\\n        \\\"llm-guidance\\\": \\\"Apply when a document states the company has established or maintains a formal board committee by name.\\\",\\n        \\\"is_stable\\\": \\\"FALSE\\\",\\n        \\\"examples\\\": [\\\"ABC Berhad hasCommittee Audit Committee\\\"]\\n      },\\n      \\\"hasMember\\\": {\\n        \\\"source\\\": \\\"BoardCommittee\\\",\\n        \\\"target\\\": \\\"Person\\\",\\n        \\\"llm-guidance\\\": \\\"Apply when a document explicitly lists an individual as a member of a board committee.\\\",\\n        \\\"is_stable\\\": \\\"FALSE\\\",\\n        \\\"examples\\\": [\\\"Audit Committee hasMember Tan Hui Mei\\\"]\\n      },\\n      \\\"engagesIn\\\": {\\n        \\\"source\\\": \\\"Company\\\",\\n        \\\"target\\\": \\\"BusinessActivity\\\",\\n        \\\"llm-guidance\\\": \\\"Apply when a document explicitly describes the company's involvement in a specific business activity or service line.\\\",\\n        \\\"is_stable\\\": \\\"FALSE\\\",\\n        \\\"examples\\\": [\\\"ABC Berhad engagesIn Mineral exploration\\\"]\\n      },\\n      \\\"hasSubsidiary\\\": {\\n        \\\"source\\\": \\\"Company\\\",\\n        \\\"target\\\": \\\"Company\\\",\\n        \\\"llm-guidance\\\": \\\"Use when a document explicitly states one company is a subsidiary of another; exclude joint ventures or associates.\\\",\\n        \\\"is_stable\\\": \\\"FALSE\\\",\\n        \\\"examples\\\": [\\\"ABC Berhad hasSubsidiary XYZ Sdn Bhd\\\"]\\n      },\\n      \\\"hasShareholder\\\": {\\n        \\\"source\\\": \\\"Company\\\",\\n        \\\"target\\\": \\\"Shareholder\\\",\\n        \\\"llm-guidance\\\": \\\"Apply when an investor is explicitly identified as a shareholder in documents, including share counts or percentage ownership.\\\",\\n        \\\"is_stable\\\": \\\"FALSE\\\",\\n        \\\"examples\\\": [\\\"ACSB hasShareholder Institutional Investor X (50,000 shares)\\\"]\\n      },\\n      \\\"operatesIn\\\": {\\n        \\\"source\\\": \\\"Company\\\",\\n        \\\"target\\\": \\\"Location\\\",\\n        \\\"llm-guidance\\\": \\\"Use when a document states that a company conducts operations or derives significant revenue in a specific location; extract the most specific geographic name.\\\",\\n        \\\"is_stable\\\": \\\"FALSE\\\",\\n        \\\"examples\\\": [\\\"Autocount Dotcom Berhad operatesIn Malaysia\\\"]\\n      },\\n      \\\"hasSupplier\\\": {\\n        \\\"source\\\": \\\"Company\\\",\\n        \\\"target\\\": \\\"Company\\\",\\n        \\\"llm-guidance\\\": \\\"Use when a document identifies a company as procuring goods or services from another company designated as a supplier.\\\",\\n        \\\"is_stable\\\": \\\"FALSE\\\",\\n        \\\"examples\\\": [\\\"Autocount Dotcom Berhad hasSupplier XYZ Supplies Sdn Bhd\\\"]\\n      },\\n      \\\"offersProduct\\\": {\\n        \\\"source\\\": \\\"Company\\\",\\n        \\\"target\\\": \\\"Product\\\",\\n        \\\"llm-guidance\\\": \\\"Apply when a company is explicitly described as offering, launching, or marketing a product or service by name.\\\",\\n        \\\"is_stable\\\": \\\"FALSE\\\",\\n        \\\"examples\\\": [\\\"Autocount Dotcom Berhad offersProduct AutoCount Accounting\\\"]\\n      },\\n      \\\"partnersWith\\\": {\\n        \\\"source\\\": \\\"Company\\\",\\n        \\\"target\\\": \\\"Company\\\",\\n        \\\"llm-guidance\\\": \\\"Apply when a document explicitly states the company has formed a formal partnership or collaboration with another organization.\\\",\\n        \\\"is_stable\\\": \\\"FALSE\\\",\\n        \\\"examples\\\": [\\\"Autocount Dotcom Berhad partnersWith University of Malaya\\\"]\\n      },\\n      \\\"hasTrademark\\\": {\\n        \\\"source\\\": \\\"Company\\\",\\n        \\\"target\\\": \\\"Trademark\\\",\\n        \\\"llm-guidance\\\": \\\"Apply when a document discloses that a company holds or has registered a trademark.\\\",\\n        \\\"is_stable\\\": \\\"FALSE\\\",\\n        \\\"examples\\\": [\\\"ACSB hasTrademark 2017009060\\\"]\\n      },\\n      \\\"compliesWith\\\": {\\n        \\\"source\\\": \\\"Company\\\",\\n        \\\"target\\\": \\\"Regulation\\\",\\n        \\\"llm-guidance\\\": \\\"Use when a document states that a company complies with or adopts policies under a specific law or regulation.\\\",\\n        \\\"is_stable\\\": \\\"FALSE\\\",\\n        \\\"examples\\\": [\\\"ACSB compliesWith Personal Data Protection Act, 2010\\\"]\\n      },\\n      \\\"usesCapability\\\": {\\n        \\\"source\\\": \\\"Company\\\",\\n        \\\"target\\\": \\\"Capability\\\",\\n        \\\"llm-guidance\\\": \\\"Apply when a document explicitly states that a company uses or implements a named capability for business purposes.\\\",\\n        \\\"is_stable\\\": \\\"FALSE\\\",\\n        \\\"examples\\\": [\\\"ABC Berhad uses MySQL\\\", \\\"XYZ Berhad uses SAP ERP\\\"]\\n      },\\n      \\\"hasCompetitor\\\": {\\n        \\\"source\\\": \\\"Company\\\",\\n        \\\"target\\\": \\\"Company\\\",\\n        \\\"llm-guidance\\\": \\\"Use when a document identifies another company as a competitor.\\\",\\n        \\\"is_stable\\\": \\\"FALSE\\\",\\n        \\\"examples\\\": [\\\"ABC Berhad hasCompetitor XYZ Berhad\\\"]\\n      },\\n      \\\"exportsTo\\\": {\\n        \\\"source\\\": \\\"Company\\\",\\n        \\\"target\\\": \\\"Location\\\",\\n        \\\"llm-guidance\\\": \\\"Use when a document explicitly states that a company exports products or services to a specific location.\\\",\\n        \\\"is_stable\\\": \\\"FALSE\\\",\\n        \\\"examples\\\": [\\\"ABC Berhad exportsTo Japan\\\"]\\n      }\\n    }\\n  },\\n  \\\"modified_entities\\\": {\\n    \\\"Person's definition\\\": \\\"Shortened and clarified to remove redundancy and focus on named individuals across different roles.\\\",\\n    \\\"Person's llm-guidance\\\": \\\"Reworded to start with 'Extract' and clarify order and exclusion rules.\\\",\\n    \\\"Company's definition\\\": \\\"Streamlined to focus on legal entities and examples, removing redundant wording.\\\",\\n    \\\"Company's llm-guidance\\\": \\\"Refined to emphasize exact match of registered legal name and exclusion criteria.\\\",\\n    \\\"BoardCommittee's definition\\\": \\\"Condensed to highlight function and provided examples in parentheses.\\\",\\n    \\\"BoardCommittee's llm-guidance\\\": \\\"Clarified to exclude temporary or informal groups.\\\",\\n    \\\"BusinessActivity's definition\\\": \\\"Simplified phrasing to focus on specific business lines.\\\",\\n    \\\"BusinessActivity's llm-guidance\\\": \\\"Clarified extraction scope and provided examples.\\\"\\n  },\\n  \\\"modified_relationships\\\": {\\n    \\\"hasCommittee's llm-guidance\\\": \\\"Clarified to require explicit mention of a formal board committee by name.\\\",\\n    \\\"hasMember's llm-guidance\\\": \\\"Revised to emphasize explicit listing of individuals as committee members.\\\",\\n    \\\"engagesIn's llm-guidance\\\": \\\"Standardized to start with 'Apply when' and clarify extraction of business activities.\\\",\\n    \\\"partnersWith's llm-guidance\\\": \\\"Reworded for consistency and to require explicit mention of partnership.\\\"\\n  },\\n  \\\"note\\\": \\\"\\\"\\n}\",\n",
      "          \"type\": \"output_text\"\n",
      "        }\n",
      "      ],\n",
      "      \"role\": \"assistant\",\n",
      "      \"status\": \"completed\",\n",
      "      \"type\": \"message\"\n",
      "    }\n",
      "  ],\n",
      "  \"parallel_tool_calls\": true,\n",
      "  \"temperature\": 1.0,\n",
      "  \"tool_choice\": \"auto\",\n",
      "  \"tools\": [],\n",
      "  \"top_p\": 1.0,\n",
      "  \"max_output_tokens\": 50000,\n",
      "  \"previous_response_id\": null,\n",
      "  \"reasoning\": {\n",
      "    \"effort\": \"medium\",\n",
      "    \"summary\": null\n",
      "  },\n",
      "  \"status\": \"completed\",\n",
      "  \"text\": {\n",
      "    \"format\": {\n",
      "      \"type\": \"text\"\n",
      "    }\n",
      "  },\n",
      "  \"truncation\": \"disabled\",\n",
      "  \"usage\": {\n",
      "    \"input_tokens\": 5490,\n",
      "    \"input_tokens_details\": {\n",
      "      \"cached_tokens\": 0\n",
      "    },\n",
      "    \"output_tokens\": 7872,\n",
      "    \"output_tokens_details\": {\n",
      "      \"reasoning_tokens\": 5312\n",
      "    },\n",
      "    \"total_tokens\": 13362\n",
      "  },\n",
      "  \"user\": null,\n",
      "  \"service_tier\": \"default\",\n",
      "  \"store\": true\n",
      "}\n",
      "2025-05-13 22:02:42,210 - ontology_construction - INFO - OntologyConstructionSystem\n",
      "Ontology is updated, current version: 1.0.87\n"
     ]
    }
   ],
   "source": [
    "await onto_system.enhance_ontology_clarity()"
   ]
  },
  {
   "cell_type": "code",
   "execution_count": null,
   "id": "4da55cdd",
   "metadata": {},
   "outputs": [],
   "source": [
    "from ogmyrag.util import get_formatted_ontology\n",
    "\n",
    "ontology_construction_logger.info(get_formatted_ontology(onto_system.get_current_onto()))"
   ]
  },
  {
   "cell_type": "code",
   "execution_count": null,
   "id": "53def0a4",
   "metadata": {},
   "outputs": [],
   "source": [
    "current_onto = onto_system.get_current_onto()\n",
    "\n",
    "current_onto[\"relationships\"][\"exportsTo\"] = {\n",
    "   \"source\": \"Company\",\n",
    "   \"target\": \"Location\",\n",
    "   \"llm-guidance\": \"Apply when a company is explicitly stated to export products or services to a named location (e.g., 'ABC Berhad exports semiconductors to Japan') in prospectuses, annual reports, or regulatory filings.\",\n",
    "   \"is_stable\": \"FALSE\",\n",
    "   \"examples\":  [\"ABC Berhad exportsTo Japan\", \"XYZ Berhad exportsTo Singapore\"]\n",
    "}\n",
    "\n",
    "current_onto[\"note\"] = \"Manual modification facilitated by Grok\"\n",
    "await onto_system.create_onto_manually(new_onto=current_onto)"
   ]
  },
  {
   "cell_type": "code",
   "execution_count": null,
   "id": "12a7809e",
   "metadata": {},
   "outputs": [],
   "source": []
  }
 ],
 "metadata": {
  "kernelspec": {
   "display_name": "ogmyrag",
   "language": "python",
   "name": "python3"
  },
  "language_info": {
   "codemirror_mode": {
    "name": "ipython",
    "version": 3
   },
   "file_extension": ".py",
   "mimetype": "text/x-python",
   "name": "python",
   "nbconvert_exporter": "python",
   "pygments_lexer": "ipython3",
   "version": "3.10.16"
  }
 },
 "nbformat": 4,
 "nbformat_minor": 5
}

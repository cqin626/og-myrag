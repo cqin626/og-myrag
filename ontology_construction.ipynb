{
 "cells": [
  {
   "cell_type": "markdown",
   "id": "090d4d54",
   "metadata": {},
   "source": [
    "# Pipeline of Automated Ontology Construction"
   ]
  },
  {
   "cell_type": "markdown",
   "id": "5590e959",
   "metadata": {},
   "source": [
    "## Initialization"
   ]
  },
  {
   "cell_type": "code",
   "execution_count": null,
   "id": "011e9c6e",
   "metadata": {},
   "outputs": [],
   "source": [
    "import logging\n",
    "import os\n",
    "import nest_asyncio\n",
    "from dotenv import load_dotenv"
   ]
  },
  {
   "cell_type": "code",
   "execution_count": null,
   "id": "01bdc33a",
   "metadata": {},
   "outputs": [],
   "source": [
    "from ogmyrag.my_logging import configure_logger\n",
    "from ogmyrag.util import get_formatted_ontology\n",
    "from ogmyrag.base import MongoStorageConfig\n",
    "from ogmyrag.ontology_construction import OntologyConstructionSystem"
   ]
  },
  {
   "cell_type": "code",
   "execution_count": null,
   "id": "e20ffe96",
   "metadata": {},
   "outputs": [],
   "source": [
    "# Setup logging\n",
    "\n",
    "ontology_construction_logger = configure_logger(name='ontology_construction',log_level=logging.DEBUG, log_file='logs/ontology_construction.log')\n",
    "openai_logger = configure_logger(name='openai',log_level=logging.INFO, log_file='logs/openai.log', to_console=False)\n",
    "mongo_logger = configure_logger(name='mongodb',log_level=logging.DEBUG, log_file='logs/mongodb.log', to_console=False)"
   ]
  },
  {
   "cell_type": "code",
   "execution_count": null,
   "id": "13251b3f",
   "metadata": {},
   "outputs": [],
   "source": [
    "# Patch event loop to support re-entry in Jupyter\n",
    "\n",
    "nest_asyncio.apply()"
   ]
  },
  {
   "cell_type": "code",
   "execution_count": null,
   "id": "5fed8ee0",
   "metadata": {},
   "outputs": [],
   "source": [
    "# Load environment variables\n",
    "\n",
    "load_dotenv(override=True)\n",
    "\n",
    "mongo_db_uri = os.getenv(\"MONGO_DB_URI\",\"\")\n",
    "\n",
    "openai_api_key = os.getenv(\"OPENAI_API_KEY\",\"\")\n",
    "\n",
    "neo4j_uri = os.getenv(\"NEO4J_URI\",\"\")\n",
    "neo4j_username = os.getenv(\"NEO4J_USERNAME\",\"\")\n",
    "neo4j_password = os.getenv(\"NEO4J_PASSWORD\",\"\")\n",
    "\n",
    "if not mongo_db_uri:\n",
    "    ontology_construction_logger.error(\"Please set the MONGO_DB_URI environment variable.\")\n",
    "\n",
    "if not openai_api_key:\n",
    "    ontology_construction_logger.error(\"Please set the OPENAI_API_KEY environment variable.\")\n",
    "\n",
    "if not neo4j_uri or not neo4j_username or not neo4j_password:\n",
    "    ontology_construction_logger.error(\"Please set the NE04J_URI, NE04J_USERNAME, and NE04J_PASSWORD environment variables.\")"
   ]
  },
  {
   "cell_type": "markdown",
   "id": "be28a31d",
   "metadata": {},
   "source": [
    "## Setup Construction Pipeline"
   ]
  },
  {
   "cell_type": "markdown",
   "id": "bb8e7414",
   "metadata": {},
   "source": [
    "### Initialize Ontology Construction System"
   ]
  },
  {
   "cell_type": "code",
   "execution_count": null,
   "id": "7a432a26",
   "metadata": {},
   "outputs": [],
   "source": [
    "ontology_config: MongoStorageConfig = {\n",
    "    'connection_uri': mongo_db_uri,\n",
    "    'database_name': 'ogmyrag',\n",
    "    'collection_name': 'ontology_v2'\n",
    "}"
   ]
  },
  {
   "cell_type": "code",
   "execution_count": null,
   "id": "df67faff",
   "metadata": {},
   "outputs": [],
   "source": [
    "try:\n",
    "    onto_system = OntologyConstructionSystem(\n",
    "        ontology_purpose=\"The ontology aims to model the interrelationships and operational dynamics of companies listed on Malaysia's Main and ACE Markets. It is constructed exclusively from structured and semi-structured data found in Bursa Malaysia's listing requirements, company prospectuses, and official reports.\\nIts primary goal is to support retail investors in performing qualitative fundamental analysis by capturing a broad range of business-relevant elements. These include strategic factors such as market positioning, partnerships, supply chains, and competition; operational structures such as executive roles, board committees, and business activities; as well as regulatory aspects including shareholder ownership, corporate governance, and compliance practices.\\nRather than limiting the scope to predefined categories, the ontology should be designed to adaptively extract and organize any concept or relationship from the source documents that can contribute to a deeper understanding of a company's structure, behavior, or risk profile.\\nThe ontology drives a unidirectional, relationship-centric knowledge graph, which is used as the core schema for graph-based Retrieval-Augmented Generation (RAG) systems focused on investor-oriented analysis.\",\n",
    "        ontology_config=ontology_config,\n",
    "    )\n",
    "except Exception as e:\n",
    "    ontology_construction_logger.error(\n",
    "        f\"Error while creating ontology construction system: {e}\"\n",
    "    )"
   ]
  },
  {
   "cell_type": "markdown",
   "id": "86c5aa5d",
   "metadata": {},
   "source": [
    "### Construct Ontology"
   ]
  },
  {
   "cell_type": "code",
   "execution_count": null,
   "id": "e4de05d0",
   "metadata": {},
   "outputs": [],
   "source": [
    "files = [\n",
    "    # \"adb_prospectus_section_1.txt\",\n",
    "    \"adb_prospectus_section_2.txt\",\n",
    "    # \"adb_prospectus_section_9b.txt\",\n",
    "    # \"adb_prospectus_section_10.txt\",\n",
    "    # \"adb_prospectus_section_11.txt\",\n",
    "    # \"adb_prospectus_section_12.txt\",\n",
    "]\n",
    "\n",
    "for filename in files:\n",
    "    file_path = f\"adb_prospectus/{filename}\"\n",
    "\n",
    "    with open(file_path, \"r\") as file:\n",
    "        source_text = file.read()\n",
    "\n",
    "    await onto_system.handle_request(source_text=source_text)"
   ]
  },
  {
   "cell_type": "code",
   "execution_count": null,
   "id": "90ffe37d",
   "metadata": {},
   "outputs": [],
   "source": [
    "\n",
    "ontology_construction_logger.info(get_formatted_ontology(data=onto_system.get_current_onto()))"
   ]
  }
 ],
 "metadata": {
  "kernelspec": {
   "display_name": "ogmyrag",
   "language": "python",
   "name": "python3"
  },
  "language_info": {
   "codemirror_mode": {
    "name": "ipython",
    "version": 3
   },
   "file_extension": ".py",
   "mimetype": "text/x-python",
   "name": "python",
   "nbconvert_exporter": "python",
   "pygments_lexer": "ipython3",
   "version": "3.10.16"
  }
 },
 "nbformat": 4,
 "nbformat_minor": 5
}

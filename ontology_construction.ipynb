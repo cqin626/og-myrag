{
 "cells": [
  {
   "cell_type": "markdown",
   "id": "090d4d54",
   "metadata": {},
   "source": [
    "# Pipeline of Automated Ontology Construction"
   ]
  },
  {
   "cell_type": "markdown",
   "id": "5590e959",
   "metadata": {},
   "source": [
    "## Initialize Environment"
   ]
  },
  {
   "cell_type": "code",
   "execution_count": null,
   "id": "011e9c6e",
   "metadata": {},
   "outputs": [],
   "source": [
    "import logging\n",
    "import os\n",
    "import json\n",
    "import nest_asyncio\n",
    "from dotenv import load_dotenv\n",
    "from motor.motor_asyncio import AsyncIOMotorClient\n",
    "from ogmyrag.my_logging import configure_logger\n",
    "from ogmyrag.util import get_formatted_ontology, fetch_reports_along_with_constraints\n",
    "from ogmyrag.base import MongoStorageConfig\n",
    "from ogmyrag.llm import OpenAIAsyncClient\n",
    "from ogmyrag.storage import AsyncMongoDBStorage\n",
    "from ogmyrag.ontology_construction import OntologyConstructionSystem\n",
    "\n",
    "# Setup logging\n",
    "ontology_construction_logger = configure_logger(name='ontology_construction',log_level=logging.DEBUG, log_file='logs/ontology_construction.log')\n",
    "openai_logger = configure_logger(name='openai',log_level=logging.INFO, log_file='logs/openai.log', to_console=False)\n",
    "mongo_logger = configure_logger(name='mongodb',log_level=logging.DEBUG, log_file='logs/mongodb.log', to_console=False)\n",
    "\n",
    "# Patch event loop to support re-entry in Jupyter\n",
    "nest_asyncio.apply()\n",
    "\n",
    "# Load environment variables\n",
    "load_dotenv(override=True)\n",
    "\n",
    "mongo_db_uri = os.getenv(\"MONGO_DB_URI\",\"\")\n",
    "mongo_db_uri_reports = os.getenv(\"MONGO_DB_URI_REPORTS\",\"\")\n",
    "openai_api_key = os.getenv(\"OPENAI_API_KEY\",\"\")\n",
    "neo4j_uri = os.getenv(\"NEO4J_URI\",\"\")\n",
    "neo4j_username = os.getenv(\"NEO4J_USERNAME\",\"\")\n",
    "neo4j_password = os.getenv(\"NEO4J_PASSWORD\",\"\")\n",
    "\n",
    "if not mongo_db_uri:\n",
    "    ontology_construction_logger.error(\"Please set the MONGO_DB_URI environment variable.\")\n",
    "    \n",
    "if not mongo_db_uri_reports:\n",
    "    ontology_construction_logger.error(\"Please set the MONGO_DB_URI_REPORTS environment variable.\")\n",
    "\n",
    "if not openai_api_key:\n",
    "    ontology_construction_logger.error(\"Please set the OPENAI_API_KEY environment variable.\")\n",
    "\n",
    "if not neo4j_uri or not neo4j_username or not neo4j_password:\n",
    "    ontology_construction_logger.error(\"Please set the NE04J_URI, NE04J_USERNAME, and NE04J_PASSWORD environment variables.\")"
   ]
  },
  {
   "cell_type": "markdown",
   "id": "be28a31d",
   "metadata": {},
   "source": [
    "## Set Up Ontology Construction Pipeline"
   ]
  },
  {
   "cell_type": "markdown",
   "id": "bb8e7414",
   "metadata": {},
   "source": [
    "### Initialize Variables for Database Connection"
   ]
  },
  {
   "cell_type": "code",
   "execution_count": null,
   "id": "7a432a26",
   "metadata": {},
   "outputs": [],
   "source": [
    "ontology_config: MongoStorageConfig = {\n",
    "    'database_name': 'ogmyrag',\n",
    "    'collection_name': 'ontology'\n",
    "}\n",
    "\n",
    "ontology_evaluation_config: MongoStorageConfig = {\n",
    "    'database_name': 'ogmyrag',\n",
    "    'collection_name': 'ontology_evaluation'\n",
    "}\n",
    "\n",
    "company_disclosures_config: MongoStorageConfig = {\n",
    "    'database_name': 'FYP',\n",
    "    'collection_name': 'company_disclosures'\n",
    "}\n",
    "\n",
    "constraints_config: MongoStorageConfig = {\n",
    "    'database_name': 'FYP',\n",
    "    'collection_name': 'constraints'\n",
    "}\n",
    "\n",
    "mongo_client_onto = AsyncIOMotorClient(\n",
    "    mongo_db_uri,\n",
    "    serverSelectionTimeoutMS=5000,\n",
    ")\n",
    "\n",
    "mongo_client_reports = AsyncIOMotorClient(\n",
    "    mongo_db_uri_reports,\n",
    "    serverSelectionTimeoutMS=5000,\n",
    ")\n",
    "\n",
    "async_mongo_storage_reports = AsyncMongoDBStorage(client=mongo_client_reports)"
   ]
  },
  {
   "cell_type": "markdown",
   "id": "5ef8f31d",
   "metadata": {},
   "source": [
    "### Initialize Ontology Construction System"
   ]
  },
  {
   "cell_type": "code",
   "execution_count": null,
   "id": "df67faff",
   "metadata": {},
   "outputs": [],
   "source": [
    "try:\n",
    "    onto_system = OntologyConstructionSystem(\n",
    "        mongo_client=mongo_client_onto,\n",
    "        ontology_purpose=\"The ontology aims to model the interrelationships and operational dynamics of companies listed on Malaysia’s Main and ACE Markets. Its primary objective is to capture and represent relational knowledge that enables inference of implicit insights from explicit data, supporting retail investors in conducting fundamental qualitative analysis.\\nSpecifically, the ontology will cover three core dimensions:\\n1. Strategic Aspects – such as partnerships, supply chain dependencies, market positioning, and competitive relationships.\\n2. Operational Aspects – including executive roles, board and committee structures, business segments, and core activities.\\nThe ontology is designed to power a knowledge graph where relationships between entities are prioritized, enabling multi-layered reasoning about company strategy and operations context to aid investment decision-making.\",\n",
    "        ontology_config=ontology_config,\n",
    "        ontology_evaluation_config=ontology_evaluation_config,\n",
    "        llm_client=OpenAIAsyncClient(api_key=openai_api_key),\n",
    "        agent_configs={\n",
    "            \"OntologyConstructionAgent\": {\n",
    "                \"model\": \"o4-mini\",\n",
    "                \"text\": {\"format\": {\"type\": \"text\"}},\n",
    "                \"reasoning\": {\"effort\": \"medium\"},\n",
    "                \"max_output_tokens\": 100000,\n",
    "            },\n",
    "            \"OntologyEvaluationAgent\": {\n",
    "                \"model\": \"o4-mini\",\n",
    "                \"text\": {\"format\": {\"type\": \"text\"}},\n",
    "                \"reasoning\": {\"effort\": \"medium\"},\n",
    "                \"max_output_tokens\": 100000,\n",
    "            },\n",
    "            \"OntologyEnhancementAgent\": {\n",
    "                \"model\": \"o4-mini\",\n",
    "                \"text\": {\"format\": {\"type\": \"text\"}},\n",
    "                \"reasoning\": {\"effort\": \"medium\"},\n",
    "                \"max_output_tokens\": 100000,\n",
    "            },\n",
    "        },\n",
    "    )\n",
    "\n",
    "except Exception as e:\n",
    "    ontology_construction_logger.error(\n",
    "        f\"Error while creating ontology construction system: {e}\"\n",
    "    )"
   ]
  },
  {
   "cell_type": "markdown",
   "id": "86c5aa5d",
   "metadata": {},
   "source": [
    "### Extend the Ontology"
   ]
  },
  {
   "cell_type": "code",
   "execution_count": null,
   "id": "e4de05d0",
   "metadata": {},
   "outputs": [],
   "source": [
    "# Fetch the reports to be processed\n",
    "files_to_process = await fetch_reports_along_with_constraints(\n",
    "    async_mongo_storage_reports=async_mongo_storage_reports,\n",
    "    company_disclosures_config=company_disclosures_config,\n",
    "    constraints_config=constraints_config,\n",
    "    from_company=\"CABNET_HOLDINGS_BERHAD\",\n",
    "    type=\"PROSPECTUS\",\n",
    "    published_at=\"2017\",\n",
    ")\n",
    "\n",
    "for file_name, file_content in files_to_process[\"files\"].items():\n",
    "    ontology_construction_logger.info(f\"Extending ontology using: {file_name}\")\n",
    "    try:\n",
    "        await onto_system.extend_ontology(\n",
    "            source_text=file_content,\n",
    "            source_text_constraints=files_to_process[\"constraints\"],\n",
    "        )\n",
    "    except Exception as e:\n",
    "        ontology_construction_logger.error(f\"Error while extending ontology: {e}\")"
   ]
  },
  {
   "cell_type": "markdown",
   "id": "fb9fccc9",
   "metadata": {},
   "source": [
    "### Enhance the Ontology"
   ]
  },
  {
   "cell_type": "code",
   "execution_count": null,
   "id": "3f4c96ad",
   "metadata": {},
   "outputs": [],
   "source": [
    "try:\n",
    "    await onto_system.enhance_ontology_via_loop()\n",
    "except Exception as e:\n",
    "    ontology_construction_logger.error(f\"Error while enhancing ontology: {e}\")"
   ]
  },
  {
   "cell_type": "markdown",
   "id": "ccd2d6b2",
   "metadata": {},
   "source": [
    "### Log the Ontology"
   ]
  },
  {
   "cell_type": "code",
   "execution_count": null,
   "id": "90ffe37d",
   "metadata": {},
   "outputs": [],
   "source": [
    "current_onto = await onto_system.get_current_onto()\n",
    "ontology_construction_logger.info(get_formatted_ontology(data=current_onto))"
   ]
  },
  {
   "cell_type": "code",
   "execution_count": null,
   "id": "7ecca586",
   "metadata": {},
   "outputs": [],
   "source": [
    "str=\"The ontology aims to model the interrelationships and operational dynamics of companies listed on Malaysia’s Main and ACE Markets. Its primary objective is to capture and represent relational knowledge that enables inference of implicit insights from explicit data, supporting retail investors in conducting fundamental qualitative analysis.\\nSpecifically, the ontology will cover three core dimensions:\\n1. Strategic Aspects – such as partnerships, supply chain dependencies, market positioning, and competitive relationships.\\n2. Operational Aspects – including executive roles, board and committee structures, business segments, and core activities.\\nThe ontology is designed to power a knowledge graph where relationships between entities are prioritized, enabling multi-layered reasoning about company strategy and operations context to aid investment decision-making.\"\n",
    "ontology_construction_logger.info(str)"
   ]
  },
  {
   "cell_type": "code",
   "execution_count": null,
   "id": "a059b6fb",
   "metadata": {},
   "outputs": [],
   "source": []
  }
 ],
 "metadata": {
  "kernelspec": {
   "display_name": "ogmyrag",
   "language": "python",
   "name": "python3"
  },
  "language_info": {
   "codemirror_mode": {
    "name": "ipython",
    "version": 3
   },
   "file_extension": ".py",
   "mimetype": "text/x-python",
   "name": "python",
   "nbconvert_exporter": "python",
   "pygments_lexer": "ipython3",
   "version": "3.10.16"
  }
 },
 "nbformat": 4,
 "nbformat_minor": 5
}
